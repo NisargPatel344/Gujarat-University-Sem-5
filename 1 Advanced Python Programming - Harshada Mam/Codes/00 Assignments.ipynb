{
 "cells": [
  {
   "cell_type": "markdown",
   "id": "d1cbb1be",
   "metadata": {},
   "source": [
    "### Create a class 'Product' has a parameterised construcor '__init__()' that takes 'name', 'price' and 'quantity' as parameters, inside the constructor these parameters are assigning to the corresponding instance variables 'self.name', 'self.price' and 'self.quantity'. The class also includes a 'display_info()' that prints information about the product, including its name, price and quantity."
   ]
  },
  {
   "cell_type": "code",
   "execution_count": null,
   "id": "54453bea",
   "metadata": {},
   "outputs": [],
   "source": [
    "class Product:\n",
    "    def __init__(self, name, price, quantity):\n",
    "        self.name = name\n",
    "        self.price = price\n",
    "        self.quantity = quantity\n",
    "\n",
    "    def display_info(self):\n",
    "        print(f\"Product Name: {self.name}\")\n",
    "        print(f\"Price: ${self.price}\")\n",
    "        print(f\"Quantity: {self.quantity}\")\n",
    "\n",
    "# Example usage:\n",
    "product1 = Product(\"Laptop\", 999.99, 5)\n",
    "product1.display_info()"
   ]
  },
  {
   "cell_type": "markdown",
   "id": "1073a25d",
   "metadata": {},
   "source": [
    "### In a class representing a Book, how can a non-parameterized constructor be used to set default values for attributes such as title, author, and publication year?(initialize variables within a non parameterized constructor)"
   ]
  },
  {
   "cell_type": "code",
   "execution_count": null,
   "id": "591fea5b",
   "metadata": {},
   "outputs": [],
   "source": [
    "class Book:\n",
    "    def __init__(self):\n",
    "        # Default values for attributes\n",
    "        self.title = \"Unknown Title\"\n",
    "        self.author = \"Unknown Author\"\n",
    "        self.publication_year = \"Unknown Year\"\n",
    "\n",
    "    def display_info(self):\n",
    "        print(f\"Title: {self.title}\")\n",
    "        print(f\"Author: {self.author}\")\n",
    "        print(f\"Publication Year: {self.publication_year}\")\n",
    "\n",
    "# Example usage:\n",
    "book1 = Book()\n",
    "book1.display_info()"
   ]
  },
  {
   "cell_type": "markdown",
   "id": "0f2d226a",
   "metadata": {},
   "source": [
    "### How a non-parameterized constructor can be used in a class representing a Game to set default values for attributes such as score, level, and player name. (initialize variables as a class variables)"
   ]
  },
  {
   "cell_type": "code",
   "execution_count": 1,
   "id": "f8b2e985",
   "metadata": {},
   "outputs": [
    {
     "name": "stdout",
     "output_type": "stream",
     "text": [
      "Player Name: Player\n",
      "Score: 0\n",
      "Level: 1\n"
     ]
    }
   ],
   "source": [
    "class Game:\n",
    "    # Class attributes with default values\n",
    "    default_score = 0\n",
    "    default_level = 1\n",
    "    default_player_name = \"Player\"\n",
    "\n",
    "    def __init__(self):\n",
    "        # Instance attributes initialized with class attributes\n",
    "        self.score = Game.default_score\n",
    "        self.level = Game.default_level\n",
    "        self.player_name = Game.default_player_name\n",
    "\n",
    "    def display_info(self):\n",
    "        print(f\"Player Name: {self.player_name}\")\n",
    "        print(f\"Score: {self.score}\")\n",
    "        print(f\"Level: {self.level}\")\n",
    "\n",
    "# Example usage:\n",
    "game1 = Game()\n",
    "game1.display_info()"
   ]
  },
  {
   "cell_type": "markdown",
   "id": "fb200225",
   "metadata": {},
   "source": [
    "### Create a Student Management System\n",
    "\n",
    "**1). Create a class named Student with the following attributes:**\n",
    "- name (string): to store the student's name.\n",
    "- age (integer): to store the student's age.\n",
    "- grade (integer): to store the student's grade.\n",
    "\n",
    "**2). Implement the following methods in the Student class:**\n",
    "- display_info(): This method should display the student's name, age, and grade.\n",
    "- promote(): This method should promote the student to the next grade level. For example, if a student is in grade \"9\", calling this method should update the grade to \"10\".\n",
    "\n",
    "**3). Create an instance of the Student class and demonstrate the functionality of the methods by performing the following actions:**\n",
    "- Set the student's name, age, and grade using appropriate attributes.\n",
    "- Display the student's information.\n",
    "- Promote the student.\n",
    "- Display the updated student's information."
   ]
  },
  {
   "cell_type": "code",
   "execution_count": null,
   "id": "6e9ede9f",
   "metadata": {},
   "outputs": [],
   "source": [
    "class Student:\n",
    "    def __init__(self, name, age, grade):\n",
    "        self.name = name\n",
    "        self.age = age\n",
    "        self.grade = grade\n",
    "\n",
    "    def display_info(self):\n",
    "        print(f\"Name: {self.name}\")\n",
    "        print(f\"Age: {self.age}\")\n",
    "        print(f\"Grade: {self.grade}\")\n",
    "\n",
    "    def promote(self):\n",
    "        self.grade += 1\n",
    "\n",
    "# Create an instance of the Student class\n",
    "student1 = Student(\"John Doe\", 15, 9)\n",
    "\n",
    "# Display the student's information\n",
    "print(\"Student Information:\")\n",
    "student1.display_info()\n",
    "\n",
    "# Promote the student\n",
    "student1.promote()\n",
    "\n",
    "# Display the updated student's information\n",
    "print(\"\\nUpdated Student Information:\")\n",
    "student1.display_info()"
   ]
  },
  {
   "cell_type": "markdown",
   "id": "78343c63",
   "metadata": {},
   "source": [
    "### Bank Account Management System\n",
    "\n",
    "**1. Create a class named BankAccount with the following attributes:**\n",
    "- account_number (string): to store the account number.\n",
    "- account_holder (string): to store the name of the account holder.\n",
    "- balance (float): to store the current balance of the account.\n",
    "\n",
    "**2. Implement the following methods in the BankAccount class:**\n",
    "- display_account_info(): This method should display the account number, account holder, and current balance.\n",
    "- deposit(amount): This method should take an amount as input and add it to the account's balance.\n",
    "\n",
    "**3. Create an instance of the BankAccount class and demonstrate the functionality of the methods by performing the following actions:**\n",
    "- Set the account number and account holder using appropriate attributes.\n",
    "- Display the account information.\n",
    "- Deposit a specific amount.\n",
    "- Display the updated account information."
   ]
  },
  {
   "cell_type": "code",
   "execution_count": 2,
   "id": "6b12faf8",
   "metadata": {},
   "outputs": [
    {
     "name": "stdout",
     "output_type": "stream",
     "text": [
      "Account Information:\n",
      "Account Number: 1234567890\n",
      "Account Holder: John Doe\n",
      "Current Balance: $1000.00\n",
      "Deposited $500.50 successfully.\n",
      "\n",
      "Updated Account Information:\n",
      "Account Number: 1234567890\n",
      "Account Holder: John Doe\n",
      "Current Balance: $1500.50\n"
     ]
    }
   ],
   "source": [
    "class BankAccount:\n",
    "    def __init__(self, account_number, account_holder, balance):\n",
    "        self.account_number = account_number\n",
    "        self.account_holder = account_holder\n",
    "        self.balance = balance\n",
    "\n",
    "    def display_account_info(self):\n",
    "        print(f\"Account Number: {self.account_number}\")\n",
    "        print(f\"Account Holder: {self.account_holder}\")\n",
    "        print(f\"Current Balance: ${self.balance:.2f}\")\n",
    "\n",
    "    def deposit(self, amount):\n",
    "        if amount > 0:\n",
    "            self.balance += amount\n",
    "            print(f\"Deposited ${amount:.2f} successfully.\")\n",
    "        else:\n",
    "            print(\"Invalid deposit amount. Please enter a positive amount.\")\n",
    "\n",
    "# Create an instance of the BankAccount class\n",
    "account1 = BankAccount(\"1234567890\", \"John Doe\", 1000.00)\n",
    "\n",
    "# Display the account information\n",
    "print(\"Account Information:\")\n",
    "account1.display_account_info()\n",
    "\n",
    "# Deposit a specific amount\n",
    "account1.deposit(500.50)\n",
    "\n",
    "# Display the updated account information\n",
    "print(\"\\nUpdated Account Information:\")\n",
    "account1.display_account_info()"
   ]
  },
  {
   "cell_type": "markdown",
   "id": "65477d38",
   "metadata": {},
   "source": [
    "### 1. Create a superclass called Vehicle with the following Attributes and Methods:\n",
    "\n",
    "**Attributes:** \n",
    "- brand (string): The brand or manufacturer of the vehicle.\n",
    "- color (string): The color of the vehicle.\n",
    "\n",
    "**Methods:**\n",
    "- init(self, brand, color): Initialise the brand and color attributes.\n",
    "- drive(self): Print a message indicating that the vehicle is being driven.\n",
    "\n",
    "### 2. Create a subclass called Car that inherits from the Vehicle superclass. The Car class should have the following additional Attributes and Methods:\n",
    "\n",
    "**Attributes:**\n",
    "- num_doors (integer): The number of doors the car has.\n",
    "\n",
    "**Methods:**\n",
    "- display_info(self): Print a message displaying the car's brand, color, and number of doors.\n",
    "\n",
    "**Create an instance of the Car class, initialise it with appropriate values, and demonstrate the usage of inherited methods.**"
   ]
  },
  {
   "cell_type": "code",
   "execution_count": null,
   "id": "8221d30e",
   "metadata": {},
   "outputs": [],
   "source": [
    "class Vehicle:\n",
    "    def __init__(self, brand, color):\n",
    "        self.brand = brand\n",
    "        self.color = color\n",
    "\n",
    "    def drive(self):\n",
    "        print(f\"The {self.color} {self.brand} is being driven.\")\n",
    "\n",
    "class Car(Vehicle):\n",
    "    def __init__(self, brand, color, num_doors):\n",
    "        super().__init__(brand, color)\n",
    "        self.num_doors = num_doors\n",
    "\n",
    "    def display_info(self):\n",
    "        print(f\"Car Information:\")\n",
    "        print(f\"Brand: {self.brand}\")\n",
    "        print(f\"Color: {self.color}\")\n",
    "        print(f\"Number of Doors: {self.num_doors}\")\n",
    "\n",
    "# Create an instance of the Car class\n",
    "my_car = Car(\"Toyota\", \"Blue\", 4)\n",
    "\n",
    "# Demonstrate the usage of inherited methods\n",
    "my_car.drive()\n",
    "\n",
    "# Use the subclass-specific method\n",
    "my_car.display_info()"
   ]
  },
  {
   "cell_type": "markdown",
   "id": "81a04bfd",
   "metadata": {},
   "source": [
    "1. Implement the classes and methods based on the given requirements. \n",
    "2. Create instances of the classes and demonstrate the functionality by calling appropriate methods. \n",
    "3. Test your implementation by displaying the area of each class.\n",
    "\n",
    "**Create a Rectangle Class having following Attributes and Methods:**\n",
    "\n",
    "**Attributes:** \n",
    "- length (float), width (float)\n",
    "\n",
    "**Methods:**\n",
    "- area(): A method that calculates and returns the area of the rectangle.\n",
    "\n",
    "**Create a Circle Class having following Attributes and Methods:**\n",
    "\n",
    "**Attributes:** \n",
    "- radius (float)\n",
    "\n",
    "**Methods:** \n",
    "\n",
    "- area(): A method that calculates and returns the area of the circle.\n",
    "\n",
    "**Create a Triangle Class having following Attributes and Methods:**\n",
    "\n",
    "**Attributes:**\n",
    "- base (float), height (float)\n",
    "\n",
    "**Methods:**\n",
    "\n",
    "- area(): A method that calculates and returns the area of the triangle.\n",
    "\n",
    "**Create objects of each class and demonstrate the polymorphic behaviour of the area() method.**"
   ]
  },
  {
   "cell_type": "code",
   "execution_count": null,
   "id": "0c9cef2a",
   "metadata": {},
   "outputs": [],
   "source": [
    "class Rectangle:\n",
    "    def __init__(self, length, width):\n",
    "        self.length = length\n",
    "        self.width = width\n",
    "\n",
    "    def area(self):\n",
    "        return self.length * self.width\n",
    "\n",
    "class Circle:\n",
    "    def __init__(self, radius):\n",
    "        self.radius = radius\n",
    "\n",
    "    def area(self):\n",
    "        return 3.14 * self.radius * self.radius\n",
    "\n",
    "class Triangle:\n",
    "    def __init__(self, base, height):\n",
    "        self.base = base\n",
    "        self.height = height\n",
    "\n",
    "    def area(self):\n",
    "        return 0.5 * self.base * self.height\n",
    "\n",
    "# Create objects of each class\n",
    "rectangle = Rectangle(10, 5)\n",
    "circle = Circle(10)\n",
    "triangle = Triangle(10, 5)\n",
    "\n",
    "# Demonstrate the polymorphic behavior of the area() method\n",
    "print(\"Area of rectangle:\", rectangle.area())\n",
    "print(\"Area of circle:\", circle.area())\n",
    "print(\"Area of triangle:\", triangle.area())"
   ]
  },
  {
   "cell_type": "markdown",
   "id": "543cabfc",
   "metadata": {},
   "source": [
    "**Create a National Flag using Tkinter in Python.**\n",
    "1. Use Widgets like Frame, Labels etc. \n",
    "2. Add Ashoka Chakra using .jpg image format"
   ]
  },
  {
   "cell_type": "code",
   "execution_count": null,
   "id": "cb90be66",
   "metadata": {},
   "outputs": [],
   "source": [
    "from tkinter import *\n",
    "from PIL import Image,ImageTk\n",
    "\n",
    "root = Tk()\n",
    "root.geometry(\"600x400\")\n",
    "root.title(\"National Flag\")\n",
    "\n",
    "f1=Frame(root,bg=\"Orange\",borderwidth=6)\n",
    "f1.pack(side=TOP,fill=X)\n",
    "\n",
    "a = Label(f1,bg=\"Orange\",height=15)\n",
    "a.pack(side=TOP)\n",
    "\n",
    "image = Image.open(\"chakra.png\")\n",
    "\n",
    "resize_photo = image.resize((300,300))\n",
    "\n",
    "photo = ImageTk.PhotoImage(resize_photo)\n",
    "\n",
    "lable = Label(image=photo)\n",
    "lable.place(x=580,y=250)\n",
    "\n",
    "\n",
    "f3=Frame(root,bg=\"Green\",borderwidth=6)\n",
    "f3.pack(side=BOTTOM,fill=X)\n",
    "\n",
    "b = Label(f3,bg=\"Green\",height=15)\n",
    "b.pack(side=BOTTOM)\n",
    "\n",
    "root.mainloop()"
   ]
  },
  {
   "cell_type": "markdown",
   "id": "b3d004c2",
   "metadata": {},
   "source": [
    "### Write a program to create a class name Bike create method called starting prints “bike will start moving now” create object shine and call this method."
   ]
  },
  {
   "cell_type": "code",
   "execution_count": null,
   "id": "7e59d0a4",
   "metadata": {},
   "outputs": [],
   "source": [
    "class Bike:\n",
    "    def starting(self):\n",
    "        print(\"Bike will start moving now\")\n",
    "\n",
    "shine = Bike()\n",
    "shine.starting()"
   ]
  },
  {
   "cell_type": "markdown",
   "id": "7f4bd29e",
   "metadata": {},
   "source": [
    "### Write a program to create a class name Cars create one attribute name car_name, attribute having default value Creta, class Cars having one method called display which prints the value of attribute car_name, create object car1 and call display method."
   ]
  },
  {
   "cell_type": "code",
   "execution_count": null,
   "id": "d0fed54f",
   "metadata": {},
   "outputs": [],
   "source": [
    "class Cars:\n",
    "    # Default value for the car_name attribute\n",
    "    car_name = \"Creta\"\n",
    "    \n",
    "    def display(self):\n",
    "        print(f\"{self.car_name}\")\n",
    "        \n",
    "car1 = Cars()\n",
    "car1.display()"
   ]
  },
  {
   "cell_type": "markdown",
   "id": "554f9fe6",
   "metadata": {},
   "source": [
    "### Create class with name Employee create one attribute name called Count create three objects and count the number of objects in the class and print it."
   ]
  },
  {
   "cell_type": "code",
   "execution_count": null,
   "id": "4f320e21",
   "metadata": {},
   "outputs": [],
   "source": [
    "class Employee:\n",
    "    count = 0\n",
    "    \n",
    "    def __init__(self):\n",
    "        Employee.count = Employee.count + 1\n",
    "\n",
    "employee1 = Employee()\n",
    "employee2 = Employee()\n",
    "employee3 = Employee()\n",
    "\n",
    "print(\"The numbers of Employee:\",Employee.count)"
   ]
  },
  {
   "cell_type": "markdown",
   "id": "033f7e1b",
   "metadata": {},
   "source": [
    "### Give a suitable example of non-parameterized constructor."
   ]
  },
  {
   "cell_type": "code",
   "execution_count": null,
   "id": "ef36eb9a",
   "metadata": {},
   "outputs": [],
   "source": [
    "class Book:\n",
    "    def __init__(self):\n",
    "        self.title = \"Stranger Things\"\n",
    "        self.author = \"Mate Duffer\"\n",
    "        self.publication_year = 2020\n",
    "\n",
    "    def get_info(self):\n",
    "        print(f\"Book title is {self.title}, author name is {self.author}, and publication year is {self.publication_year}.\")\n",
    "\n",
    "book = Book()\n",
    "book.get_info()"
   ]
  },
  {
   "cell_type": "markdown",
   "id": "6f9dead5",
   "metadata": {},
   "source": [
    "#### The __init__ method does not take any parameters other than self. It initializes the attributes title, author, and publication_year with default values. Therefore, it is a non-parameterized constructor."
   ]
  },
  {
   "cell_type": "markdown",
   "id": "3c8ee886",
   "metadata": {},
   "source": [
    "### Give an example of multilevel inheritance where class Smartwatch inherit class Tab, class Tab inherit class Laptop, class Laptop inherit class Desktop, each class having one method name like display1, display2, display3, display4, and print class name inside method, create one object of a class which can access all display methods and call through this object."
   ]
  },
  {
   "cell_type": "code",
   "execution_count": 3,
   "id": "00ad5bc1",
   "metadata": {},
   "outputs": [
    {
     "name": "stdout",
     "output_type": "stream",
     "text": [
      "Inside display1 method of Desktop class\n",
      "Inside display2 method of Laptop class\n",
      "Inside display3 method of Tab class\n",
      "Inside display4 method of Smartwatch class\n"
     ]
    }
   ],
   "source": [
    "class Desktop:\n",
    "    def display1(self):\n",
    "        print(\"Inside display1 method of Desktop class\")\n",
    "        \n",
    "class Laptop(Desktop):\n",
    "    def display2(self):\n",
    "        print(\"Inside display2 method of Laptop class\")\n",
    "        \n",
    "class Tab(Laptop):\n",
    "    def display3(self):\n",
    "        print(\"Inside display3 method of Tab class\")\n",
    "        \n",
    "class Smartwatch(Tab):\n",
    "    def display4(self):\n",
    "        print(\"Inside display4 method of Smartwatch class\")\n",
    "    \n",
    "device = Smartwatch()\n",
    "\n",
    "device.display1()\n",
    "device.display2()\n",
    "device.display3()\n",
    "device.display4()"
   ]
  },
  {
   "cell_type": "markdown",
   "id": "a9bf5c5a",
   "metadata": {},
   "source": [
    "### Demonstrate the mysql connection from python connect database name “University”, create new table car which having column name (car_id, car_model, car_type) where all three column type will be varchar(50)."
   ]
  },
  {
   "cell_type": "code",
   "execution_count": 11,
   "id": "439a5138",
   "metadata": {},
   "outputs": [
    {
     "name": "stdout",
     "output_type": "stream",
     "text": [
      "Requirement already satisfied: mysql-connector-python in c:\\users\\nisar\\anaconda3\\lib\\site-packages (8.0.33)\n",
      "Requirement already satisfied: protobuf<=3.20.3,>=3.11.0 in c:\\users\\nisar\\anaconda3\\lib\\site-packages (from mysql-connector-python) (3.20.3)\n"
     ]
    }
   ],
   "source": [
    "! pip install mysql-connector-python\n",
    "import mysql.connector as sql"
   ]
  },
  {
   "cell_type": "code",
   "execution_count": 12,
   "id": "a1f0bd33",
   "metadata": {},
   "outputs": [],
   "source": [
    "# Establishing a connection to the MySQL database\n",
    "connection = sql.connect(\n",
    "    host=\"localhost\",\n",
    "    user=\"root\",\n",
    "    password=\"11111111\"\n",
    ")"
   ]
  },
  {
   "cell_type": "code",
   "execution_count": 13,
   "id": "13fd567f",
   "metadata": {},
   "outputs": [],
   "source": [
    "cursor = connection.cursor()"
   ]
  },
  {
   "cell_type": "code",
   "execution_count": 14,
   "id": "6a41d975",
   "metadata": {},
   "outputs": [],
   "source": [
    "# Create a new database named 'demo13'\n",
    "cursor.execute(\"CREATE DATABASE University\")"
   ]
  },
  {
   "cell_type": "code",
   "execution_count": 15,
   "id": "dc7afb95",
   "metadata": {},
   "outputs": [],
   "source": [
    "cursor.execute(\"USE University\")"
   ]
  },
  {
   "cell_type": "code",
   "execution_count": 16,
   "id": "c7c57c13",
   "metadata": {},
   "outputs": [],
   "source": [
    "cursor.execute('''\n",
    "CREATE TABLE car (\n",
    "    car_id VARCHAR(50),\n",
    "    car_model VARCHAR(50),\n",
    "    car_type VARCHAR(50)\n",
    ")\n",
    "''')"
   ]
  },
  {
   "cell_type": "code",
   "execution_count": 17,
   "id": "b00a19a0",
   "metadata": {},
   "outputs": [],
   "source": [
    "cursor.execute('''\n",
    "INSERT INTO car (car_id, car_model, car_type) VALUES\n",
    "    (\"1\", \"Sedan1\", \"Compact\"),\n",
    "    (\"2\", \"SUV1\", \"Mid-size\"),\n",
    "    (\"3\", \"Hatchback1\", \"Small\")\n",
    "''')\n",
    "connection.commit()"
   ]
  },
  {
   "cell_type": "code",
   "execution_count": 18,
   "id": "c6e3021c",
   "metadata": {},
   "outputs": [
    {
     "name": "stdout",
     "output_type": "stream",
     "text": [
      "('1', 'Sedan1', 'Compact')\n",
      "('2', 'SUV1', 'Mid-size')\n",
      "('3', 'Hatchback1', 'Small')\n"
     ]
    }
   ],
   "source": [
    "cursor.execute('''\n",
    "SELECT * FROM car\n",
    "''')\n",
    "result= cursor.fetchall()\n",
    "for row in result:\n",
    "    print(row)"
   ]
  },
  {
   "cell_type": "code",
   "execution_count": null,
   "id": "5c3769a5",
   "metadata": {},
   "outputs": [],
   "source": [
    "connection.close()"
   ]
  },
  {
   "cell_type": "markdown",
   "id": "baf2c368",
   "metadata": {},
   "source": [
    "### Design a from using Tkinter framework which is having three label Printer id, Printer model, Company name and for the same having three textbox (Entry) for input value and one button which text is submit and when you click on button you get message “your data is submitted”."
   ]
  },
  {
   "cell_type": "code",
   "execution_count": 21,
   "id": "d5373704",
   "metadata": {},
   "outputs": [],
   "source": [
    "import tkinter as tk\n",
    "from tkinter import messagebox\n",
    "\n",
    "def submit_data():\n",
    "    printer_id = printer_id_entry.get()\n",
    "    printer_model = printer_model_entry.get()\n",
    "    company_name = company_name_entry.get()\n",
    "\n",
    "    # You can perform further actions with the entered data here\n",
    "    # For now, let's just show a messagebox\n",
    "    messagebox.showinfo(\"Submission Successful\", \"Your data is submitted\")\n",
    "\n",
    "# Create the main Tkinter window\n",
    "root = tk.Tk()\n",
    "root.title(\"Printer Information Form\")\n",
    "\n",
    "# Create and place labels\n",
    "label_printer_id = tk.Label(root, text=\"Printer ID:\")\n",
    "label_printer_id.grid(row=0, column=0, padx=10, pady=5, sticky=tk.E)\n",
    "\n",
    "label_printer_model = tk.Label(root, text=\"Printer Model:\")\n",
    "label_printer_model.grid(row=1, column=0, padx=10, pady=5, sticky=tk.E)\n",
    "\n",
    "label_company_name = tk.Label(root, text=\"Company Name:\")\n",
    "label_company_name.grid(row=2, column=0, padx=10, pady=5, sticky=tk.E)\n",
    "\n",
    "# Create and place Entry widgets\n",
    "printer_id_entry = tk.Entry(root)\n",
    "printer_id_entry.grid(row=0, column=1, padx=10, pady=5)\n",
    "\n",
    "printer_model_entry = tk.Entry(root)\n",
    "printer_model_entry.grid(row=1, column=1, padx=10, pady=5)\n",
    "\n",
    "company_name_entry = tk.Entry(root)\n",
    "company_name_entry.grid(row=2, column=1, padx=10, pady=5)\n",
    "\n",
    "# Create and place the Submit button\n",
    "submit_button = tk.Button(root, text=\"Submit\", command=submit_data)\n",
    "submit_button.grid(row=3, column=0, columnspan=2, pady=10)\n",
    "\n",
    "# Start the Tkinter event loop\n",
    "root.mainloop()"
   ]
  },
  {
   "cell_type": "markdown",
   "id": "5755830a",
   "metadata": {},
   "source": [
    "### Demonstrate the mysql connection from python connect database name “Smartphone”, perform following task on it using python code. "
   ]
  },
  {
   "cell_type": "markdown",
   "id": "126990ed",
   "metadata": {},
   "source": [
    "### i. create new table Mobile which having column name (Model_id, Model_name, Company_name, price) where all four-column type will be varchar (50)."
   ]
  },
  {
   "cell_type": "code",
   "execution_count": 23,
   "id": "b18a8cf7",
   "metadata": {},
   "outputs": [
    {
     "name": "stdout",
     "output_type": "stream",
     "text": [
      "Requirement already satisfied: mysql-connector-python in c:\\users\\nisar\\anaconda3\\lib\\site-packages (8.0.33)\n",
      "Requirement already satisfied: protobuf<=3.20.3,>=3.11.0 in c:\\users\\nisar\\anaconda3\\lib\\site-packages (from mysql-connector-python) (3.20.3)\n"
     ]
    }
   ],
   "source": [
    "! pip install mysql-connector-python\n",
    "import mysql.connector as sql"
   ]
  },
  {
   "cell_type": "code",
   "execution_count": 24,
   "id": "54299a51",
   "metadata": {},
   "outputs": [],
   "source": [
    "# Establishing a connection to the MySQL database\n",
    "connection = sql.connect(\n",
    "    host=\"localhost\",\n",
    "    user=\"root\",\n",
    "    password=\"11111111\"\n",
    ")"
   ]
  },
  {
   "cell_type": "code",
   "execution_count": 25,
   "id": "0417f836",
   "metadata": {},
   "outputs": [],
   "source": [
    "cursor = connection.cursor()"
   ]
  },
  {
   "cell_type": "code",
   "execution_count": 26,
   "id": "882620bf",
   "metadata": {},
   "outputs": [],
   "source": [
    "# Create a new database named 'demo13'\n",
    "cursor.execute(\"CREATE DATABASE Smartphone\")"
   ]
  },
  {
   "cell_type": "code",
   "execution_count": 27,
   "id": "d6b2a700",
   "metadata": {},
   "outputs": [],
   "source": [
    "cursor.execute(\"USE Smartphone\")"
   ]
  },
  {
   "cell_type": "code",
   "execution_count": 28,
   "id": "79c0f058",
   "metadata": {},
   "outputs": [],
   "source": [
    "cursor.execute('''\n",
    "CREATE TABLE Mobile (\n",
    "    mobile_id VARCHAR(50),\n",
    "    mobile_name VARCHAR(50),\n",
    "    company_name VARCHAR(50),\n",
    "    price VARCHAR(50)\n",
    ")\n",
    "''')"
   ]
  },
  {
   "cell_type": "markdown",
   "id": "4e7d4841",
   "metadata": {},
   "source": [
    "### ii. Insert two data in the mobile table."
   ]
  },
  {
   "cell_type": "code",
   "execution_count": 29,
   "id": "79a60a48",
   "metadata": {},
   "outputs": [],
   "source": [
    "from tkinter import *\n",
    "import mysql.connector\n",
    "\n",
    "conn = mysql.connector.connect(\n",
    "    host=\"localhost\",\n",
    "    user=\"root\",\n",
    "    password=\"11111111\",\n",
    "    database=\"Smartphone\"\n",
    ")\n",
    "\n",
    "cursor = conn.cursor()\n",
    "\n",
    "def insert_data():\n",
    "    mobile_id = mobile_id_entry.get()\n",
    "    mobile_name = mobile_name_entry.get()\n",
    "    company_name = company_name_entry.get()\n",
    "    price = price_entry.get()\n",
    "    \n",
    "    \n",
    "    if mobile_id and mobile_name and company_name and price:\n",
    "        sql = \"INSERT INTO Mobile (mobile_id,mobile_name,company_name,price) VALUES (%s,%s,%s,%s)\"\n",
    "        val = (mobile_id,mobile_name,company_name,price)\n",
    "        cursor.execute(sql,val)\n",
    "        conn.commit()\n",
    "        status_label.config(text=\"Data Inserted Successfully!\")\n",
    "        mobile_id_entry.delete(0, END)\n",
    "        mobile_name_entry.delete(0, END)\n",
    "        company_name_entry.delete(0, END)\n",
    "        price_entry.delete(0, END)\n",
    "    else:\n",
    "        status_label.config(text=\"Please fill all fields\")\n",
    "\n",
    "root = Tk()\n",
    "root.title(\"Insert Data into MySQL Database\")\n",
    "\n",
    "# Create a frame for data insertion\n",
    "insert_frame = Frame(root, padx=20, pady=20)\n",
    "insert_frame.pack()\n",
    "\n",
    "mobile_id_label = Label(insert_frame, text=\"Mobile ID:\")\n",
    "mobile_id_label.pack()\n",
    "mobile_id_entry = Entry(insert_frame)\n",
    "mobile_id_entry.pack()\n",
    "\n",
    "mobile_name = Label(insert_frame, text=\"Mobile Name:\")\n",
    "mobile_name.pack()\n",
    "mobile_name_entry = Entry(insert_frame)\n",
    "mobile_name_entry.pack()\n",
    "\n",
    "company_name = Label(insert_frame, text=\"Mobile Company:\")\n",
    "company_name.pack()\n",
    "company_name_entry = Entry(insert_frame)\n",
    "company_name_entry.pack()\n",
    "\n",
    "price = Label(insert_frame, text=\"Monbile Price:\")\n",
    "price.pack()\n",
    "price_entry = Entry(insert_frame)\n",
    "price_entry.pack()\n",
    "\n",
    "insert_button = Button(insert_frame, text=\"Insert Data\", command=insert_data)\n",
    "insert_button.pack()\n",
    "\n",
    "status_label = Label(insert_frame, text=\"\")\n",
    "status_label.pack()\n",
    "\n",
    "root.mainloop()\n",
    "\n",
    "conn.close()"
   ]
  },
  {
   "cell_type": "markdown",
   "id": "2c0d1257",
   "metadata": {},
   "source": [
    "### iii. Fetch all data and print."
   ]
  },
  {
   "cell_type": "code",
   "execution_count": 30,
   "id": "dc614581",
   "metadata": {},
   "outputs": [],
   "source": [
    "# Establishing a connection to the MySQL database\n",
    "connection = sql.connect(\n",
    "    host=\"localhost\",\n",
    "    user=\"root\",\n",
    "    password=\"11111111\",\n",
    "    database=\"Smartphone\"\n",
    ")"
   ]
  },
  {
   "cell_type": "code",
   "execution_count": 31,
   "id": "2423e6d8",
   "metadata": {},
   "outputs": [],
   "source": [
    "cursor = connection.cursor()"
   ]
  },
  {
   "cell_type": "code",
   "execution_count": 32,
   "id": "d727da49",
   "metadata": {},
   "outputs": [],
   "source": [
    "cursor.execute(\"USE Smartphone\")"
   ]
  },
  {
   "cell_type": "code",
   "execution_count": 33,
   "id": "eb45897f",
   "metadata": {},
   "outputs": [
    {
     "name": "stdout",
     "output_type": "stream",
     "text": [
      "('1', 'Iphone 14', 'Apple', '150000')\n",
      "('2', 'Galaxy S22', 'Samsung', '100000')\n"
     ]
    }
   ],
   "source": [
    "cursor.execute('''\n",
    "SELECT * FROM Mobile\n",
    "''')\n",
    "result= cursor.fetchall()\n",
    "for row in result:\n",
    "    print(row)"
   ]
  },
  {
   "cell_type": "code",
   "execution_count": null,
   "id": "7a4a1d95",
   "metadata": {},
   "outputs": [],
   "source": [
    "connection.close()"
   ]
  }
 ],
 "metadata": {
  "kernelspec": {
   "display_name": "Python 3 (ipykernel)",
   "language": "python",
   "name": "python3"
  },
  "language_info": {
   "codemirror_mode": {
    "name": "ipython",
    "version": 3
   },
   "file_extension": ".py",
   "mimetype": "text/x-python",
   "name": "python",
   "nbconvert_exporter": "python",
   "pygments_lexer": "ipython3",
   "version": "3.10.9"
  }
 },
 "nbformat": 4,
 "nbformat_minor": 5
}

{
 "cells": [
  {
   "cell_type": "markdown",
   "id": "19be8bdc",
   "metadata": {},
   "source": [
    "# String Formating"
   ]
  },
  {
   "cell_type": "markdown",
   "id": "705e38f4",
   "metadata": {},
   "source": [
    "### 1. Use of % operator for string formatting (older approach)"
   ]
  },
  {
   "cell_type": "code",
   "execution_count": 1,
   "id": "f6efc47a",
   "metadata": {},
   "outputs": [
    {
     "name": "stdout",
     "output_type": "stream",
     "text": [
      "Student name is Nisarg and ID is 101\n"
     ]
    }
   ],
   "source": [
    "# Assign the value \"Nisarg\" to the variable Name\n",
    "Name = \"Nisarg\"\n",
    "\n",
    "# Assign the value 101 to the variable ID\n",
    "ID = 101\n",
    "\n",
    "# Print a formatted string using the values of Name and ID\n",
    "# %s is a placeholder for a string, and %d is a placeholder for an integer\n",
    "# The values of Name and ID are inserted into the string using the placeholders\n",
    "print(\"Student name is %s and ID is %d\" % (Name, ID))"
   ]
  },
  {
   "cell_type": "markdown",
   "id": "8d6ba220",
   "metadata": {},
   "source": [
    "### 2. Use of format() method for string formatting"
   ]
  },
  {
   "cell_type": "code",
   "execution_count": 2,
   "id": "a97d6185",
   "metadata": {},
   "outputs": [
    {
     "name": "stdout",
     "output_type": "stream",
     "text": [
      "Student name is Nisarg and ID is 101\n"
     ]
    }
   ],
   "source": [
    "# Assign the value \"Nisarg\" to the variable Name\n",
    "Name = \"Nisarg\"\n",
    "\n",
    "# Assign the value 101 to the variable ID\n",
    "ID = 101\n",
    "\n",
    "# Print a formatted string using the .format() method\n",
    "# {} are placeholders for values to be inserted using the .format() method\n",
    "# The values of Name and ID are provided as arguments to the .format() method\n",
    "print(\"Student name is {} and ID is {}\".format(Name, ID))"
   ]
  },
  {
   "cell_type": "markdown",
   "id": "b77a760b",
   "metadata": {},
   "source": [
    "### 3. Use of f-string formatting"
   ]
  },
  {
   "cell_type": "code",
   "execution_count": 3,
   "id": "48e4b4fb",
   "metadata": {},
   "outputs": [
    {
     "name": "stdout",
     "output_type": "stream",
     "text": [
      "Student name is Nisarg and ID is 101\n"
     ]
    }
   ],
   "source": [
    "# Assign the value \"Nisarg\" to the variable Name\n",
    "Name = \"Nisarg\"\n",
    "\n",
    "# Assign the value 101 to the variable ID\n",
    "ID = 101\n",
    "\n",
    "# Print a formatted string using an f-string (formatted string literal)\n",
    "# Inside the string, expressions inside curly braces {} are evaluated\n",
    "# and their values are inserted into the string.\n",
    "print(f\"Student name is {Name} and ID is {ID}\")"
   ]
  }
 ],
 "metadata": {
  "kernelspec": {
   "display_name": "Python 3 (ipykernel)",
   "language": "python",
   "name": "python3"
  },
  "language_info": {
   "codemirror_mode": {
    "name": "ipython",
    "version": 3
   },
   "file_extension": ".py",
   "mimetype": "text/x-python",
   "name": "python",
   "nbconvert_exporter": "python",
   "pygments_lexer": "ipython3",
   "version": "3.10.9"
  }
 },
 "nbformat": 4,
 "nbformat_minor": 5
}

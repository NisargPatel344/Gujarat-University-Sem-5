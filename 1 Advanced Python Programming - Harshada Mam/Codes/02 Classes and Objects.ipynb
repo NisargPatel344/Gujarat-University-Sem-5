{
 "cells": [
  {
   "cell_type": "code",
   "execution_count": 1,
   "id": "973b684f",
   "metadata": {},
   "outputs": [
    {
     "name": "stdout",
     "output_type": "stream",
     "text": [
      "ID is 101 and Name is Maruti\n"
     ]
    }
   ],
   "source": [
    "# Define a class named Cars\n",
    "class Cars:\n",
    "    # Class-level attributes\n",
    "    id = 101\n",
    "    name = \"Maruti\"\n",
    "    \n",
    "    # Method to display car information\n",
    "    def display(self):\n",
    "        print(f\"ID is {self.id} and Name is {self.name}\")\n",
    "\n",
    "# Create an instance (object) of the Cars class\n",
    "car = Cars()\n",
    "\n",
    "# Call the display method on the car object\n",
    "car.display()"
   ]
  },
  {
   "cell_type": "code",
   "execution_count": 2,
   "id": "85acee10",
   "metadata": {},
   "outputs": [
    {
     "name": "stdout",
     "output_type": "stream",
     "text": [
      "Area of Rectangle = 50\n"
     ]
    }
   ],
   "source": [
    "# Define a class named Rectangle\n",
    "class Rectangle:\n",
    "    # Class-level attributes\n",
    "    length = 10\n",
    "    breadth = 5\n",
    "    \n",
    "    # Method to calculate and display the area of the rectangle\n",
    "    def calculate_area(self):\n",
    "        print(f\"Area of Rectangle = {self.length * self.breadth}\")\n",
    "\n",
    "# Create an instance (object) of the Rectangle class\n",
    "rectangle_area = Rectangle()\n",
    "\n",
    "# Call the calculate_area method on the rectangle_area object\n",
    "rectangle_area.calculate_area()"
   ]
  },
  {
   "cell_type": "code",
   "execution_count": 3,
   "id": "75fed7b6",
   "metadata": {},
   "outputs": [
    {
     "name": "stdout",
     "output_type": "stream",
     "text": [
      "My name is Nisarg and age is 20\n"
     ]
    }
   ],
   "source": [
    "# Define a Python class called Person\n",
    "class Person:\n",
    "    # Class-level attributes\n",
    "    name = \"Nisarg\"  # Default name value\n",
    "    age = 20         # Default age value\n",
    "    \n",
    "    # Method to introduce the person\n",
    "    def introduce(self):\n",
    "        # Print a formatted introduction using the class attributes\n",
    "        print(f\"My name is {self.name} and age is {self.age}\")\n",
    "\n",
    "# Create an instance (object) of the Person class\n",
    "person = Person()\n",
    "\n",
    "# Call the introduce method on the person object\n",
    "person.introduce()"
   ]
  },
  {
   "cell_type": "code",
   "execution_count": 4,
   "id": "e991dafc",
   "metadata": {},
   "outputs": [
    {
     "name": "stdout",
     "output_type": "stream",
     "text": [
      "Book Title is 2 States and author name is Chetan Bhagat\n"
     ]
    }
   ],
   "source": [
    "# Define a Python class called Book\n",
    "class Book:\n",
    "    # Class-level attributes\n",
    "    title = \"\"    # Initialize the title attribute\n",
    "    author = \"\"   # Initialize the author attribute\n",
    "    \n",
    "    # Method to display book information\n",
    "    def display_info(self):\n",
    "        # Print book information using class attributes\n",
    "        print(f\"Book Title is {self.title} and author name is {self.author}\")\n",
    "\n",
    "# Create an instance (object) of the Book class\n",
    "book = Book()\n",
    "\n",
    "# Set attributes for the book object\n",
    "book.title = \"2 States\"\n",
    "book.author = \"Chetan Bhagat\"\n",
    "\n",
    "# Call the display_info method on the book object\n",
    "book.display_info()"
   ]
  },
  {
   "cell_type": "code",
   "execution_count": 5,
   "id": "b80cc1b1",
   "metadata": {},
   "outputs": [
    {
     "name": "stdout",
     "output_type": "stream",
     "text": [
      "My name is Alice and I am 30 years old.\n"
     ]
    }
   ],
   "source": [
    "# Define another Python class called Person\n",
    "class Person:\n",
    "    # Class-level attributes\n",
    "    name = \"\"  # Initialize the name attribute\n",
    "    age = 0    # Initialize the age attribute\n",
    "    \n",
    "    # Method to introduce the person\n",
    "    def introduce(self):\n",
    "        # Print a formatted introduction using class attributes\n",
    "        print(f\"My name is {self.name} and I am {self.age} years old.\")\n",
    "\n",
    "# Create an instance (object) of the Person class\n",
    "person1 = Person()\n",
    "\n",
    "# Set attributes for the person object\n",
    "person1.name = \"Alice\"\n",
    "person1.age = 30\n",
    "\n",
    "# Call the introduce method on the person1 object\n",
    "person1.introduce()"
   ]
  }
 ],
 "metadata": {
  "kernelspec": {
   "display_name": "Python 3 (ipykernel)",
   "language": "python",
   "name": "python3"
  },
  "language_info": {
   "codemirror_mode": {
    "name": "ipython",
    "version": 3
   },
   "file_extension": ".py",
   "mimetype": "text/x-python",
   "name": "python",
   "nbconvert_exporter": "python",
   "pygments_lexer": "ipython3",
   "version": "3.10.9"
  }
 },
 "nbformat": 4,
 "nbformat_minor": 5
}

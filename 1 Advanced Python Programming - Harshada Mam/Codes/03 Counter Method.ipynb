{
 "cells": [
  {
   "cell_type": "code",
   "execution_count": 6,
   "id": "8a3fb887",
   "metadata": {},
   "outputs": [
    {
     "name": "stdout",
     "output_type": "stream",
     "text": [
      "The number of Students 5\n"
     ]
    }
   ],
   "source": [
    "# Define a Python class called Student\n",
    "class Student:\n",
    "    # Class-level attribute to keep track of the number of students\n",
    "    counter = 0\n",
    "\n",
    "    # Constructor (__init__) method\n",
    "    def __init__(self):\n",
    "        # Increment the student counter when a new student object is created\n",
    "        Student.counter = Student.counter + 1\n",
    "\n",
    "# Create multiple instances (objects) of the Student class\n",
    "s1 = Student()  # Creating the first student object\n",
    "s2 = Student()  # Creating the second student object\n",
    "s3 = Student()  # Creating the third student object\n",
    "s4 = Student()  # Creating the fourth student object\n",
    "s5 = Student()  # Creating the fifth student object\n",
    "\n",
    "# Print the total number of students using the class-level counter attribute\n",
    "print(\"The number of Students\", Student.counter)"
   ]
  },
  {
   "cell_type": "code",
   "execution_count": 15,
   "id": "528260fb",
   "metadata": {},
   "outputs": [
    {
     "name": "stdout",
     "output_type": "stream",
     "text": [
      "Total Products in inventory: 3\n"
     ]
    }
   ],
   "source": [
    "# Define a Python class called Product\n",
    "class Product:\n",
    "    # Class-level attribute to keep track of the total number of products\n",
    "    total_products = 0\n",
    "\n",
    "    # Constructor (__init__) method\n",
    "    def __init__(self):\n",
    "        # Increment the total_products counter when a new product object is created\n",
    "        Product.total_products = Product.total_products + 1\n",
    "\n",
    "# Create instances (objects) of the Product class\n",
    "product1 = Product()  # Creating the first product object\n",
    "product2 = Product()  # Creating the second product object\n",
    "product3 = Product()  # Creating the third product object\n",
    "\n",
    "# Print the total number of products in the inventory using the class-level attribute\n",
    "print(\"Total Products in inventory:\", Product.total_products)"
   ]
  },
  {
   "cell_type": "code",
   "execution_count": 16,
   "id": "424fe4fa",
   "metadata": {},
   "outputs": [
    {
     "name": "stdout",
     "output_type": "stream",
     "text": [
      "Total Products in inventory: 3\n"
     ]
    }
   ],
   "source": [
    "# Define a Python class called Product\n",
    "class Product:\n",
    "    # Class-level attribute to keep track of the total number of products\n",
    "    total_products = 0\n",
    "\n",
    "    # Constructor (__init__) method\n",
    "    def __init__(self, name, price):\n",
    "        # Instance-level attributes to store the name and price of the product\n",
    "        self.name = name\n",
    "        self.price = price\n",
    "        \n",
    "        # Increment the total_products counter when a new product object is created\n",
    "        Product.total_products = Product.total_products + 1\n",
    "\n",
    "# Create instances (objects) of the Product class with name and price attributes\n",
    "product1 = Product(\"Laptop\", 1000)  # Creating the first product object\n",
    "product2 = Product(\"Phone\", 500)    # Creating the second product object\n",
    "product3 = Product(\"Tablet\", 300)   # Creating the third product object\n",
    "\n",
    "# Print the total number of products in the inventory using the class-level attribute\n",
    "print(\"Total Products in inventory:\", Product.total_products)"
   ]
  }
 ],
 "metadata": {
  "kernelspec": {
   "display_name": "Python 3 (ipykernel)",
   "language": "python",
   "name": "python3"
  },
  "language_info": {
   "codemirror_mode": {
    "name": "ipython",
    "version": 3
   },
   "file_extension": ".py",
   "mimetype": "text/x-python",
   "name": "python",
   "nbconvert_exporter": "python",
   "pygments_lexer": "ipython3",
   "version": "3.10.9"
  }
 },
 "nbformat": 4,
 "nbformat_minor": 5
}

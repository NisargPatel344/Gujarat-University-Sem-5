{
 "cells": [
  {
   "cell_type": "markdown",
   "id": "fcfec506",
   "metadata": {},
   "source": [
    "# Default Constructor"
   ]
  },
  {
   "cell_type": "code",
   "execution_count": 1,
   "id": "58b45572",
   "metadata": {},
   "outputs": [
    {
     "name": "stdout",
     "output_type": "stream",
     "text": [
      "My name is Joseph and my roll number is 18\n"
     ]
    }
   ],
   "source": [
    "# Define a class called Student\n",
    "class Student:\n",
    "    # Constructor method (__init__) is called when a new object of the class is created\n",
    "    def __init__(self):\n",
    "        # Initialize two instance variables: 'name' with the value \"Joseph\" and 'roll_num' with the value 18\n",
    "        self.name = \"Joseph\"\n",
    "        self.roll_num = 18\n",
    "\n",
    "    # Define a method called 'display' that will be used to display student information\n",
    "    def display(self):\n",
    "        # Print a formatted string containing the student's name and roll number\n",
    "        print(f\"My name is {self.name} and my roll number is {self.roll_num}\")\n",
    "\n",
    "# Create an instance (object) of the Student class and store it in the 'st' variable\n",
    "st = Student()\n",
    "\n",
    "# Call the 'display' method on the 'st' object to display the student's information\n",
    "st.display()"
   ]
  },
  {
   "cell_type": "code",
   "execution_count": 1,
   "id": "4c9635f7",
   "metadata": {},
   "outputs": [
    {
     "name": "stdout",
     "output_type": "stream",
     "text": [
      "Rectangle width is 5, height is 3, and the area is 15\n"
     ]
    }
   ],
   "source": [
    "# Define a class called Rectangle\n",
    "class Rectangle:\n",
    "    # Constructor method (__init__) is called when a new object of the class is created\n",
    "    def __init__(self):\n",
    "        # Initialize two instance variables: 'width' with the value 5 and 'height' with the value 3\n",
    "        self.width = 5\n",
    "        self.height = 3\n",
    "\n",
    "    # Define a method called 'calculate_area' that calculates and returns the area of the rectangle\n",
    "    def calculate_area(self):\n",
    "        return self.width * self.height\n",
    "\n",
    "    # Define a method called 'display' to display information about the rectangle\n",
    "    def display(self):\n",
    "        # Print a formatted string containing the width, height, and calculated area of the rectangle\n",
    "        print(f\"Rectangle width is {self.width}, height is {self.height}, and the area is {self.calculate_area()}\")\n",
    "\n",
    "# Create an instance (object) of the Rectangle class and store it in the 'rectangle' variable\n",
    "rectangle = Rectangle()\n",
    "\n",
    "# Call the 'display' method on the 'rectangle' object to display information about the rectangle\n",
    "rectangle.display()"
   ]
  }
 ],
 "metadata": {
  "kernelspec": {
   "display_name": "Python 3 (ipykernel)",
   "language": "python",
   "name": "python3"
  },
  "language_info": {
   "codemirror_mode": {
    "name": "ipython",
    "version": 3
   },
   "file_extension": ".py",
   "mimetype": "text/x-python",
   "name": "python",
   "nbconvert_exporter": "python",
   "pygments_lexer": "ipython3",
   "version": "3.10.9"
  }
 },
 "nbformat": 4,
 "nbformat_minor": 5
}

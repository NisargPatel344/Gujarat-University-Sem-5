{
 "cells": [
  {
   "cell_type": "markdown",
   "id": "7b9d7f94",
   "metadata": {},
   "source": [
    "# Parameterized Constructors"
   ]
  },
  {
   "cell_type": "code",
   "execution_count": 4,
   "id": "4fe85d59",
   "metadata": {},
   "outputs": [
    {
     "name": "stdout",
     "output_type": "stream",
     "text": [
      "My name is Joseph and my roll number is 101\n"
     ]
    }
   ],
   "source": [
    "# Define a class called Student\n",
    "class Student:\n",
    "    # Constructor method (__init__) is called when a new object of the class is created\n",
    "    def __init__(self, name, roll_num):\n",
    "        # Initialize two instance variables: 'name' and 'roll_num' using the provided arguments\n",
    "        self.name = name\n",
    "        self.roll_num = roll_num\n",
    "\n",
    "    # Define a method called 'display' that will be used to display student information\n",
    "    def display(self):\n",
    "        # Print a formatted string containing the student's name and roll number\n",
    "        print(f\"My name is {self.name} and my roll number is {self.roll_num}\")\n",
    "\n",
    "# Create an instance (object) of the Student class with the name \"Joseph\" and roll number 101\n",
    "student = Student(\"Joseph\", 101)\n",
    "\n",
    "# Call the 'display' method on the 'student' object to display the student's information\n",
    "student.display()"
   ]
  },
  {
   "cell_type": "code",
   "execution_count": 5,
   "id": "bacf4b2f",
   "metadata": {},
   "outputs": [
    {
     "name": "stdout",
     "output_type": "stream",
     "text": [
      "Employee ID is Nisarg Patel and Employee Name is 38\n"
     ]
    }
   ],
   "source": [
    "# Define a class called Employee\n",
    "class Employee:\n",
    "    # Constructor method (__init__) is called when a new object of the class is created\n",
    "    def __init__(self, emp_name, emp_id):\n",
    "        # Initialize two instance variables: 'emp_name' and 'emp_id' using the provided arguments\n",
    "        self.emp_id = emp_id\n",
    "        self.emp_name = emp_name\n",
    "\n",
    "    # Define a method called 'display' that will be used to display employee information\n",
    "    def display(self):\n",
    "        # Print a formatted string containing the employee's ID and name\n",
    "        print(f\"Employee ID is {self.emp_id} and Employee Name is {self.emp_name}\")\n",
    "\n",
    "# Create an instance (object) of the Employee class with the ID 38 and the name \"Nisarg Patel\"\n",
    "employee = Employee(38, \"Nisarg Patel\")\n",
    "\n",
    "# Call the 'display' method on the 'employee' object to display the employee's information\n",
    "employee.display()"
   ]
  },
  {
   "cell_type": "code",
   "execution_count": 6,
   "id": "6d5463b0",
   "metadata": {},
   "outputs": [
    {
     "name": "stdout",
     "output_type": "stream",
     "text": [
      "Rectangle width is 20, length is 10, and area is 200\n",
      "Rectangle width is 10, length is 5, and area is 50\n"
     ]
    }
   ],
   "source": [
    "# Define a class called Rectangle\n",
    "class Rectangle:\n",
    "    # Constructor method (__init__) is called when a new object of the class is created\n",
    "    def __init__(self, length, width):\n",
    "        # Initialize two instance variables: 'length' and 'width' using the provided arguments\n",
    "        self.length = length\n",
    "        self.width = width\n",
    "\n",
    "    # Define a method called 'calculate_area' that calculates and returns the area of the rectangle\n",
    "    def calculate_area(self):\n",
    "        return self.length * self.width\n",
    "\n",
    "    # Define a method called 'display' to display information about the rectangle\n",
    "    def display(self):\n",
    "        # Print a formatted string containing the width, length, and calculated area of the rectangle\n",
    "        print(f\"Rectangle width is {self.width}, length is {self.length}, and area is {self.calculate_area()}\")\n",
    "\n",
    "# Create an instance (object) of the Rectangle class with length 10 and width 20\n",
    "rectangle1 = Rectangle(10, 20)\n",
    "\n",
    "# Call the 'display' method on the 'rectangle1' object to display information about the first rectangle\n",
    "rectangle1.display()\n",
    "\n",
    "# Create another instance (object) of the Rectangle class with length 5 and width 10\n",
    "rectangle2 = Rectangle(5, 10)\n",
    "\n",
    "# Call the 'display' method on the 'rectangle2' object to display information about the second rectangle\n",
    "rectangle2.display()"
   ]
  },
  {
   "cell_type": "code",
   "execution_count": 7,
   "id": "4d16abc3",
   "metadata": {},
   "outputs": [
    {
     "name": "stdout",
     "output_type": "stream",
     "text": [
      "Car: Toyota Corolla 2023\n",
      "Mileage: 0 miles\n",
      "Car: Toyota Corolla 2023\n",
      "Mileage: 100 miles\n"
     ]
    }
   ],
   "source": [
    "# Define a class called Car\n",
    "class Car:\n",
    "    # Constructor method (__init__) is called when a new object of the class is created\n",
    "    def __init__(self, Make, Model, Year):\n",
    "        # Initialize instance variables: 'make', 'model', 'year', and 'mileage' using the provided arguments\n",
    "        self.make = Make\n",
    "        self.model = Model\n",
    "        self.year = Year\n",
    "        self.mileage = 0  # Mileage is initially set to 0\n",
    "        \n",
    "    # Define a method called 'drive' to simulate driving the car and adding miles to the mileage\n",
    "    def drive(self, miles):\n",
    "        self.mileage += miles\n",
    "    \n",
    "    # Define a method called 'display_info' to display information about the car\n",
    "    def display_info(self):\n",
    "        # Print the car's make, model, and year\n",
    "        print(f\"Car: {self.make} {self.model} {self.year}\")\n",
    "        # Print the current mileage of the car\n",
    "        print(f\"Mileage: {self.mileage} miles\")\n",
    "\n",
    "# Create an instance (object) of the Car class with make \"Toyota,\" model \"Corolla,\" and year 2023\n",
    "my_car = Car(\"Toyota\", \"Corolla\", 2023)\n",
    "\n",
    "# Call the 'display_info' method on the 'my_car' object to display information about the car\n",
    "my_car.display_info()\n",
    "\n",
    "# Drive the car by adding 100 miles to the mileage\n",
    "my_car.drive(100)\n",
    "\n",
    "# Call the 'display_info' method again to display updated information about the car\n",
    "my_car.display_info()"
   ]
  },
  {
   "cell_type": "code",
   "execution_count": 8,
   "id": "25a17f04",
   "metadata": {},
   "outputs": [
    {
     "name": "stdout",
     "output_type": "stream",
     "text": [
      "Name is John and salary is 50000\n",
      "Name is Alice and salary is 60000\n"
     ]
    }
   ],
   "source": [
    "# Define a class called Employee\n",
    "class Employee:\n",
    "    # Constructor method (__init__) is called when a new object of the class is created\n",
    "    def __init__(self, name, salary=50000):\n",
    "        # Initialize instance variables: 'name' and 'salary' using the provided arguments\n",
    "        self.name = name\n",
    "        self.salary = salary\n",
    "\n",
    "    # Define a method called 'display_info' to display information about the employee\n",
    "    def display_info(self):\n",
    "        # Print the employee's name and salary\n",
    "        print(f\"Name is {self.name} and salary is {self.salary}\")\n",
    "\n",
    "# Create an instance (object) of the Employee class with name \"John\" (uses the default salary)\n",
    "emp1 = Employee(\"John\")\n",
    "\n",
    "# Create another instance (object) of the Employee class with name \"Alice\" and a custom salary of 60000\n",
    "emp2 = Employee(\"Alice\", 60000)\n",
    "\n",
    "# Call the 'display_info' method on the 'emp1' object to display information about the first employee\n",
    "emp1.display_info()\n",
    "\n",
    "# Call the 'display_info' method on the 'emp2' object to display information about the second employee\n",
    "emp2.display_info()"
   ]
  }
 ],
 "metadata": {
  "kernelspec": {
   "display_name": "Python 3 (ipykernel)",
   "language": "python",
   "name": "python3"
  },
  "language_info": {
   "codemirror_mode": {
    "name": "ipython",
    "version": 3
   },
   "file_extension": ".py",
   "mimetype": "text/x-python",
   "name": "python",
   "nbconvert_exporter": "python",
   "pygments_lexer": "ipython3",
   "version": "3.10.9"
  }
 },
 "nbformat": 4,
 "nbformat_minor": 5
}

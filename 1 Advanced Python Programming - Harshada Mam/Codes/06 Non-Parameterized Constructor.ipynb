{
 "cells": [
  {
   "cell_type": "markdown",
   "id": "3116fad7",
   "metadata": {},
   "source": [
    "# Non - Parameterized Constructor"
   ]
  },
  {
   "cell_type": "code",
   "execution_count": 1,
   "id": "afa6dad4",
   "metadata": {},
   "outputs": [
    {
     "name": "stdout",
     "output_type": "stream",
     "text": [
      "This is Non-Parameterized Constructor\n",
      "Hello, Nisarg\n"
     ]
    }
   ],
   "source": [
    "# Define a class named Student\n",
    "class Student:\n",
    "    \n",
    "    # Non-Parameterized Constructor\n",
    "    def __init__(self):\n",
    "        # Constructor method that initializes a Student object\n",
    "        print(\"This is Non-Parameterized Constructor\")\n",
    "    \n",
    "    # Method to display a greeting message\n",
    "    def show(self, name):\n",
    "        # Method that displays a greeting with the provided name\n",
    "        print(f\"Hello, {name}\")\n",
    "        \n",
    "# Create an instance of the Student class\n",
    "student = Student()\n",
    "\n",
    "# Call the show method on the student object and pass the name \"Nisarg\"\n",
    "student.show(\"Nisarg\")"
   ]
  },
  {
   "cell_type": "code",
   "execution_count": 3,
   "id": "2fa429dd",
   "metadata": {},
   "outputs": [
    {
     "name": "stdout",
     "output_type": "stream",
     "text": [
      "This is Non-Parameterized Constructor\n",
      "Car price is 670000\n",
      "Car Name is Toyota\n",
      "Car Model is Corolla\n",
      "Car Launching Year is 2023\n"
     ]
    }
   ],
   "source": [
    "# Define a class named Car\n",
    "class Car:\n",
    "    # Class-level attributes (shared by all instances)\n",
    "    Name = \"Toyota\"\n",
    "    Model = \"Corolla\"\n",
    "    Year = 2023\n",
    "    \n",
    "    # Non-Parameterized Constructor\n",
    "    def __init__(self):\n",
    "        # Instance-level attribute (specific to each instance)\n",
    "        Price = 670000\n",
    "        # Constructor method that initializes a Car object\n",
    "        print(\"This is Non-Parameterized Constructor\")\n",
    "        # Print the car's price (Note: Price is an instance-level variable)\n",
    "        print(f\"Car price is {Price}\")\n",
    "    \n",
    "    # Method to display car information\n",
    "    def get_info(self):\n",
    "        # Access class-level attributes using the class name (Car)\n",
    "        print(f\"Car Name is {Car.Name}\")\n",
    "        print(f\"Car Model is {Car.Model}\")\n",
    "        print(f\"Car Launching Year is {Car.Year}\")\n",
    "\n",
    "# Create an instance of the Car class\n",
    "car1 = Car()\n",
    "\n",
    "# Call the get_info method on the car1 object to display car information\n",
    "car1.get_info()"
   ]
  },
  {
   "cell_type": "markdown",
   "id": "2ef8d070",
   "metadata": {},
   "source": [
    "### In a class representing a Book, how can a non-parameterized constructer be used to set default values for attributes such as title, author and publication year? (Initialize variables within a non parameterized constructer )"
   ]
  },
  {
   "cell_type": "code",
   "execution_count": 4,
   "id": "899b9daf",
   "metadata": {},
   "outputs": [
    {
     "name": "stdout",
     "output_type": "stream",
     "text": [
      "Book title is Stranger Things, author name is Mate Duffer, and publication year is 2020.\n"
     ]
    }
   ],
   "source": [
    "# Define a class named Book\n",
    "class Book:\n",
    "    # Constructor to initialize book attributes\n",
    "    def __init__(self):\n",
    "        # Initialize instance variables for title, author, and publication year\n",
    "        self.title = \"Stranger Things\"\n",
    "        self.author = \"Mate Duffer\"\n",
    "        self.publication_year = 2020\n",
    "\n",
    "    # Method to display book information\n",
    "    def get_info(self):\n",
    "        # Print the book's title, author, and publication year using instance variables\n",
    "        print(f\"Book title is {self.title}, author name is {self.author}, and publication year is {self.publication_year}.\")\n",
    "\n",
    "# Create an instance of the Book class\n",
    "book = Book()\n",
    "\n",
    "# Call the get_info method on the book object to display book information\n",
    "book.get_info()"
   ]
  },
  {
   "cell_type": "markdown",
   "id": "3238dd58",
   "metadata": {},
   "source": [
    "### How a non-parameterized constructer can be used in a class representing a Game to set default values for attributes such as score, level and player name. (Initialise variables as a class variable)"
   ]
  },
  {
   "cell_type": "code",
   "execution_count": 4,
   "id": "d6bf9b2c",
   "metadata": {},
   "outputs": [
    {
     "name": "stdout",
     "output_type": "stream",
     "text": [
      "100\n",
      "40\n",
      "Virat Kohli\n"
     ]
    }
   ],
   "source": [
    "class Game:\n",
    "    # Class variables with default values\n",
    "    default_score = 100\n",
    "    default_level = 40\n",
    "    default_player_name = \"Virat Kohli\"\n",
    "\n",
    "    # Non-parameterized constructor\n",
    "    def __init__(self):\n",
    "        # Instance variables\n",
    "        self.score = Game.default_score\n",
    "        self.level = Game.default_level\n",
    "        self.player_name = Game.default_player_name\n",
    "\n",
    "game = Game()\n",
    "\n",
    "print(game.score)  \n",
    "print(game.level)  \n",
    "print(game.player_name)  "
   ]
  },
  {
   "cell_type": "code",
   "execution_count": 2,
   "id": "7bc2d2ad",
   "metadata": {},
   "outputs": [
    {
     "name": "stdout",
     "output_type": "stream",
     "text": [
      "This is Non-Parameterized Constructor\n",
      "Player name is Virat Kohli, score is 100 and level is 40\n"
     ]
    }
   ],
   "source": [
    "class Game:\n",
    "    # Class variables with default values\n",
    "    score = 100\n",
    "    level = 40\n",
    "    player_name = \"Virat Kohli\"\n",
    "\n",
    "    # Non-parameterized constructor\n",
    "    def __init__(self):\n",
    "        print(\"This is Non-Parameterized Constructor\")\n",
    "\n",
    "    def display_info(self):\n",
    "        print(f\"Player name is {Game.player_name}, score is {Game.score} and level is {Game.level}\")\n",
    "\n",
    "game = Game()\n",
    "game.display_info()"
   ]
  }
 ],
 "metadata": {
  "kernelspec": {
   "display_name": "Python 3 (ipykernel)",
   "language": "python",
   "name": "python3"
  },
  "language_info": {
   "codemirror_mode": {
    "name": "ipython",
    "version": 3
   },
   "file_extension": ".py",
   "mimetype": "text/x-python",
   "name": "python",
   "nbconvert_exporter": "python",
   "pygments_lexer": "ipython3",
   "version": "3.10.9"
  }
 },
 "nbformat": 4,
 "nbformat_minor": 5
}

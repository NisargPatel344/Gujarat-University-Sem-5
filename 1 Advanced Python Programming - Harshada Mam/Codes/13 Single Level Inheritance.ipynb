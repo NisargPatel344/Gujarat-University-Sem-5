{
 "cells": [
  {
   "cell_type": "markdown",
   "id": "f3b77756",
   "metadata": {},
   "source": [
    "# Single Level Inheritance"
   ]
  },
  {
   "cell_type": "markdown",
   "id": "4e119a7a",
   "metadata": {},
   "source": [
    "- Single level inheritance in Python refers to the concept of a class inheriting properties and methods from only one parent class. \n",
    "- It allows a subclass to inherit the attributes and behaviors of a single base class, forming a hierarchical relationship."
   ]
  },
  {
   "cell_type": "code",
   "execution_count": 11,
   "id": "c436e8f9",
   "metadata": {},
   "outputs": [
    {
     "name": "stdout",
     "output_type": "stream",
     "text": [
      "Product name is Paneer and its price is 100\n",
      "Panner contains 18\n"
     ]
    }
   ],
   "source": [
    "# Define a base class called DairyProduct\n",
    "class DairyProduct:\n",
    "    \n",
    "    # Constructor method to initialize product_name and product_price\n",
    "    def __init__(self, product_name, product_price):\n",
    "        self.product_name = product_name\n",
    "        self.product_price = product_price\n",
    "        \n",
    "    # Method to display product details\n",
    "    def productDetails(self):\n",
    "        print(f\"Product name is {self.product_name} and its price is {self.product_price}\")\n",
    "\n",
    "# Define a subclass called Paneer that inherits from DairyProduct\n",
    "class Paneer(DairyProduct):\n",
    "    \n",
    "    # Method specific to Paneer to display protein content\n",
    "    def proteinIntake(self, protein):\n",
    "        print(f\"Panner contains {protein}\")\n",
    "\n",
    "# Create an instance of the Paneer class with the product name \"Paneer\" and price 100\n",
    "paneer = Paneer(\"Paneer\", 100)\n",
    "\n",
    "# Call the productDetails method on the paneer object to display product information\n",
    "paneer.productDetails()\n",
    "\n",
    "# Call the proteinIntake method on the paneer object to display protein content\n",
    "paneer.proteinIntake(18)"
   ]
  },
  {
   "cell_type": "code",
   "execution_count": 12,
   "id": "173722c4",
   "metadata": {},
   "outputs": [
    {
     "name": "stdout",
     "output_type": "stream",
     "text": [
      "Name: Nisarg Patel\n",
      "Age: 20\n",
      "Student_ID: 52\n",
      "Student Course: Data Science\n"
     ]
    }
   ],
   "source": [
    "# Define a base class called Person\n",
    "class Person:\n",
    "    \n",
    "    # Constructor method to initialize name and age attributes\n",
    "    def __init__(self, name, age):\n",
    "        self.name = name\n",
    "        self.age = age\n",
    "\n",
    "# Define a subclass called Student that inherits from Person\n",
    "class Student(Person):\n",
    "    \n",
    "    # Constructor method for Student, which also initializes student_id and course attributes\n",
    "    def __init__(self, name, age, student_id, course):\n",
    "        # Call the constructor of the base class (Person) using super()\n",
    "        super().__init__(name, age)\n",
    "        self.student_id = student_id\n",
    "        self.course = course\n",
    "        \n",
    "    # Method to display student information\n",
    "    def display_student_info(self):\n",
    "        print(f\"Name: {self.name}\")\n",
    "        print(f\"Age: {self.age}\")\n",
    "        print(f\"Student_ID: {self.student_id}\")\n",
    "        print(f\"Student Course: {self.course}\")\n",
    "\n",
    "# Create an instance of the Student class with the provided information\n",
    "student = Student(\"Nisarg Patel\", 20, 52, \"Data Science\")\n",
    "\n",
    "# Call the display_student_info method on the student object to display student information\n",
    "student.display_student_info()"
   ]
  },
  {
   "cell_type": "code",
   "execution_count": 13,
   "id": "5b231a49",
   "metadata": {},
   "outputs": [
    {
     "name": "stdout",
     "output_type": "stream",
     "text": [
      "Account Number: 101\n",
      "Balance: 20000\n",
      "Interest Rate: 7.8%\n"
     ]
    }
   ],
   "source": [
    "# Define a base class called BankAccount\n",
    "class BankAccount:\n",
    "    \n",
    "    # Constructor method to initialize account_number and balance attributes\n",
    "    def __init__(self, account_number, balance):\n",
    "        self.account_number = account_number\n",
    "        self.balance = balance\n",
    "    \n",
    "    # Method to display bank account information\n",
    "    def display_bank_account_info(self):\n",
    "        print(f\"Account Number: {self.account_number}\")\n",
    "        print(f\"Balance: {self.balance}\")\n",
    "\n",
    "# Define a subclass called SavingsAccount that inherits from BankAccount\n",
    "class SavingsAccount(BankAccount):\n",
    "    \n",
    "    # Constructor method for SavingsAccount, which also initializes interest_rate attribute\n",
    "    def __init__(self, account_number, balance, interest_rate):\n",
    "        # Call the constructor of the base class (BankAccount) using super()\n",
    "        super().__init__(account_number, balance)\n",
    "        self.interest_rate = interest_rate\n",
    "        \n",
    "    # Method to display savings account information\n",
    "    def display_savings_account_info(self):\n",
    "        # Call the display_bank_account_info method from the base class to display basic account info\n",
    "        super().display_bank_account_info()\n",
    "        print(f\"Interest Rate: {self.interest_rate}%\")\n",
    "\n",
    "# Create an instance of the SavingsAccount class with the provided information\n",
    "savings_account = SavingsAccount(101, 20000, 7.8)\n",
    "\n",
    "# Call the display_savings_account_info method on the savings_account object to display account details\n",
    "savings_account.display_savings_account_info()"
   ]
  },
  {
   "cell_type": "code",
   "execution_count": 14,
   "id": "e8855bee",
   "metadata": {},
   "outputs": [
    {
     "name": "stdout",
     "output_type": "stream",
     "text": [
      "Name: Buddy\n",
      "Species: Dog\n",
      "Breed: Golden Retriever\n"
     ]
    }
   ],
   "source": [
    "# Define a base class called Animal\n",
    "class Animal:\n",
    "\n",
    "    # Constructor method to initialize name and species attributes\n",
    "    def __init__(self, name, species):\n",
    "        self.name = name\n",
    "        self.species = species\n",
    "\n",
    "    # Method to show details of the animal\n",
    "    def show_details(self):\n",
    "        print(f\"Name: {self.name}\")\n",
    "        print(f\"Species: {self.species}\")\n",
    "\n",
    "# Define a subclass called Dog that inherits from Animal\n",
    "class Dog(Animal):\n",
    "   \n",
    "    # Constructor method for Dog, which also initializes the breed attribute\n",
    "    def __init__(self, name, species, breed):\n",
    "        # Call the constructor of the base class (Animal) using super()\n",
    "        super().__init__(name, species)\n",
    "        self.breed = breed\n",
    "    \n",
    "    # Override the show_details method to include breed information\n",
    "    def show_details(self):\n",
    "        # Call the show_details method from the base class to display basic animal details\n",
    "        super().show_details()\n",
    "        print(f\"Breed: {self.breed}\")\n",
    "\n",
    "# Create an instance of the Dog class with the provided information\n",
    "dog_obj = Dog(\"Buddy\", \"Dog\", \"Golden Retriever\")\n",
    "\n",
    "# Call the show_details method on the dog_obj to display the animal's details, including breed\n",
    "dog_obj.show_details()"
   ]
  }
 ],
 "metadata": {
  "kernelspec": {
   "display_name": "Python 3 (ipykernel)",
   "language": "python",
   "name": "python3"
  },
  "language_info": {
   "codemirror_mode": {
    "name": "ipython",
    "version": 3
   },
   "file_extension": ".py",
   "mimetype": "text/x-python",
   "name": "python",
   "nbconvert_exporter": "python",
   "pygments_lexer": "ipython3",
   "version": "3.10.9"
  }
 },
 "nbformat": 4,
 "nbformat_minor": 5
}

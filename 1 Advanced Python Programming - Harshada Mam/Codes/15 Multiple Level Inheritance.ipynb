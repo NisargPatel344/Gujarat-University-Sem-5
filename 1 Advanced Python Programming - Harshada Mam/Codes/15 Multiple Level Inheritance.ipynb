{
 "cells": [
  {
   "cell_type": "code",
   "execution_count": 3,
   "id": "3854f4c8",
   "metadata": {},
   "outputs": [
    {
     "name": "stdout",
     "output_type": "stream",
     "text": [
      "Nisarg\n",
      "Kathak\n"
     ]
    }
   ],
   "source": [
    "class Employee:\n",
    "    def __init__(self,name):\n",
    "        self.name = name\n",
    "class Dancer:\n",
    "    def __init__(self,dance):\n",
    "        self.dance = dance\n",
    "\n",
    "class DancerEmployee(Employee,Dancer):\n",
    "    def __init__(self,name,dance):\n",
    "        self.name = name\n",
    "        self.dance = dance\n",
    "        \n",
    "obj = DancerEmployee(\"Nisarg\",\"Kathak\")\n",
    "print(obj.name)\n",
    "print(obj.dance)"
   ]
  },
  {
   "cell_type": "code",
   "execution_count": 3,
   "id": "fd4d8d53",
   "metadata": {},
   "outputs": [
    {
     "name": "stdout",
     "output_type": "stream",
     "text": [
      "Name: Nisarg\n",
      "Age: 21\n",
      "Street: bodakdev\n",
      "City: gujarat\n"
     ]
    }
   ],
   "source": [
    "class Person:\n",
    "    \n",
    "    def __init__(self, name, age):\n",
    "        self.name = name\n",
    "        self.age = age\n",
    "\n",
    "    def show_details(self):\n",
    "        print(f\"Name: {self.name}\")\n",
    "        print(f\"Age: {self.age}\")\n",
    "\n",
    "class Address:\n",
    "\n",
    "    def __init__(self, street, city):\n",
    "        self.street = street\n",
    "        self.city = city\n",
    "\n",
    "    def show_address(self):\n",
    "        print(f\"Street: {self.street}\")\n",
    "        print(f\"City: {self.city}\")\n",
    "\n",
    "class Contact(Person, Address):\n",
    "   \n",
    "    def __init__(self, name, age, street, city):\n",
    "        Person.__init__(self, name, age)  \n",
    "        Address.__init__(self, street, city)\n",
    "    \n",
    "    def show_contact(self):\n",
    "        super().show_details()  \n",
    "        super().show_address()\n",
    "\n",
    "contact = Contact(\"Nisarg\",21,\"bodakdev\",\"gujarat\")   \n",
    "contact.show_contact()"
   ]
  },
  {
   "cell_type": "code",
   "execution_count": null,
   "id": "a37f6a1b",
   "metadata": {},
   "outputs": [],
   "source": []
  }
 ],
 "metadata": {
  "kernelspec": {
   "display_name": "Python 3 (ipykernel)",
   "language": "python",
   "name": "python3"
  },
  "language_info": {
   "codemirror_mode": {
    "name": "ipython",
    "version": 3
   },
   "file_extension": ".py",
   "mimetype": "text/x-python",
   "name": "python",
   "nbconvert_exporter": "python",
   "pygments_lexer": "ipython3",
   "version": "3.10.9"
  }
 },
 "nbformat": 4,
 "nbformat_minor": 5
}

{
 "cells": [
  {
   "cell_type": "markdown",
   "id": "f113468a",
   "metadata": {},
   "source": [
    "# Method Overriding\n",
    "- Method overriding is a feature in OOP that allows a subclass to provide a specific implementation of a method that is already defined in its superclass. \n",
    "- When a subclass defines a method with the same name, return type, and parameters as a method in its superclass, it is said to override the superclass method. \n",
    "- This allows the subclass to provide its own specialized behavior while still adhering to the method signature of the superclass.\n",
    "\n",
    "## Key points about method overriding:\n",
    "\n",
    "- The method in the subclass must have the same name, return type, and parameter list as the method in the superclass.\n",
    "- The overridden method in the subclass should provide a specialized implementation.\n",
    "- Method overriding is used to achieve runtime polymorphism, where the appropriate method to be called is determined at runtime based on the object's actual type."
   ]
  },
  {
   "cell_type": "code",
   "execution_count": 1,
   "id": "297f000d",
   "metadata": {},
   "outputs": [
    {
     "name": "stdout",
     "output_type": "stream",
     "text": [
      "Inside Parent\n",
      "Inside Child\n"
     ]
    }
   ],
   "source": [
    "# Defining parent class\n",
    "class Parent():\n",
    "      \n",
    "    # Constructor\n",
    "    def __init__(self):\n",
    "        self.value = \"Inside Parent\"\n",
    "          \n",
    "    # Parent's show method\n",
    "    def show(self):\n",
    "        print(self.value)\n",
    "          \n",
    "# Defining child class\n",
    "class Child(Parent):\n",
    "      \n",
    "    # Constructor\n",
    "    def __init__(self):\n",
    "        self.value = \"Inside Child\"\n",
    "          \n",
    "    # Child's show method\n",
    "    def show(self):\n",
    "        print(self.value)\n",
    "          \n",
    "obj1 = Parent()\n",
    "obj2 = Child()\n",
    "  \n",
    "obj1.show()\n",
    "obj2.show()"
   ]
  },
  {
   "cell_type": "code",
   "execution_count": 2,
   "id": "a68033d8",
   "metadata": {},
   "outputs": [
    {
     "name": "stdout",
     "output_type": "stream",
     "text": [
      "Maharashtra having 1576 number of pincode\n",
      "Gujarat having 1018 number of pincode\n"
     ]
    }
   ],
   "source": [
    "class State:\n",
    "    def pincode(self):\n",
    "        print(\"State having PinCode\")\n",
    "\n",
    "class Maharshtra(State):\n",
    "    def pincode(self):\n",
    "        print(\"Maharashtra having 1576 number of pincode\")\n",
    "\n",
    "class Gujarat(State):\n",
    "    def pincode(self):\n",
    "        print(\"Gujarat having 1018 number of pincode\")\n",
    "        \n",
    "MH = Maharshtra()\n",
    "MH.pincode()\n",
    "\n",
    "GJ = Gujarat()\n",
    "GJ.pincode()"
   ]
  }
 ],
 "metadata": {
  "kernelspec": {
   "display_name": "Python 3 (ipykernel)",
   "language": "python",
   "name": "python3"
  },
  "language_info": {
   "codemirror_mode": {
    "name": "ipython",
    "version": 3
   },
   "file_extension": ".py",
   "mimetype": "text/x-python",
   "name": "python",
   "nbconvert_exporter": "python",
   "pygments_lexer": "ipython3",
   "version": "3.10.9"
  }
 },
 "nbformat": 4,
 "nbformat_minor": 5
}

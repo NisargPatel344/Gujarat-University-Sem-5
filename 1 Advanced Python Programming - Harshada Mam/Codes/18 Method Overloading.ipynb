{
 "cells": [
  {
   "cell_type": "markdown",
   "id": "cb13d6e9",
   "metadata": {},
   "source": [
    "# Method Overloading\n",
    "\n",
    "- Two or more methods have the same name but different numbers of parameters or different types of parameters, or both. \n",
    "\n",
    "- These methods are called overloaded methods and this is called method overloading. \n",
    "\n",
    "## Key points about method overloading:\n",
    "\n",
    "- Methods with the same name but different parameter lists are defined in the same class.\n",
    "- The method to be called is determined based on the number and types of arguments provided during the method call.\n",
    "- Python does not support traditional method overloading with multiple method definitions in the same class, as Python uses dynamic typing."
   ]
  },
  {
   "cell_type": "code",
   "execution_count": 3,
   "id": "331f8347",
   "metadata": {},
   "outputs": [
    {
     "name": "stdout",
     "output_type": "stream",
     "text": [
      "No arguments\n",
      "One argument: 1\n",
      "Multiple arguments: (1, 2, 3)\n"
     ]
    }
   ],
   "source": [
    "class MyClass:\n",
    "    def my_method(self, *args):\n",
    "        if len(args) == 0:\n",
    "            # No arguments provided\n",
    "            print(\"No arguments\")\n",
    "        elif len(args) == 1:\n",
    "            # One argument provided\n",
    "            print(\"One argument:\", args[0])\n",
    "        else:\n",
    "            # Multiple arguments provided\n",
    "            print(\"Multiple arguments:\", args)\n",
    "\n",
    "# Creating an instance of the class\n",
    "obj = MyClass()\n",
    "\n",
    "# Calling the method with different argument counts\n",
    "obj.my_method()\n",
    "obj.my_method(1)\n",
    "obj.my_method(1, 2, 3)"
   ]
  }
 ],
 "metadata": {
  "kernelspec": {
   "display_name": "Python 3 (ipykernel)",
   "language": "python",
   "name": "python3"
  },
  "language_info": {
   "codemirror_mode": {
    "name": "ipython",
    "version": 3
   },
   "file_extension": ".py",
   "mimetype": "text/x-python",
   "name": "python",
   "nbconvert_exporter": "python",
   "pygments_lexer": "ipython3",
   "version": "3.10.9"
  }
 },
 "nbformat": 4,
 "nbformat_minor": 5
}

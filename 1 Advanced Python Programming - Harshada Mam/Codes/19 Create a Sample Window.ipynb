{
 "cells": [
  {
   "cell_type": "code",
   "execution_count": 1,
   "id": "e5290f0f",
   "metadata": {},
   "outputs": [],
   "source": [
    "# Import the tkinter library, which is used for creating GUI applications.\n",
    "from tkinter import *\n",
    "\n",
    "# Create a tkinter root window.\n",
    "root = Tk() \n",
    "\n",
    "# Set the initial dimensions of the window to 733x434 pixels.\n",
    "root.geometry(\"700x350\")\n",
    "\n",
    "# Set the minimum size of the window to 200x100 pixels.\n",
    "root.minsize(200, 100)\n",
    "\n",
    "# Set the maximum size of the window to 1200x900 pixels.\n",
    "root.maxsize(1200, 900)\n",
    "\n",
    "# Create a Label widget with the text \"Tkinter is easy.\"\n",
    "x = Label(text=\"Tkinter is easy\")\n",
    "\n",
    "# Pack the Label widget into the root window.\n",
    "x.pack() \n",
    "\n",
    "# Start the tkinter event loop to display the window and handle user interactions.\n",
    "root.mainloop()"
   ]
  },
  {
   "cell_type": "code",
   "execution_count": null,
   "id": "46a65164",
   "metadata": {},
   "outputs": [],
   "source": []
  }
 ],
 "metadata": {
  "kernelspec": {
   "display_name": "Python 3 (ipykernel)",
   "language": "python",
   "name": "python3"
  },
  "language_info": {
   "codemirror_mode": {
    "name": "ipython",
    "version": 3
   },
   "file_extension": ".py",
   "mimetype": "text/x-python",
   "name": "python",
   "nbconvert_exporter": "python",
   "pygments_lexer": "ipython3",
   "version": "3.10.9"
  }
 },
 "nbformat": 4,
 "nbformat_minor": 5
}

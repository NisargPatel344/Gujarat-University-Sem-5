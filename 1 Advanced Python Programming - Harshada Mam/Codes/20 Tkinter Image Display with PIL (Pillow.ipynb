{
 "cells": [
  {
   "cell_type": "code",
   "execution_count": 1,
   "id": "b5034906",
   "metadata": {},
   "outputs": [],
   "source": [
    "# Import the tkinter library for GUI creation.\n",
    "from tkinter import *\n",
    "\n",
    "# Import the required modules from the PIL (Pillow) library for image processing.\n",
    "from PIL import Image, ImageTk\n",
    "\n",
    "# Create a tkinter root window.\n",
    "root = Tk()\n",
    "\n",
    "# Set the initial dimensions of the window to 455x244 pixels.\n",
    "root.geometry(\"5237x2917\")\n",
    "\n",
    "# Comment explaining the next lines:\n",
    "# Load an image from the file \"ss2.jpg\" using Pillow (PIL).\n",
    "image = Image.open(\"ironman.jpg\")\n",
    "\n",
    "# Convert the loaded image to a PhotoImage object that tkinter can display.\n",
    "photo = ImageTk.PhotoImage(image)\n",
    "\n",
    "# Comment explaining the next lines:\n",
    "# Create a Label widget and display the loaded image in it.\n",
    "lable = Label(image=photo)\n",
    "lable.pack()\n",
    "\n",
    "# Start the tkinter event loop to display the window and handle user interactions.\n",
    "root.mainloop()\n"
   ]
  },
  {
   "cell_type": "code",
   "execution_count": null,
   "id": "a583c74f",
   "metadata": {},
   "outputs": [],
   "source": []
  }
 ],
 "metadata": {
  "kernelspec": {
   "display_name": "Python 3 (ipykernel)",
   "language": "python",
   "name": "python3"
  },
  "language_info": {
   "codemirror_mode": {
    "name": "ipython",
    "version": 3
   },
   "file_extension": ".py",
   "mimetype": "text/x-python",
   "name": "python",
   "nbconvert_exporter": "python",
   "pygments_lexer": "ipython3",
   "version": "3.10.9"
  }
 },
 "nbformat": 4,
 "nbformat_minor": 5
}

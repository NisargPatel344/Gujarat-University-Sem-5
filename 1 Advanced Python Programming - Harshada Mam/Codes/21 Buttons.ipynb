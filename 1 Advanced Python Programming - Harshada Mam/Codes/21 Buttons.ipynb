{
 "cells": [
  {
   "cell_type": "code",
   "execution_count": 1,
   "id": "23b891fe",
   "metadata": {},
   "outputs": [],
   "source": [
    "# Import the tkinter library, which is used to create graphical user interfaces (GUIs)\n",
    "from tkinter import *\n",
    "\n",
    "# Create a Tkinter root window\n",
    "root = Tk()\n",
    "\n",
    "# Create a frame widget to hold the buttons\n",
    "fm = Frame(root)\n",
    "\n",
    "# Pack the frame widget into the root window\n",
    "fm.pack()\n",
    "\n",
    "# Create and pack three buttons with different text and foreground colors\n",
    "Button(fm, text=\"Button1\", fg=\"red\").pack()\n",
    "Button(fm, text=\"Button2\", fg=\"green\").pack()\n",
    "Button(fm, text=\"Button3\", fg=\"blue\").pack()\n",
    "\n",
    "# Start the main event loop to display the GUI and handle user interactions\n",
    "root.mainloop()"
   ]
  },
  {
   "cell_type": "code",
   "execution_count": 4,
   "id": "8fff431c",
   "metadata": {},
   "outputs": [],
   "source": [
    "# Import the tkinter library, which is used to create graphical user interfaces (GUIs)\n",
    "from tkinter import *\n",
    "\n",
    "# Create a Tkinter root window\n",
    "root = Tk()\n",
    "\n",
    "# Create a frame widget to hold the buttons\n",
    "fm = Frame(root)\n",
    "\n",
    "# Pack the frame widget into the root window and fill it both horizontally and vertically\n",
    "fm.pack(fill=BOTH)\n",
    "\n",
    "# Create and pack three buttons with different text and foreground colors\n",
    "Button(fm, text=\"Button1\", fg=\"red\").pack(side=TOP)\n",
    "\n",
    "# Pack Button2 to the left side of the frame\n",
    "Button(fm, text=\"Button2\", fg=\"green\").pack(side=LEFT)\n",
    "\n",
    "# Pack Button3 to the right side of the frame\n",
    "Button(fm, text=\"Button3\", fg=\"blue\").pack(side=RIGHT)\n",
    "\n",
    "# Start the main event loop to display the GUI and handle user interactions\n",
    "root.mainloop()"
   ]
  }
 ],
 "metadata": {
  "kernelspec": {
   "display_name": "Python 3 (ipykernel)",
   "language": "python",
   "name": "python3"
  },
  "language_info": {
   "codemirror_mode": {
    "name": "ipython",
    "version": 3
   },
   "file_extension": ".py",
   "mimetype": "text/x-python",
   "name": "python",
   "nbconvert_exporter": "python",
   "pygments_lexer": "ipython3",
   "version": "3.10.9"
  }
 },
 "nbformat": 4,
 "nbformat_minor": 5
}

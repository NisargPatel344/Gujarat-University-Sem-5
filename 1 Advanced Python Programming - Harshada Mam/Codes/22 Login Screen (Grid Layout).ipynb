{
 "cells": [
  {
   "cell_type": "code",
   "execution_count": 1,
   "id": "31131ddf",
   "metadata": {},
   "outputs": [],
   "source": [
    "# Import the tkinter library, which is used to create graphical user interfaces (GUIs)\n",
    "from tkinter import *\n",
    "\n",
    "# Create a Tkinter root window\n",
    "root = Tk()\n",
    "\n",
    "# Create labels for \"User Name\" and \"Password\" and place them in rows 0 and 1 respectively\n",
    "label_1 = Label(root, text=\"User Name\")\n",
    "label_2 = Label(root, text=\"Password\")\n",
    "label_1.grid(row=0)\n",
    "label_2.grid(row=1)\n",
    "\n",
    "# Create entry widgets (text input fields) and place them in rows 0 and 1, column 1\n",
    "entry_1 = Entry(root)\n",
    "entry_2 = Entry(root)\n",
    "entry_1.grid(row=0, column=1)\n",
    "entry_2.grid(row=1, column=1)\n",
    "\n",
    "# Start the main event loop to display the GUI and handle user interactions\n",
    "root.mainloop()"
   ]
  },
  {
   "cell_type": "code",
   "execution_count": 3,
   "id": "28050abf",
   "metadata": {},
   "outputs": [],
   "source": [
    "# Import the tkinter library, which is used to create graphical user interfaces (GUIs)\n",
    "from tkinter import *\n",
    "\n",
    "# Create a Tkinter root window\n",
    "root = Tk()\n",
    "\n",
    "# Title for the window\n",
    "root.title(\"Login\")\n",
    "\n",
    "# Create labels for \"User Name\" and \"Password\" and place them in rows 0 and 1 respectively\n",
    "Label_1 = Label(root, text=\"User Name\")\n",
    "Label_2 = Label(root, text=\"Password\")\n",
    "Label_1.grid(row=0)\n",
    "Label_2.grid(row=1)\n",
    "\n",
    "# Create entry widgets (text input fields) and place them in rows 0 and 1, column 1\n",
    "entry_1 = Entry(root)\n",
    "entry_2 = Entry(root)\n",
    "entry_1.grid(row=0, column=1)\n",
    "entry_2.grid(row=1, column=1)\n",
    "\n",
    "# Create \"Sign in\" and \"Sign up\" buttons and place them in row 4 and column 0 and 2 respectively\n",
    "Button_2 = Button(root, text=\"Sign in\")\n",
    "Button_3 = Button(root, text=\"Sign up\")\n",
    "Button_2.grid(row=4, column=0)\n",
    "Button_3.grid(row=4, column=2)\n",
    "\n",
    "# Start the main event loop to display the GUI and handle user interactions\n",
    "root.mainloop()"
   ]
  },
  {
   "cell_type": "code",
   "execution_count": null,
   "id": "d73ac715",
   "metadata": {},
   "outputs": [],
   "source": []
  }
 ],
 "metadata": {
  "kernelspec": {
   "display_name": "Python 3 (ipykernel)",
   "language": "python",
   "name": "python3"
  },
  "language_info": {
   "codemirror_mode": {
    "name": "ipython",
    "version": 3
   },
   "file_extension": ".py",
   "mimetype": "text/x-python",
   "name": "python",
   "nbconvert_exporter": "python",
   "pygments_lexer": "ipython3",
   "version": "3.10.9"
  }
 },
 "nbformat": 4,
 "nbformat_minor": 5
}

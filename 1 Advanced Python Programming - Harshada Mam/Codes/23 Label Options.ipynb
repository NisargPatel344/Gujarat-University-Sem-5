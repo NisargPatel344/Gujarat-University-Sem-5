{
 "cells": [
  {
   "cell_type": "markdown",
   "id": "5b78e433",
   "metadata": {},
   "source": [
    "# Label options\n",
    "\n",
    "1. text - Adds the text content to the Label.\n",
    "2. bg - Sets the background color of the Label.\n",
    "3. fg - Sets the foreground (text) color of the Label.\n",
    "4. font - Specifies the font for the Label's text.\n",
    "5. padx - Adds horizontal (x-axis) padding around the Label's text.\n",
    "6. pady - Adds vertical (y-axis) padding around the Label's text.\n",
    "7. relief - Defines the border styling for the Label, with options like SUNKEN, RAISED, GROOVE, and RIDGE."
   ]
  },
  {
   "cell_type": "markdown",
   "id": "83758b36",
   "metadata": {},
   "source": [
    "### Example 1: Setting Text and Background Color"
   ]
  },
  {
   "cell_type": "code",
   "execution_count": 1,
   "id": "c2b73494",
   "metadata": {},
   "outputs": [],
   "source": [
    "from tkinter import *\n",
    "\n",
    "root = Tk()\n",
    "\n",
    "# Create a Label with text and a background color\n",
    "label = Label(root, text=\"Hello, World!\", bg=\"lightblue\")\n",
    "label.pack()\n",
    "\n",
    "root.mainloop()"
   ]
  },
  {
   "cell_type": "markdown",
   "id": "33717bb5",
   "metadata": {},
   "source": [
    "### Example 2: Setting Text and Foreground (Text) Color"
   ]
  },
  {
   "cell_type": "code",
   "execution_count": 2,
   "id": "ea7fee58",
   "metadata": {},
   "outputs": [],
   "source": [
    "from tkinter import *\n",
    "\n",
    "root = Tk()\n",
    "\n",
    "# Create a Label with text and foreground color\n",
    "label = Label(root, text=\"Custom Text Color\", fg=\"red\")\n",
    "label.pack()\n",
    "\n",
    "root.mainloop()"
   ]
  },
  {
   "cell_type": "markdown",
   "id": "0bd96a73",
   "metadata": {},
   "source": [
    "### Example 3: Setting Custom Font"
   ]
  },
  {
   "cell_type": "code",
   "execution_count": 3,
   "id": "c530a7bb",
   "metadata": {},
   "outputs": [],
   "source": [
    "from tkinter import *\n",
    "from tkinter import font\n",
    "\n",
    "root = Tk()\n",
    "\n",
    "# Create a custom font\n",
    "custom_font = font.Font(family=\"Poppins\", size=16, weight=\"bold\")\n",
    "\n",
    "# Create a Label with custom font\n",
    "label = Label(root, text=\"Custom Font\", font=custom_font)\n",
    "label.pack()\n",
    "\n",
    "root.mainloop()"
   ]
  },
  {
   "cell_type": "markdown",
   "id": "2ed6e6e2",
   "metadata": {},
   "source": [
    "### Example 4: Adding Padding (Horizontal and Vertical)"
   ]
  },
  {
   "cell_type": "code",
   "execution_count": 4,
   "id": "6ce17ae8",
   "metadata": {},
   "outputs": [],
   "source": [
    "from tkinter import *\n",
    "\n",
    "root = Tk()\n",
    "\n",
    "# Create a Label with horizontal and vertical padding\n",
    "label = Label(root, text=\"Padded Label\", padx=20, pady=200)\n",
    "label.pack()\n",
    "\n",
    "root.mainloop()"
   ]
  },
  {
   "cell_type": "markdown",
   "id": "4ae73485",
   "metadata": {},
   "source": [
    "### Example 5: Setting Border Relief Style"
   ]
  },
  {
   "cell_type": "code",
   "execution_count": 5,
   "id": "85381f1a",
   "metadata": {},
   "outputs": [],
   "source": [
    "from tkinter import *\n",
    "\n",
    "root = Tk()\n",
    "\n",
    "# Create Labels with different relief styles\n",
    "label1 = Label(root, text=\"SUNKEN Relief\", relief=\"sunken\")\n",
    "label2 = Label(root, text=\"RAISED Relief\", relief=\"raised\")\n",
    "label3 = Label(root, text=\"GROOVE Relief\", relief=\"groove\")\n",
    "label4 = Label(root, text=\"RIDGE Relief\", relief=\"ridge\")\n",
    "\n",
    "label1.pack()\n",
    "label2.pack()\n",
    "label3.pack()\n",
    "label4.pack()\n",
    "\n",
    "root.mainloop()"
   ]
  },
  {
   "cell_type": "code",
   "execution_count": null,
   "id": "3a6eede7",
   "metadata": {},
   "outputs": [],
   "source": []
  }
 ],
 "metadata": {
  "kernelspec": {
   "display_name": "Python 3 (ipykernel)",
   "language": "python",
   "name": "python3"
  },
  "language_info": {
   "codemirror_mode": {
    "name": "ipython",
    "version": 3
   },
   "file_extension": ".py",
   "mimetype": "text/x-python",
   "name": "python",
   "nbconvert_exporter": "python",
   "pygments_lexer": "ipython3",
   "version": "3.10.9"
  }
 },
 "nbformat": 4,
 "nbformat_minor": 5
}

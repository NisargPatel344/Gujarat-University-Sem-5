{
 "cells": [
  {
   "cell_type": "markdown",
   "id": "684a5eed",
   "metadata": {},
   "source": [
    "# Using side to Position Widgets:"
   ]
  },
  {
   "cell_type": "markdown",
   "id": "6920d2e3",
   "metadata": {},
   "source": [
    "### side=\"top\": Widgets are stacked vertically from top to bottom."
   ]
  },
  {
   "cell_type": "code",
   "execution_count": 1,
   "id": "3b2731c2",
   "metadata": {},
   "outputs": [],
   "source": [
    "from tkinter import *\n",
    "\n",
    "root = Tk()\n",
    "\n",
    "label1 = Label(root, text=\"Top\", bg=\"lightblue\")\n",
    "label1.pack(side=\"top\")\n",
    "\n",
    "label2 = Label(root, text=\"Middle\", bg=\"lightgreen\")\n",
    "label2.pack(side=\"top\")\n",
    "\n",
    "label3 = Label(root, text=\"Bottom\", bg=\"lightyellow\")\n",
    "label3.pack(side=\"top\")\n",
    "\n",
    "root.mainloop()"
   ]
  },
  {
   "cell_type": "markdown",
   "id": "e3220265",
   "metadata": {},
   "source": [
    "### side=\"bottom\": Widgets are stacked vertically from bottom to top."
   ]
  },
  {
   "cell_type": "code",
   "execution_count": 2,
   "id": "225fce8b",
   "metadata": {},
   "outputs": [],
   "source": [
    "from tkinter import *\n",
    "\n",
    "root = Tk()\n",
    "\n",
    "label1 = Label(root, text=\"Top\", bg=\"lightblue\")\n",
    "label1.pack(side=\"bottom\")\n",
    "\n",
    "label2 = Label(root, text=\"Middle\", bg=\"lightgreen\")\n",
    "label2.pack(side=\"bottom\")\n",
    "\n",
    "label3 = Label(root, text=\"Bottom\", bg=\"lightyellow\")\n",
    "label3.pack(side=\"bottom\")\n",
    "\n",
    "root.mainloop()"
   ]
  },
  {
   "cell_type": "markdown",
   "id": "04b22a46",
   "metadata": {},
   "source": [
    "### side=\"right\": Widgets are arranged horizontally from left to right."
   ]
  },
  {
   "cell_type": "code",
   "execution_count": 3,
   "id": "6898eb7f",
   "metadata": {},
   "outputs": [],
   "source": [
    "from tkinter import *\n",
    "\n",
    "root = Tk()\n",
    "\n",
    "label1 = Label(root, text=\"Left\", bg=\"lightblue\")\n",
    "label1.pack(side=\"right\")\n",
    "\n",
    "label2 = Label(root, text=\"Middle\", bg=\"lightgreen\")\n",
    "label2.pack(side=\"right\")\n",
    "\n",
    "label3 = Label(root, text=\"Right\", bg=\"lightyellow\")\n",
    "label3.pack(side=\"right\")\n",
    "\n",
    "root.mainloop()"
   ]
  },
  {
   "cell_type": "markdown",
   "id": "328a991f",
   "metadata": {},
   "source": [
    "### side=\"left\": Widgets are arranged horizontally from right to left."
   ]
  },
  {
   "cell_type": "code",
   "execution_count": 4,
   "id": "77ff481c",
   "metadata": {},
   "outputs": [],
   "source": [
    "from tkinter import *\n",
    "\n",
    "root = Tk()\n",
    "\n",
    "label1 = Label(root, text=\"Left\", bg=\"lightblue\")\n",
    "label1.pack(side=\"left\")\n",
    "\n",
    "label2 = Label(root, text=\"Middle\", bg=\"lightgreen\")\n",
    "label2.pack(side=\"left\")\n",
    "\n",
    "label3 = Label(root, text=\"Right\", bg=\"lightyellow\")\n",
    "label3.pack(side=\"left\")\n",
    "\n",
    "root.mainloop()"
   ]
  },
  {
   "cell_type": "markdown",
   "id": "263b451d",
   "metadata": {},
   "source": [
    "# Using anchor to Control Widget Alignment:"
   ]
  },
  {
   "cell_type": "markdown",
   "id": "889502f4",
   "metadata": {},
   "source": [
    "### anchor=\"ne\": Widgets are anchored to the top-right corner."
   ]
  },
  {
   "cell_type": "code",
   "execution_count": 5,
   "id": "0244c394",
   "metadata": {},
   "outputs": [],
   "source": [
    "from tkinter import *\n",
    "\n",
    "root = Tk()\n",
    "\n",
    "label1 = Label(root, text=\"Top-Right\", bg=\"lightblue\")\n",
    "label1.pack(anchor=\"ne\")\n",
    "\n",
    "label2 = Label(root, text=\"Middle\", bg=\"lightgreen\")\n",
    "label2.pack()\n",
    "\n",
    "label3 = Label(root, text=\"Bottom-Left\", bg=\"lightyellow\")\n",
    "label3.pack(anchor=\"sw\")\n",
    "\n",
    "root.mainloop()"
   ]
  },
  {
   "cell_type": "markdown",
   "id": "8b516569",
   "metadata": {},
   "source": [
    "## anchor=\"nw\": Widgets are anchored to the top-left corner."
   ]
  },
  {
   "cell_type": "code",
   "execution_count": 6,
   "id": "eec42dff",
   "metadata": {},
   "outputs": [],
   "source": [
    "from tkinter import *\n",
    "\n",
    "root = Tk()\n",
    "\n",
    "label1 = Label(root, text=\"Top-Left\", bg=\"lightblue\")\n",
    "label1.pack(anchor=\"nw\")\n",
    "\n",
    "label2 = Label(root, text=\"Middle\", bg=\"lightgreen\")\n",
    "label2.pack()\n",
    "\n",
    "label3 = Label(root, text=\"Bottom-Right\", bg=\"lightyellow\")\n",
    "label3.pack(anchor=\"se\")\n",
    "\n",
    "root.mainloop()"
   ]
  },
  {
   "cell_type": "markdown",
   "id": "bbc35d07",
   "metadata": {},
   "source": [
    "### anchor=\"se\": Widgets are anchored to the bottom-right corner."
   ]
  },
  {
   "cell_type": "code",
   "execution_count": 7,
   "id": "f33aab84",
   "metadata": {},
   "outputs": [],
   "source": [
    "from tkinter import *\n",
    "\n",
    "root = Tk()\n",
    "\n",
    "label1 = Label(root, text=\"Top-Right\", bg=\"lightblue\")\n",
    "label1.pack()\n",
    "\n",
    "label2 = Label(root, text=\"Middle\", bg=\"lightgreen\")\n",
    "label2.pack()\n",
    "\n",
    "label3 = Label(root, text=\"Bottom-Left\", bg=\"lightyellow\")\n",
    "label3.pack(anchor=\"se\")\n",
    "\n",
    "root.mainloop()"
   ]
  },
  {
   "cell_type": "markdown",
   "id": "61e01eb4",
   "metadata": {},
   "source": [
    "### anchor=\"sw\": Widgets are anchored to the bottom-left corner."
   ]
  },
  {
   "cell_type": "code",
   "execution_count": 8,
   "id": "85daaccf",
   "metadata": {},
   "outputs": [],
   "source": [
    "from tkinter import *\n",
    "\n",
    "root = Tk()\n",
    "\n",
    "label1 = Label(root, text=\"Top-Right\", bg=\"lightblue\")\n",
    "label1.pack()\n",
    "\n",
    "label2 = Label(root, text=\"Middle\", bg=\"lightgreen\")\n",
    "label2.pack()\n",
    "\n",
    "label3 = Label(root, text=\"Bottom-Left\", bg=\"lightyellow\")\n",
    "label3.pack(anchor=\"sw\")\n",
    "\n",
    "root.mainloop()"
   ]
  },
  {
   "cell_type": "markdown",
   "id": "dcd443a9",
   "metadata": {},
   "source": [
    "# Combined Example"
   ]
  },
  {
   "cell_type": "code",
   "execution_count": 9,
   "id": "ed53576e",
   "metadata": {},
   "outputs": [],
   "source": [
    "from tkinter import *\n",
    "\n",
    "root = Tk()\n",
    "root.geometry('400x300')\n",
    "root.title(\"Side and Anchor Example\")\n",
    "\n",
    "# Create a frame for organization\n",
    "frame = Frame(root)\n",
    "frame.pack(fill=\"both\", expand=True, padx=10, pady=10)\n",
    "\n",
    "# Label 1 - top-left corner (anchor=\"nw\")\n",
    "label1 = Label(frame, text=\"Top-Left\", bg=\"lightblue\")\n",
    "label1.pack(side=\"top\", anchor=\"nw\", padx=10, pady=10)\n",
    "\n",
    "# Label 2 - top-right corner (anchor=\"ne\")\n",
    "label2 = Label(frame, text=\"Top-Right\", bg=\"lightgreen\")\n",
    "label2.pack(side=\"top\", anchor=\"ne\", padx=10, pady=10)\n",
    "\n",
    "# Label 3 - bottom-left corner (anchor=\"sw\")\n",
    "label3 = Label(frame, text=\"Bottom-Left\", bg=\"lightyellow\")\n",
    "label3.pack(side=\"bottom\", anchor=\"sw\", padx=10, pady=10)\n",
    "\n",
    "# Label 4 - bottom-right corner (anchor=\"se\")\n",
    "label4 = Label(frame, text=\"Bottom-Right\", bg=\"lightcoral\")\n",
    "label4.pack(side=\"bottom\", anchor=\"se\", padx=10, pady=10)\n",
    "\n",
    "# Label 5 - center (no anchor)\n",
    "label5 = Label(frame, text=\"Center\", bg=\"lightpink\")\n",
    "label5.pack(side=\"left\", fill=\"both\", expand=True, padx=10, pady=10)\n",
    "\n",
    "root.mainloop()"
   ]
  }
 ],
 "metadata": {
  "kernelspec": {
   "display_name": "Python 3 (ipykernel)",
   "language": "python",
   "name": "python3"
  },
  "language_info": {
   "codemirror_mode": {
    "name": "ipython",
    "version": 3
   },
   "file_extension": ".py",
   "mimetype": "text/x-python",
   "name": "python",
   "nbconvert_exporter": "python",
   "pygments_lexer": "ipython3",
   "version": "3.10.9"
  }
 },
 "nbformat": 4,
 "nbformat_minor": 5
}

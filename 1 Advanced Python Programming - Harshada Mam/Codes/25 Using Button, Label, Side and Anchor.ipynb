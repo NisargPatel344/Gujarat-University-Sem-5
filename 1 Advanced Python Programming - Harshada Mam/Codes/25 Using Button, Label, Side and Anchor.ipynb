{
 "cells": [
  {
   "cell_type": "code",
   "execution_count": 1,
   "id": "d5620604",
   "metadata": {},
   "outputs": [],
   "source": [
    "# Import the tkinter library\n",
    "from tkinter import *\n",
    "\n",
    "# Create the main root window\n",
    "root = Tk()\n",
    "\n",
    "# Set the size and title of the GUI window\n",
    "root.geometry('600x380')\n",
    "root.title(\"My GUI\")\n",
    "\n",
    "# Create the first label with text, background, foreground colors, padding, font, border, and relief\n",
    "title_label_1 = Label(text='''Marvel Comics is an American comic book publisher \\n \n",
    "                        and the property of The Walt Disney Company since December 31, 2009. \\n \n",
    "                        Marvel was founded in 1939 by Martin Goodman as Timely Comics,\\n \n",
    "                        and by 1951 had generally become known as Atlas Comics.''',\n",
    "                      bg=\"yellow\", fg=\"black\", padx=50, pady=30,\n",
    "                      font=(\"arial\", 11, \"bold\"), borderwidth=5, relief=SUNKEN)\n",
    "\n",
    "# Create the second label with different text but similar styling options\n",
    "title_label_2 = Label(text='''Marvel Comics is an American comic book publisher \\n \n",
    "                        and the property of The Walt Disney Company since December 31, 2009. \\n \n",
    "                        Marvel was founded in 1939 by Martin Goodman as Timely Comics,\\n \n",
    "                        and by 1951 had generally become known as Atlas Comics.''',\n",
    "                      bg=\"yellow\", fg=\"black\", padx=50, pady=30,\n",
    "                      font=(\"arial\", 11, \"bold\"), borderwidth=5, relief=SUNKEN)\n",
    "\n",
    "# Pack the first label at the top-right corner and the second label at the bottom-left corner of the window\n",
    "title_label_1.pack(side=\"top\", anchor=\"ne\")\n",
    "title_label_2.pack(side=\"bottom\", anchor=\"nw\")\n",
    "\n",
    "# Start the tkinter main event loop\n",
    "root.mainloop()"
   ]
  },
  {
   "cell_type": "code",
   "execution_count": 2,
   "id": "9a307a43",
   "metadata": {},
   "outputs": [],
   "source": [
    "import tkinter as tk\n",
    "\n",
    "# Create the main window\n",
    "root = tk.Tk()\n",
    "root.title(\"Registration Form\")\n",
    "\n",
    "# Create labels and entry fields\n",
    "tk.Label(root, text=\"Registration Form\", font=(\"Arial\", 16)).pack(pady=(10, 20))\n",
    "tk.Label(root, text=\"Username:\", font=(\"Arial\", 12)).pack()\n",
    "username_entry = tk.Entry(root, font=(\"Arial\", 12))\n",
    "username_entry.pack()\n",
    "\n",
    "tk.Label(root, text=\"Password:\", font=(\"Arial\", 12)).pack()\n",
    "password_entry = tk.Entry(root, font=(\"Arial\", 12), show=\"*\")  # Use show=\"*\" for password input\n",
    "password_entry.pack()\n",
    "\n",
    "# Create a Register button\n",
    "register_button = tk.Button(root, text=\"Register\", font=(\"Arial\", 12))\n",
    "register_button.pack(pady=10)\n",
    "\n",
    "# Adjust the window size\n",
    "root.geometry(\"300x200\")\n",
    "root.resizable(False, False)\n",
    "\n",
    "# Start the main loop\n",
    "root.mainloop()"
   ]
  },
  {
   "cell_type": "code",
   "execution_count": null,
   "id": "43e8886a",
   "metadata": {},
   "outputs": [],
   "source": []
  }
 ],
 "metadata": {
  "kernelspec": {
   "display_name": "Python 3 (ipykernel)",
   "language": "python",
   "name": "python3"
  },
  "language_info": {
   "codemirror_mode": {
    "name": "ipython",
    "version": 3
   },
   "file_extension": ".py",
   "mimetype": "text/x-python",
   "name": "python",
   "nbconvert_exporter": "python",
   "pygments_lexer": "ipython3",
   "version": "3.10.9"
  }
 },
 "nbformat": 4,
 "nbformat_minor": 5
}

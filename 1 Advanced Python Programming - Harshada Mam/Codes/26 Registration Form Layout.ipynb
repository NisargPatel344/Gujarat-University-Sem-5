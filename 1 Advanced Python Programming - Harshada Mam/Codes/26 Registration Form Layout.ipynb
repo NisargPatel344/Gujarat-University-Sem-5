{
 "cells": [
  {
   "cell_type": "code",
   "execution_count": 1,
   "id": "89157bc2",
   "metadata": {},
   "outputs": [],
   "source": [
    "from tkinter import *\n",
    "root = Tk()\n",
    "\n",
    "root.geometry(\"400x400\")\n",
    "root.title(\"My GUI\")\n",
    "\n",
    "name = Label(root, text=\"Name\").place(x = 90, y=50) \n",
    "Email = Label(root, text=\"Email\").place(x = 90, y = 80)\n",
    "Password = Label(root, text=\"Password\").place(x = 90, y = 110)\n",
    "\n",
    "submit = Button(root, text=\"Submit\").place(x=170, y=140)\n",
    "\n",
    "entry1 = Entry(root).place(x = 170, y = 50)\n",
    "entry2 = Entry(root).place(x = 170, y = 80)\n",
    "entry3 =Entry(root).place(x = 170, y = 110)\n",
    "\n",
    "root.mainloop()"
   ]
  },
  {
   "cell_type": "code",
   "execution_count": 2,
   "id": "25560052",
   "metadata": {},
   "outputs": [],
   "source": [
    "import tkinter as tk\n",
    "\n",
    "# Create the main window\n",
    "root = Tk()\n",
    "root.title(\"Registration Form\")\n",
    "\n",
    "# Create labels and entry fields\n",
    "tk.Label(root, text=\"Registration Form\", font=(\"Poppins\", 16)).pack(pady=(10, 20))\n",
    "tk.Label(root, text=\"Username:\", font=(\"Poppins\", 9)).pack()\n",
    "username_entry = tk.Entry(root, font=(\"Poppins\", 9))\n",
    "username_entry.pack()\n",
    "\n",
    "tk.Label(root, text=\"Password:\", font=(\"Poppins\", 9)).pack()\n",
    "password_entry = tk.Entry(root, font=(\"Poppins\", 9), show=\"*\")  # Use show=\"*\" for password input\n",
    "password_entry.pack()\n",
    "\n",
    "# Create a Register button\n",
    "register_button = tk.Button(root, text=\"Register\", font=(\"Arial\", 12))\n",
    "register_button.pack(pady=10)\n",
    "\n",
    "# Adjust the window size\n",
    "root.geometry(\"300x200\")\n",
    "root.resizable(False, False)\n",
    "\n",
    "# Start the main loop\n",
    "root.mainloop()"
   ]
  },
  {
   "cell_type": "code",
   "execution_count": null,
   "id": "0b4ea964",
   "metadata": {},
   "outputs": [],
   "source": []
  }
 ],
 "metadata": {
  "kernelspec": {
   "display_name": "Python 3 (ipykernel)",
   "language": "python",
   "name": "python3"
  },
  "language_info": {
   "codemirror_mode": {
    "name": "ipython",
    "version": 3
   },
   "file_extension": ".py",
   "mimetype": "text/x-python",
   "name": "python",
   "nbconvert_exporter": "python",
   "pygments_lexer": "ipython3",
   "version": "3.10.9"
  }
 },
 "nbformat": 4,
 "nbformat_minor": 5
}

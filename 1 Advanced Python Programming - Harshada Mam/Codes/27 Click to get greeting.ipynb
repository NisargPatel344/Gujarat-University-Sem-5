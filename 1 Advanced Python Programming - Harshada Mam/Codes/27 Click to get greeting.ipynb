{
 "cells": [
  {
   "cell_type": "code",
   "execution_count": 1,
   "id": "1adfc924",
   "metadata": {},
   "outputs": [
    {
     "name": "stdout",
     "output_type": "stream",
     "text": [
      "Welcome User!\n"
     ]
    }
   ],
   "source": [
    "from tkinter import *\n",
    "\n",
    "# Create the main window\n",
    "root = Tk()\n",
    "\n",
    "# Set the initial dimensions of the window\n",
    "root.geometry(\"600x400\")\n",
    "\n",
    "# Function to print a welcome message when the button is clicked\n",
    "def greet_user():\n",
    "    print(\"Welcome User!\")\n",
    "\n",
    "# Create a frame with a red background and a border\n",
    "frame1 = Frame(root, bg=\"red\", borderwidth=10)\n",
    "frame1.pack(side=LEFT, anchor=\"nw\")\n",
    "\n",
    "# Create a button with red text and set its command to call the greet_user function\n",
    "button1 = Button(frame1, fg=\"red\", text=\"Click to Greet\", command=greet_user)\n",
    "button1.pack(side=LEFT, padx=23)\n",
    "\n",
    "# Start the tkinter event loop\n",
    "root.mainloop()"
   ]
  },
  {
   "cell_type": "code",
   "execution_count": 2,
   "id": "44313772",
   "metadata": {},
   "outputs": [
    {
     "name": "stdout",
     "output_type": "stream",
     "text": [
      "Welcome\n",
      "Welcome\n",
      "Welcome\n",
      "Welcome\n"
     ]
    }
   ],
   "source": [
    "import tkinter as tk\n",
    "\n",
    "# Function to display the \"Welcome\" message in the console\n",
    "def greet():\n",
    "    print(\"Welcome\")\n",
    "\n",
    "# Create the main window\n",
    "root = tk.Tk()\n",
    "root.title(\"Welcome Button\")\n",
    "\n",
    "# Create a frame to hold the button\n",
    "frame = tk.Frame(root)\n",
    "frame.pack(expand=True)\n",
    "\n",
    "# Create a button and add it to the frame\n",
    "button = tk.Button(frame, text=\"Click me\", command=greet)\n",
    "button.pack(pady=20)\n",
    "\n",
    "# Start the Tkinter event loop\n",
    "root.mainloop()"
   ]
  },
  {
   "cell_type": "code",
   "execution_count": null,
   "id": "cb36f1ab",
   "metadata": {},
   "outputs": [],
   "source": []
  }
 ],
 "metadata": {
  "kernelspec": {
   "display_name": "Python 3 (ipykernel)",
   "language": "python",
   "name": "python3"
  },
  "language_info": {
   "codemirror_mode": {
    "name": "ipython",
    "version": 3
   },
   "file_extension": ".py",
   "mimetype": "text/x-python",
   "name": "python",
   "nbconvert_exporter": "python",
   "pygments_lexer": "ipython3",
   "version": "3.10.9"
  }
 },
 "nbformat": 4,
 "nbformat_minor": 5
}

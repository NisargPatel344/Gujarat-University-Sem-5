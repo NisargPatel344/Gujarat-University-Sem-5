{
 "cells": [
  {
   "cell_type": "code",
   "execution_count": 1,
   "id": "40dd282a",
   "metadata": {},
   "outputs": [
    {
     "name": "stdout",
     "output_type": "stream",
     "text": [
      "My Name is 'Nisarg Patel'\n",
      "My E-mail is 'nisargpatel06082003@gmail'\n",
      "My Age is '20'\n",
      "My Hobby is 'Coding'\n"
     ]
    }
   ],
   "source": [
    "from tkinter import *\n",
    "root = Tk()\n",
    "\n",
    "# Set the dimensions of the window\n",
    "root.geometry(\"600x400\")\n",
    "\n",
    "# Set the title of the window\n",
    "root.title(\"User Info\")\n",
    "\n",
    "# Function to display the name message\n",
    "def display_name():\n",
    "    print(\"My Name is 'Nisarg Patel'\")\n",
    "\n",
    "# Function to display the email message\n",
    "def display_email():\n",
    "    print(\"My E-mail is 'nisargpatel06082003@gmail'\")\n",
    "\n",
    "# Function to display the age message\n",
    "def display_age():\n",
    "    print(\"My Age is '20'\")\n",
    "\n",
    "# Function to display the hobby message\n",
    "def display_hobby():\n",
    "    print(\"My Hobby is 'Coding'\")\n",
    "\n",
    "# Create a pink frame for the \"Name\" button\n",
    "frame_name = Frame(root, bg=\"pink\", borderwidth=9)\n",
    "frame_name.pack(side=LEFT, anchor=\"nw\")\n",
    "\n",
    "# Create the \"Name\" button with a blue label and associated function\n",
    "button_name = Button(frame_name, fg=\"blue\", text=\"Name\", command=display_name)\n",
    "button_name.pack(side=LEFT, padx=23)\n",
    "\n",
    "# Create a green frame for the \"Email\" button\n",
    "frame_email = Frame(root, bg=\"green\", borderwidth=9)\n",
    "frame_email.pack(side=LEFT, anchor=\"nw\", padx=20)\n",
    "\n",
    "# Create the \"Email\" button with a blue label and associated function\n",
    "button_email = Button(frame_email, fg=\"blue\", text=\"Email\", command=display_email)\n",
    "button_email.pack(side=LEFT, padx=23)\n",
    "\n",
    "# Create a sky blue frame for the \"Age\" button\n",
    "frame_age = Frame(root, bg=\"sky blue\", borderwidth=9)\n",
    "frame_age.pack(side=LEFT, anchor=\"nw\", padx=20)\n",
    "\n",
    "# Create the \"Age\" button with a blue label and associated function\n",
    "button_age = Button(frame_age, fg=\"blue\", text=\"Age\", command=display_age)\n",
    "button_age.pack(side=LEFT, padx=23)\n",
    "\n",
    "# Create a yellow frame for the \"Hobby\" button\n",
    "frame_hobby = Frame(root, bg=\"yellow\", borderwidth=9)\n",
    "frame_hobby.pack(side=LEFT, anchor=\"nw\", padx=20)\n",
    "\n",
    "# Create the \"Hobby\" button with a blue label and associated function\n",
    "button_hobby = Button(frame_hobby, fg=\"blue\", text=\"Hobby\", command=display_hobby)\n",
    "button_hobby.pack(side=LEFT, padx=23)\n",
    "\n",
    "# Start the tkinter event loop\n",
    "root.mainloop()"
   ]
  },
  {
   "cell_type": "code",
   "execution_count": 2,
   "id": "c579fa12",
   "metadata": {},
   "outputs": [
    {
     "name": "stdout",
     "output_type": "stream",
     "text": [
      "My Name is 'Nisarg Patel'\n",
      "My E-mail is 'nisargpatel06082003@gmail.com'\n",
      "My Age is '20'\n",
      "My Hobby is 'Coding'\n",
      "My Hobby is 'Coding'\n",
      "My Age is '20'\n",
      "My E-mail is 'nisargpatel06082003@gmail.com'\n",
      "My Name is 'Nisarg Patel'\n"
     ]
    }
   ],
   "source": [
    "import tkinter as tk\n",
    "\n",
    "# Function to display a Name message\n",
    "def display_name():\n",
    "    print(\"My Name is 'Nisarg Patel'\")\n",
    "\n",
    "# Function to display an Email message\n",
    "def display_email():\n",
    "    print(\"My E-mail is 'nisargpatel06082003@gmail.com'\")\n",
    "\n",
    "# Function to display an Age message\n",
    "def display_age():\n",
    "    print(\"My Age is '20'\")\n",
    "\n",
    "# Function to display a Hobby message\n",
    "def display_hobby():\n",
    "    print(\"My Hobby is 'Coding'\")\n",
    "\n",
    "# Create the main window\n",
    "root = tk.Tk()\n",
    "root.geometry(\"400x150\")\n",
    "root.title(\"Predefined Messages\")\n",
    "\n",
    "# Create a frame to hold the buttons\n",
    "button_frame = tk.Frame(root)\n",
    "button_frame.pack(pady=20)\n",
    "\n",
    "# Create buttons for Name, Email, Age, and Hobby, each calling a different function\n",
    "name_button = tk.Button(button_frame, text=\"Name\", command=display_name)\n",
    "email_button = tk.Button(button_frame, text=\"Email\", command=display_email)\n",
    "age_button = tk.Button(button_frame, text=\"Age\", command=display_age)\n",
    "hobby_button = tk.Button(button_frame, text=\"Hobby\", command=display_hobby)\n",
    "\n",
    "# Pack the buttons in the frame\n",
    "name_button.pack(side=tk.LEFT, padx=10)\n",
    "email_button.pack(side=tk.LEFT, padx=10)\n",
    "age_button.pack(side=tk.LEFT, padx=10)\n",
    "hobby_button.pack(side=tk.LEFT, padx=10)\n",
    "\n",
    "# Start the tkinter event loop\n",
    "root.mainloop()"
   ]
  }
 ],
 "metadata": {
  "kernelspec": {
   "display_name": "Python 3 (ipykernel)",
   "language": "python",
   "name": "python3"
  },
  "language_info": {
   "codemirror_mode": {
    "name": "ipython",
    "version": 3
   },
   "file_extension": ".py",
   "mimetype": "text/x-python",
   "name": "python",
   "nbconvert_exporter": "python",
   "pygments_lexer": "ipython3",
   "version": "3.10.9"
  }
 },
 "nbformat": 4,
 "nbformat_minor": 5
}

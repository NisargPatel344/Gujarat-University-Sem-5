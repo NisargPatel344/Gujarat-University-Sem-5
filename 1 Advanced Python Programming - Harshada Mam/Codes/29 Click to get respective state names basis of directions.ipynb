{
 "cells": [
  {
   "cell_type": "code",
   "execution_count": 1,
   "id": "2d80ecca",
   "metadata": {},
   "outputs": [
    {
     "name": "stdout",
     "output_type": "stream",
     "text": [
      "Bihar, Orissa, Jharkhand\n",
      "Assam, Sikkim, Nagaland\n",
      "Rajasthan, Gujarat, Goa\n",
      "Andhra Pradesh, Kerala, Tamil Nadu\n"
     ]
    }
   ],
   "source": [
    "# Import the tkinter library\n",
    "from tkinter import *\n",
    "\n",
    "# Create the main tkinter window\n",
    "root = Tk()\n",
    "\n",
    "# Define a function for the \"west\" button\n",
    "def west():\n",
    "    print(\"Rajasthan, Gujarat, Goa\")\n",
    "\n",
    "# Define a function for the \"east\" button\n",
    "def east():\n",
    "    print(\"Assam, Sikkim, Nagaland\")\n",
    "\n",
    "# Define a function for the \"north\" button\n",
    "def north():\n",
    "    print(\"Bihar, Orissa, Jharkhand\")\n",
    "\n",
    "# Define a function for the \"south\" button\n",
    "def south():\n",
    "    print(\"Andhra Pradesh, Kerala, Tamil Nadu\")\n",
    "\n",
    "# Set the dimensions of the main window\n",
    "root.geometry(\"400x400\")\n",
    "\n",
    "# Set the title of the main window\n",
    "root.title(\"States\")\n",
    "\n",
    "# Create a green frame on the left side of the main window\n",
    "f1 = Frame(root, bg=\"green\", borderwidth=8)\n",
    "f1.pack(side=LEFT, fill=Y)\n",
    "\n",
    "# Create a red frame on the right side of the main window\n",
    "f2 = Frame(root, bg=\"red\", borderwidth=8)\n",
    "f2.pack(side=RIGHT, fill=Y)\n",
    "\n",
    "# Create a blue frame at the top of the main window\n",
    "f3 = Frame(root, bg=\"blue\", borderwidth=8)\n",
    "f3.pack(side=TOP, fill=X)\n",
    "\n",
    "# Create a yellow frame at the bottom of the main window\n",
    "f4 = Frame(root, bg=\"yellow\", borderwidth=8)\n",
    "f4.pack(side=BOTTOM, fill=X)\n",
    "\n",
    "# Create a \"west\" button inside the green frame\n",
    "b1 = Button(f1, text=\"west\", command=west)\n",
    "b1.pack(side=LEFT)\n",
    "\n",
    "# Create an \"east\" button inside the red frame\n",
    "b2 = Button(f2, text=\"east\", command=east)\n",
    "b2.pack(side=RIGHT)\n",
    "\n",
    "# Create a \"north\" button inside the blue frame\n",
    "b3 = Button(f3, text=\"north\", command=north)\n",
    "b3.pack(side=TOP)\n",
    "\n",
    "# Create a \"south\" button inside the yellow frame\n",
    "b4 = Button(f4, text=\"south\", command=south)\n",
    "b4.pack(side=BOTTOM)\n",
    "\n",
    "# Start the tkinter event loop\n",
    "root.mainloop()"
   ]
  },
  {
   "cell_type": "code",
   "execution_count": null,
   "id": "40de6a93",
   "metadata": {},
   "outputs": [],
   "source": []
  }
 ],
 "metadata": {
  "kernelspec": {
   "display_name": "Python 3 (ipykernel)",
   "language": "python",
   "name": "python3"
  },
  "language_info": {
   "codemirror_mode": {
    "name": "ipython",
    "version": 3
   },
   "file_extension": ".py",
   "mimetype": "text/x-python",
   "name": "python",
   "nbconvert_exporter": "python",
   "pygments_lexer": "ipython3",
   "version": "3.10.9"
  }
 },
 "nbformat": 4,
 "nbformat_minor": 5
}

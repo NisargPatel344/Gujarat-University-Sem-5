{
 "cells": [
  {
   "cell_type": "code",
   "execution_count": 1,
   "id": "3d042a8e",
   "metadata": {},
   "outputs": [
    {
     "name": "stdout",
     "output_type": "stream",
     "text": [
      "Requirement already satisfied: mysql-connector-python in c:\\users\\nisar\\anaconda3\\lib\\site-packages (8.0.33)\n",
      "Requirement already satisfied: protobuf<=3.20.3,>=3.11.0 in c:\\users\\nisar\\anaconda3\\lib\\site-packages (from mysql-connector-python) (3.20.3)\n"
     ]
    }
   ],
   "source": [
    "# Import the required library for connecting to MySQL\n",
    "!pip install mysql-connector-python\n",
    "import mysql.connector as sql"
   ]
  },
  {
   "cell_type": "code",
   "execution_count": 2,
   "id": "fb57afd0",
   "metadata": {},
   "outputs": [],
   "source": [
    "# Establish a connection to the MySQL server with provided credentials\n",
    "mydb = sql.connect(\n",
    "    host=\"localhost\",       \n",
    "    user=\"root\",            \n",
    "    password=\"11111111\" \n",
    ")"
   ]
  },
  {
   "cell_type": "code",
   "execution_count": 3,
   "id": "1d6d49ce",
   "metadata": {},
   "outputs": [
    {
     "name": "stdout",
     "output_type": "stream",
     "text": [
      "<mysql.connector.connection_cext.CMySQLConnection object at 0x0000014EC7E452D0>\n"
     ]
    }
   ],
   "source": [
    "# Print the connection object to check if it was successful\n",
    "print(mydb)"
   ]
  },
  {
   "cell_type": "code",
   "execution_count": 4,
   "id": "2532c010",
   "metadata": {},
   "outputs": [],
   "source": [
    "# Create a cursor object to interact with the MySQL database\n",
    "mycursor = mydb.cursor()"
   ]
  },
  {
   "cell_type": "code",
   "execution_count": 5,
   "id": "19204b52",
   "metadata": {},
   "outputs": [],
   "source": [
    "# Execute a SQL query to show the existing databases\n",
    "mycursor.execute(\"SHOW DATABASES\")"
   ]
  },
  {
   "cell_type": "code",
   "execution_count": 6,
   "id": "dc23f488",
   "metadata": {},
   "outputs": [
    {
     "name": "stdout",
     "output_type": "stream",
     "text": [
      "('demo27',)\n",
      "('information_schema',)\n",
      "('librarydb',)\n",
      "('mysql',)\n",
      "('performance_schema',)\n",
      "('registration_form',)\n",
      "('university',)\n",
      "('your_database_name',)\n"
     ]
    }
   ],
   "source": [
    "# Iterate through the result and print each database name\n",
    "for i in mycursor:\n",
    "    print(i)"
   ]
  },
  {
   "cell_type": "code",
   "execution_count": 7,
   "id": "d467dcb4",
   "metadata": {},
   "outputs": [],
   "source": [
    "# Create a new database named 'demo13'\n",
    "mycursor.execute(\"create database demo13\")"
   ]
  },
  {
   "cell_type": "code",
   "execution_count": 8,
   "id": "e6672873",
   "metadata": {
    "scrolled": false
   },
   "outputs": [],
   "source": [
    "# Switch to the 'demo13' database\n",
    "mycursor.execute(\"use demo13\")"
   ]
  },
  {
   "cell_type": "code",
   "execution_count": 9,
   "id": "2ba39259",
   "metadata": {
    "scrolled": false
   },
   "outputs": [],
   "source": [
    "# Create a new table named 'Customer' with columns 'name' and 'ID'\n",
    "mycursor.execute(\"create table Customer (name VARCHAR(255),ID INT)\")"
   ]
  },
  {
   "cell_type": "code",
   "execution_count": 10,
   "id": "72565db5",
   "metadata": {},
   "outputs": [
    {
     "name": "stdout",
     "output_type": "stream",
     "text": [
      "('customer',)\n"
     ]
    }
   ],
   "source": [
    "# Execute a SQL query to show the tables in the 'demo12' database\n",
    "mycursor.execute(\"show tables\")\n",
    "# Iterate through the result and print each table name\n",
    "for i in mycursor:\n",
    "    print(i)"
   ]
  },
  {
   "cell_type": "code",
   "execution_count": 11,
   "id": "f1c05b1d",
   "metadata": {},
   "outputs": [
    {
     "name": "stdout",
     "output_type": "stream",
     "text": [
      "('name', b'varchar(255)', 'YES', '', None, '')\n",
      "('ID', b'int', 'YES', '', None, '')\n"
     ]
    }
   ],
   "source": [
    "# Execute a SQL query to describe the structure of the 'Customer' table\n",
    "mycursor.execute(\"desc Customer\")\n",
    "# Iterate through the result and print the table structure\n",
    "for i in mycursor:\n",
    "    print(i)"
   ]
  },
  {
   "cell_type": "code",
   "execution_count": 12,
   "id": "1fd61c04",
   "metadata": {},
   "outputs": [],
   "source": [
    "# Insert data into the 'Customer' table: Jenny with ID 101\n",
    "mycursor.execute(\"INSERT INTO Customer (name,id) values('jenny',101)\")\n",
    "# Commit the changes to the database\n",
    "mydb.commit()"
   ]
  },
  {
   "cell_type": "code",
   "execution_count": 13,
   "id": "d97ebdf7",
   "metadata": {},
   "outputs": [],
   "source": [
    "# Insert data into the 'Customer' table: John with ID 102\n",
    "mycursor.execute(\"INSERT INTO Customer (name,id) values('john',102)\")\n",
    "# Commit the changes to the database\n",
    "mydb.commit()"
   ]
  },
  {
   "cell_type": "code",
   "execution_count": 14,
   "id": "19e68fd0",
   "metadata": {},
   "outputs": [],
   "source": [
    "# mycursor.execute(\"INSERT INTO Customer (id, name, age) VALUES \"\n",
    "#                 \"('Nisarg', 21), \"\n",
    "#                 \"('Kohli', 38), \"\n",
    "#                 \"('Rohit', 25)\")\n",
    "#mydb.commit()"
   ]
  },
  {
   "cell_type": "code",
   "execution_count": 15,
   "id": "1f579015",
   "metadata": {},
   "outputs": [
    {
     "name": "stdout",
     "output_type": "stream",
     "text": [
      "('jenny', 101)\n",
      "('john', 102)\n"
     ]
    }
   ],
   "source": [
    "# Execute a SQL query to select all rows from the 'Customer' table\n",
    "mycursor.execute(\"SELECT * FROM Customer\")\n",
    "# Fetch all the results and iterate through them, printing each row\n",
    "result= mycursor.fetchall()\n",
    "for row in result:\n",
    "    print(row)"
   ]
  }
 ],
 "metadata": {
  "kernelspec": {
   "display_name": "Python 3 (ipykernel)",
   "language": "python",
   "name": "python3"
  },
  "language_info": {
   "codemirror_mode": {
    "name": "ipython",
    "version": 3
   },
   "file_extension": ".py",
   "mimetype": "text/x-python",
   "name": "python",
   "nbconvert_exporter": "python",
   "pygments_lexer": "ipython3",
   "version": "3.10.9"
  }
 },
 "nbformat": 4,
 "nbformat_minor": 5
}

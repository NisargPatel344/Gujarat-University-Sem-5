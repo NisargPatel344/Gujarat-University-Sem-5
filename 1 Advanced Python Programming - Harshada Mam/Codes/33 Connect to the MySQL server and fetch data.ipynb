{
 "cells": [
  {
   "cell_type": "code",
   "execution_count": 1,
   "id": "11677058",
   "metadata": {},
   "outputs": [
    {
     "name": "stdout",
     "output_type": "stream",
     "text": [
      "Requirement already satisfied: mysql-connector-python in c:\\users\\nisar\\anaconda3\\lib\\site-packages (8.0.33)\n",
      "Requirement already satisfied: protobuf<=3.20.3,>=3.11.0 in c:\\users\\nisar\\anaconda3\\lib\\site-packages (from mysql-connector-python) (3.20.3)\n"
     ]
    }
   ],
   "source": [
    "# Import the required library for connecting to MySQL\n",
    "!pip install mysql-connector-python\n",
    "import mysql.connector as sql"
   ]
  },
  {
   "cell_type": "code",
   "execution_count": 2,
   "id": "5bc8c990",
   "metadata": {},
   "outputs": [],
   "source": [
    "# Establish a connection to the MySQL server with provided credentials\n",
    "mydb = sql.connect(\n",
    "    host=\"localhost\",\n",
    "    user=\"root\",\n",
    "    password=\"11111111\",\n",
    "    database=\"onlinestoredb\"\n",
    ")"
   ]
  },
  {
   "cell_type": "code",
   "execution_count": 3,
   "id": "c6ba2530",
   "metadata": {},
   "outputs": [
    {
     "name": "stdout",
     "output_type": "stream",
     "text": [
      "<mysql.connector.connection_cext.CMySQLConnection object at 0x000002010DD1DF60>\n"
     ]
    }
   ],
   "source": [
    "# Print the connection object to check if it was successful\n",
    "print(mydb)"
   ]
  },
  {
   "cell_type": "code",
   "execution_count": 4,
   "id": "876513a7",
   "metadata": {},
   "outputs": [],
   "source": [
    "# Create a cursor object to interact with the MySQL database\n",
    "mycursor = mydb.cursor()"
   ]
  },
  {
   "cell_type": "code",
   "execution_count": 5,
   "id": "10548504",
   "metadata": {},
   "outputs": [],
   "source": [
    "# Execute a SQL query to show the existing databases\n",
    "mycursor.execute(\"show databases\")"
   ]
  },
  {
   "cell_type": "code",
   "execution_count": 6,
   "id": "a5baed6d",
   "metadata": {},
   "outputs": [
    {
     "name": "stdout",
     "output_type": "stream",
     "text": [
      "('ap04092023',)\n",
      "('bankdb',)\n",
      "('blogplatformdb',)\n",
      "('company',)\n",
      "('create_and_fetch',)\n",
      "('customerorderdb',)\n",
      "('data',)\n",
      "('databasedemo',)\n",
      "('information_schema',)\n",
      "('it_company',)\n",
      "('librarydb',)\n",
      "('mysql',)\n",
      "('onlinestoredb',)\n",
      "('performance_schema',)\n",
      "('registration_form',)\n",
      "('socialmedia',)\n",
      "('store',)\n",
      "('universitydb',)\n"
     ]
    }
   ],
   "source": [
    "# Iterate through the result and print each database name\n",
    "for i in mycursor:\n",
    "    print(i)"
   ]
  },
  {
   "cell_type": "code",
   "execution_count": 7,
   "id": "7b031107",
   "metadata": {},
   "outputs": [],
   "source": [
    "# Switch to the database\n",
    "mycursor.execute(\"use onlinestoredb\")"
   ]
  },
  {
   "cell_type": "code",
   "execution_count": 8,
   "id": "4938dd8e",
   "metadata": {},
   "outputs": [
    {
     "name": "stdout",
     "output_type": "stream",
     "text": [
      "('customers',)\n",
      "('products',)\n",
      "('purchases',)\n"
     ]
    }
   ],
   "source": [
    "# Execute a SQL query to show the tables in the database\n",
    "mycursor.execute(\"show tables\")\n",
    "# Iterate through the result and print each table name\n",
    "for i in mycursor:\n",
    "    print(i)"
   ]
  },
  {
   "cell_type": "code",
   "execution_count": 9,
   "id": "faeb3468",
   "metadata": {},
   "outputs": [
    {
     "name": "stdout",
     "output_type": "stream",
     "text": [
      "('CustomerID', b'int', 'NO', 'PRI', None, '')\n",
      "('FirstName', b'varchar(50)', 'YES', '', None, '')\n",
      "('LastName', b'varchar(50)', 'YES', '', None, '')\n",
      "('Email', b'varchar(100)', 'YES', '', None, '')\n",
      "('Phone', b'varchar(20)', 'YES', '', None, '')\n",
      "('Address', b'varchar(255)', 'YES', '', None, '')\n"
     ]
    }
   ],
   "source": [
    "# Execute a SQL query to describe the structure of the table\n",
    "mycursor.execute(\"desc customers\")\n",
    "# Iterate through the result and print the table structure\n",
    "for i in mycursor:\n",
    "    print(i)"
   ]
  },
  {
   "cell_type": "code",
   "execution_count": 10,
   "id": "ec77c317",
   "metadata": {},
   "outputs": [
    {
     "name": "stdout",
     "output_type": "stream",
     "text": [
      "(1, 'John', 'Doe', 'john.doe@email.com', '123-456-7890', '123 Main St')\n",
      "(2, 'Jane', 'Smith', 'jane.smith@email.com', '987-654-3210', '456 Elm St')\n"
     ]
    }
   ],
   "source": [
    "# Execute a SQL query to select all rows from the table\n",
    "mycursor.execute(\"SELECT * FROM customers\")\n",
    "# Fetch all the results and iterate through them, printing each row\n",
    "result= mycursor.fetchall()\n",
    "for row in result:\n",
    "    print(row)"
   ]
  }
 ],
 "metadata": {
  "kernelspec": {
   "display_name": "Python 3 (ipykernel)",
   "language": "python",
   "name": "python3"
  },
  "language_info": {
   "codemirror_mode": {
    "name": "ipython",
    "version": 3
   },
   "file_extension": ".py",
   "mimetype": "text/x-python",
   "name": "python",
   "nbconvert_exporter": "python",
   "pygments_lexer": "ipython3",
   "version": "3.10.9"
  }
 },
 "nbformat": 4,
 "nbformat_minor": 5
}

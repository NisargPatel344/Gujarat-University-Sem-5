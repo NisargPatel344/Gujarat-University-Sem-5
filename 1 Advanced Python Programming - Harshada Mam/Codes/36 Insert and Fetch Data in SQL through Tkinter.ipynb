{
 "cells": [
  {
   "cell_type": "code",
   "execution_count": 1,
   "id": "8f6670da",
   "metadata": {},
   "outputs": [],
   "source": [
    "import tkinter as tk\n",
    "from tkinter import ttk\n",
    "import mysql.connector\n",
    "from tkinter import messagebox"
   ]
  },
  {
   "cell_type": "code",
   "execution_count": 2,
   "id": "edee73a8",
   "metadata": {},
   "outputs": [],
   "source": [
    "# Establish a connection to the MySQL database\n",
    "conn = mysql.connector.connect(\n",
    "    host=\"localhost\",\n",
    "    user=\"root\",\n",
    "    password=\"11111111\",\n",
    "    database=\"create_and_fetch\"\n",
    ")"
   ]
  },
  {
   "cell_type": "code",
   "execution_count": 3,
   "id": "7f903b01",
   "metadata": {},
   "outputs": [],
   "source": [
    "# Create a cursor object to interact with the database\n",
    "cursor = conn.cursor()"
   ]
  },
  {
   "cell_type": "code",
   "execution_count": 4,
   "id": "c1f4dbb1",
   "metadata": {},
   "outputs": [],
   "source": [
    "# Function to insert data into the database\n",
    "def insert_data():\n",
    "    name = name_entry.get()\n",
    "    age = age_entry.get()\n",
    "    \n",
    "    # SQL query to insert data into a table (assuming the table name is 'persons')\n",
    "    insert_query = \"INSERT INTO persons (name, age) VALUES (%s, %s)\"\n",
    "    \n",
    "    # Values to be inserted into the table\n",
    "    values = (name, age)\n",
    "    \n",
    "    try:\n",
    "        cursor.execute(insert_query, values)\n",
    "        conn.commit()\n",
    "        messagebox.showinfo(\"Success\", \"Data inserted successfully!\")\n",
    "    except mysql.connector.Error as err:\n",
    "        messagebox.showerror(\"Error\", f\"Error: {err}\")"
   ]
  },
  {
   "cell_type": "code",
   "execution_count": 5,
   "id": "f44b09d8",
   "metadata": {},
   "outputs": [],
   "source": [
    "# Function to fetch data from the database\n",
    "def fetch_data():\n",
    "    # SQL query to retrieve data from the table (assuming the table name is 'persons')\n",
    "    fetch_query = \"SELECT * FROM persons\"\n",
    "    \n",
    "    try:\n",
    "        cursor.execute(fetch_query)\n",
    "        data = cursor.fetchall()\n",
    "        if data:\n",
    "            for row in data:\n",
    "                result_text.insert(tk.END, f\"Name: {row[0]}, Age: {row[1]}\\n\")\n",
    "        else:\n",
    "            messagebox.showinfo(\"Info\", \"No data found in the database.\")\n",
    "    except mysql.connector.Error as err:\n",
    "        messagebox.showerror(\"Error\", f\"Error: {err}\")"
   ]
  },
  {
   "cell_type": "code",
   "execution_count": 6,
   "id": "0fb8359a",
   "metadata": {},
   "outputs": [
    {
     "data": {
      "text/plain": [
       "''"
      ]
     },
     "execution_count": 6,
     "metadata": {},
     "output_type": "execute_result"
    }
   ],
   "source": [
    "# Create a tkinter window\n",
    "root = tk.Tk()\n",
    "root.title(\"MySQL Database\")"
   ]
  },
  {
   "cell_type": "code",
   "execution_count": 7,
   "id": "8f325123",
   "metadata": {},
   "outputs": [],
   "source": [
    "# Create labels and entry fields for data input\n",
    "name_label = tk.Label(root, text=\"Name:\")\n",
    "name_label.pack()\n",
    "name_entry = tk.Entry(root)\n",
    "name_entry.pack()\n",
    "\n",
    "age_label = tk.Label(root, text=\"Age:\")\n",
    "age_label.pack()\n",
    "age_entry = tk.Entry(root)\n",
    "age_entry.pack()"
   ]
  },
  {
   "cell_type": "code",
   "execution_count": 8,
   "id": "9d81e820",
   "metadata": {},
   "outputs": [],
   "source": [
    "# Create buttons for inserting and fetching data\n",
    "insert_button = tk.Button(root, text=\"Insert Data\", command=insert_data)\n",
    "insert_button.pack()\n",
    "\n",
    "fetch_button = tk.Button(root, text=\"Fetch Data\", command=fetch_data)\n",
    "fetch_button.pack()"
   ]
  },
  {
   "cell_type": "code",
   "execution_count": 9,
   "id": "e024d978",
   "metadata": {},
   "outputs": [],
   "source": [
    "# Create a text widget to display fetched data\n",
    "result_text = tk.Text(root, height=10, width=40)\n",
    "result_text.pack()"
   ]
  },
  {
   "cell_type": "code",
   "execution_count": 10,
   "id": "913191dd",
   "metadata": {},
   "outputs": [],
   "source": [
    "# Start the tkinter main loop\n",
    "root.mainloop()"
   ]
  },
  {
   "cell_type": "code",
   "execution_count": 11,
   "id": "19f44644",
   "metadata": {},
   "outputs": [],
   "source": [
    "# Close the cursor and the database connection when the application is closed\n",
    "cursor.close()\n",
    "conn.close()"
   ]
  }
 ],
 "metadata": {
  "kernelspec": {
   "display_name": "Python 3 (ipykernel)",
   "language": "python",
   "name": "python3"
  },
  "language_info": {
   "codemirror_mode": {
    "name": "ipython",
    "version": 3
   },
   "file_extension": ".py",
   "mimetype": "text/x-python",
   "name": "python",
   "nbconvert_exporter": "python",
   "pygments_lexer": "ipython3",
   "version": "3.10.9"
  }
 },
 "nbformat": 4,
 "nbformat_minor": 5
}

{
 "cells": [
  {
   "cell_type": "markdown",
   "id": "d37b09a0",
   "metadata": {},
   "source": [
    "# 1A"
   ]
  },
  {
   "cell_type": "code",
   "execution_count": 1,
   "id": "5eec12b9",
   "metadata": {},
   "outputs": [
    {
     "name": "stdout",
     "output_type": "stream",
     "text": [
      "Device Name: Legion\n",
      "Device Manufacturer Name: Lenovo\n",
      "Device Price: 150000\n"
     ]
    }
   ],
   "source": [
    "class Device:\n",
    "    def __init__(self, name, manufacturer, price):\n",
    "        self.name = name\n",
    "        self.manufacturer = manufacturer\n",
    "        self.price = price\n",
    "        \n",
    "    def device_details(self):\n",
    "        print(f\"Device Name: {self.name}\")\n",
    "        print(f\"Device Manufacturer Name: {self.manufacturer}\")\n",
    "        print(f\"Device Price: {self.price}\")\n",
    "        \n",
    "device1 = Device(\"Dell\", \"Inspiron\", 150000)\n",
    "device1.device_details()"
   ]
  },
  {
   "cell_type": "markdown",
   "id": "1a91f87d",
   "metadata": {},
   "source": [
    "# 1B"
   ]
  },
  {
   "cell_type": "code",
   "execution_count": 2,
   "id": "0e570abb",
   "metadata": {},
   "outputs": [
    {
     "name": "stdout",
     "output_type": "stream",
     "text": [
      "Device Name: Legion\n",
      "Device Manufacturer Name: Lenovo\n",
      "Device Price: 150000\n",
      "Device Processor: Intel Core i5\n"
     ]
    }
   ],
   "source": [
    "class Device:\n",
    "    def __init__(self, name, manufacturer, price):\n",
    "        self.name = name\n",
    "        self.manufacturer = manufacturer\n",
    "        self.price = price\n",
    "        \n",
    "class Laptop(Device):\n",
    "    def __init__(self, name, manufacture, price, processor):\n",
    "        super().__init__(name, manufacture, price)\n",
    "        self.processor = processor\n",
    "        \n",
    "    def laptop_details(self):\n",
    "        print(f\"Device Name: {self.name}\")\n",
    "        print(f\"Device Manufacturer Name: {self.manufacturer}\")\n",
    "        print(f\"Device Price: {self.price}\")\n",
    "        print(f\"Device Processor: {self.processor}\")\n",
    "        \n",
    "laptop1 = Laptop(\"Dell\", \"Inspiron\", 150000, \"Intel Core i5\")\n",
    "laptop1.laptop_details()    "
   ]
  },
  {
   "cell_type": "markdown",
   "id": "8c03d263",
   "metadata": {},
   "source": [
    "# 1C"
   ]
  },
  {
   "cell_type": "code",
   "execution_count": 4,
   "id": "5e2e7851",
   "metadata": {},
   "outputs": [
    {
     "name": "stdout",
     "output_type": "stream",
     "text": [
      "Device Name: Galaxy S22\n",
      "Device Manufacturer Name: Samsung\n",
      "Device Price: 150000\n",
      "Device Processor: Bionic Chip\n",
      "Device Storage: 256GB\n",
      "Device Ram: 18GB\n"
     ]
    }
   ],
   "source": [
    "class Device:\n",
    "    def __init__(self, name, manufacturer, price):\n",
    "        self.name = name\n",
    "        self.manufacturer = manufacturer\n",
    "        self.price = price\n",
    "        \n",
    "class Laptop(Device):\n",
    "    def __init__(self, name, manufacture, price, processor):\n",
    "        super().__init__(name, manufacture, price)\n",
    "        self.processor = processor\n",
    "        \n",
    "class Mobile(Laptop):\n",
    "    def __init__(self, name, manufacture, price, processor, storage, ram):\n",
    "        super().__init__(name, manufacture, price, processor)\n",
    "        self.storage = storage\n",
    "        self.ram = ram\n",
    "        \n",
    "    def mobile_details(self):\n",
    "        print(f\"Device Name: {self.name}\")\n",
    "        print(f\"Device Manufacturer Name: {self.manufacturer}\")\n",
    "        print(f\"Device Price: {self.price}\")\n",
    "        print(f\"Device Processor: {self.processor}\")\n",
    "        print(f\"Device Storage: {self.storage}\")\n",
    "        print(f\"Device Ram: {self.ram}\")\n",
    "        \n",
    "mobile1 = Mobile(\"Galaxy S22\", \"Samsung\", 150000, \"Bionic Chip\", \"256GB\", \"18GB\")\n",
    "mobile1.mobile_details()    "
   ]
  },
  {
   "cell_type": "markdown",
   "id": "00ec44e7",
   "metadata": {},
   "source": [
    "# 1D"
   ]
  },
  {
   "cell_type": "code",
   "execution_count": 7,
   "id": "393f2391",
   "metadata": {},
   "outputs": [
    {
     "name": "stdout",
     "output_type": "stream",
     "text": [
      "Bike will start moving now\n"
     ]
    }
   ],
   "source": [
    "class Bike:\n",
    "    def starting(self):\n",
    "        print(\"Bike will start moving now\")\n",
    "\n",
    "shine = Bike()\n",
    "shine.starting()"
   ]
  },
  {
   "cell_type": "code",
   "execution_count": 8,
   "id": "9a7b5b30",
   "metadata": {},
   "outputs": [
    {
     "name": "stdout",
     "output_type": "stream",
     "text": [
      "Creta\n"
     ]
    }
   ],
   "source": [
    "class Cars:\n",
    "    car_name = \"Creta\"\n",
    "    \n",
    "    def display(self):\n",
    "        print(f\"{self.car_name}\")\n",
    "        \n",
    "car1 = Cars()\n",
    "car1.display()"
   ]
  },
  {
   "cell_type": "code",
   "execution_count": 9,
   "id": "42fa2026",
   "metadata": {},
   "outputs": [
    {
     "name": "stdout",
     "output_type": "stream",
     "text": [
      "My name is Joseph and my roll number is 101\n"
     ]
    }
   ],
   "source": [
    "class Student:\n",
    "    def __init__(self, name, roll_num):\n",
    "        self.name = name\n",
    "        self.roll_num = roll_num\n",
    "\n",
    "    def display(self):\n",
    "        print(f\"My name is {self.name} and my roll number is {self.roll_num}\")\n",
    "\n",
    "student = Student(\"Joseph\", 101)\n",
    "student.display()"
   ]
  },
  {
   "cell_type": "code",
   "execution_count": 10,
   "id": "5db9fa1f",
   "metadata": {},
   "outputs": [
    {
     "name": "stdout",
     "output_type": "stream",
     "text": [
      "This is Non-Parameterized Constructor\n",
      "Hello, Student\n"
     ]
    }
   ],
   "source": [
    "class Student:\n",
    "    \n",
    "    def __init__(self):\n",
    "        print(\"This is Non-Parameterized Constructor\")\n",
    "    \n",
    "    def show(self, name):\n",
    "        print(f\"Hello, {name}\")\n",
    "        \n",
    "student = Student()\n",
    "student.show(\"Student\")"
   ]
  },
  {
   "cell_type": "markdown",
   "id": "7c8e2ce2",
   "metadata": {},
   "source": [
    "# Q2"
   ]
  },
  {
   "cell_type": "code",
   "execution_count": null,
   "id": "1c90976e",
   "metadata": {},
   "outputs": [],
   "source": [
    "import tkinter as tk\n",
    "from tkinter import messagebox\n",
    "import mysql.connector as sql\n",
    "mydb = sql.connect(\n",
    "    host=\"localhost\",\n",
    "    user=\"root\",\n",
    "    password=\"Write Password\"\n",
    ")\n",
    "mycursor = mydb.cursor()\n",
    "def create_table():\n",
    "    mycursor.execute(\"CREATE DATABASE IF NOT EXISTS mydatabase\")\n",
    "    mycursor.execute(\"USE mydatabase\")\n",
    "    mycursor.execute(\"CREATE TABLE IF NOT EXISTS Users (id INT AUTO_INCREMENT PRIMARY KEY, username VARCHAR(255), password VARCHAR(255))\")\n",
    "def register_user():\n",
    "    username = entry_username.get()\n",
    "    password = entry_password.get()\n",
    "    mycursor.execute(\"INSERT INTO Users (username, password) VALUES (%s, %s)\", (username, password))\n",
    "    mydb.commit()\n",
    "    messagebox.showinfo(\"Success\", \"Registration successful!\")\n",
    "def display_all_users():\n",
    "    mycursor.execute(\"SELECT * FROM Users\")\n",
    "    users = mycursor.fetchall()\n",
    "    user_list = \"\\n\".join([f\"ID: {user[0]}, Username: {user[1]}, Password: {user[2]}\" for user in users])\n",
    "    messagebox.showinfo(\"All Users\", user_list)\n",
    "root = tk.Tk()\n",
    "root.title(\"User Registration Form\")\n",
    "create_table()\n",
    "label_username = tk.Label(root, text=\"Username:\")\n",
    "entry_username = tk.Entry(root)\n",
    "label_password = tk.Label(root, text=\"Password:\")\n",
    "entry_password = tk.Entry(root, show=\"*\")\n",
    "button_register = tk.Button(root, text=\"Register\", command=register_user)\n",
    "button_all_users = tk.Button(root, text=\"All Users\", command=display_all_users)\n",
    "label_username.grid(row=0, column=0, pady=10)\n",
    "entry_username.grid(row=0, column=1, pady=10)\n",
    "label_password.grid(row=1, column=0, pady=10)\n",
    "entry_password.grid(row=1, column=1, pady=10)\n",
    "button_register.grid(row=2, column=0, columnspan=2, pady=10)\n",
    "button_all_users.grid(row=3, column=0, columnspan=2, pady=10)\n",
    "root.mainloop()"
   ]
  }
 ],
 "metadata": {
  "kernelspec": {
   "display_name": "Python 3 (ipykernel)",
   "language": "python",
   "name": "python3"
  },
  "language_info": {
   "codemirror_mode": {
    "name": "ipython",
    "version": 3
   },
   "file_extension": ".py",
   "mimetype": "text/x-python",
   "name": "python",
   "nbconvert_exporter": "python",
   "pygments_lexer": "ipython3",
   "version": "3.10.9"
  }
 },
 "nbformat": 4,
 "nbformat_minor": 5
}

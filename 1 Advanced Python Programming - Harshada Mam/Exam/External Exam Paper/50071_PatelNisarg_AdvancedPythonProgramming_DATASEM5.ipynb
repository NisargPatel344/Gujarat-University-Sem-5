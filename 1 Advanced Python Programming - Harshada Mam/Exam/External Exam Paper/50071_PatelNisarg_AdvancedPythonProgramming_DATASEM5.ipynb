{
 "cells": [
  {
   "cell_type": "markdown",
   "id": "3d461435",
   "metadata": {},
   "source": [
    "# The file belongs to Patel Nisarg"
   ]
  },
  {
   "cell_type": "markdown",
   "id": "af7d93be",
   "metadata": {},
   "source": [
    "# Q.1(A)"
   ]
  },
  {
   "cell_type": "code",
   "execution_count": 9,
   "id": "f19275cd",
   "metadata": {},
   "outputs": [
    {
     "name": "stdout",
     "output_type": "stream",
     "text": [
      "Device Name: Legion\n",
      "Device Manufacturer Name: Lenovo\n",
      "Device Price: 150000\n"
     ]
    }
   ],
   "source": [
    "class Device:\n",
    "    def __init__(self, name, manufacturer, price):\n",
    "        self.name = name\n",
    "        self.manufacturer = manufacturer\n",
    "        self.price = price\n",
    "        \n",
    "    def device_details(self):\n",
    "        print(f\"Device Name: {self.name}\")\n",
    "        print(f\"Device Manufacturer Name: {self.manufacturer}\")\n",
    "        print(f\"Device Price: {self.price}\")\n",
    "        \n",
    "device1 = Device(\"Legion\", \"Lenovo\", 150000)\n",
    "device1.device_details()"
   ]
  },
  {
   "cell_type": "markdown",
   "id": "73b4ef63",
   "metadata": {},
   "source": [
    "# Q.1(B)"
   ]
  },
  {
   "cell_type": "code",
   "execution_count": 10,
   "id": "8d92d250",
   "metadata": {},
   "outputs": [
    {
     "name": "stdout",
     "output_type": "stream",
     "text": [
      "Device Name: Legion\n",
      "Device Manufacturer Name: Lenovo\n",
      "Device Price: 150000\n",
      "Device Processor: Intel Core i5\n"
     ]
    }
   ],
   "source": [
    "class Device:\n",
    "    def __init__(self, name, manufacturer, price):\n",
    "        self.name = name\n",
    "        self.manufacturer = manufacturer\n",
    "        self.price = price\n",
    "        \n",
    "class Laptop(Device):\n",
    "    def __init__(self, name, manufacture, price, processor):\n",
    "        super().__init__(name, manufacture, price)\n",
    "        self.processor = processor\n",
    "        \n",
    "    def laptop_details(self):\n",
    "        print(f\"Device Name: {self.name}\")\n",
    "        print(f\"Device Manufacturer Name: {self.manufacturer}\")\n",
    "        print(f\"Device Price: {self.price}\")\n",
    "        print(f\"Device Processor: {self.processor}\")\n",
    "        \n",
    "laptop1 = Laptop(\"Legion\", \"Lenovo\", 150000, \"Intel Core i5\")\n",
    "laptop1.laptop_details()    "
   ]
  },
  {
   "cell_type": "markdown",
   "id": "013f5b91",
   "metadata": {},
   "source": [
    "# Q.1(C)"
   ]
  },
  {
   "cell_type": "code",
   "execution_count": 11,
   "id": "19bb18b8",
   "metadata": {},
   "outputs": [
    {
     "name": "stdout",
     "output_type": "stream",
     "text": [
      "Device Name: Iphone 15 Pro Max\n",
      "Device Manufacturer Name: Apple\n",
      "Device Price: 150000\n",
      "Device Processor: Bionic Chip\n",
      "Device Storage: 256GB\n",
      "Device Ram: 18GB\n"
     ]
    }
   ],
   "source": [
    "class Device:\n",
    "    def __init__(self, name, manufacturer, price):\n",
    "        self.name = name\n",
    "        self.manufacturer = manufacturer\n",
    "        self.price = price\n",
    "        \n",
    "class Laptop(Device):\n",
    "    def __init__(self, name, manufacture, price, processor):\n",
    "        super().__init__(name, manufacture, price)\n",
    "        self.processor = processor\n",
    "        \n",
    "class Mobile(Laptop):\n",
    "    def __init__(self, name, manufacture, price, processor, storage, ram):\n",
    "        super().__init__(name, manufacture, price, processor)\n",
    "        self.storage = storage\n",
    "        self.ram = ram\n",
    "        \n",
    "    def mobile_details(self):\n",
    "        print(f\"Device Name: {self.name}\")\n",
    "        print(f\"Device Manufacturer Name: {self.manufacturer}\")\n",
    "        print(f\"Device Price: {self.price}\")\n",
    "        print(f\"Device Processor: {self.processor}\")\n",
    "        print(f\"Device Storage: {self.storage}\")\n",
    "        print(f\"Device Ram: {self.ram}\")\n",
    "        \n",
    "mobile1 = Mobile(\"Iphone 15 Pro Max\", \"Apple\", 150000, \"Bionic Chip\", \"256GB\", \"18GB\")\n",
    "mobile1.mobile_details()    "
   ]
  },
  {
   "cell_type": "markdown",
   "id": "59bf592a",
   "metadata": {},
   "source": [
    "# Q.1(D)"
   ]
  },
  {
   "cell_type": "markdown",
   "id": "ad6e7eda",
   "metadata": {},
   "source": [
    "### Object is the way to assign a class method to print "
   ]
  },
  {
   "cell_type": "markdown",
   "id": "a69a28d6",
   "metadata": {},
   "source": [
    "#### Calling a simple method with a object"
   ]
  },
  {
   "cell_type": "code",
   "execution_count": 15,
   "id": "c8c0bcba",
   "metadata": {},
   "outputs": [
    {
     "name": "stdout",
     "output_type": "stream",
     "text": [
      "Cycle will start moving now\n"
     ]
    }
   ],
   "source": [
    "class Cycle:\n",
    "    def starting(self):\n",
    "        print(\"Cycle will start moving now\")\n",
    "\n",
    "cycle1 = Cycle()\n",
    "cycle1.starting()"
   ]
  },
  {
   "cell_type": "markdown",
   "id": "ede01da2",
   "metadata": {},
   "source": [
    "#### Calling a method having default attribute with a object"
   ]
  },
  {
   "cell_type": "code",
   "execution_count": 16,
   "id": "dc0fc946",
   "metadata": {},
   "outputs": [
    {
     "name": "stdout",
     "output_type": "stream",
     "text": [
      "Audi\n"
     ]
    }
   ],
   "source": [
    "class Cars:\n",
    "    # Default value for the car_name attribute\n",
    "    car_name = \"Audi\"\n",
    "    \n",
    "    def display(self):\n",
    "        print(f\"{self.car_name}\")\n",
    "        \n",
    "car1 = Cars()\n",
    "car1.display()"
   ]
  },
  {
   "cell_type": "markdown",
   "id": "ed0bbac4",
   "metadata": {},
   "source": [
    "#### Calling a parameterized constructor method having with a object"
   ]
  },
  {
   "cell_type": "code",
   "execution_count": 18,
   "id": "f39057e0",
   "metadata": {},
   "outputs": [
    {
     "name": "stdout",
     "output_type": "stream",
     "text": [
      "My name is Nisarg and my roll number is 101\n"
     ]
    }
   ],
   "source": [
    "# Define a class called Student\n",
    "class Student:\n",
    "    # Constructor method (__init__) is called when a new object of the class is created\n",
    "    def __init__(self, name, roll_num):\n",
    "        # Initialize two instance variables: 'name' and 'roll_num' using the provided arguments\n",
    "        self.name = name\n",
    "        self.roll_num = roll_num\n",
    "\n",
    "    # Define a method called 'display' that will be used to display student information\n",
    "    def display(self):\n",
    "        # Print a formatted string containing the student's name and roll number\n",
    "        print(f\"My name is {self.name} and my roll number is {self.roll_num}\")\n",
    "\n",
    "student = Student(\"Nisarg\", 101)\n",
    "student.display()"
   ]
  },
  {
   "cell_type": "markdown",
   "id": "004c9528",
   "metadata": {},
   "source": [
    "#### Calling a non-parameterized constructor method having with a object"
   ]
  },
  {
   "cell_type": "code",
   "execution_count": 19,
   "id": "aeca1e93",
   "metadata": {},
   "outputs": [
    {
     "name": "stdout",
     "output_type": "stream",
     "text": [
      "This is Non-Parameterized Constructor\n",
      "Hello, Nisarg\n"
     ]
    }
   ],
   "source": [
    "# Define a class named Student\n",
    "class Student:\n",
    "    \n",
    "    # Non-Parameterized Constructor\n",
    "    def __init__(self):\n",
    "        # Constructor method that initializes a Student object\n",
    "        print(\"This is Non-Parameterized Constructor\")\n",
    "    \n",
    "    # Method to display a greeting message\n",
    "    def show(self, name):\n",
    "        # Method that displays a greeting with the provided name\n",
    "        print(f\"Hello, {name}\")\n",
    "        \n",
    "student = Student()\n",
    "student.show(\"Nisarg\")"
   ]
  },
  {
   "cell_type": "markdown",
   "id": "c4c44a34",
   "metadata": {},
   "source": [
    "# Q.2"
   ]
  },
  {
   "cell_type": "code",
   "execution_count": 22,
   "id": "b59057b0",
   "metadata": {},
   "outputs": [],
   "source": [
    "import tkinter as tk\n",
    "from tkinter import messagebox\n",
    "import mysql.connector as sql\n",
    "\n",
    "# MySQL Credentials\n",
    "mydb = sql.connect(\n",
    "    host=\"localhost\",\n",
    "    user=\"root\",\n",
    "    password=\"11111111\"\n",
    ")\n",
    "\n",
    "# Creating a cursor object to interact with the database\n",
    "mycursor = mydb.cursor()\n",
    "\n",
    "# Function to create the Users table if it doesn't exist\n",
    "def create_table():\n",
    "    mycursor.execute(\"CREATE DATABASE IF NOT EXISTS mydatabase\")\n",
    "    mycursor.execute(\"USE mydatabase\")\n",
    "    mycursor.execute(\"CREATE TABLE IF NOT EXISTS Users (id INT AUTO_INCREMENT PRIMARY KEY, username VARCHAR(255), password VARCHAR(255))\")\n",
    "\n",
    "# Function to handle the registration process\n",
    "def register_user():\n",
    "    username = entry_username.get()\n",
    "    password = entry_password.get()\n",
    "\n",
    "    # Insert data into the Users table\n",
    "    mycursor.execute(\"INSERT INTO Users (username, password) VALUES (%s, %s)\", (username, password))\n",
    "    mydb.commit()\n",
    "\n",
    "    messagebox.showinfo(\"Success\", \"Registration successful!\")\n",
    "\n",
    "# Function to fetch all users from the database\n",
    "def display_all_users():\n",
    "    mycursor.execute(\"SELECT * FROM Users\")\n",
    "    users = mycursor.fetchall()\n",
    "\n",
    "    user_list = \"\\n\".join([f\"ID: {user[0]}, Username: {user[1]}, Password: {user[2]}\" for user in users])\n",
    "\n",
    "    messagebox.showinfo(\"All Users\", user_list)\n",
    "\n",
    "# Create the main window\n",
    "root = tk.Tk()\n",
    "root.title(\"User Registration Form\")\n",
    "\n",
    "# Create the Users table\n",
    "create_table()\n",
    "\n",
    "# Create labels, entry widgets, and buttons\n",
    "label_username = tk.Label(root, text=\"Username:\")\n",
    "entry_username = tk.Entry(root)\n",
    "\n",
    "label_password = tk.Label(root, text=\"Password:\")\n",
    "entry_password = tk.Entry(root, show=\"*\")\n",
    "\n",
    "button_register = tk.Button(root, text=\"Register\", command=register_user)\n",
    "button_all_users = tk.Button(root, text=\"All Users\", command=display_all_users)\n",
    "\n",
    "# Place widgets in the window\n",
    "label_username.grid(row=0, column=0, pady=10)\n",
    "entry_username.grid(row=0, column=1, pady=10)\n",
    "label_password.grid(row=1, column=0, pady=10)\n",
    "entry_password.grid(row=1, column=1, pady=10)\n",
    "button_register.grid(row=2, column=0, columnspan=2, pady=10)\n",
    "button_all_users.grid(row=3, column=0, columnspan=2, pady=10)\n",
    "\n",
    "# Start the Tkinter event loop\n",
    "root.mainloop()"
   ]
  },
  {
   "cell_type": "markdown",
   "id": "a3442f55",
   "metadata": {},
   "source": [
    "# Q.3"
   ]
  },
  {
   "cell_type": "markdown",
   "id": "928fbc03",
   "metadata": {},
   "source": [
    "ODOO LINK :- https://nisargelarningplatform.odoo.com/"
   ]
  }
 ],
 "metadata": {
  "kernelspec": {
   "display_name": "Python 3 (ipykernel)",
   "language": "python",
   "name": "python3"
  },
  "language_info": {
   "codemirror_mode": {
    "name": "ipython",
    "version": 3
   },
   "file_extension": ".py",
   "mimetype": "text/x-python",
   "name": "python",
   "nbconvert_exporter": "python",
   "pygments_lexer": "ipython3",
   "version": "3.10.9"
  }
 },
 "nbformat": 4,
 "nbformat_minor": 5
}

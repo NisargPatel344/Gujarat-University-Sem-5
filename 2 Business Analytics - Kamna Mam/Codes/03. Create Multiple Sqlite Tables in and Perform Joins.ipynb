{
 "cells": [
  {
   "cell_type": "code",
   "execution_count": 1,
   "id": "80841be7",
   "metadata": {},
   "outputs": [],
   "source": [
    "%load_ext sql"
   ]
  },
  {
   "cell_type": "code",
   "execution_count": 2,
   "id": "7a3670c6",
   "metadata": {},
   "outputs": [
    {
     "data": {
      "text/html": [
       "<span style=\"None\">Connecting to &#x27;sqlite://&#x27;</span>"
      ],
      "text/plain": [
       "Connecting to 'sqlite://'"
      ]
     },
     "metadata": {},
     "output_type": "display_data"
    }
   ],
   "source": [
    "%sql sqlite://"
   ]
  },
  {
   "cell_type": "code",
   "execution_count": 3,
   "id": "c71ffb7a",
   "metadata": {},
   "outputs": [
    {
     "data": {
      "text/html": [
       "<span style=\"None\">Running query in &#x27;sqlite://&#x27;</span>"
      ],
      "text/plain": [
       "Running query in 'sqlite://'"
      ]
     },
     "metadata": {},
     "output_type": "display_data"
    },
    {
     "data": {
      "text/html": [
       "<span style=\"color: green\">6 rows affected.</span>"
      ],
      "text/plain": [
       "6 rows affected."
      ]
     },
     "metadata": {},
     "output_type": "display_data"
    },
    {
     "data": {
      "text/html": [
       "<table>\n",
       "    <thead>\n",
       "        <tr>\n",
       "        </tr>\n",
       "    </thead>\n",
       "    <tbody>\n",
       "    </tbody>\n",
       "</table>"
      ],
      "text/plain": [
       "++\n",
       "||\n",
       "++\n",
       "++"
      ]
     },
     "execution_count": 3,
     "metadata": {},
     "output_type": "execute_result"
    }
   ],
   "source": [
    "%%sql\n",
    "CREATE TABLE employees (\n",
    "    id int,\n",
    "    emp_name varchar(100),\n",
    "    salary int,\n",
    "    dept_id int,\n",
    "    manager_id int\n",
    ");\n",
    "\n",
    "INSERT INTO employees \n",
    "VALUES (1, 'Idris', 1000, 1, 1), (2, 'Aweda', 2000, 2, 2), (3, 'Zubair', 3000, 3, 2), (4, 'Young', 4000, 3, 3), (5, 'Babu', 5000, 1, 3), (6, 'John', 1000, 8, 1);"
   ]
  },
  {
   "cell_type": "code",
   "execution_count": 4,
   "id": "ece78eda",
   "metadata": {},
   "outputs": [
    {
     "data": {
      "text/html": [
       "<span style=\"None\">Running query in &#x27;sqlite://&#x27;</span>"
      ],
      "text/plain": [
       "Running query in 'sqlite://'"
      ]
     },
     "metadata": {},
     "output_type": "display_data"
    },
    {
     "data": {
      "text/html": [
       "<span style=\"color: green\">4 rows affected.</span>"
      ],
      "text/plain": [
       "4 rows affected."
      ]
     },
     "metadata": {},
     "output_type": "display_data"
    },
    {
     "data": {
      "text/html": [
       "<table>\n",
       "    <thead>\n",
       "        <tr>\n",
       "        </tr>\n",
       "    </thead>\n",
       "    <tbody>\n",
       "    </tbody>\n",
       "</table>"
      ],
      "text/plain": [
       "++\n",
       "||\n",
       "++\n",
       "++"
      ]
     },
     "execution_count": 4,
     "metadata": {},
     "output_type": "execute_result"
    }
   ],
   "source": [
    "%%sql\n",
    "CREATE TABLE departments (\n",
    "    id int,\n",
    "    dept_name varchar(100)\n",
    ");\n",
    "\n",
    "INSERT INTO departments\n",
    "VALUES (1, 'Engineering'), (2, 'Product'), (3, 'Marketing'), (4, 'Support');"
   ]
  },
  {
   "cell_type": "code",
   "execution_count": 5,
   "id": "999d0e09",
   "metadata": {},
   "outputs": [
    {
     "data": {
      "text/html": [
       "<span style=\"None\">Running query in &#x27;sqlite://&#x27;</span>"
      ],
      "text/plain": [
       "Running query in 'sqlite://'"
      ]
     },
     "metadata": {},
     "output_type": "display_data"
    },
    {
     "data": {
      "text/html": [
       "<span style=\"color: green\">3 rows affected.</span>"
      ],
      "text/plain": [
       "3 rows affected."
      ]
     },
     "metadata": {},
     "output_type": "display_data"
    },
    {
     "data": {
      "text/html": [
       "<table>\n",
       "    <thead>\n",
       "        <tr>\n",
       "        </tr>\n",
       "    </thead>\n",
       "    <tbody>\n",
       "    </tbody>\n",
       "</table>"
      ],
      "text/plain": [
       "++\n",
       "||\n",
       "++\n",
       "++"
      ]
     },
     "execution_count": 5,
     "metadata": {},
     "output_type": "execute_result"
    }
   ],
   "source": [
    "%%sql\n",
    "CREATE TABLE managers (\n",
    "    id int,\n",
    "    manager_name varchar(100),\n",
    "    dept_id int\n",
    ");\n",
    "\n",
    "INSERT INTO managers\n",
    "VALUES (1, 'Doe', 1), (2, 'Jane', 2), (3, 'May', 4);"
   ]
  },
  {
   "cell_type": "code",
   "execution_count": 6,
   "id": "147df12d",
   "metadata": {},
   "outputs": [
    {
     "data": {
      "text/html": [
       "<span style=\"None\">Running query in &#x27;sqlite://&#x27;</span>"
      ],
      "text/plain": [
       "Running query in 'sqlite://'"
      ]
     },
     "metadata": {},
     "output_type": "display_data"
    },
    {
     "data": {
      "text/html": [
       "<span style=\"color: green\">5 rows affected.</span>"
      ],
      "text/plain": [
       "5 rows affected."
      ]
     },
     "metadata": {},
     "output_type": "display_data"
    },
    {
     "data": {
      "text/html": [
       "<table>\n",
       "    <thead>\n",
       "        <tr>\n",
       "        </tr>\n",
       "    </thead>\n",
       "    <tbody>\n",
       "    </tbody>\n",
       "</table>"
      ],
      "text/plain": [
       "++\n",
       "||\n",
       "++\n",
       "++"
      ]
     },
     "execution_count": 6,
     "metadata": {},
     "output_type": "execute_result"
    }
   ],
   "source": [
    "%%sql\n",
    "CREATE TABLE projects (\n",
    "    id int,\n",
    "    project_name varchar(100),\n",
    "    emp_id int\n",
    ");\n",
    "\n",
    "INSERT INTO projects\n",
    "VALUES (1, 'Fintech App', 1), (1, 'Fintech App', 5), (1, 'Fintech App', 6), (2, 'Cooking Website', 1), (2, 'Cooking Website', 2);"
   ]
  },
  {
   "cell_type": "code",
   "execution_count": 7,
   "id": "0a4ea40b",
   "metadata": {},
   "outputs": [
    {
     "data": {
      "text/html": [
       "<span style=\"None\">Running query in &#x27;sqlite://&#x27;</span>"
      ],
      "text/plain": [
       "Running query in 'sqlite://'"
      ]
     },
     "metadata": {},
     "output_type": "display_data"
    },
    {
     "data": {
      "text/html": [
       "<table>\n",
       "    <thead>\n",
       "        <tr>\n",
       "            <th>id</th>\n",
       "            <th>project_name</th>\n",
       "            <th>emp_id</th>\n",
       "        </tr>\n",
       "    </thead>\n",
       "    <tbody>\n",
       "        <tr>\n",
       "            <td>1</td>\n",
       "            <td>Fintech App</td>\n",
       "            <td>1</td>\n",
       "        </tr>\n",
       "        <tr>\n",
       "            <td>1</td>\n",
       "            <td>Fintech App</td>\n",
       "            <td>5</td>\n",
       "        </tr>\n",
       "        <tr>\n",
       "            <td>1</td>\n",
       "            <td>Fintech App</td>\n",
       "            <td>6</td>\n",
       "        </tr>\n",
       "        <tr>\n",
       "            <td>2</td>\n",
       "            <td>Cooking Website</td>\n",
       "            <td>1</td>\n",
       "        </tr>\n",
       "        <tr>\n",
       "            <td>2</td>\n",
       "            <td>Cooking Website</td>\n",
       "            <td>2</td>\n",
       "        </tr>\n",
       "    </tbody>\n",
       "</table>"
      ],
      "text/plain": [
       "+----+-----------------+--------+\n",
       "| id |   project_name  | emp_id |\n",
       "+----+-----------------+--------+\n",
       "| 1  |   Fintech App   |   1    |\n",
       "| 1  |   Fintech App   |   5    |\n",
       "| 1  |   Fintech App   |   6    |\n",
       "| 2  | Cooking Website |   1    |\n",
       "| 2  | Cooking Website |   2    |\n",
       "+----+-----------------+--------+"
      ]
     },
     "execution_count": 7,
     "metadata": {},
     "output_type": "execute_result"
    }
   ],
   "source": [
    "%sql SELECT * from projects;"
   ]
  },
  {
   "cell_type": "code",
   "execution_count": 8,
   "id": "6738f6f3",
   "metadata": {},
   "outputs": [
    {
     "data": {
      "text/html": [
       "<span style=\"None\">Running query in &#x27;sqlite://&#x27;</span>"
      ],
      "text/plain": [
       "Running query in 'sqlite://'"
      ]
     },
     "metadata": {},
     "output_type": "display_data"
    },
    {
     "data": {
      "text/html": [
       "<table>\n",
       "    <thead>\n",
       "        <tr>\n",
       "            <th>id</th>\n",
       "            <th>manager_name</th>\n",
       "            <th>dept_id</th>\n",
       "        </tr>\n",
       "    </thead>\n",
       "    <tbody>\n",
       "        <tr>\n",
       "            <td>1</td>\n",
       "            <td>Doe</td>\n",
       "            <td>1</td>\n",
       "        </tr>\n",
       "        <tr>\n",
       "            <td>2</td>\n",
       "            <td>Jane</td>\n",
       "            <td>2</td>\n",
       "        </tr>\n",
       "        <tr>\n",
       "            <td>3</td>\n",
       "            <td>May</td>\n",
       "            <td>4</td>\n",
       "        </tr>\n",
       "    </tbody>\n",
       "</table>"
      ],
      "text/plain": [
       "+----+--------------+---------+\n",
       "| id | manager_name | dept_id |\n",
       "+----+--------------+---------+\n",
       "| 1  |     Doe      |    1    |\n",
       "| 2  |     Jane     |    2    |\n",
       "| 3  |     May      |    4    |\n",
       "+----+--------------+---------+"
      ]
     },
     "execution_count": 8,
     "metadata": {},
     "output_type": "execute_result"
    }
   ],
   "source": [
    "%sql SELECT * from managers;"
   ]
  },
  {
   "cell_type": "code",
   "execution_count": 9,
   "id": "d59c4932",
   "metadata": {},
   "outputs": [
    {
     "data": {
      "text/html": [
       "<span style=\"None\">Running query in &#x27;sqlite://&#x27;</span>"
      ],
      "text/plain": [
       "Running query in 'sqlite://'"
      ]
     },
     "metadata": {},
     "output_type": "display_data"
    },
    {
     "data": {
      "text/html": [
       "<table>\n",
       "    <thead>\n",
       "        <tr>\n",
       "            <th>id</th>\n",
       "            <th>emp_name</th>\n",
       "            <th>salary</th>\n",
       "            <th>dept_id</th>\n",
       "            <th>manager_id</th>\n",
       "        </tr>\n",
       "    </thead>\n",
       "    <tbody>\n",
       "        <tr>\n",
       "            <td>1</td>\n",
       "            <td>Idris</td>\n",
       "            <td>1000</td>\n",
       "            <td>1</td>\n",
       "            <td>1</td>\n",
       "        </tr>\n",
       "        <tr>\n",
       "            <td>2</td>\n",
       "            <td>Aweda</td>\n",
       "            <td>2000</td>\n",
       "            <td>2</td>\n",
       "            <td>2</td>\n",
       "        </tr>\n",
       "        <tr>\n",
       "            <td>3</td>\n",
       "            <td>Zubair</td>\n",
       "            <td>3000</td>\n",
       "            <td>3</td>\n",
       "            <td>2</td>\n",
       "        </tr>\n",
       "        <tr>\n",
       "            <td>4</td>\n",
       "            <td>Young</td>\n",
       "            <td>4000</td>\n",
       "            <td>3</td>\n",
       "            <td>3</td>\n",
       "        </tr>\n",
       "        <tr>\n",
       "            <td>5</td>\n",
       "            <td>Babu</td>\n",
       "            <td>5000</td>\n",
       "            <td>1</td>\n",
       "            <td>3</td>\n",
       "        </tr>\n",
       "        <tr>\n",
       "            <td>6</td>\n",
       "            <td>John</td>\n",
       "            <td>1000</td>\n",
       "            <td>8</td>\n",
       "            <td>1</td>\n",
       "        </tr>\n",
       "    </tbody>\n",
       "</table>"
      ],
      "text/plain": [
       "+----+----------+--------+---------+------------+\n",
       "| id | emp_name | salary | dept_id | manager_id |\n",
       "+----+----------+--------+---------+------------+\n",
       "| 1  |  Idris   |  1000  |    1    |     1      |\n",
       "| 2  |  Aweda   |  2000  |    2    |     2      |\n",
       "| 3  |  Zubair  |  3000  |    3    |     2      |\n",
       "| 4  |  Young   |  4000  |    3    |     3      |\n",
       "| 5  |   Babu   |  5000  |    1    |     3      |\n",
       "| 6  |   John   |  1000  |    8    |     1      |\n",
       "+----+----------+--------+---------+------------+"
      ]
     },
     "execution_count": 9,
     "metadata": {},
     "output_type": "execute_result"
    }
   ],
   "source": [
    "%sql SELECT * from employees;"
   ]
  },
  {
   "cell_type": "code",
   "execution_count": 10,
   "id": "8730264d",
   "metadata": {},
   "outputs": [
    {
     "data": {
      "text/html": [
       "<span style=\"None\">Running query in &#x27;sqlite://&#x27;</span>"
      ],
      "text/plain": [
       "Running query in 'sqlite://'"
      ]
     },
     "metadata": {},
     "output_type": "display_data"
    },
    {
     "data": {
      "text/html": [
       "<table>\n",
       "    <thead>\n",
       "        <tr>\n",
       "            <th>id</th>\n",
       "            <th>dept_name</th>\n",
       "        </tr>\n",
       "    </thead>\n",
       "    <tbody>\n",
       "        <tr>\n",
       "            <td>1</td>\n",
       "            <td>Engineering</td>\n",
       "        </tr>\n",
       "        <tr>\n",
       "            <td>2</td>\n",
       "            <td>Product</td>\n",
       "        </tr>\n",
       "        <tr>\n",
       "            <td>3</td>\n",
       "            <td>Marketing</td>\n",
       "        </tr>\n",
       "        <tr>\n",
       "            <td>4</td>\n",
       "            <td>Support</td>\n",
       "        </tr>\n",
       "    </tbody>\n",
       "</table>"
      ],
      "text/plain": [
       "+----+-------------+\n",
       "| id |  dept_name  |\n",
       "+----+-------------+\n",
       "| 1  | Engineering |\n",
       "| 2  |   Product   |\n",
       "| 3  |  Marketing  |\n",
       "| 4  |   Support   |\n",
       "+----+-------------+"
      ]
     },
     "execution_count": 10,
     "metadata": {},
     "output_type": "execute_result"
    }
   ],
   "source": [
    "%sql SELECT * from departments;"
   ]
  },
  {
   "cell_type": "code",
   "execution_count": 11,
   "id": "97810a19",
   "metadata": {},
   "outputs": [
    {
     "data": {
      "text/html": [
       "<span style=\"None\">Running query in &#x27;sqlite://&#x27;</span>"
      ],
      "text/plain": [
       "Running query in 'sqlite://'"
      ]
     },
     "metadata": {},
     "output_type": "display_data"
    },
    {
     "data": {
      "text/html": [
       "<table>\n",
       "    <thead>\n",
       "        <tr>\n",
       "            <th>emp_name</th>\n",
       "            <th>dept_name</th>\n",
       "        </tr>\n",
       "    </thead>\n",
       "    <tbody>\n",
       "        <tr>\n",
       "            <td>Idris</td>\n",
       "            <td>Engineering</td>\n",
       "        </tr>\n",
       "        <tr>\n",
       "            <td>Aweda</td>\n",
       "            <td>Product</td>\n",
       "        </tr>\n",
       "        <tr>\n",
       "            <td>Zubair</td>\n",
       "            <td>Marketing</td>\n",
       "        </tr>\n",
       "        <tr>\n",
       "            <td>Young</td>\n",
       "            <td>Marketing</td>\n",
       "        </tr>\n",
       "        <tr>\n",
       "            <td>Babu</td>\n",
       "            <td>Engineering</td>\n",
       "        </tr>\n",
       "    </tbody>\n",
       "</table>"
      ],
      "text/plain": [
       "+----------+-------------+\n",
       "| emp_name |  dept_name  |\n",
       "+----------+-------------+\n",
       "|  Idris   | Engineering |\n",
       "|  Aweda   |   Product   |\n",
       "|  Zubair  |  Marketing  |\n",
       "|  Young   |  Marketing  |\n",
       "|   Babu   | Engineering |\n",
       "+----------+-------------+"
      ]
     },
     "execution_count": 11,
     "metadata": {},
     "output_type": "execute_result"
    }
   ],
   "source": [
    "%%sql\n",
    "SELECT e.emp_name, d.dept_name\n",
    "FROM employees e\n",
    "INNER JOIN departments d ON e.dept_id = d.id;"
   ]
  },
  {
   "cell_type": "code",
   "execution_count": 12,
   "id": "27b6d6f8",
   "metadata": {},
   "outputs": [
    {
     "data": {
      "text/html": [
       "<span style=\"None\">Running query in &#x27;sqlite://&#x27;</span>"
      ],
      "text/plain": [
       "Running query in 'sqlite://'"
      ]
     },
     "metadata": {},
     "output_type": "display_data"
    },
    {
     "data": {
      "text/html": [
       "<table>\n",
       "    <thead>\n",
       "        <tr>\n",
       "            <th>emp_name</th>\n",
       "            <th>manager_name</th>\n",
       "        </tr>\n",
       "    </thead>\n",
       "    <tbody>\n",
       "        <tr>\n",
       "            <td>Idris</td>\n",
       "            <td>Doe</td>\n",
       "        </tr>\n",
       "        <tr>\n",
       "            <td>Aweda</td>\n",
       "            <td>Jane</td>\n",
       "        </tr>\n",
       "        <tr>\n",
       "            <td>Zubair</td>\n",
       "            <td>Jane</td>\n",
       "        </tr>\n",
       "        <tr>\n",
       "            <td>Young</td>\n",
       "            <td>May</td>\n",
       "        </tr>\n",
       "        <tr>\n",
       "            <td>Babu</td>\n",
       "            <td>May</td>\n",
       "        </tr>\n",
       "        <tr>\n",
       "            <td>John</td>\n",
       "            <td>Doe</td>\n",
       "        </tr>\n",
       "    </tbody>\n",
       "</table>"
      ],
      "text/plain": [
       "+----------+--------------+\n",
       "| emp_name | manager_name |\n",
       "+----------+--------------+\n",
       "|  Idris   |     Doe      |\n",
       "|  Aweda   |     Jane     |\n",
       "|  Zubair  |     Jane     |\n",
       "|  Young   |     May      |\n",
       "|   Babu   |     May      |\n",
       "|   John   |     Doe      |\n",
       "+----------+--------------+"
      ]
     },
     "execution_count": 12,
     "metadata": {},
     "output_type": "execute_result"
    }
   ],
   "source": [
    "%%sql\n",
    "SELECT e.emp_name, m.manager_name\n",
    "FROM employees e\n",
    "LEFT JOIN managers m ON e.manager_id = m.id;"
   ]
  },
  {
   "cell_type": "code",
   "execution_count": 13,
   "id": "8c5d019b",
   "metadata": {},
   "outputs": [
    {
     "data": {
      "text/html": [
       "<span style=\"None\">Running query in &#x27;sqlite://&#x27;</span>"
      ],
      "text/plain": [
       "Running query in 'sqlite://'"
      ]
     },
     "metadata": {},
     "output_type": "display_data"
    },
    {
     "data": {
      "text/html": [
       "<table>\n",
       "    <thead>\n",
       "        <tr>\n",
       "            <th>dept_name</th>\n",
       "            <th>avg_salary</th>\n",
       "        </tr>\n",
       "    </thead>\n",
       "    <tbody>\n",
       "        <tr>\n",
       "            <td>Engineering</td>\n",
       "            <td>3000.0</td>\n",
       "        </tr>\n",
       "        <tr>\n",
       "            <td>Marketing</td>\n",
       "            <td>3500.0</td>\n",
       "        </tr>\n",
       "        <tr>\n",
       "            <td>Product</td>\n",
       "            <td>2000.0</td>\n",
       "        </tr>\n",
       "        <tr>\n",
       "            <td>Support</td>\n",
       "            <td>None</td>\n",
       "        </tr>\n",
       "    </tbody>\n",
       "</table>"
      ],
      "text/plain": [
       "+-------------+------------+\n",
       "|  dept_name  | avg_salary |\n",
       "+-------------+------------+\n",
       "| Engineering |   3000.0   |\n",
       "|  Marketing  |   3500.0   |\n",
       "|   Product   |   2000.0   |\n",
       "|   Support   |    None    |\n",
       "+-------------+------------+"
      ]
     },
     "execution_count": 13,
     "metadata": {},
     "output_type": "execute_result"
    }
   ],
   "source": [
    "%%sql\n",
    "SELECT departments.dept_name, AVG(employees.salary) AS avg_salary\n",
    "FROM departments\n",
    "LEFT JOIN employees ON departments.id = employees.dept_id\n",
    "GROUP BY departments.dept_name;"
   ]
  },
  {
   "cell_type": "code",
   "execution_count": 14,
   "id": "a19681b4",
   "metadata": {},
   "outputs": [
    {
     "data": {
      "text/html": [
       "<span style=\"None\">Running query in &#x27;sqlite://&#x27;</span>"
      ],
      "text/plain": [
       "Running query in 'sqlite://'"
      ]
     },
     "metadata": {},
     "output_type": "display_data"
    }
   ],
   "source": [
    "emp_dpt = %sql SELECT e.emp_name, d.dept_name FROM employees e INNER JOIN departments d ON e.dept_id = d.id;"
   ]
  },
  {
   "cell_type": "code",
   "execution_count": 15,
   "id": "2062fef8",
   "metadata": {},
   "outputs": [
    {
     "data": {
      "text/html": [
       "<table>\n",
       "    <thead>\n",
       "        <tr>\n",
       "            <th>emp_name</th>\n",
       "            <th>dept_name</th>\n",
       "        </tr>\n",
       "    </thead>\n",
       "    <tbody>\n",
       "        <tr>\n",
       "            <td>Idris</td>\n",
       "            <td>Engineering</td>\n",
       "        </tr>\n",
       "        <tr>\n",
       "            <td>Aweda</td>\n",
       "            <td>Product</td>\n",
       "        </tr>\n",
       "        <tr>\n",
       "            <td>Zubair</td>\n",
       "            <td>Marketing</td>\n",
       "        </tr>\n",
       "        <tr>\n",
       "            <td>Young</td>\n",
       "            <td>Marketing</td>\n",
       "        </tr>\n",
       "        <tr>\n",
       "            <td>Babu</td>\n",
       "            <td>Engineering</td>\n",
       "        </tr>\n",
       "    </tbody>\n",
       "</table>"
      ],
      "text/plain": [
       "+----------+-------------+\n",
       "| emp_name |  dept_name  |\n",
       "+----------+-------------+\n",
       "|  Idris   | Engineering |\n",
       "|  Aweda   |   Product   |\n",
       "|  Zubair  |  Marketing  |\n",
       "|  Young   |  Marketing  |\n",
       "|   Babu   | Engineering |\n",
       "+----------+-------------+"
      ]
     },
     "execution_count": 15,
     "metadata": {},
     "output_type": "execute_result"
    }
   ],
   "source": [
    "emp_dpt"
   ]
  },
  {
   "cell_type": "code",
   "execution_count": null,
   "id": "b2b2d298",
   "metadata": {},
   "outputs": [],
   "source": []
  }
 ],
 "metadata": {
  "kernelspec": {
   "display_name": "Python 3 (ipykernel)",
   "language": "python",
   "name": "python3"
  },
  "language_info": {
   "codemirror_mode": {
    "name": "ipython",
    "version": 3
   },
   "file_extension": ".py",
   "mimetype": "text/x-python",
   "name": "python",
   "nbconvert_exporter": "python",
   "pygments_lexer": "ipython3",
   "version": "3.10.9"
  }
 },
 "nbformat": 4,
 "nbformat_minor": 5
}

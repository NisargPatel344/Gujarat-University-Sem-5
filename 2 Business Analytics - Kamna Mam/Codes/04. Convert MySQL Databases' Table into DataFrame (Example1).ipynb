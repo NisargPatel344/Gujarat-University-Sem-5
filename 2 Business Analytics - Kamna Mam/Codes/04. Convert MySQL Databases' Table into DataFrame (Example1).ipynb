{
 "cells": [
  {
   "cell_type": "code",
   "execution_count": 2,
   "id": "7e047c88",
   "metadata": {
    "scrolled": false
   },
   "outputs": [
    {
     "name": "stdout",
     "output_type": "stream",
     "text": [
      "Requirement already satisfied: sqlalchemy in c:\\users\\nisar\\anaconda3\\lib\\site-packages (2.0.20)\n",
      "Requirement already satisfied: mysql-connector-python in c:\\users\\nisar\\anaconda3\\lib\\site-packages (8.0.33)\n",
      "Requirement already satisfied: greenlet!=0.4.17 in c:\\users\\nisar\\anaconda3\\lib\\site-packages (from sqlalchemy) (2.0.1)\n",
      "Requirement already satisfied: typing-extensions>=4.2.0 in c:\\users\\nisar\\anaconda3\\lib\\site-packages (from sqlalchemy) (4.4.0)\n",
      "Requirement already satisfied: protobuf<=3.20.3,>=3.11.0 in c:\\users\\nisar\\anaconda3\\lib\\site-packages (from mysql-connector-python) (3.20.3)\n"
     ]
    }
   ],
   "source": [
    "# First, install the required libraries using pip\n",
    "!pip install sqlalchemy mysql-connector-python"
   ]
  },
  {
   "cell_type": "code",
   "execution_count": 3,
   "id": "6c8349d6",
   "metadata": {},
   "outputs": [],
   "source": [
    "# Import necessary libraries\n",
    "import pandas as pd\n",
    "from sqlalchemy import create_engine, text, select"
   ]
  },
  {
   "cell_type": "code",
   "execution_count": 4,
   "id": "84a46ce0",
   "metadata": {},
   "outputs": [],
   "source": [
    "# Database connection details\n",
    "db_username = 'root'\n",
    "db_password = '11111111'\n",
    "db_host = 'localhost' \n",
    "db_port = '3306'       \n",
    "db_database = 'LibraryDB'"
   ]
  },
  {
   "cell_type": "code",
   "execution_count": 5,
   "id": "e5b6daaa",
   "metadata": {},
   "outputs": [],
   "source": [
    "# Create a SQLAlchemy engine to connect to the MySQL database\n",
    "engine = create_engine(f'mysql+mysqlconnector://{db_username}:{db_password}@{db_host}:{db_port}/{db_database}')"
   ]
  },
  {
   "cell_type": "markdown",
   "id": "aca799c3",
   "metadata": {},
   "source": [
    "# Books "
   ]
  },
  {
   "cell_type": "code",
   "execution_count": 6,
   "id": "83cb6d5f",
   "metadata": {},
   "outputs": [],
   "source": [
    "# Create a SQLAlchemy select statement for the table\n",
    "books = text(\"SELECT * FROM Books\")"
   ]
  },
  {
   "cell_type": "code",
   "execution_count": 7,
   "id": "d68b502a",
   "metadata": {},
   "outputs": [],
   "source": [
    "# Execute the select statement and fetch the data into a DataFrame\n",
    "with engine.connect() as connection:\n",
    "    result = connection.execute(books)\n",
    "    books_df = pd.DataFrame(result.fetchall(), columns=result.keys())"
   ]
  },
  {
   "cell_type": "code",
   "execution_count": 8,
   "id": "1b7a6edd",
   "metadata": {},
   "outputs": [
    {
     "name": "stdout",
     "output_type": "stream",
     "text": [
      "   BookID                   Title ISBN  PublicationYear  AuthorID\n",
      "0     101  The Art of Programming  977             2022         1\n",
      "1     102     Data Science Basics  978             2021         2\n",
      "2     103     Web Development 101  979             2023         1\n"
     ]
    }
   ],
   "source": [
    "# Print the DataFrame containing the fetched data\n",
    "print(books_df)"
   ]
  },
  {
   "cell_type": "code",
   "execution_count": 9,
   "id": "d65c0304",
   "metadata": {},
   "outputs": [
    {
     "data": {
      "text/html": [
       "<div>\n",
       "<style scoped>\n",
       "    .dataframe tbody tr th:only-of-type {\n",
       "        vertical-align: middle;\n",
       "    }\n",
       "\n",
       "    .dataframe tbody tr th {\n",
       "        vertical-align: top;\n",
       "    }\n",
       "\n",
       "    .dataframe thead th {\n",
       "        text-align: right;\n",
       "    }\n",
       "</style>\n",
       "<table border=\"1\" class=\"dataframe\">\n",
       "  <thead>\n",
       "    <tr style=\"text-align: right;\">\n",
       "      <th></th>\n",
       "      <th>BookID</th>\n",
       "      <th>Title</th>\n",
       "      <th>ISBN</th>\n",
       "      <th>PublicationYear</th>\n",
       "      <th>AuthorID</th>\n",
       "    </tr>\n",
       "  </thead>\n",
       "  <tbody>\n",
       "    <tr>\n",
       "      <th>0</th>\n",
       "      <td>101</td>\n",
       "      <td>The Art of Programming</td>\n",
       "      <td>977</td>\n",
       "      <td>2022</td>\n",
       "      <td>1</td>\n",
       "    </tr>\n",
       "    <tr>\n",
       "      <th>1</th>\n",
       "      <td>102</td>\n",
       "      <td>Data Science Basics</td>\n",
       "      <td>978</td>\n",
       "      <td>2021</td>\n",
       "      <td>2</td>\n",
       "    </tr>\n",
       "    <tr>\n",
       "      <th>2</th>\n",
       "      <td>103</td>\n",
       "      <td>Web Development 101</td>\n",
       "      <td>979</td>\n",
       "      <td>2023</td>\n",
       "      <td>1</td>\n",
       "    </tr>\n",
       "  </tbody>\n",
       "</table>\n",
       "</div>"
      ],
      "text/plain": [
       "   BookID                   Title ISBN  PublicationYear  AuthorID\n",
       "0     101  The Art of Programming  977             2022         1\n",
       "1     102     Data Science Basics  978             2021         2\n",
       "2     103     Web Development 101  979             2023         1"
      ]
     },
     "metadata": {},
     "output_type": "display_data"
    }
   ],
   "source": [
    "# Display the DataFrame in a Jupyter Notebook or compatible environment\n",
    "display(books_df)"
   ]
  },
  {
   "cell_type": "markdown",
   "id": "517b6c37",
   "metadata": {},
   "source": [
    "# Authors"
   ]
  },
  {
   "cell_type": "code",
   "execution_count": 10,
   "id": "0162cf43",
   "metadata": {},
   "outputs": [],
   "source": [
    "# Create a SQLAlchemy select statement for the table\n",
    "authors = text(\"SELECT * FROM Authors \")"
   ]
  },
  {
   "cell_type": "code",
   "execution_count": 11,
   "id": "26e106ed",
   "metadata": {},
   "outputs": [],
   "source": [
    "# Execute the select statement and fetch the data into a DataFrame\n",
    "with engine.connect() as connection:\n",
    "    result = connection.execute(authors)\n",
    "    authors_df = pd.DataFrame(result.fetchall(), columns=result.keys())"
   ]
  },
  {
   "cell_type": "code",
   "execution_count": 12,
   "id": "dfa80cca",
   "metadata": {},
   "outputs": [
    {
     "name": "stdout",
     "output_type": "stream",
     "text": [
      "   AuthorID FirstName LastName   BirthDate\n",
      "0         1      John      Doe  1970-05-15\n",
      "1         2      Jane    Smith  1985-03-22\n"
     ]
    }
   ],
   "source": [
    "# Print the DataFrame containing the fetched data\n",
    "print(authors_df)"
   ]
  },
  {
   "cell_type": "code",
   "execution_count": 13,
   "id": "f603f76c",
   "metadata": {},
   "outputs": [
    {
     "data": {
      "text/html": [
       "<div>\n",
       "<style scoped>\n",
       "    .dataframe tbody tr th:only-of-type {\n",
       "        vertical-align: middle;\n",
       "    }\n",
       "\n",
       "    .dataframe tbody tr th {\n",
       "        vertical-align: top;\n",
       "    }\n",
       "\n",
       "    .dataframe thead th {\n",
       "        text-align: right;\n",
       "    }\n",
       "</style>\n",
       "<table border=\"1\" class=\"dataframe\">\n",
       "  <thead>\n",
       "    <tr style=\"text-align: right;\">\n",
       "      <th></th>\n",
       "      <th>AuthorID</th>\n",
       "      <th>FirstName</th>\n",
       "      <th>LastName</th>\n",
       "      <th>BirthDate</th>\n",
       "    </tr>\n",
       "  </thead>\n",
       "  <tbody>\n",
       "    <tr>\n",
       "      <th>0</th>\n",
       "      <td>1</td>\n",
       "      <td>John</td>\n",
       "      <td>Doe</td>\n",
       "      <td>1970-05-15</td>\n",
       "    </tr>\n",
       "    <tr>\n",
       "      <th>1</th>\n",
       "      <td>2</td>\n",
       "      <td>Jane</td>\n",
       "      <td>Smith</td>\n",
       "      <td>1985-03-22</td>\n",
       "    </tr>\n",
       "  </tbody>\n",
       "</table>\n",
       "</div>"
      ],
      "text/plain": [
       "   AuthorID FirstName LastName   BirthDate\n",
       "0         1      John      Doe  1970-05-15\n",
       "1         2      Jane    Smith  1985-03-22"
      ]
     },
     "metadata": {},
     "output_type": "display_data"
    }
   ],
   "source": [
    "# Display the DataFrame in a Jupyter Notebook or compatible environment\n",
    "display(authors_df)"
   ]
  },
  {
   "cell_type": "markdown",
   "id": "403f183e",
   "metadata": {},
   "source": [
    "MySQL Script to Writge Before Running the Code :-\n",
    "\n",
    "-- Create the database\n",
    "CREATE DATABASE IF NOT EXISTS LibraryDB;\n",
    "\n",
    "-- Use the Library database\n",
    "USE LibraryDB;\n",
    "\n",
    "-- Create the Authors table\n",
    "CREATE TABLE IF NOT EXISTS Authors (\n",
    "    AuthorID INT PRIMARY KEY,\n",
    "    FirstName VARCHAR(255),\n",
    "    LastName VARCHAR(255),\n",
    "    BirthDate DATE\n",
    ");\n",
    "\n",
    "-- Create the Books table with a foreign key constraint referencing Authors table\n",
    "CREATE TABLE IF NOT EXISTS Books (\n",
    "    BookID INT PRIMARY KEY,\n",
    "    Title VARCHAR(255),\n",
    "    ISBN VARCHAR(255),\n",
    "    PublicationYear INT,\n",
    "    AuthorID INT,\n",
    "    FOREIGN KEY (AuthorID) REFERENCES Authors(AuthorID)\n",
    ");\n",
    "\n",
    "-- Insert data into Authors table\n",
    "INSERT INTO Authors (AuthorID, FirstName, LastName, BirthDate)\n",
    "VALUES\n",
    "    (1, 'John', 'Doe', '1970-05-15'),\n",
    "    (2, 'Jane', 'Smith', '1985-03-22');\n",
    "\n",
    "-- Insert data into Books table\n",
    "INSERT INTO Books (BookID, Title, ISBN, PublicationYear, AuthorID)\n",
    "VALUES\n",
    "    (101, 'The Art of Programming', '977', 2022, 1),\n",
    "    (102, 'Data Science Basics', '978', 2021, 2),\n",
    "    (103, 'Web Development 101', '979', 2023, 1);"
   ]
  }
 ],
 "metadata": {
  "kernelspec": {
   "display_name": "Python 3 (ipykernel)",
   "language": "python",
   "name": "python3"
  },
  "language_info": {
   "codemirror_mode": {
    "name": "ipython",
    "version": 3
   },
   "file_extension": ".py",
   "mimetype": "text/x-python",
   "name": "python",
   "nbconvert_exporter": "python",
   "pygments_lexer": "ipython3",
   "version": "3.10.9"
  }
 },
 "nbformat": 4,
 "nbformat_minor": 5
}

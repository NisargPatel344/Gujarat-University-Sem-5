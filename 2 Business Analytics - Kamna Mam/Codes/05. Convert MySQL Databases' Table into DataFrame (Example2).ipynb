{
 "cells": [
  {
   "cell_type": "code",
   "execution_count": 1,
   "id": "b0994403",
   "metadata": {},
   "outputs": [
    {
     "name": "stdout",
     "output_type": "stream",
     "text": [
      "Requirement already satisfied: sqlalchemy in c:\\users\\nisar\\anaconda3\\lib\\site-packages (2.0.20)\n",
      "Requirement already satisfied: mysql-connector-python in c:\\users\\nisar\\anaconda3\\lib\\site-packages (8.0.33)\n",
      "Requirement already satisfied: greenlet!=0.4.17 in c:\\users\\nisar\\anaconda3\\lib\\site-packages (from sqlalchemy) (2.0.1)\n",
      "Requirement already satisfied: typing-extensions>=4.2.0 in c:\\users\\nisar\\anaconda3\\lib\\site-packages (from sqlalchemy) (4.4.0)\n",
      "Requirement already satisfied: protobuf<=3.20.3,>=3.11.0 in c:\\users\\nisar\\anaconda3\\lib\\site-packages (from mysql-connector-python) (3.20.3)\n"
     ]
    }
   ],
   "source": [
    "# First, install the required libraries using pip\n",
    "!pip install sqlalchemy mysql-connector-python"
   ]
  },
  {
   "cell_type": "code",
   "execution_count": 2,
   "id": "cff160f4",
   "metadata": {},
   "outputs": [],
   "source": [
    "# Import necessary libraries\n",
    "import pandas as pd\n",
    "from sqlalchemy import create_engine, text, select"
   ]
  },
  {
   "cell_type": "code",
   "execution_count": 3,
   "id": "1ccd766b",
   "metadata": {},
   "outputs": [],
   "source": [
    "# Database connection details\n",
    "db_username = 'root'\n",
    "db_password = '11111111'\n",
    "db_host = 'localhost' \n",
    "db_port = '3306'       \n",
    "db_database = 'OnlineStoreDB'"
   ]
  },
  {
   "cell_type": "code",
   "execution_count": 4,
   "id": "90368af9",
   "metadata": {},
   "outputs": [],
   "source": [
    "# Create a SQLAlchemy engine to connect to the MySQL database\n",
    "engine = create_engine(f'mysql+mysqlconnector://{db_username}:{db_password}@{db_host}:{db_port}/{db_database}')"
   ]
  },
  {
   "cell_type": "markdown",
   "id": "1fb93536",
   "metadata": {},
   "source": [
    "# Customers "
   ]
  },
  {
   "cell_type": "code",
   "execution_count": 5,
   "id": "8f09b1e4",
   "metadata": {},
   "outputs": [],
   "source": [
    "# Create a SQLAlchemy select statement for the table\n",
    "customers  = text(\"SELECT * FROM Customers\")"
   ]
  },
  {
   "cell_type": "code",
   "execution_count": 6,
   "id": "1d5b8971",
   "metadata": {},
   "outputs": [],
   "source": [
    "# Execute the select statement and fetch the data into a DataFrame\n",
    "with engine.connect() as connection:\n",
    "    result = connection.execute(customers)\n",
    "    customers_df = pd.DataFrame(result.fetchall(), columns=result.keys())"
   ]
  },
  {
   "cell_type": "code",
   "execution_count": 7,
   "id": "5b362d12",
   "metadata": {},
   "outputs": [
    {
     "name": "stdout",
     "output_type": "stream",
     "text": [
      "   CustomerID FirstName LastName                 Email         Phone  \\\n",
      "0           1      John      Doe    john.doe@email.com  123-456-7890   \n",
      "1           2      Jane    Smith  jane.smith@email.com  987-654-3210   \n",
      "\n",
      "       Address  \n",
      "0  123 Main St  \n",
      "1   456 Elm St  \n"
     ]
    }
   ],
   "source": [
    "# Print the DataFrame containing the fetched data\n",
    "print(customers_df)"
   ]
  },
  {
   "cell_type": "code",
   "execution_count": 8,
   "id": "afd2a351",
   "metadata": {},
   "outputs": [
    {
     "data": {
      "text/html": [
       "<div>\n",
       "<style scoped>\n",
       "    .dataframe tbody tr th:only-of-type {\n",
       "        vertical-align: middle;\n",
       "    }\n",
       "\n",
       "    .dataframe tbody tr th {\n",
       "        vertical-align: top;\n",
       "    }\n",
       "\n",
       "    .dataframe thead th {\n",
       "        text-align: right;\n",
       "    }\n",
       "</style>\n",
       "<table border=\"1\" class=\"dataframe\">\n",
       "  <thead>\n",
       "    <tr style=\"text-align: right;\">\n",
       "      <th></th>\n",
       "      <th>CustomerID</th>\n",
       "      <th>FirstName</th>\n",
       "      <th>LastName</th>\n",
       "      <th>Email</th>\n",
       "      <th>Phone</th>\n",
       "      <th>Address</th>\n",
       "    </tr>\n",
       "  </thead>\n",
       "  <tbody>\n",
       "    <tr>\n",
       "      <th>0</th>\n",
       "      <td>1</td>\n",
       "      <td>John</td>\n",
       "      <td>Doe</td>\n",
       "      <td>john.doe@email.com</td>\n",
       "      <td>123-456-7890</td>\n",
       "      <td>123 Main St</td>\n",
       "    </tr>\n",
       "    <tr>\n",
       "      <th>1</th>\n",
       "      <td>2</td>\n",
       "      <td>Jane</td>\n",
       "      <td>Smith</td>\n",
       "      <td>jane.smith@email.com</td>\n",
       "      <td>987-654-3210</td>\n",
       "      <td>456 Elm St</td>\n",
       "    </tr>\n",
       "  </tbody>\n",
       "</table>\n",
       "</div>"
      ],
      "text/plain": [
       "   CustomerID FirstName LastName                 Email         Phone  \\\n",
       "0           1      John      Doe    john.doe@email.com  123-456-7890   \n",
       "1           2      Jane    Smith  jane.smith@email.com  987-654-3210   \n",
       "\n",
       "       Address  \n",
       "0  123 Main St  \n",
       "1   456 Elm St  "
      ]
     },
     "metadata": {},
     "output_type": "display_data"
    }
   ],
   "source": [
    "# Display the DataFrame in a Jupyter Notebook or compatible environment\n",
    "display(customers_df)"
   ]
  },
  {
   "cell_type": "markdown",
   "id": "5af5165e",
   "metadata": {},
   "source": [
    "# Products"
   ]
  },
  {
   "cell_type": "code",
   "execution_count": 9,
   "id": "f6c59edd",
   "metadata": {},
   "outputs": [],
   "source": [
    "# Create a SQLAlchemy select statement for the table\n",
    "products = text(\"SELECT * FROM Products\")"
   ]
  },
  {
   "cell_type": "code",
   "execution_count": 10,
   "id": "2d429981",
   "metadata": {},
   "outputs": [],
   "source": [
    "# Execute the select statement and fetch the data into a DataFrame\n",
    "with engine.connect() as connection:\n",
    "    result = connection.execute(products)\n",
    "    products_df = pd.DataFrame(result.fetchall(), columns=result.keys())"
   ]
  },
  {
   "cell_type": "code",
   "execution_count": 11,
   "id": "b8fe6acd",
   "metadata": {},
   "outputs": [
    {
     "name": "stdout",
     "output_type": "stream",
     "text": [
      "   ProductID ProductName   Price  \\\n",
      "0        101  Smartphone  599.99   \n",
      "1        102      Laptop  999.99   \n",
      "2        103  Headphones   89.99   \n",
      "\n",
      "                                         Description  \n",
      "0     High-quality smartphone with advanced features  \n",
      "1         Powerful laptop for work and entertainment  \n",
      "2  Noise-canceling headphones with great sound qu...  \n"
     ]
    }
   ],
   "source": [
    "# Print the DataFrame containing the fetched data\n",
    "print(products_df)"
   ]
  },
  {
   "cell_type": "code",
   "execution_count": 12,
   "id": "11238dbc",
   "metadata": {},
   "outputs": [
    {
     "data": {
      "text/html": [
       "<div>\n",
       "<style scoped>\n",
       "    .dataframe tbody tr th:only-of-type {\n",
       "        vertical-align: middle;\n",
       "    }\n",
       "\n",
       "    .dataframe tbody tr th {\n",
       "        vertical-align: top;\n",
       "    }\n",
       "\n",
       "    .dataframe thead th {\n",
       "        text-align: right;\n",
       "    }\n",
       "</style>\n",
       "<table border=\"1\" class=\"dataframe\">\n",
       "  <thead>\n",
       "    <tr style=\"text-align: right;\">\n",
       "      <th></th>\n",
       "      <th>ProductID</th>\n",
       "      <th>ProductName</th>\n",
       "      <th>Price</th>\n",
       "      <th>Description</th>\n",
       "    </tr>\n",
       "  </thead>\n",
       "  <tbody>\n",
       "    <tr>\n",
       "      <th>0</th>\n",
       "      <td>101</td>\n",
       "      <td>Smartphone</td>\n",
       "      <td>599.99</td>\n",
       "      <td>High-quality smartphone with advanced features</td>\n",
       "    </tr>\n",
       "    <tr>\n",
       "      <th>1</th>\n",
       "      <td>102</td>\n",
       "      <td>Laptop</td>\n",
       "      <td>999.99</td>\n",
       "      <td>Powerful laptop for work and entertainment</td>\n",
       "    </tr>\n",
       "    <tr>\n",
       "      <th>2</th>\n",
       "      <td>103</td>\n",
       "      <td>Headphones</td>\n",
       "      <td>89.99</td>\n",
       "      <td>Noise-canceling headphones with great sound qu...</td>\n",
       "    </tr>\n",
       "  </tbody>\n",
       "</table>\n",
       "</div>"
      ],
      "text/plain": [
       "   ProductID ProductName   Price  \\\n",
       "0        101  Smartphone  599.99   \n",
       "1        102      Laptop  999.99   \n",
       "2        103  Headphones   89.99   \n",
       "\n",
       "                                         Description  \n",
       "0     High-quality smartphone with advanced features  \n",
       "1         Powerful laptop for work and entertainment  \n",
       "2  Noise-canceling headphones with great sound qu...  "
      ]
     },
     "metadata": {},
     "output_type": "display_data"
    }
   ],
   "source": [
    "# Display the DataFrame in a Jupyter Notebook or compatible environment\n",
    "display(products_df)"
   ]
  }
 ],
 "metadata": {
  "kernelspec": {
   "display_name": "Python 3 (ipykernel)",
   "language": "python",
   "name": "python3"
  },
  "language_info": {
   "codemirror_mode": {
    "name": "ipython",
    "version": 3
   },
   "file_extension": ".py",
   "mimetype": "text/x-python",
   "name": "python",
   "nbconvert_exporter": "python",
   "pygments_lexer": "ipython3",
   "version": "3.10.9"
  }
 },
 "nbformat": 4,
 "nbformat_minor": 5
}

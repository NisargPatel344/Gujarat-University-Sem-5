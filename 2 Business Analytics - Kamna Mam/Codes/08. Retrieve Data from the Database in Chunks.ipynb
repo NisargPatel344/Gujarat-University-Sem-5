{
 "cells": [
  {
   "cell_type": "code",
   "execution_count": 1,
   "id": "e1779eec",
   "metadata": {},
   "outputs": [],
   "source": [
    "import pandas as pd\n",
    "from sqlalchemy import create_engine, text"
   ]
  },
  {
   "cell_type": "code",
   "execution_count": 2,
   "id": "d42c289c",
   "metadata": {},
   "outputs": [],
   "source": [
    "db_username = 'root'\n",
    "db_password = '11111111'\n",
    "db_host = 'localhost'\n",
    "db_port = '3306'\n",
    "db_database = 'LibraryDB'"
   ]
  },
  {
   "cell_type": "code",
   "execution_count": 3,
   "id": "8aa8e908",
   "metadata": {},
   "outputs": [],
   "source": [
    "# Create an SQLAlchemy engine\n",
    "engine = create_engine(f'mysql+mysqlconnector://{db_username}:{db_password}@{db_host}:{db_port}/{db_database}')"
   ]
  },
  {
   "cell_type": "code",
   "execution_count": 4,
   "id": "f8fad0b5",
   "metadata": {},
   "outputs": [],
   "source": [
    "# Define the SQL query\n",
    "books_query = text(\"SELECT * FROM Books\")"
   ]
  },
  {
   "cell_type": "code",
   "execution_count": 5,
   "id": "6389deb1",
   "metadata": {},
   "outputs": [],
   "source": [
    "# Retrieve data from the database in chunks\n",
    "chunk_size = 5  # You can adjust this value based on your needs\n",
    "dataframes = []"
   ]
  },
  {
   "cell_type": "code",
   "execution_count": 6,
   "id": "17e9ac7d",
   "metadata": {},
   "outputs": [],
   "source": [
    "with engine.connect() as connection:\n",
    "    result = connection.execution_options(stream_results=True).execute(books_query)  # Use stream_results=True\n",
    "    while True:\n",
    "        chunk = result.fetchmany(chunk_size)\n",
    "        if not chunk:\n",
    "            break\n",
    "        df = pd.DataFrame(chunk, columns=result.keys())\n",
    "        dataframes.append(df)"
   ]
  },
  {
   "cell_type": "code",
   "execution_count": 7,
   "id": "1d704639",
   "metadata": {},
   "outputs": [],
   "source": [
    "# Concatenate the chunks into a single Pandas DataFrame\n",
    "books_df = pd.concat(dataframes)"
   ]
  },
  {
   "cell_type": "code",
   "execution_count": 8,
   "id": "a1803746",
   "metadata": {},
   "outputs": [
    {
     "data": {
      "text/html": [
       "<div>\n",
       "<style scoped>\n",
       "    .dataframe tbody tr th:only-of-type {\n",
       "        vertical-align: middle;\n",
       "    }\n",
       "\n",
       "    .dataframe tbody tr th {\n",
       "        vertical-align: top;\n",
       "    }\n",
       "\n",
       "    .dataframe thead th {\n",
       "        text-align: right;\n",
       "    }\n",
       "</style>\n",
       "<table border=\"1\" class=\"dataframe\">\n",
       "  <thead>\n",
       "    <tr style=\"text-align: right;\">\n",
       "      <th></th>\n",
       "      <th>BookID</th>\n",
       "      <th>Title</th>\n",
       "      <th>ISBN</th>\n",
       "      <th>PublicationYear</th>\n",
       "      <th>AuthorID</th>\n",
       "    </tr>\n",
       "  </thead>\n",
       "  <tbody>\n",
       "    <tr>\n",
       "      <th>0</th>\n",
       "      <td>101</td>\n",
       "      <td>The Art of Programming</td>\n",
       "      <td>977</td>\n",
       "      <td>2022</td>\n",
       "      <td>1</td>\n",
       "    </tr>\n",
       "    <tr>\n",
       "      <th>1</th>\n",
       "      <td>102</td>\n",
       "      <td>Data Science Basics</td>\n",
       "      <td>978</td>\n",
       "      <td>2021</td>\n",
       "      <td>2</td>\n",
       "    </tr>\n",
       "    <tr>\n",
       "      <th>2</th>\n",
       "      <td>103</td>\n",
       "      <td>Web Development 101</td>\n",
       "      <td>979</td>\n",
       "      <td>2023</td>\n",
       "      <td>1</td>\n",
       "    </tr>\n",
       "  </tbody>\n",
       "</table>\n",
       "</div>"
      ],
      "text/plain": [
       "   BookID                   Title ISBN  PublicationYear  AuthorID\n",
       "0     101  The Art of Programming  977             2022         1\n",
       "1     102     Data Science Basics  978             2021         2\n",
       "2     103     Web Development 101  979             2023         1"
      ]
     },
     "execution_count": 8,
     "metadata": {},
     "output_type": "execute_result"
    }
   ],
   "source": [
    "# Now, books_df contains the data from the \"Books\" table in chunks\n",
    "books_df"
   ]
  }
 ],
 "metadata": {
  "kernelspec": {
   "display_name": "Python 3 (ipykernel)",
   "language": "python",
   "name": "python3"
  },
  "language_info": {
   "codemirror_mode": {
    "name": "ipython",
    "version": 3
   },
   "file_extension": ".py",
   "mimetype": "text/x-python",
   "name": "python",
   "nbconvert_exporter": "python",
   "pygments_lexer": "ipython3",
   "version": "3.10.9"
  }
 },
 "nbformat": 4,
 "nbformat_minor": 5
}

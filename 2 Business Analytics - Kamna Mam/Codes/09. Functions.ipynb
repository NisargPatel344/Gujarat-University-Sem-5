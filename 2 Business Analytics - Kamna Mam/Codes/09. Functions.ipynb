{
 "cells": [
  {
   "cell_type": "markdown",
   "id": "e6519b05",
   "metadata": {},
   "source": [
    "# Time Module"
   ]
  },
  {
   "cell_type": "code",
   "execution_count": 15,
   "id": "7b85a7a6",
   "metadata": {},
   "outputs": [
    {
     "name": "stdout",
     "output_type": "stream",
     "text": [
      "16/11/2023\n",
      "16.11.2023\n",
      "18.00.23\n",
      "18:00:23\n"
     ]
    }
   ],
   "source": [
    "import time\n",
    "\n",
    "# Print the current date in the format: day/month/year\n",
    "print(time.strftime(\"%d/%m/%Y\"))\n",
    "\n",
    "# Print the current date in the format: day.month.year\n",
    "print(time.strftime(\"%d.%m.%Y\"))\n",
    "\n",
    "# Print the current time in the format: hours.minutes.seconds\n",
    "print(time.strftime(\"%H.%M.%S\"))\n",
    "\n",
    "# Print the current time in the format: hours:minutes:seconds\n",
    "print(time.strftime(\"%H:%M:%S\"))"
   ]
  },
  {
   "cell_type": "code",
   "execution_count": 16,
   "id": "0ac7bf4b",
   "metadata": {},
   "outputs": [
    {
     "name": "stdout",
     "output_type": "stream",
     "text": [
      "16/11/2023\n",
      "16.11.2023\n",
      "18.00.24\n",
      "18:00:24\n"
     ]
    }
   ],
   "source": [
    "import time\n",
    "\n",
    "# Get the current date in the format: day/month/year and assign it to the variable todaysdate\n",
    "todaysdate = time.strftime(\"%d/%m/%Y\")\n",
    "print(todaysdate)\n",
    "\n",
    "# Get the current date in the format: day.month.year and reassign it to the variable todaysdate\n",
    "todaysdate = time.strftime(\"%d.%m.%Y\")\n",
    "print(todaysdate)\n",
    "\n",
    "# Get the current time in the format: hours.minutes.seconds and assign it to the variable todaystime\n",
    "todaystime = time.strftime(\"%H.%M.%S\")\n",
    "print(todaystime)\n",
    "\n",
    "# Get the current time in the format: hours:minutes:seconds and reassign it to the variable todaystime\n",
    "todaystime = time.strftime(\"%H:%M:%S\")\n",
    "print(todaystime)"
   ]
  },
  {
   "cell_type": "code",
   "execution_count": 3,
   "id": "db8f45fe",
   "metadata": {},
   "outputs": [
    {
     "name": "stdout",
     "output_type": "stream",
     "text": [
      "2023-11-16 00:00:00\n"
     ]
    }
   ],
   "source": [
    "import datetime\n",
    "import pandas as pd  # Import the pandas library\n",
    "\n",
    "def today_date():\n",
    "    '''\n",
    "    utils:\n",
    "    get the datetime of today\n",
    "    '''\n",
    "    date = datetime.datetime.now().date()\n",
    "    date = pd.to_datetime(date)\n",
    "    return date\n",
    "\n",
    "Df = today_date()\n",
    "print(Df)"
   ]
  },
  {
   "cell_type": "code",
   "execution_count": 17,
   "id": "79648a58",
   "metadata": {},
   "outputs": [
    {
     "data": {
      "text/html": [
       "<div>\n",
       "<style scoped>\n",
       "    .dataframe tbody tr th:only-of-type {\n",
       "        vertical-align: middle;\n",
       "    }\n",
       "\n",
       "    .dataframe tbody tr th {\n",
       "        vertical-align: top;\n",
       "    }\n",
       "\n",
       "    .dataframe thead th {\n",
       "        text-align: right;\n",
       "    }\n",
       "</style>\n",
       "<table border=\"1\" class=\"dataframe\">\n",
       "  <thead>\n",
       "    <tr style=\"text-align: right;\">\n",
       "      <th></th>\n",
       "      <th>Today's Date</th>\n",
       "    </tr>\n",
       "  </thead>\n",
       "  <tbody>\n",
       "    <tr>\n",
       "      <th>0</th>\n",
       "      <td>2023-11-16</td>\n",
       "    </tr>\n",
       "  </tbody>\n",
       "</table>\n",
       "</div>"
      ],
      "text/plain": [
       "  Today's Date\n",
       "0   2023-11-16"
      ]
     },
     "metadata": {},
     "output_type": "display_data"
    },
    {
     "data": {
      "text/html": [
       "<div>\n",
       "<style scoped>\n",
       "    .dataframe tbody tr th:only-of-type {\n",
       "        vertical-align: middle;\n",
       "    }\n",
       "\n",
       "    .dataframe tbody tr th {\n",
       "        vertical-align: top;\n",
       "    }\n",
       "\n",
       "    .dataframe thead th {\n",
       "        text-align: right;\n",
       "    }\n",
       "</style>\n",
       "<table border=\"1\" class=\"dataframe\">\n",
       "  <thead>\n",
       "    <tr style=\"text-align: right;\">\n",
       "      <th></th>\n",
       "      <th>Current Time</th>\n",
       "    </tr>\n",
       "  </thead>\n",
       "  <tbody>\n",
       "    <tr>\n",
       "      <th>0</th>\n",
       "      <td>18:00:55.823485</td>\n",
       "    </tr>\n",
       "  </tbody>\n",
       "</table>\n",
       "</div>"
      ],
      "text/plain": [
       "      Current Time\n",
       "0  18:00:55.823485"
      ]
     },
     "metadata": {},
     "output_type": "display_data"
    }
   ],
   "source": [
    "import datetime\n",
    "import pandas as pd\n",
    "\n",
    "# Function to get today's date as a DataFrame\n",
    "def today_date():\n",
    "    date = datetime.datetime.now().date()\n",
    "    df_date = pd.DataFrame({\"Today's Date\": [date]})\n",
    "    return df_date\n",
    "\n",
    "# Function to get the current time as a DataFrame\n",
    "def current_time():\n",
    "    time_now = datetime.datetime.now().time()\n",
    "    df_time = pd.DataFrame({\"Current Time\": [time_now]})\n",
    "    return df_time\n",
    "\n",
    "# Create DataFrames\n",
    "df_date = today_date()\n",
    "df_time = current_time()\n",
    "\n",
    "# Print the DataFrames\n",
    "display(df_date)\n",
    "display(df_time)"
   ]
  },
  {
   "cell_type": "code",
   "execution_count": null,
   "id": "956de38f",
   "metadata": {},
   "outputs": [],
   "source": []
  }
 ],
 "metadata": {
  "kernelspec": {
   "display_name": "Python 3 (ipykernel)",
   "language": "python",
   "name": "python3"
  },
  "language_info": {
   "codemirror_mode": {
    "name": "ipython",
    "version": 3
   },
   "file_extension": ".py",
   "mimetype": "text/x-python",
   "name": "python",
   "nbconvert_exporter": "python",
   "pygments_lexer": "ipython3",
   "version": "3.10.9"
  }
 },
 "nbformat": 4,
 "nbformat_minor": 5
}

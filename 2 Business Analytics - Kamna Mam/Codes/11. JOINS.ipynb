{
 "cells": [
  {
   "cell_type": "code",
   "execution_count": 1,
   "id": "aad98c9b",
   "metadata": {},
   "outputs": [],
   "source": [
    "import pandas as pd\n",
    "import numpy as np\n",
    "import sqlite3"
   ]
  },
  {
   "cell_type": "code",
   "execution_count": 2,
   "id": "d175a88e",
   "metadata": {},
   "outputs": [],
   "source": [
    "cnn = sqlite3.connect('data12.db')\n",
    "cur = cnn.cursor()"
   ]
  },
  {
   "cell_type": "code",
   "execution_count": 3,
   "id": "7728b9ea",
   "metadata": {},
   "outputs": [
    {
     "data": {
      "text/plain": [
       "<sqlite3.Cursor at 0x14caa0aa340>"
      ]
     },
     "execution_count": 3,
     "metadata": {},
     "output_type": "execute_result"
    }
   ],
   "source": [
    "cur.execute('''\n",
    "CREATE TABLE employee (\n",
    "    emp_id VARCHAR(2) PRIMARY KEY,\n",
    "    emp_name VARCHAR(50),\n",
    "    salary INT,\n",
    "    dept_id VARCHAR(2),\n",
    "    manager_id VARCHAR(2),\n",
    "    FOREIGN KEY (dept_id) REFERENCES department(dept_id),\n",
    "    FOREIGN KEY (manager_id) REFERENCES manager(manager_id)\n",
    ");\n",
    "''')"
   ]
  },
  {
   "cell_type": "code",
   "execution_count": 4,
   "id": "edc25868",
   "metadata": {},
   "outputs": [
    {
     "data": {
      "text/plain": [
       "<sqlite3.Cursor at 0x14caa0aa340>"
      ]
     },
     "execution_count": 4,
     "metadata": {},
     "output_type": "execute_result"
    }
   ],
   "source": [
    "cur.execute('''\n",
    "CREATE TABLE department (\n",
    "    dept_id VARCHAR(2) PRIMARY KEY,\n",
    "    dept_name VARCHAR(50)\n",
    ");\n",
    "''')"
   ]
  },
  {
   "cell_type": "code",
   "execution_count": 5,
   "id": "1505b9b0",
   "metadata": {},
   "outputs": [
    {
     "data": {
      "text/plain": [
       "<sqlite3.Cursor at 0x14caa0aa340>"
      ]
     },
     "execution_count": 5,
     "metadata": {},
     "output_type": "execute_result"
    }
   ],
   "source": [
    "cur.execute('''\n",
    "CREATE TABLE manager (\n",
    "    manager_id VARCHAR(2) PRIMARY KEY,\n",
    "    manager_name VARCHAR(50),\n",
    "    dept_id VARCHAR(2),\n",
    "    FOREIGN KEY (dept_id) REFERENCES department(dept_id)\n",
    ");\n",
    "''')"
   ]
  },
  {
   "cell_type": "code",
   "execution_count": 6,
   "id": "e3c290ea",
   "metadata": {},
   "outputs": [
    {
     "data": {
      "text/plain": [
       "<sqlite3.Cursor at 0x14caa0aa340>"
      ]
     },
     "execution_count": 6,
     "metadata": {},
     "output_type": "execute_result"
    }
   ],
   "source": [
    "cur.execute('''\n",
    "CREATE TABLE projects (\n",
    "    project_id VARCHAR(2),\n",
    "    project_name VARCHAR(50),\n",
    "    team_member_id VARCHAR(2),\n",
    "    FOREIGN KEY (team_member_id) REFERENCES employee(emp_id),\n",
    "    FOREIGN KEY (team_member_id) REFERENCES employee(manager_id)\n",
    ");\n",
    "''')"
   ]
  },
  {
   "cell_type": "code",
   "execution_count": 7,
   "id": "91a06657",
   "metadata": {},
   "outputs": [
    {
     "data": {
      "text/plain": [
       "<sqlite3.Cursor at 0x14caa0aa340>"
      ]
     },
     "execution_count": 7,
     "metadata": {},
     "output_type": "execute_result"
    }
   ],
   "source": [
    "cur.execute('''\n",
    "CREATE TABLE company (\n",
    "    company_id VARCHAR(4) PRIMARY KEY,\n",
    "    company_name VARCHAR(50),\n",
    "    location VARCHAR(50)\n",
    ");\n",
    "''')"
   ]
  },
  {
   "cell_type": "code",
   "execution_count": 8,
   "id": "f511f4c9",
   "metadata": {},
   "outputs": [
    {
     "data": {
      "text/plain": [
       "<sqlite3.Cursor at 0x14caa0aa340>"
      ]
     },
     "execution_count": 8,
     "metadata": {},
     "output_type": "execute_result"
    }
   ],
   "source": [
    "cur.execute('''\n",
    "INSERT INTO manager (manager_id, manager_name, dept_id) VALUES\n",
    "('M1', 'Prem', 'D3'),\n",
    "('M2', 'Shripadh', 'D4'),\n",
    "('M3', 'Nick', 'D1'),\n",
    "('M4', 'Cory', 'D1');\n",
    "''')"
   ]
  },
  {
   "cell_type": "code",
   "execution_count": 9,
   "id": "d3834576",
   "metadata": {},
   "outputs": [
    {
     "data": {
      "text/plain": [
       "<sqlite3.Cursor at 0x14caa0aa340>"
      ]
     },
     "execution_count": 9,
     "metadata": {},
     "output_type": "execute_result"
    }
   ],
   "source": [
    "cur.execute('''\n",
    "INSERT INTO department (dept_id, dept_name) VALUES\n",
    "('D1', 'IT'),\n",
    "('D2', 'HR'),\n",
    "('D3', 'Finance'),\n",
    "('D4', 'Admin');\n",
    "''')"
   ]
  },
  {
   "cell_type": "code",
   "execution_count": 10,
   "id": "5cdc77d5",
   "metadata": {},
   "outputs": [
    {
     "data": {
      "text/plain": [
       "<sqlite3.Cursor at 0x14caa0aa340>"
      ]
     },
     "execution_count": 10,
     "metadata": {},
     "output_type": "execute_result"
    }
   ],
   "source": [
    "cur.execute('''\n",
    "INSERT INTO employee (emp_id, emp_name, salary, dept_id, manager_id) VALUES\n",
    "('E1', 'Rahul', 15000, 'D1', 'M1'),\n",
    "('E2', 'Manoj', 15000, 'D1', 'M1'),\n",
    "('E3', 'James', 55000, 'D2', 'M2'),\n",
    "('E4', 'Michael', 25000, 'D2', 'M2'),\n",
    "('E5', 'Ali', 20000, 'D10', 'M3'),\n",
    "('E6', 'Robin', 35000, 'D10', 'M3');\n",
    "''')"
   ]
  },
  {
   "cell_type": "code",
   "execution_count": 11,
   "id": "0edafc49",
   "metadata": {},
   "outputs": [
    {
     "data": {
      "text/plain": [
       "<sqlite3.Cursor at 0x14caa0aa340>"
      ]
     },
     "execution_count": 11,
     "metadata": {},
     "output_type": "execute_result"
    }
   ],
   "source": [
    "cur.execute('''\n",
    "INSERT INTO projects (project_id, project_name, team_member_id) VALUES\n",
    "('P1', 'Data Migration', 'E1'),\n",
    "('P1', 'Data Migration', 'E2'),\n",
    "('P1', 'Data Migration', 'M3'),\n",
    "('P2', 'ETL Tool', 'E1'),\n",
    "('P2', 'ETL Tool', 'M4');\n",
    "''')"
   ]
  },
  {
   "cell_type": "code",
   "execution_count": 12,
   "id": "aa5b313d",
   "metadata": {},
   "outputs": [
    {
     "data": {
      "text/plain": [
       "<sqlite3.Cursor at 0x14caa0aa340>"
      ]
     },
     "execution_count": 12,
     "metadata": {},
     "output_type": "execute_result"
    }
   ],
   "source": [
    "cur.execute('''\n",
    "INSERT INTO company (company_id, company_name, location) VALUES\n",
    "('C001', 'TechTFQ Solutions', 'India');\n",
    "''')"
   ]
  },
  {
   "cell_type": "code",
   "execution_count": 13,
   "id": "0f7919a4",
   "metadata": {},
   "outputs": [
    {
     "data": {
      "text/html": [
       "<div>\n",
       "<style scoped>\n",
       "    .dataframe tbody tr th:only-of-type {\n",
       "        vertical-align: middle;\n",
       "    }\n",
       "\n",
       "    .dataframe tbody tr th {\n",
       "        vertical-align: top;\n",
       "    }\n",
       "\n",
       "    .dataframe thead th {\n",
       "        text-align: right;\n",
       "    }\n",
       "</style>\n",
       "<table border=\"1\" class=\"dataframe\">\n",
       "  <thead>\n",
       "    <tr style=\"text-align: right;\">\n",
       "      <th></th>\n",
       "      <th>emp_id</th>\n",
       "      <th>emp_name</th>\n",
       "      <th>salary</th>\n",
       "      <th>dept_id</th>\n",
       "      <th>manager_id</th>\n",
       "    </tr>\n",
       "  </thead>\n",
       "  <tbody>\n",
       "    <tr>\n",
       "      <th>0</th>\n",
       "      <td>E1</td>\n",
       "      <td>Rahul</td>\n",
       "      <td>15000</td>\n",
       "      <td>D1</td>\n",
       "      <td>M1</td>\n",
       "    </tr>\n",
       "    <tr>\n",
       "      <th>1</th>\n",
       "      <td>E2</td>\n",
       "      <td>Manoj</td>\n",
       "      <td>15000</td>\n",
       "      <td>D1</td>\n",
       "      <td>M1</td>\n",
       "    </tr>\n",
       "    <tr>\n",
       "      <th>2</th>\n",
       "      <td>E3</td>\n",
       "      <td>James</td>\n",
       "      <td>55000</td>\n",
       "      <td>D2</td>\n",
       "      <td>M2</td>\n",
       "    </tr>\n",
       "    <tr>\n",
       "      <th>3</th>\n",
       "      <td>E4</td>\n",
       "      <td>Michael</td>\n",
       "      <td>25000</td>\n",
       "      <td>D2</td>\n",
       "      <td>M2</td>\n",
       "    </tr>\n",
       "    <tr>\n",
       "      <th>4</th>\n",
       "      <td>E5</td>\n",
       "      <td>Ali</td>\n",
       "      <td>20000</td>\n",
       "      <td>D10</td>\n",
       "      <td>M3</td>\n",
       "    </tr>\n",
       "    <tr>\n",
       "      <th>5</th>\n",
       "      <td>E6</td>\n",
       "      <td>Robin</td>\n",
       "      <td>35000</td>\n",
       "      <td>D10</td>\n",
       "      <td>M3</td>\n",
       "    </tr>\n",
       "  </tbody>\n",
       "</table>\n",
       "</div>"
      ],
      "text/plain": [
       "  emp_id emp_name  salary dept_id manager_id\n",
       "0     E1    Rahul   15000      D1         M1\n",
       "1     E2    Manoj   15000      D1         M1\n",
       "2     E3    James   55000      D2         M2\n",
       "3     E4  Michael   25000      D2         M2\n",
       "4     E5      Ali   20000     D10         M3\n",
       "5     E6    Robin   35000     D10         M3"
      ]
     },
     "metadata": {},
     "output_type": "display_data"
    }
   ],
   "source": [
    "cur.execute('''\n",
    "SELECT * FROM employee;\n",
    "''')\n",
    "\n",
    "result = cur.fetchall()\n",
    "\n",
    "employee_df = pd.DataFrame(result, columns=[item[0] for item in cur.description])\n",
    "display(employee_df)"
   ]
  },
  {
   "cell_type": "code",
   "execution_count": 14,
   "id": "ec5ba402",
   "metadata": {},
   "outputs": [
    {
     "data": {
      "text/html": [
       "<div>\n",
       "<style scoped>\n",
       "    .dataframe tbody tr th:only-of-type {\n",
       "        vertical-align: middle;\n",
       "    }\n",
       "\n",
       "    .dataframe tbody tr th {\n",
       "        vertical-align: top;\n",
       "    }\n",
       "\n",
       "    .dataframe thead th {\n",
       "        text-align: right;\n",
       "    }\n",
       "</style>\n",
       "<table border=\"1\" class=\"dataframe\">\n",
       "  <thead>\n",
       "    <tr style=\"text-align: right;\">\n",
       "      <th></th>\n",
       "      <th>dept_id</th>\n",
       "      <th>dept_name</th>\n",
       "    </tr>\n",
       "  </thead>\n",
       "  <tbody>\n",
       "    <tr>\n",
       "      <th>0</th>\n",
       "      <td>D1</td>\n",
       "      <td>IT</td>\n",
       "    </tr>\n",
       "    <tr>\n",
       "      <th>1</th>\n",
       "      <td>D2</td>\n",
       "      <td>HR</td>\n",
       "    </tr>\n",
       "    <tr>\n",
       "      <th>2</th>\n",
       "      <td>D3</td>\n",
       "      <td>Finance</td>\n",
       "    </tr>\n",
       "    <tr>\n",
       "      <th>3</th>\n",
       "      <td>D4</td>\n",
       "      <td>Admin</td>\n",
       "    </tr>\n",
       "  </tbody>\n",
       "</table>\n",
       "</div>"
      ],
      "text/plain": [
       "  dept_id dept_name\n",
       "0      D1        IT\n",
       "1      D2        HR\n",
       "2      D3   Finance\n",
       "3      D4     Admin"
      ]
     },
     "metadata": {},
     "output_type": "display_data"
    }
   ],
   "source": [
    "cur.execute('''\n",
    "SELECT * FROM department;\n",
    "''')\n",
    "\n",
    "result = cur.fetchall()\n",
    "\n",
    "department_df = pd.DataFrame(result, columns=[item[0] for item in cur.description])\n",
    "display(department_df)"
   ]
  },
  {
   "cell_type": "code",
   "execution_count": 15,
   "id": "d2f818dc",
   "metadata": {},
   "outputs": [
    {
     "data": {
      "text/html": [
       "<div>\n",
       "<style scoped>\n",
       "    .dataframe tbody tr th:only-of-type {\n",
       "        vertical-align: middle;\n",
       "    }\n",
       "\n",
       "    .dataframe tbody tr th {\n",
       "        vertical-align: top;\n",
       "    }\n",
       "\n",
       "    .dataframe thead th {\n",
       "        text-align: right;\n",
       "    }\n",
       "</style>\n",
       "<table border=\"1\" class=\"dataframe\">\n",
       "  <thead>\n",
       "    <tr style=\"text-align: right;\">\n",
       "      <th></th>\n",
       "      <th>manager_id</th>\n",
       "      <th>manager_name</th>\n",
       "      <th>dept_id</th>\n",
       "    </tr>\n",
       "  </thead>\n",
       "  <tbody>\n",
       "    <tr>\n",
       "      <th>0</th>\n",
       "      <td>M1</td>\n",
       "      <td>Prem</td>\n",
       "      <td>D3</td>\n",
       "    </tr>\n",
       "    <tr>\n",
       "      <th>1</th>\n",
       "      <td>M2</td>\n",
       "      <td>Shripadh</td>\n",
       "      <td>D4</td>\n",
       "    </tr>\n",
       "    <tr>\n",
       "      <th>2</th>\n",
       "      <td>M3</td>\n",
       "      <td>Nick</td>\n",
       "      <td>D1</td>\n",
       "    </tr>\n",
       "    <tr>\n",
       "      <th>3</th>\n",
       "      <td>M4</td>\n",
       "      <td>Cory</td>\n",
       "      <td>D1</td>\n",
       "    </tr>\n",
       "  </tbody>\n",
       "</table>\n",
       "</div>"
      ],
      "text/plain": [
       "  manager_id manager_name dept_id\n",
       "0         M1         Prem      D3\n",
       "1         M2     Shripadh      D4\n",
       "2         M3         Nick      D1\n",
       "3         M4         Cory      D1"
      ]
     },
     "metadata": {},
     "output_type": "display_data"
    }
   ],
   "source": [
    "cur.execute('''\n",
    "SELECT * FROM manager;\n",
    "''')\n",
    "\n",
    "result = cur.fetchall()\n",
    "\n",
    "manager_df = pd.DataFrame(result, columns=[item[0] for item in cur.description])\n",
    "display(manager_df)"
   ]
  },
  {
   "cell_type": "code",
   "execution_count": 16,
   "id": "ddaeb21d",
   "metadata": {},
   "outputs": [
    {
     "data": {
      "text/html": [
       "<div>\n",
       "<style scoped>\n",
       "    .dataframe tbody tr th:only-of-type {\n",
       "        vertical-align: middle;\n",
       "    }\n",
       "\n",
       "    .dataframe tbody tr th {\n",
       "        vertical-align: top;\n",
       "    }\n",
       "\n",
       "    .dataframe thead th {\n",
       "        text-align: right;\n",
       "    }\n",
       "</style>\n",
       "<table border=\"1\" class=\"dataframe\">\n",
       "  <thead>\n",
       "    <tr style=\"text-align: right;\">\n",
       "      <th></th>\n",
       "      <th>project_id</th>\n",
       "      <th>project_name</th>\n",
       "      <th>team_member_id</th>\n",
       "    </tr>\n",
       "  </thead>\n",
       "  <tbody>\n",
       "    <tr>\n",
       "      <th>0</th>\n",
       "      <td>P1</td>\n",
       "      <td>Data Migration</td>\n",
       "      <td>E1</td>\n",
       "    </tr>\n",
       "    <tr>\n",
       "      <th>1</th>\n",
       "      <td>P1</td>\n",
       "      <td>Data Migration</td>\n",
       "      <td>E2</td>\n",
       "    </tr>\n",
       "    <tr>\n",
       "      <th>2</th>\n",
       "      <td>P1</td>\n",
       "      <td>Data Migration</td>\n",
       "      <td>M3</td>\n",
       "    </tr>\n",
       "    <tr>\n",
       "      <th>3</th>\n",
       "      <td>P2</td>\n",
       "      <td>ETL Tool</td>\n",
       "      <td>E1</td>\n",
       "    </tr>\n",
       "    <tr>\n",
       "      <th>4</th>\n",
       "      <td>P2</td>\n",
       "      <td>ETL Tool</td>\n",
       "      <td>M4</td>\n",
       "    </tr>\n",
       "  </tbody>\n",
       "</table>\n",
       "</div>"
      ],
      "text/plain": [
       "  project_id    project_name team_member_id\n",
       "0         P1  Data Migration             E1\n",
       "1         P1  Data Migration             E2\n",
       "2         P1  Data Migration             M3\n",
       "3         P2        ETL Tool             E1\n",
       "4         P2        ETL Tool             M4"
      ]
     },
     "metadata": {},
     "output_type": "display_data"
    }
   ],
   "source": [
    "cur.execute('''\n",
    "SELECT * FROM projects;\n",
    "''')\n",
    "\n",
    "result = cur.fetchall()\n",
    "\n",
    "projects_df = pd.DataFrame(result, columns=[item[0] for item in cur.description])\n",
    "display(projects_df)"
   ]
  },
  {
   "cell_type": "code",
   "execution_count": 17,
   "id": "3d9ff927",
   "metadata": {},
   "outputs": [
    {
     "data": {
      "text/html": [
       "<div>\n",
       "<style scoped>\n",
       "    .dataframe tbody tr th:only-of-type {\n",
       "        vertical-align: middle;\n",
       "    }\n",
       "\n",
       "    .dataframe tbody tr th {\n",
       "        vertical-align: top;\n",
       "    }\n",
       "\n",
       "    .dataframe thead th {\n",
       "        text-align: right;\n",
       "    }\n",
       "</style>\n",
       "<table border=\"1\" class=\"dataframe\">\n",
       "  <thead>\n",
       "    <tr style=\"text-align: right;\">\n",
       "      <th></th>\n",
       "      <th>company_id</th>\n",
       "      <th>company_name</th>\n",
       "      <th>location</th>\n",
       "    </tr>\n",
       "  </thead>\n",
       "  <tbody>\n",
       "    <tr>\n",
       "      <th>0</th>\n",
       "      <td>C001</td>\n",
       "      <td>TechTFQ Solutions</td>\n",
       "      <td>India</td>\n",
       "    </tr>\n",
       "  </tbody>\n",
       "</table>\n",
       "</div>"
      ],
      "text/plain": [
       "  company_id       company_name location\n",
       "0       C001  TechTFQ Solutions    India"
      ]
     },
     "metadata": {},
     "output_type": "display_data"
    }
   ],
   "source": [
    "cur.execute('''\n",
    "SELECT * FROM company;\n",
    "''')\n",
    "\n",
    "result = cur.fetchall()\n",
    "\n",
    "company_df = pd.DataFrame(result, columns=[item[0] for item in cur.description])\n",
    "display(company_df)"
   ]
  },
  {
   "cell_type": "markdown",
   "id": "0a80111f",
   "metadata": {},
   "source": [
    "# INNER JOIN / JOIN"
   ]
  },
  {
   "cell_type": "markdown",
   "id": "86432540",
   "metadata": {},
   "source": [
    "### Fetch Matching Records Only"
   ]
  },
  {
   "cell_type": "markdown",
   "id": "fe26ddaf",
   "metadata": {},
   "source": [
    "### Fetch the employee name and the department name they belong to."
   ]
  },
  {
   "cell_type": "code",
   "execution_count": 18,
   "id": "56a88a34",
   "metadata": {
    "scrolled": true
   },
   "outputs": [
    {
     "data": {
      "text/html": [
       "<div>\n",
       "<style scoped>\n",
       "    .dataframe tbody tr th:only-of-type {\n",
       "        vertical-align: middle;\n",
       "    }\n",
       "\n",
       "    .dataframe tbody tr th {\n",
       "        vertical-align: top;\n",
       "    }\n",
       "\n",
       "    .dataframe thead th {\n",
       "        text-align: right;\n",
       "    }\n",
       "</style>\n",
       "<table border=\"1\" class=\"dataframe\">\n",
       "  <thead>\n",
       "    <tr style=\"text-align: right;\">\n",
       "      <th></th>\n",
       "      <th>emp_name</th>\n",
       "      <th>dept_name</th>\n",
       "    </tr>\n",
       "  </thead>\n",
       "  <tbody>\n",
       "    <tr>\n",
       "      <th>0</th>\n",
       "      <td>Rahul</td>\n",
       "      <td>IT</td>\n",
       "    </tr>\n",
       "    <tr>\n",
       "      <th>1</th>\n",
       "      <td>Manoj</td>\n",
       "      <td>IT</td>\n",
       "    </tr>\n",
       "    <tr>\n",
       "      <th>2</th>\n",
       "      <td>James</td>\n",
       "      <td>HR</td>\n",
       "    </tr>\n",
       "    <tr>\n",
       "      <th>3</th>\n",
       "      <td>Michael</td>\n",
       "      <td>HR</td>\n",
       "    </tr>\n",
       "  </tbody>\n",
       "</table>\n",
       "</div>"
      ],
      "text/plain": [
       "  emp_name dept_name\n",
       "0    Rahul        IT\n",
       "1    Manoj        IT\n",
       "2    James        HR\n",
       "3  Michael        HR"
      ]
     },
     "metadata": {},
     "output_type": "display_data"
    }
   ],
   "source": [
    "cur.execute('''\n",
    "SELECT e.emp_name, d.dept_name\n",
    "FROM employee e\n",
    "INNER JOIN department d on e.dept_id = d.dept_id;\n",
    "''')\n",
    "\n",
    "result = cur.fetchall()\n",
    "\n",
    "df = pd.DataFrame(result, columns=[item[0] for item in cur.description])\n",
    "display(df)"
   ]
  },
  {
   "cell_type": "markdown",
   "id": "16fe3a39",
   "metadata": {},
   "source": [
    "# LEFT JOIN"
   ]
  },
  {
   "cell_type": "markdown",
   "id": "e2bd0e3f",
   "metadata": {},
   "source": [
    "### LEFT JOIN = Macthing Records + Any Additional Records in the LEFT Table"
   ]
  },
  {
   "cell_type": "markdown",
   "id": "4a1a744c",
   "metadata": {},
   "source": [
    "### Fetch 'All' the employee name and the department name they belong to."
   ]
  },
  {
   "cell_type": "code",
   "execution_count": 19,
   "id": "6d1553a9",
   "metadata": {},
   "outputs": [
    {
     "data": {
      "text/html": [
       "<div>\n",
       "<style scoped>\n",
       "    .dataframe tbody tr th:only-of-type {\n",
       "        vertical-align: middle;\n",
       "    }\n",
       "\n",
       "    .dataframe tbody tr th {\n",
       "        vertical-align: top;\n",
       "    }\n",
       "\n",
       "    .dataframe thead th {\n",
       "        text-align: right;\n",
       "    }\n",
       "</style>\n",
       "<table border=\"1\" class=\"dataframe\">\n",
       "  <thead>\n",
       "    <tr style=\"text-align: right;\">\n",
       "      <th></th>\n",
       "      <th>emp_name</th>\n",
       "      <th>dept_name</th>\n",
       "    </tr>\n",
       "  </thead>\n",
       "  <tbody>\n",
       "    <tr>\n",
       "      <th>0</th>\n",
       "      <td>Rahul</td>\n",
       "      <td>IT</td>\n",
       "    </tr>\n",
       "    <tr>\n",
       "      <th>1</th>\n",
       "      <td>Manoj</td>\n",
       "      <td>IT</td>\n",
       "    </tr>\n",
       "    <tr>\n",
       "      <th>2</th>\n",
       "      <td>James</td>\n",
       "      <td>HR</td>\n",
       "    </tr>\n",
       "    <tr>\n",
       "      <th>3</th>\n",
       "      <td>Michael</td>\n",
       "      <td>HR</td>\n",
       "    </tr>\n",
       "    <tr>\n",
       "      <th>4</th>\n",
       "      <td>Ali</td>\n",
       "      <td>None</td>\n",
       "    </tr>\n",
       "    <tr>\n",
       "      <th>5</th>\n",
       "      <td>Robin</td>\n",
       "      <td>None</td>\n",
       "    </tr>\n",
       "  </tbody>\n",
       "</table>\n",
       "</div>"
      ],
      "text/plain": [
       "  emp_name dept_name\n",
       "0    Rahul        IT\n",
       "1    Manoj        IT\n",
       "2    James        HR\n",
       "3  Michael        HR\n",
       "4      Ali      None\n",
       "5    Robin      None"
      ]
     },
     "metadata": {},
     "output_type": "display_data"
    }
   ],
   "source": [
    "cur.execute('''\n",
    "SELECT e.emp_name, d.dept_name\n",
    "FROM employee e\n",
    "LEFT JOIN department d on e.dept_id = d.dept_id;\n",
    "''')\n",
    "\n",
    "result = cur.fetchall()\n",
    "\n",
    "df = pd.DataFrame(result, columns=[item[0] for item in cur.description])\n",
    "display(df)"
   ]
  },
  {
   "cell_type": "markdown",
   "id": "3e1b3067",
   "metadata": {},
   "source": [
    "# RIGHT JOIN"
   ]
  },
  {
   "cell_type": "markdown",
   "id": "9bf160c3",
   "metadata": {},
   "source": [
    "### RIGHT JOIN = Macthing Records + Any Additional Records in the RIGHT Table"
   ]
  },
  {
   "cell_type": "markdown",
   "id": "bdcaa30e",
   "metadata": {},
   "source": [
    "### Fetch the employee name and 'All' the department name they belong to."
   ]
  },
  {
   "cell_type": "code",
   "execution_count": 20,
   "id": "6f100834",
   "metadata": {},
   "outputs": [
    {
     "data": {
      "text/html": [
       "<div>\n",
       "<style scoped>\n",
       "    .dataframe tbody tr th:only-of-type {\n",
       "        vertical-align: middle;\n",
       "    }\n",
       "\n",
       "    .dataframe tbody tr th {\n",
       "        vertical-align: top;\n",
       "    }\n",
       "\n",
       "    .dataframe thead th {\n",
       "        text-align: right;\n",
       "    }\n",
       "</style>\n",
       "<table border=\"1\" class=\"dataframe\">\n",
       "  <thead>\n",
       "    <tr style=\"text-align: right;\">\n",
       "      <th></th>\n",
       "      <th>emp_name</th>\n",
       "      <th>dept_name</th>\n",
       "    </tr>\n",
       "  </thead>\n",
       "  <tbody>\n",
       "    <tr>\n",
       "      <th>0</th>\n",
       "      <td>Rahul</td>\n",
       "      <td>IT</td>\n",
       "    </tr>\n",
       "    <tr>\n",
       "      <th>1</th>\n",
       "      <td>Manoj</td>\n",
       "      <td>IT</td>\n",
       "    </tr>\n",
       "    <tr>\n",
       "      <th>2</th>\n",
       "      <td>James</td>\n",
       "      <td>HR</td>\n",
       "    </tr>\n",
       "    <tr>\n",
       "      <th>3</th>\n",
       "      <td>Michael</td>\n",
       "      <td>HR</td>\n",
       "    </tr>\n",
       "    <tr>\n",
       "      <th>4</th>\n",
       "      <td>None</td>\n",
       "      <td>Finance</td>\n",
       "    </tr>\n",
       "    <tr>\n",
       "      <th>5</th>\n",
       "      <td>None</td>\n",
       "      <td>Admin</td>\n",
       "    </tr>\n",
       "  </tbody>\n",
       "</table>\n",
       "</div>"
      ],
      "text/plain": [
       "  emp_name dept_name\n",
       "0    Rahul        IT\n",
       "1    Manoj        IT\n",
       "2    James        HR\n",
       "3  Michael        HR\n",
       "4     None   Finance\n",
       "5     None     Admin"
      ]
     },
     "metadata": {},
     "output_type": "display_data"
    }
   ],
   "source": [
    "cur.execute('''\n",
    "SELECT e.emp_name, d.dept_name\n",
    "FROM employee e\n",
    "RIGHT JOIN department d on e.dept_id = d.dept_id;\n",
    "''')\n",
    "\n",
    "result = cur.fetchall()\n",
    "\n",
    "df = pd.DataFrame(result, columns=[item[0] for item in cur.description])\n",
    "display(df)"
   ]
  },
  {
   "cell_type": "markdown",
   "id": "78ce3ee9",
   "metadata": {},
   "source": [
    "### Fetch details of All emp, their manager, their department and the projects they work on."
   ]
  },
  {
   "cell_type": "code",
   "execution_count": 21,
   "id": "3e5659c1",
   "metadata": {},
   "outputs": [
    {
     "data": {
      "text/html": [
       "<div>\n",
       "<style scoped>\n",
       "    .dataframe tbody tr th:only-of-type {\n",
       "        vertical-align: middle;\n",
       "    }\n",
       "\n",
       "    .dataframe tbody tr th {\n",
       "        vertical-align: top;\n",
       "    }\n",
       "\n",
       "    .dataframe thead th {\n",
       "        text-align: right;\n",
       "    }\n",
       "</style>\n",
       "<table border=\"1\" class=\"dataframe\">\n",
       "  <thead>\n",
       "    <tr style=\"text-align: right;\">\n",
       "      <th></th>\n",
       "      <th>emp_name</th>\n",
       "      <th>manager_name</th>\n",
       "      <th>dept_name</th>\n",
       "      <th>project_name</th>\n",
       "    </tr>\n",
       "  </thead>\n",
       "  <tbody>\n",
       "    <tr>\n",
       "      <th>0</th>\n",
       "      <td>Rahul</td>\n",
       "      <td>Prem</td>\n",
       "      <td>IT</td>\n",
       "      <td>Data Migration</td>\n",
       "    </tr>\n",
       "    <tr>\n",
       "      <th>1</th>\n",
       "      <td>Rahul</td>\n",
       "      <td>Prem</td>\n",
       "      <td>IT</td>\n",
       "      <td>ETL Tool</td>\n",
       "    </tr>\n",
       "    <tr>\n",
       "      <th>2</th>\n",
       "      <td>Manoj</td>\n",
       "      <td>Prem</td>\n",
       "      <td>IT</td>\n",
       "      <td>Data Migration</td>\n",
       "    </tr>\n",
       "    <tr>\n",
       "      <th>3</th>\n",
       "      <td>James</td>\n",
       "      <td>Shripadh</td>\n",
       "      <td>HR</td>\n",
       "      <td>None</td>\n",
       "    </tr>\n",
       "    <tr>\n",
       "      <th>4</th>\n",
       "      <td>Michael</td>\n",
       "      <td>Shripadh</td>\n",
       "      <td>HR</td>\n",
       "      <td>None</td>\n",
       "    </tr>\n",
       "    <tr>\n",
       "      <th>5</th>\n",
       "      <td>Ali</td>\n",
       "      <td>Nick</td>\n",
       "      <td>None</td>\n",
       "      <td>None</td>\n",
       "    </tr>\n",
       "    <tr>\n",
       "      <th>6</th>\n",
       "      <td>Robin</td>\n",
       "      <td>Nick</td>\n",
       "      <td>None</td>\n",
       "      <td>None</td>\n",
       "    </tr>\n",
       "  </tbody>\n",
       "</table>\n",
       "</div>"
      ],
      "text/plain": [
       "  emp_name manager_name dept_name    project_name\n",
       "0    Rahul         Prem        IT  Data Migration\n",
       "1    Rahul         Prem        IT        ETL Tool\n",
       "2    Manoj         Prem        IT  Data Migration\n",
       "3    James     Shripadh        HR            None\n",
       "4  Michael     Shripadh        HR            None\n",
       "5      Ali         Nick      None            None\n",
       "6    Robin         Nick      None            None"
      ]
     },
     "metadata": {},
     "output_type": "display_data"
    }
   ],
   "source": [
    "cur.execute('''\n",
    "SELECT e.emp_name, m.manager_name, d.dept_name, p.project_name\n",
    "FROM employee e\n",
    "LEFT JOIN department d ON e.dept_id = d.dept_id\n",
    "INNER JOIN manager m ON m.manager_id = e.manager_id\n",
    "LEFT JOIN projects p ON p.team_member_id = e.emp_id\n",
    "''')\n",
    "\n",
    "result = cur.fetchall()\n",
    "\n",
    "df = pd.DataFrame(result, columns=[item[0] for item in cur.description])\n",
    "display(df)"
   ]
  },
  {
   "cell_type": "markdown",
   "id": "27f2b689",
   "metadata": {},
   "source": [
    "# FULL JOIN / FULL OUTER JOIN"
   ]
  },
  {
   "cell_type": "markdown",
   "id": "9798db33",
   "metadata": {},
   "source": [
    "### FULL JOIN = Macthing Records + All Remaining Records From Left Table & Right Table"
   ]
  },
  {
   "cell_type": "markdown",
   "id": "0b2c293a",
   "metadata": {},
   "source": [
    "### Fetch 'All' the employee name and 'All' the department name they belong to."
   ]
  },
  {
   "cell_type": "code",
   "execution_count": 22,
   "id": "bad13f87",
   "metadata": {},
   "outputs": [
    {
     "data": {
      "text/html": [
       "<div>\n",
       "<style scoped>\n",
       "    .dataframe tbody tr th:only-of-type {\n",
       "        vertical-align: middle;\n",
       "    }\n",
       "\n",
       "    .dataframe tbody tr th {\n",
       "        vertical-align: top;\n",
       "    }\n",
       "\n",
       "    .dataframe thead th {\n",
       "        text-align: right;\n",
       "    }\n",
       "</style>\n",
       "<table border=\"1\" class=\"dataframe\">\n",
       "  <thead>\n",
       "    <tr style=\"text-align: right;\">\n",
       "      <th></th>\n",
       "      <th>emp_name</th>\n",
       "      <th>dept_name</th>\n",
       "    </tr>\n",
       "  </thead>\n",
       "  <tbody>\n",
       "    <tr>\n",
       "      <th>0</th>\n",
       "      <td>Rahul</td>\n",
       "      <td>IT</td>\n",
       "    </tr>\n",
       "    <tr>\n",
       "      <th>1</th>\n",
       "      <td>Manoj</td>\n",
       "      <td>IT</td>\n",
       "    </tr>\n",
       "    <tr>\n",
       "      <th>2</th>\n",
       "      <td>James</td>\n",
       "      <td>HR</td>\n",
       "    </tr>\n",
       "    <tr>\n",
       "      <th>3</th>\n",
       "      <td>Michael</td>\n",
       "      <td>HR</td>\n",
       "    </tr>\n",
       "    <tr>\n",
       "      <th>4</th>\n",
       "      <td>Ali</td>\n",
       "      <td>None</td>\n",
       "    </tr>\n",
       "    <tr>\n",
       "      <th>5</th>\n",
       "      <td>Robin</td>\n",
       "      <td>None</td>\n",
       "    </tr>\n",
       "    <tr>\n",
       "      <th>6</th>\n",
       "      <td>None</td>\n",
       "      <td>Finance</td>\n",
       "    </tr>\n",
       "    <tr>\n",
       "      <th>7</th>\n",
       "      <td>None</td>\n",
       "      <td>Admin</td>\n",
       "    </tr>\n",
       "  </tbody>\n",
       "</table>\n",
       "</div>"
      ],
      "text/plain": [
       "  emp_name dept_name\n",
       "0    Rahul        IT\n",
       "1    Manoj        IT\n",
       "2    James        HR\n",
       "3  Michael        HR\n",
       "4      Ali      None\n",
       "5    Robin      None\n",
       "6     None   Finance\n",
       "7     None     Admin"
      ]
     },
     "metadata": {},
     "output_type": "display_data"
    }
   ],
   "source": [
    "cur.execute('''\n",
    "SELECT e.emp_name, d.dept_name\n",
    "FROM employee e\n",
    "FULL JOIN department d ON d.dept_id = e.dept_id;\n",
    "''')\n",
    "\n",
    "result = cur.fetchall()\n",
    "\n",
    "df = pd.DataFrame(result, columns=[item[0] for item in cur.description])\n",
    "display(df)"
   ]
  },
  {
   "cell_type": "markdown",
   "id": "129110cb",
   "metadata": {},
   "source": [
    "# CROSS JOIN"
   ]
  },
  {
   "cell_type": "markdown",
   "id": "061f74a2",
   "metadata": {},
   "source": [
    "### Write a query to fetch the employee name and their corresoding department name.\n",
    "### Also make sure to display the company name and the company location coreesponding to each employee."
   ]
  },
  {
   "cell_type": "code",
   "execution_count": 23,
   "id": "2f2e15d9",
   "metadata": {},
   "outputs": [
    {
     "data": {
      "text/html": [
       "<div>\n",
       "<style scoped>\n",
       "    .dataframe tbody tr th:only-of-type {\n",
       "        vertical-align: middle;\n",
       "    }\n",
       "\n",
       "    .dataframe tbody tr th {\n",
       "        vertical-align: top;\n",
       "    }\n",
       "\n",
       "    .dataframe thead th {\n",
       "        text-align: right;\n",
       "    }\n",
       "</style>\n",
       "<table border=\"1\" class=\"dataframe\">\n",
       "  <thead>\n",
       "    <tr style=\"text-align: right;\">\n",
       "      <th></th>\n",
       "      <th>emp_name</th>\n",
       "      <th>dept_name</th>\n",
       "      <th>company_name</th>\n",
       "      <th>location</th>\n",
       "    </tr>\n",
       "  </thead>\n",
       "  <tbody>\n",
       "    <tr>\n",
       "      <th>0</th>\n",
       "      <td>Rahul</td>\n",
       "      <td>IT</td>\n",
       "      <td>TechTFQ Solutions</td>\n",
       "      <td>India</td>\n",
       "    </tr>\n",
       "    <tr>\n",
       "      <th>1</th>\n",
       "      <td>Manoj</td>\n",
       "      <td>IT</td>\n",
       "      <td>TechTFQ Solutions</td>\n",
       "      <td>India</td>\n",
       "    </tr>\n",
       "    <tr>\n",
       "      <th>2</th>\n",
       "      <td>James</td>\n",
       "      <td>HR</td>\n",
       "      <td>TechTFQ Solutions</td>\n",
       "      <td>India</td>\n",
       "    </tr>\n",
       "    <tr>\n",
       "      <th>3</th>\n",
       "      <td>Michael</td>\n",
       "      <td>HR</td>\n",
       "      <td>TechTFQ Solutions</td>\n",
       "      <td>India</td>\n",
       "    </tr>\n",
       "  </tbody>\n",
       "</table>\n",
       "</div>"
      ],
      "text/plain": [
       "  emp_name dept_name       company_name location\n",
       "0    Rahul        IT  TechTFQ Solutions    India\n",
       "1    Manoj        IT  TechTFQ Solutions    India\n",
       "2    James        HR  TechTFQ Solutions    India\n",
       "3  Michael        HR  TechTFQ Solutions    India"
      ]
     },
     "metadata": {},
     "output_type": "display_data"
    }
   ],
   "source": [
    "cur.execute('''\n",
    "SELECT e.emp_name, d.dept_name, c.company_name, c.location\n",
    "FROM employee e\n",
    "INNER JOIN department d ON d.dept_id = e.dept_id\n",
    "CROSS JOIN company c;\n",
    "''')\n",
    "\n",
    "result = cur.fetchall()\n",
    "\n",
    "df = pd.DataFrame(result, columns=[item[0] for item in cur.description])\n",
    "display(df)"
   ]
  },
  {
   "cell_type": "markdown",
   "id": "d9103559",
   "metadata": {},
   "source": [
    "# Self Join"
   ]
  },
  {
   "cell_type": "code",
   "execution_count": 24,
   "id": "f17e0ca1",
   "metadata": {},
   "outputs": [
    {
     "data": {
      "text/plain": [
       "<sqlite3.Cursor at 0x14caa0aa340>"
      ]
     },
     "execution_count": 24,
     "metadata": {},
     "output_type": "execute_result"
    }
   ],
   "source": [
    "cur.execute('''\n",
    "CREATE TABLE Demo (\n",
    "    EmployeeID INT PRIMARY KEY,\n",
    "    EmployeeName VARCHAR(50),\n",
    "    ManagerID INT\n",
    ");\n",
    "''')"
   ]
  },
  {
   "cell_type": "code",
   "execution_count": 25,
   "id": "51115114",
   "metadata": {},
   "outputs": [
    {
     "data": {
      "text/plain": [
       "<sqlite3.Cursor at 0x14caa0aa340>"
      ]
     },
     "execution_count": 25,
     "metadata": {},
     "output_type": "execute_result"
    }
   ],
   "source": [
    "cur.execute('''\n",
    "INSERT INTO Demo (EmployeeID, EmployeeName, ManagerID) VALUES\n",
    "(1, 'John Doe', NULL),\n",
    "(2, 'Jane Smith', 1),\n",
    "(3, 'Bob Johnson', 1),\n",
    "(4, 'Alice Brown', 2),\n",
    "(5, 'Charlie Green', 2);\n",
    "''')"
   ]
  },
  {
   "cell_type": "code",
   "execution_count": 26,
   "id": "a3dd7862",
   "metadata": {},
   "outputs": [
    {
     "data": {
      "text/html": [
       "<div>\n",
       "<style scoped>\n",
       "    .dataframe tbody tr th:only-of-type {\n",
       "        vertical-align: middle;\n",
       "    }\n",
       "\n",
       "    .dataframe tbody tr th {\n",
       "        vertical-align: top;\n",
       "    }\n",
       "\n",
       "    .dataframe thead th {\n",
       "        text-align: right;\n",
       "    }\n",
       "</style>\n",
       "<table border=\"1\" class=\"dataframe\">\n",
       "  <thead>\n",
       "    <tr style=\"text-align: right;\">\n",
       "      <th></th>\n",
       "      <th>EmployeeID</th>\n",
       "      <th>EmployeeName</th>\n",
       "      <th>ManagerID</th>\n",
       "    </tr>\n",
       "  </thead>\n",
       "  <tbody>\n",
       "    <tr>\n",
       "      <th>0</th>\n",
       "      <td>1</td>\n",
       "      <td>John Doe</td>\n",
       "      <td>NaN</td>\n",
       "    </tr>\n",
       "    <tr>\n",
       "      <th>1</th>\n",
       "      <td>2</td>\n",
       "      <td>Jane Smith</td>\n",
       "      <td>1.0</td>\n",
       "    </tr>\n",
       "    <tr>\n",
       "      <th>2</th>\n",
       "      <td>3</td>\n",
       "      <td>Bob Johnson</td>\n",
       "      <td>1.0</td>\n",
       "    </tr>\n",
       "    <tr>\n",
       "      <th>3</th>\n",
       "      <td>4</td>\n",
       "      <td>Alice Brown</td>\n",
       "      <td>2.0</td>\n",
       "    </tr>\n",
       "    <tr>\n",
       "      <th>4</th>\n",
       "      <td>5</td>\n",
       "      <td>Charlie Green</td>\n",
       "      <td>2.0</td>\n",
       "    </tr>\n",
       "  </tbody>\n",
       "</table>\n",
       "</div>"
      ],
      "text/plain": [
       "   EmployeeID   EmployeeName  ManagerID\n",
       "0           1       John Doe        NaN\n",
       "1           2     Jane Smith        1.0\n",
       "2           3    Bob Johnson        1.0\n",
       "3           4    Alice Brown        2.0\n",
       "4           5  Charlie Green        2.0"
      ]
     },
     "metadata": {},
     "output_type": "display_data"
    }
   ],
   "source": [
    "cur.execute('''\n",
    "SELECT * FROM Demo;\n",
    "''')\n",
    "\n",
    "result = cur.fetchall()\n",
    "\n",
    "df = pd.DataFrame(result, columns=[item[0] for item in cur.description])\n",
    "display(df)"
   ]
  },
  {
   "cell_type": "code",
   "execution_count": 28,
   "id": "0e82b663",
   "metadata": {},
   "outputs": [
    {
     "data": {
      "text/html": [
       "<div>\n",
       "<style scoped>\n",
       "    .dataframe tbody tr th:only-of-type {\n",
       "        vertical-align: middle;\n",
       "    }\n",
       "\n",
       "    .dataframe tbody tr th {\n",
       "        vertical-align: top;\n",
       "    }\n",
       "\n",
       "    .dataframe thead th {\n",
       "        text-align: right;\n",
       "    }\n",
       "</style>\n",
       "<table border=\"1\" class=\"dataframe\">\n",
       "  <thead>\n",
       "    <tr style=\"text-align: right;\">\n",
       "      <th></th>\n",
       "      <th>EmployeeID</th>\n",
       "      <th>EmployeeName</th>\n",
       "      <th>ManagerName</th>\n",
       "    </tr>\n",
       "  </thead>\n",
       "  <tbody>\n",
       "    <tr>\n",
       "      <th>0</th>\n",
       "      <td>2</td>\n",
       "      <td>Jane Smith</td>\n",
       "      <td>John Doe</td>\n",
       "    </tr>\n",
       "    <tr>\n",
       "      <th>1</th>\n",
       "      <td>3</td>\n",
       "      <td>Bob Johnson</td>\n",
       "      <td>John Doe</td>\n",
       "    </tr>\n",
       "    <tr>\n",
       "      <th>2</th>\n",
       "      <td>4</td>\n",
       "      <td>Alice Brown</td>\n",
       "      <td>Jane Smith</td>\n",
       "    </tr>\n",
       "    <tr>\n",
       "      <th>3</th>\n",
       "      <td>5</td>\n",
       "      <td>Charlie Green</td>\n",
       "      <td>Jane Smith</td>\n",
       "    </tr>\n",
       "  </tbody>\n",
       "</table>\n",
       "</div>"
      ],
      "text/plain": [
       "   EmployeeID   EmployeeName ManagerName\n",
       "0           2     Jane Smith    John Doe\n",
       "1           3    Bob Johnson    John Doe\n",
       "2           4    Alice Brown  Jane Smith\n",
       "3           5  Charlie Green  Jane Smith"
      ]
     },
     "metadata": {},
     "output_type": "display_data"
    }
   ],
   "source": [
    "cur.execute('''\n",
    "SELECT \n",
    "    e.EmployeeID AS EmployeeID,\n",
    "    e.EmployeeName AS EmployeeName,\n",
    "    m.EmployeeName AS ManagerName\n",
    "FROM Demo e\n",
    "JOIN Demo m ON e.ManagerID = m.EmployeeID;\n",
    "''')\n",
    "\n",
    "result = cur.fetchall()\n",
    "\n",
    "df = pd.DataFrame(result, columns=[item[0] for item in cur.description])\n",
    "display(df)"
   ]
  },
  {
   "cell_type": "code",
   "execution_count": 29,
   "id": "875924f2",
   "metadata": {},
   "outputs": [
    {
     "data": {
      "text/html": [
       "<div>\n",
       "<style scoped>\n",
       "    .dataframe tbody tr th:only-of-type {\n",
       "        vertical-align: middle;\n",
       "    }\n",
       "\n",
       "    .dataframe tbody tr th {\n",
       "        vertical-align: top;\n",
       "    }\n",
       "\n",
       "    .dataframe thead th {\n",
       "        text-align: right;\n",
       "    }\n",
       "</style>\n",
       "<table border=\"1\" class=\"dataframe\">\n",
       "  <thead>\n",
       "    <tr style=\"text-align: right;\">\n",
       "      <th></th>\n",
       "      <th>EmployeeID</th>\n",
       "      <th>EmployeeName</th>\n",
       "      <th>ManagerName</th>\n",
       "    </tr>\n",
       "  </thead>\n",
       "  <tbody>\n",
       "    <tr>\n",
       "      <th>0</th>\n",
       "      <td>1</td>\n",
       "      <td>John Doe</td>\n",
       "      <td>None</td>\n",
       "    </tr>\n",
       "    <tr>\n",
       "      <th>1</th>\n",
       "      <td>2</td>\n",
       "      <td>Jane Smith</td>\n",
       "      <td>John Doe</td>\n",
       "    </tr>\n",
       "    <tr>\n",
       "      <th>2</th>\n",
       "      <td>3</td>\n",
       "      <td>Bob Johnson</td>\n",
       "      <td>John Doe</td>\n",
       "    </tr>\n",
       "    <tr>\n",
       "      <th>3</th>\n",
       "      <td>4</td>\n",
       "      <td>Alice Brown</td>\n",
       "      <td>Jane Smith</td>\n",
       "    </tr>\n",
       "    <tr>\n",
       "      <th>4</th>\n",
       "      <td>5</td>\n",
       "      <td>Charlie Green</td>\n",
       "      <td>Jane Smith</td>\n",
       "    </tr>\n",
       "  </tbody>\n",
       "</table>\n",
       "</div>"
      ],
      "text/plain": [
       "   EmployeeID   EmployeeName ManagerName\n",
       "0           1       John Doe        None\n",
       "1           2     Jane Smith    John Doe\n",
       "2           3    Bob Johnson    John Doe\n",
       "3           4    Alice Brown  Jane Smith\n",
       "4           5  Charlie Green  Jane Smith"
      ]
     },
     "metadata": {},
     "output_type": "display_data"
    }
   ],
   "source": [
    "cur.execute('''\n",
    "SELECT \n",
    "    e.EmployeeID AS EmployeeID,\n",
    "    e.EmployeeName AS EmployeeName,\n",
    "    m.EmployeeName AS ManagerName\n",
    "FROM Demo e\n",
    "LEFT JOIN Demo m ON e.ManagerID = m.EmployeeID;\n",
    "''')\n",
    "\n",
    "result = cur.fetchall()\n",
    "\n",
    "df = pd.DataFrame(result, columns=[item[0] for item in cur.description])\n",
    "display(df)"
   ]
  },
  {
   "cell_type": "code",
   "execution_count": null,
   "id": "5d6a598f",
   "metadata": {},
   "outputs": [],
   "source": []
  }
 ],
 "metadata": {
  "kernelspec": {
   "display_name": "Python 3 (ipykernel)",
   "language": "python",
   "name": "python3"
  },
  "language_info": {
   "codemirror_mode": {
    "name": "ipython",
    "version": 3
   },
   "file_extension": ".py",
   "mimetype": "text/x-python",
   "name": "python",
   "nbconvert_exporter": "python",
   "pygments_lexer": "ipython3",
   "version": "3.10.9"
  }
 },
 "nbformat": 4,
 "nbformat_minor": 5
}

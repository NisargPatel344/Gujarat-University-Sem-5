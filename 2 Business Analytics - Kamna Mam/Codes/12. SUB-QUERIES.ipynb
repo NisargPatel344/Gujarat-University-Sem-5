{
 "cells": [
  {
   "cell_type": "code",
   "execution_count": 1,
   "id": "aad98c9b",
   "metadata": {},
   "outputs": [],
   "source": [
    "import pandas as pd\n",
    "import numpy as np\n",
    "import sqlite3"
   ]
  },
  {
   "cell_type": "code",
   "execution_count": 2,
   "id": "d175a88e",
   "metadata": {},
   "outputs": [],
   "source": [
    "cnn = sqlite3.connect('data30.db')\n",
    "cur = cnn.cursor()"
   ]
  },
  {
   "cell_type": "code",
   "execution_count": 4,
   "id": "7728b9ea",
   "metadata": {
    "scrolled": true
   },
   "outputs": [
    {
     "data": {
      "text/plain": [
       "<sqlite3.Cursor at 0x1b1b931a340>"
      ]
     },
     "execution_count": 4,
     "metadata": {},
     "output_type": "execute_result"
    }
   ],
   "source": [
    "cur.execute('''\n",
    "CREATE TABLE Department (\n",
    "    DepartmentID INT PRIMARY KEY,\n",
    "    DepartmentName VARCHAR(50)\n",
    ");\n",
    "''')"
   ]
  },
  {
   "cell_type": "code",
   "execution_count": 5,
   "id": "4fe63d9e",
   "metadata": {},
   "outputs": [
    {
     "data": {
      "text/plain": [
       "<sqlite3.Cursor at 0x1b1b931a340>"
      ]
     },
     "execution_count": 5,
     "metadata": {},
     "output_type": "execute_result"
    }
   ],
   "source": [
    "cur.execute('''\n",
    "CREATE TABLE Employee (\n",
    "    EmployeeID INT PRIMARY KEY,\n",
    "    Name VARCHAR(100),\n",
    "    Job VARCHAR(50),\n",
    "    Salary INT,\n",
    "    DepartmentID INT,\n",
    "    FOREIGN KEY (DepartmentID) REFERENCES Department(DepartmentID)\n",
    ");\n",
    "''')"
   ]
  },
  {
   "cell_type": "code",
   "execution_count": 6,
   "id": "aa5b313d",
   "metadata": {},
   "outputs": [
    {
     "data": {
      "text/plain": [
       "<sqlite3.Cursor at 0x1b1b931a340>"
      ]
     },
     "execution_count": 6,
     "metadata": {},
     "output_type": "execute_result"
    }
   ],
   "source": [
    "cur.execute('''\n",
    "INSERT INTO Department (DepartmentID, DepartmentName) VALUES\n",
    "(1, 'Sales'),\n",
    "(2, 'Marketing'),\n",
    "(3, 'Finance'),\n",
    "(4, 'Human Resources');\n",
    "''')"
   ]
  },
  {
   "cell_type": "code",
   "execution_count": 7,
   "id": "35e73e4f",
   "metadata": {},
   "outputs": [
    {
     "data": {
      "text/plain": [
       "<sqlite3.Cursor at 0x1b1b931a340>"
      ]
     },
     "execution_count": 7,
     "metadata": {},
     "output_type": "execute_result"
    }
   ],
   "source": [
    "cur.execute('''\n",
    "INSERT INTO Employee (EmployeeID, Name, Job, Salary, DepartmentID) VALUES\n",
    "(1, 'John Doe', 'Sales Representative', 50000, 1),\n",
    "(2, 'Jane Smith', 'Marketing Specialist', 60000, 2),\n",
    "(3, 'Mike Johnson', 'Financial Analyst', 70000, 3),\n",
    "(4, 'Emily Davis', 'HR Manager', 55000, 4),\n",
    "(5, 'Robert Brown', 'Sales Representative', 75000, 1),\n",
    "(6, 'Alice White', 'Marketing Specialist', 80000, 2),\n",
    "(7, 'Daniel Lee', 'Senior Financial Analyst', 90000, 3),\n",
    "(8, 'Olivia Miller', 'HR Manager', 70000, 4),\n",
    "(9, 'William Turner', 'Sales Representative', 55000, 1),\n",
    "(10, 'Sophia Martin', 'Financial Analyst', 60000, 2);\n",
    "''')"
   ]
  },
  {
   "cell_type": "code",
   "execution_count": 7,
   "id": "0a85c888",
   "metadata": {},
   "outputs": [
    {
     "data": {
      "text/html": [
       "<div>\n",
       "<style scoped>\n",
       "    .dataframe tbody tr th:only-of-type {\n",
       "        vertical-align: middle;\n",
       "    }\n",
       "\n",
       "    .dataframe tbody tr th {\n",
       "        vertical-align: top;\n",
       "    }\n",
       "\n",
       "    .dataframe thead th {\n",
       "        text-align: right;\n",
       "    }\n",
       "</style>\n",
       "<table border=\"1\" class=\"dataframe\">\n",
       "  <thead>\n",
       "    <tr style=\"text-align: right;\">\n",
       "      <th></th>\n",
       "      <th>DepartmentID</th>\n",
       "      <th>DepartmentName</th>\n",
       "    </tr>\n",
       "  </thead>\n",
       "  <tbody>\n",
       "    <tr>\n",
       "      <th>0</th>\n",
       "      <td>1</td>\n",
       "      <td>Sales</td>\n",
       "    </tr>\n",
       "    <tr>\n",
       "      <th>1</th>\n",
       "      <td>2</td>\n",
       "      <td>Marketing</td>\n",
       "    </tr>\n",
       "    <tr>\n",
       "      <th>2</th>\n",
       "      <td>3</td>\n",
       "      <td>Finance</td>\n",
       "    </tr>\n",
       "    <tr>\n",
       "      <th>3</th>\n",
       "      <td>4</td>\n",
       "      <td>Human Resources</td>\n",
       "    </tr>\n",
       "  </tbody>\n",
       "</table>\n",
       "</div>"
      ],
      "text/plain": [
       "   DepartmentID   DepartmentName\n",
       "0             1            Sales\n",
       "1             2        Marketing\n",
       "2             3          Finance\n",
       "3             4  Human Resources"
      ]
     },
     "metadata": {},
     "output_type": "display_data"
    },
    {
     "data": {
      "text/html": [
       "<div>\n",
       "<style scoped>\n",
       "    .dataframe tbody tr th:only-of-type {\n",
       "        vertical-align: middle;\n",
       "    }\n",
       "\n",
       "    .dataframe tbody tr th {\n",
       "        vertical-align: top;\n",
       "    }\n",
       "\n",
       "    .dataframe thead th {\n",
       "        text-align: right;\n",
       "    }\n",
       "</style>\n",
       "<table border=\"1\" class=\"dataframe\">\n",
       "  <thead>\n",
       "    <tr style=\"text-align: right;\">\n",
       "      <th></th>\n",
       "      <th>EmployeeID</th>\n",
       "      <th>Name</th>\n",
       "      <th>Job</th>\n",
       "      <th>Salary</th>\n",
       "      <th>DepartmentID</th>\n",
       "    </tr>\n",
       "  </thead>\n",
       "  <tbody>\n",
       "    <tr>\n",
       "      <th>0</th>\n",
       "      <td>1</td>\n",
       "      <td>John Doe</td>\n",
       "      <td>Sales Representative</td>\n",
       "      <td>50000</td>\n",
       "      <td>1</td>\n",
       "    </tr>\n",
       "    <tr>\n",
       "      <th>1</th>\n",
       "      <td>2</td>\n",
       "      <td>Jane Smith</td>\n",
       "      <td>Marketing Specialist</td>\n",
       "      <td>60000</td>\n",
       "      <td>2</td>\n",
       "    </tr>\n",
       "    <tr>\n",
       "      <th>2</th>\n",
       "      <td>3</td>\n",
       "      <td>Mike Johnson</td>\n",
       "      <td>Financial Analyst</td>\n",
       "      <td>70000</td>\n",
       "      <td>3</td>\n",
       "    </tr>\n",
       "    <tr>\n",
       "      <th>3</th>\n",
       "      <td>4</td>\n",
       "      <td>Emily Davis</td>\n",
       "      <td>HR Manager</td>\n",
       "      <td>55000</td>\n",
       "      <td>4</td>\n",
       "    </tr>\n",
       "    <tr>\n",
       "      <th>4</th>\n",
       "      <td>5</td>\n",
       "      <td>Robert Brown</td>\n",
       "      <td>Sales Representative</td>\n",
       "      <td>75000</td>\n",
       "      <td>1</td>\n",
       "    </tr>\n",
       "    <tr>\n",
       "      <th>5</th>\n",
       "      <td>6</td>\n",
       "      <td>Alice White</td>\n",
       "      <td>Marketing Specialist</td>\n",
       "      <td>80000</td>\n",
       "      <td>2</td>\n",
       "    </tr>\n",
       "    <tr>\n",
       "      <th>6</th>\n",
       "      <td>7</td>\n",
       "      <td>Daniel Lee</td>\n",
       "      <td>Senior Financial Analyst</td>\n",
       "      <td>90000</td>\n",
       "      <td>3</td>\n",
       "    </tr>\n",
       "    <tr>\n",
       "      <th>7</th>\n",
       "      <td>8</td>\n",
       "      <td>Olivia Miller</td>\n",
       "      <td>HR Manager</td>\n",
       "      <td>70000</td>\n",
       "      <td>4</td>\n",
       "    </tr>\n",
       "    <tr>\n",
       "      <th>8</th>\n",
       "      <td>9</td>\n",
       "      <td>William Turner</td>\n",
       "      <td>Sales Representative</td>\n",
       "      <td>55000</td>\n",
       "      <td>1</td>\n",
       "    </tr>\n",
       "    <tr>\n",
       "      <th>9</th>\n",
       "      <td>10</td>\n",
       "      <td>Sophia Martin</td>\n",
       "      <td>Financial Analyst</td>\n",
       "      <td>60000</td>\n",
       "      <td>2</td>\n",
       "    </tr>\n",
       "  </tbody>\n",
       "</table>\n",
       "</div>"
      ],
      "text/plain": [
       "   EmployeeID            Name                       Job  Salary  DepartmentID\n",
       "0           1        John Doe      Sales Representative   50000             1\n",
       "1           2      Jane Smith      Marketing Specialist   60000             2\n",
       "2           3    Mike Johnson         Financial Analyst   70000             3\n",
       "3           4     Emily Davis                HR Manager   55000             4\n",
       "4           5    Robert Brown      Sales Representative   75000             1\n",
       "5           6     Alice White      Marketing Specialist   80000             2\n",
       "6           7      Daniel Lee  Senior Financial Analyst   90000             3\n",
       "7           8   Olivia Miller                HR Manager   70000             4\n",
       "8           9  William Turner      Sales Representative   55000             1\n",
       "9          10   Sophia Martin         Financial Analyst   60000             2"
      ]
     },
     "metadata": {},
     "output_type": "display_data"
    }
   ],
   "source": [
    "cur.execute('''\n",
    "SELECT * FROM Department;\n",
    "''')\n",
    "\n",
    "result = cur.fetchall()\n",
    "department_df = pd.DataFrame(result, columns=[item[0] for item in cur.description])\n",
    "display(department_df)\n",
    "\n",
    "cur.execute('''\n",
    "SELECT * FROM Employee;\n",
    "''')\n",
    "\n",
    "result = cur.fetchall()\n",
    "employee_df = pd.DataFrame(result, columns=[item[0] for item in cur.description])\n",
    "display(employee_df)"
   ]
  },
  {
   "cell_type": "markdown",
   "id": "50ae4ce2",
   "metadata": {},
   "source": [
    "# Single Row Sub-Query"
   ]
  },
  {
   "cell_type": "markdown",
   "id": "5d4d97fb",
   "metadata": {},
   "source": [
    "### A single-row subquery is used when the outer query's results are based on a single value. "
   ]
  },
  {
   "cell_type": "markdown",
   "id": "1c7a8d6f",
   "metadata": {},
   "source": [
    "### Display the information about employees whose salary are less than the maximum salary"
   ]
  },
  {
   "cell_type": "markdown",
   "id": "3e68f30e",
   "metadata": {},
   "source": [
    "#### Sub-Query"
   ]
  },
  {
   "cell_type": "code",
   "execution_count": 8,
   "id": "6c5d1225",
   "metadata": {},
   "outputs": [
    {
     "data": {
      "text/html": [
       "<div>\n",
       "<style scoped>\n",
       "    .dataframe tbody tr th:only-of-type {\n",
       "        vertical-align: middle;\n",
       "    }\n",
       "\n",
       "    .dataframe tbody tr th {\n",
       "        vertical-align: top;\n",
       "    }\n",
       "\n",
       "    .dataframe thead th {\n",
       "        text-align: right;\n",
       "    }\n",
       "</style>\n",
       "<table border=\"1\" class=\"dataframe\">\n",
       "  <thead>\n",
       "    <tr style=\"text-align: right;\">\n",
       "      <th></th>\n",
       "      <th>MAX(salary)</th>\n",
       "    </tr>\n",
       "  </thead>\n",
       "  <tbody>\n",
       "    <tr>\n",
       "      <th>0</th>\n",
       "      <td>90000</td>\n",
       "    </tr>\n",
       "  </tbody>\n",
       "</table>\n",
       "</div>"
      ],
      "text/plain": [
       "   MAX(salary)\n",
       "0        90000"
      ]
     },
     "metadata": {},
     "output_type": "display_data"
    }
   ],
   "source": [
    "cur.execute('''\n",
    "SELECT MAX(salary) \n",
    "FROM Employee;\n",
    "''')\n",
    "\n",
    "result = cur.fetchall()\n",
    "\n",
    "df = pd.DataFrame(result, columns=[item[0] for item in cur.description])\n",
    "display(df)"
   ]
  },
  {
   "cell_type": "markdown",
   "id": "5bd0506a",
   "metadata": {},
   "source": [
    "#### Main-Query"
   ]
  },
  {
   "cell_type": "code",
   "execution_count": 9,
   "id": "394b8436",
   "metadata": {},
   "outputs": [
    {
     "data": {
      "text/html": [
       "<div>\n",
       "<style scoped>\n",
       "    .dataframe tbody tr th:only-of-type {\n",
       "        vertical-align: middle;\n",
       "    }\n",
       "\n",
       "    .dataframe tbody tr th {\n",
       "        vertical-align: top;\n",
       "    }\n",
       "\n",
       "    .dataframe thead th {\n",
       "        text-align: right;\n",
       "    }\n",
       "</style>\n",
       "<table border=\"1\" class=\"dataframe\">\n",
       "  <thead>\n",
       "    <tr style=\"text-align: right;\">\n",
       "      <th></th>\n",
       "      <th>EmployeeID</th>\n",
       "      <th>Name</th>\n",
       "      <th>Job</th>\n",
       "      <th>Salary</th>\n",
       "      <th>DepartmentID</th>\n",
       "    </tr>\n",
       "  </thead>\n",
       "  <tbody>\n",
       "    <tr>\n",
       "      <th>0</th>\n",
       "      <td>1</td>\n",
       "      <td>John Doe</td>\n",
       "      <td>Sales Representative</td>\n",
       "      <td>50000</td>\n",
       "      <td>1</td>\n",
       "    </tr>\n",
       "    <tr>\n",
       "      <th>1</th>\n",
       "      <td>2</td>\n",
       "      <td>Jane Smith</td>\n",
       "      <td>Marketing Specialist</td>\n",
       "      <td>60000</td>\n",
       "      <td>2</td>\n",
       "    </tr>\n",
       "    <tr>\n",
       "      <th>2</th>\n",
       "      <td>3</td>\n",
       "      <td>Mike Johnson</td>\n",
       "      <td>Financial Analyst</td>\n",
       "      <td>70000</td>\n",
       "      <td>3</td>\n",
       "    </tr>\n",
       "    <tr>\n",
       "      <th>3</th>\n",
       "      <td>4</td>\n",
       "      <td>Emily Davis</td>\n",
       "      <td>HR Manager</td>\n",
       "      <td>55000</td>\n",
       "      <td>4</td>\n",
       "    </tr>\n",
       "    <tr>\n",
       "      <th>4</th>\n",
       "      <td>5</td>\n",
       "      <td>Robert Brown</td>\n",
       "      <td>Sales Representative</td>\n",
       "      <td>75000</td>\n",
       "      <td>1</td>\n",
       "    </tr>\n",
       "    <tr>\n",
       "      <th>5</th>\n",
       "      <td>6</td>\n",
       "      <td>Alice White</td>\n",
       "      <td>Marketing Specialist</td>\n",
       "      <td>80000</td>\n",
       "      <td>2</td>\n",
       "    </tr>\n",
       "    <tr>\n",
       "      <th>6</th>\n",
       "      <td>8</td>\n",
       "      <td>Olivia Miller</td>\n",
       "      <td>HR Manager</td>\n",
       "      <td>70000</td>\n",
       "      <td>4</td>\n",
       "    </tr>\n",
       "    <tr>\n",
       "      <th>7</th>\n",
       "      <td>9</td>\n",
       "      <td>William Turner</td>\n",
       "      <td>Sales Representative</td>\n",
       "      <td>55000</td>\n",
       "      <td>1</td>\n",
       "    </tr>\n",
       "    <tr>\n",
       "      <th>8</th>\n",
       "      <td>10</td>\n",
       "      <td>Sophia Martin</td>\n",
       "      <td>Financial Analyst</td>\n",
       "      <td>60000</td>\n",
       "      <td>2</td>\n",
       "    </tr>\n",
       "  </tbody>\n",
       "</table>\n",
       "</div>"
      ],
      "text/plain": [
       "   EmployeeID            Name                   Job  Salary  DepartmentID\n",
       "0           1        John Doe  Sales Representative   50000             1\n",
       "1           2      Jane Smith  Marketing Specialist   60000             2\n",
       "2           3    Mike Johnson     Financial Analyst   70000             3\n",
       "3           4     Emily Davis            HR Manager   55000             4\n",
       "4           5    Robert Brown  Sales Representative   75000             1\n",
       "5           6     Alice White  Marketing Specialist   80000             2\n",
       "6           8   Olivia Miller            HR Manager   70000             4\n",
       "7           9  William Turner  Sales Representative   55000             1\n",
       "8          10   Sophia Martin     Financial Analyst   60000             2"
      ]
     },
     "metadata": {},
     "output_type": "display_data"
    }
   ],
   "source": [
    "cur.execute('''\n",
    "SELECT *\n",
    "FROM Employee\n",
    "WHERE salary < (\n",
    "    SELECT MAX(salary) \n",
    "    FROM Employee\n",
    ");\n",
    "''')\n",
    "\n",
    "result = cur.fetchall()\n",
    "\n",
    "df = pd.DataFrame(result, columns=[item[0] for item in cur.description])\n",
    "display(df)"
   ]
  },
  {
   "cell_type": "markdown",
   "id": "f8f1630d",
   "metadata": {},
   "source": [
    "### Display the information about employees who have the same job as 'John Doe'"
   ]
  },
  {
   "cell_type": "markdown",
   "id": "ba3bfaae",
   "metadata": {},
   "source": [
    "#### Sub-Query"
   ]
  },
  {
   "cell_type": "code",
   "execution_count": 10,
   "id": "8f644849",
   "metadata": {},
   "outputs": [
    {
     "data": {
      "text/html": [
       "<div>\n",
       "<style scoped>\n",
       "    .dataframe tbody tr th:only-of-type {\n",
       "        vertical-align: middle;\n",
       "    }\n",
       "\n",
       "    .dataframe tbody tr th {\n",
       "        vertical-align: top;\n",
       "    }\n",
       "\n",
       "    .dataframe thead th {\n",
       "        text-align: right;\n",
       "    }\n",
       "</style>\n",
       "<table border=\"1\" class=\"dataframe\">\n",
       "  <thead>\n",
       "    <tr style=\"text-align: right;\">\n",
       "      <th></th>\n",
       "      <th>Job</th>\n",
       "    </tr>\n",
       "  </thead>\n",
       "  <tbody>\n",
       "    <tr>\n",
       "      <th>0</th>\n",
       "      <td>Sales Representative</td>\n",
       "    </tr>\n",
       "  </tbody>\n",
       "</table>\n",
       "</div>"
      ],
      "text/plain": [
       "                    Job\n",
       "0  Sales Representative"
      ]
     },
     "metadata": {},
     "output_type": "display_data"
    }
   ],
   "source": [
    "cur.execute('''\n",
    "SELECT Job\n",
    "FROM Employee\n",
    "WHERE Name = 'John Doe'\n",
    "''')\n",
    "\n",
    "result = cur.fetchall()\n",
    "\n",
    "df = pd.DataFrame(result, columns=[item[0] for item in cur.description])\n",
    "display(df)"
   ]
  },
  {
   "cell_type": "markdown",
   "id": "88cf76ca",
   "metadata": {},
   "source": [
    "#### Main-Query"
   ]
  },
  {
   "cell_type": "code",
   "execution_count": 11,
   "id": "84436d91",
   "metadata": {},
   "outputs": [
    {
     "data": {
      "text/html": [
       "<div>\n",
       "<style scoped>\n",
       "    .dataframe tbody tr th:only-of-type {\n",
       "        vertical-align: middle;\n",
       "    }\n",
       "\n",
       "    .dataframe tbody tr th {\n",
       "        vertical-align: top;\n",
       "    }\n",
       "\n",
       "    .dataframe thead th {\n",
       "        text-align: right;\n",
       "    }\n",
       "</style>\n",
       "<table border=\"1\" class=\"dataframe\">\n",
       "  <thead>\n",
       "    <tr style=\"text-align: right;\">\n",
       "      <th></th>\n",
       "      <th>EmployeeID</th>\n",
       "      <th>Name</th>\n",
       "      <th>Job</th>\n",
       "      <th>Salary</th>\n",
       "      <th>DepartmentID</th>\n",
       "    </tr>\n",
       "  </thead>\n",
       "  <tbody>\n",
       "    <tr>\n",
       "      <th>0</th>\n",
       "      <td>1</td>\n",
       "      <td>John Doe</td>\n",
       "      <td>Sales Representative</td>\n",
       "      <td>50000</td>\n",
       "      <td>1</td>\n",
       "    </tr>\n",
       "    <tr>\n",
       "      <th>1</th>\n",
       "      <td>5</td>\n",
       "      <td>Robert Brown</td>\n",
       "      <td>Sales Representative</td>\n",
       "      <td>75000</td>\n",
       "      <td>1</td>\n",
       "    </tr>\n",
       "    <tr>\n",
       "      <th>2</th>\n",
       "      <td>9</td>\n",
       "      <td>William Turner</td>\n",
       "      <td>Sales Representative</td>\n",
       "      <td>55000</td>\n",
       "      <td>1</td>\n",
       "    </tr>\n",
       "  </tbody>\n",
       "</table>\n",
       "</div>"
      ],
      "text/plain": [
       "   EmployeeID            Name                   Job  Salary  DepartmentID\n",
       "0           1        John Doe  Sales Representative   50000             1\n",
       "1           5    Robert Brown  Sales Representative   75000             1\n",
       "2           9  William Turner  Sales Representative   55000             1"
      ]
     },
     "metadata": {},
     "output_type": "display_data"
    }
   ],
   "source": [
    "cur.execute('''\n",
    "SELECT *\n",
    "FROM Employee\n",
    "WHERE Job = (\n",
    "    SELECT Job\n",
    "    FROM Employee\n",
    "    WHERE Name = 'John Doe'\n",
    ");\n",
    "''')\n",
    "\n",
    "result = cur.fetchall()\n",
    "\n",
    "df = pd.DataFrame(result, columns=[item[0] for item in cur.description])\n",
    "display(df)"
   ]
  },
  {
   "cell_type": "markdown",
   "id": "3fef895f",
   "metadata": {},
   "source": [
    "# Pairwise Comparison Sub-Query"
   ]
  },
  {
   "cell_type": "markdown",
   "id": "8d0fb26a",
   "metadata": {},
   "source": [
    "### A pairwise comparison sub-query is a sub-query that involves comparing pairs of values from different rows in a table."
   ]
  },
  {
   "cell_type": "markdown",
   "id": "4d01a602",
   "metadata": {},
   "source": [
    "### Display the Information of those Employees whose EmployeeID and Salary match those of Employees with the Job titile 'Sales Representative'"
   ]
  },
  {
   "cell_type": "markdown",
   "id": "e6afa09f",
   "metadata": {},
   "source": [
    "#### Sub-Query"
   ]
  },
  {
   "cell_type": "code",
   "execution_count": 12,
   "id": "12a84fbd",
   "metadata": {},
   "outputs": [
    {
     "data": {
      "text/html": [
       "<div>\n",
       "<style scoped>\n",
       "    .dataframe tbody tr th:only-of-type {\n",
       "        vertical-align: middle;\n",
       "    }\n",
       "\n",
       "    .dataframe tbody tr th {\n",
       "        vertical-align: top;\n",
       "    }\n",
       "\n",
       "    .dataframe thead th {\n",
       "        text-align: right;\n",
       "    }\n",
       "</style>\n",
       "<table border=\"1\" class=\"dataframe\">\n",
       "  <thead>\n",
       "    <tr style=\"text-align: right;\">\n",
       "      <th></th>\n",
       "      <th>EmployeeID</th>\n",
       "      <th>Salary</th>\n",
       "    </tr>\n",
       "  </thead>\n",
       "  <tbody>\n",
       "    <tr>\n",
       "      <th>0</th>\n",
       "      <td>1</td>\n",
       "      <td>50000</td>\n",
       "    </tr>\n",
       "    <tr>\n",
       "      <th>1</th>\n",
       "      <td>5</td>\n",
       "      <td>75000</td>\n",
       "    </tr>\n",
       "    <tr>\n",
       "      <th>2</th>\n",
       "      <td>9</td>\n",
       "      <td>55000</td>\n",
       "    </tr>\n",
       "  </tbody>\n",
       "</table>\n",
       "</div>"
      ],
      "text/plain": [
       "   EmployeeID  Salary\n",
       "0           1   50000\n",
       "1           5   75000\n",
       "2           9   55000"
      ]
     },
     "metadata": {},
     "output_type": "display_data"
    }
   ],
   "source": [
    "cur.execute('''\n",
    "SELECT EmployeeID, Salary\n",
    "FROM Employee\n",
    "WHERE Job = 'Sales Representative'\n",
    "''')\n",
    "\n",
    "result = cur.fetchall()\n",
    "\n",
    "df = pd.DataFrame(result, columns=[item[0] for item in cur.description])\n",
    "display(df)"
   ]
  },
  {
   "cell_type": "markdown",
   "id": "dc40dd53",
   "metadata": {},
   "source": [
    "#### Main-Query"
   ]
  },
  {
   "cell_type": "code",
   "execution_count": 12,
   "id": "9ecce796",
   "metadata": {},
   "outputs": [
    {
     "data": {
      "text/html": [
       "<div>\n",
       "<style scoped>\n",
       "    .dataframe tbody tr th:only-of-type {\n",
       "        vertical-align: middle;\n",
       "    }\n",
       "\n",
       "    .dataframe tbody tr th {\n",
       "        vertical-align: top;\n",
       "    }\n",
       "\n",
       "    .dataframe thead th {\n",
       "        text-align: right;\n",
       "    }\n",
       "</style>\n",
       "<table border=\"1\" class=\"dataframe\">\n",
       "  <thead>\n",
       "    <tr style=\"text-align: right;\">\n",
       "      <th></th>\n",
       "      <th>EmployeeID</th>\n",
       "      <th>Name</th>\n",
       "      <th>Job</th>\n",
       "      <th>Salary</th>\n",
       "      <th>DepartmentID</th>\n",
       "    </tr>\n",
       "  </thead>\n",
       "  <tbody>\n",
       "    <tr>\n",
       "      <th>0</th>\n",
       "      <td>1</td>\n",
       "      <td>John Doe</td>\n",
       "      <td>Sales Representative</td>\n",
       "      <td>50000</td>\n",
       "      <td>1</td>\n",
       "    </tr>\n",
       "    <tr>\n",
       "      <th>1</th>\n",
       "      <td>5</td>\n",
       "      <td>Robert Brown</td>\n",
       "      <td>Sales Representative</td>\n",
       "      <td>75000</td>\n",
       "      <td>1</td>\n",
       "    </tr>\n",
       "    <tr>\n",
       "      <th>2</th>\n",
       "      <td>9</td>\n",
       "      <td>William Turner</td>\n",
       "      <td>Sales Representative</td>\n",
       "      <td>55000</td>\n",
       "      <td>1</td>\n",
       "    </tr>\n",
       "  </tbody>\n",
       "</table>\n",
       "</div>"
      ],
      "text/plain": [
       "   EmployeeID            Name                   Job  Salary  DepartmentID\n",
       "0           1        John Doe  Sales Representative   50000             1\n",
       "1           5    Robert Brown  Sales Representative   75000             1\n",
       "2           9  William Turner  Sales Representative   55000             1"
      ]
     },
     "metadata": {},
     "output_type": "display_data"
    }
   ],
   "source": [
    "cur.execute('''\n",
    "SELECT *\n",
    "FROM Employee\n",
    "WHERE (EmployeeID, Salary) IN (\n",
    "    SELECT EmployeeID, Salary\n",
    "    FROM Employee\n",
    "    WHERE Job = 'Sales Representative'\n",
    ");\n",
    "''')\n",
    "\n",
    "result = cur.fetchall()\n",
    "\n",
    "df = pd.DataFrame(result, columns=[item[0] for item in cur.description])\n",
    "display(df)"
   ]
  },
  {
   "cell_type": "markdown",
   "id": "5c65598a",
   "metadata": {},
   "source": [
    "### Display the Information of those Employees whose Name and Salary match those of Employees with the DepartmentID '3'"
   ]
  },
  {
   "cell_type": "markdown",
   "id": "34b204d3",
   "metadata": {},
   "source": [
    "#### Sub-Query"
   ]
  },
  {
   "cell_type": "code",
   "execution_count": 14,
   "id": "dc56fd9a",
   "metadata": {},
   "outputs": [
    {
     "data": {
      "text/html": [
       "<div>\n",
       "<style scoped>\n",
       "    .dataframe tbody tr th:only-of-type {\n",
       "        vertical-align: middle;\n",
       "    }\n",
       "\n",
       "    .dataframe tbody tr th {\n",
       "        vertical-align: top;\n",
       "    }\n",
       "\n",
       "    .dataframe thead th {\n",
       "        text-align: right;\n",
       "    }\n",
       "</style>\n",
       "<table border=\"1\" class=\"dataframe\">\n",
       "  <thead>\n",
       "    <tr style=\"text-align: right;\">\n",
       "      <th></th>\n",
       "      <th>Name</th>\n",
       "      <th>Salary</th>\n",
       "    </tr>\n",
       "  </thead>\n",
       "  <tbody>\n",
       "    <tr>\n",
       "      <th>0</th>\n",
       "      <td>Mike Johnson</td>\n",
       "      <td>70000</td>\n",
       "    </tr>\n",
       "    <tr>\n",
       "      <th>1</th>\n",
       "      <td>Daniel Lee</td>\n",
       "      <td>90000</td>\n",
       "    </tr>\n",
       "  </tbody>\n",
       "</table>\n",
       "</div>"
      ],
      "text/plain": [
       "           Name  Salary\n",
       "0  Mike Johnson   70000\n",
       "1    Daniel Lee   90000"
      ]
     },
     "metadata": {},
     "output_type": "display_data"
    }
   ],
   "source": [
    "cur.execute('''\n",
    "SELECT Name, Salary\n",
    "FROM Employee\n",
    "WHERE DepartmentID = 3\n",
    "''')\n",
    "\n",
    "result = cur.fetchall()\n",
    "\n",
    "df = pd.DataFrame(result, columns=[item[0] for item in cur.description])\n",
    "display(df)"
   ]
  },
  {
   "cell_type": "markdown",
   "id": "476c9e1a",
   "metadata": {},
   "source": [
    "#### Main-Query"
   ]
  },
  {
   "cell_type": "code",
   "execution_count": 15,
   "id": "10d40306",
   "metadata": {},
   "outputs": [
    {
     "data": {
      "text/html": [
       "<div>\n",
       "<style scoped>\n",
       "    .dataframe tbody tr th:only-of-type {\n",
       "        vertical-align: middle;\n",
       "    }\n",
       "\n",
       "    .dataframe tbody tr th {\n",
       "        vertical-align: top;\n",
       "    }\n",
       "\n",
       "    .dataframe thead th {\n",
       "        text-align: right;\n",
       "    }\n",
       "</style>\n",
       "<table border=\"1\" class=\"dataframe\">\n",
       "  <thead>\n",
       "    <tr style=\"text-align: right;\">\n",
       "      <th></th>\n",
       "      <th>EmployeeID</th>\n",
       "      <th>Name</th>\n",
       "      <th>Job</th>\n",
       "      <th>Salary</th>\n",
       "      <th>DepartmentID</th>\n",
       "    </tr>\n",
       "  </thead>\n",
       "  <tbody>\n",
       "    <tr>\n",
       "      <th>0</th>\n",
       "      <td>3</td>\n",
       "      <td>Mike Johnson</td>\n",
       "      <td>Financial Analyst</td>\n",
       "      <td>70000</td>\n",
       "      <td>3</td>\n",
       "    </tr>\n",
       "    <tr>\n",
       "      <th>1</th>\n",
       "      <td>7</td>\n",
       "      <td>Daniel Lee</td>\n",
       "      <td>Senior Financial Analyst</td>\n",
       "      <td>90000</td>\n",
       "      <td>3</td>\n",
       "    </tr>\n",
       "  </tbody>\n",
       "</table>\n",
       "</div>"
      ],
      "text/plain": [
       "   EmployeeID          Name                       Job  Salary  DepartmentID\n",
       "0           3  Mike Johnson         Financial Analyst   70000             3\n",
       "1           7    Daniel Lee  Senior Financial Analyst   90000             3"
      ]
     },
     "metadata": {},
     "output_type": "display_data"
    }
   ],
   "source": [
    "cur.execute('''\n",
    "SELECT *\n",
    "FROM Employee\n",
    "WHERE (Name, Salary) IN (\n",
    "    SELECT Name, Salary\n",
    "    FROM Employee\n",
    "    WHERE DepartmentID = 3\n",
    ");\n",
    "''')\n",
    "\n",
    "result = cur.fetchall()\n",
    "\n",
    "df = pd.DataFrame(result, columns=[item[0] for item in cur.description])\n",
    "display(df)"
   ]
  },
  {
   "cell_type": "markdown",
   "id": "f9d6a341",
   "metadata": {},
   "source": [
    "# Non-Pairwise Comparison Sub-Query"
   ]
  },
  {
   "cell_type": "markdown",
   "id": "e415a424",
   "metadata": {},
   "source": [
    "### A Non-Pairwise Comparison Subquery is a subquery in which each item is compared independently."
   ]
  },
  {
   "cell_type": "markdown",
   "id": "e65414c0",
   "metadata": {},
   "source": [
    "### Display the Information of those Employees whose EmployeeID and Salary match those of Employees with the Job titile 'Sales Representative'"
   ]
  },
  {
   "cell_type": "markdown",
   "id": "44f09664",
   "metadata": {},
   "source": [
    "#### Sub-Query"
   ]
  },
  {
   "cell_type": "code",
   "execution_count": 16,
   "id": "4818e030",
   "metadata": {},
   "outputs": [
    {
     "data": {
      "text/html": [
       "<div>\n",
       "<style scoped>\n",
       "    .dataframe tbody tr th:only-of-type {\n",
       "        vertical-align: middle;\n",
       "    }\n",
       "\n",
       "    .dataframe tbody tr th {\n",
       "        vertical-align: top;\n",
       "    }\n",
       "\n",
       "    .dataframe thead th {\n",
       "        text-align: right;\n",
       "    }\n",
       "</style>\n",
       "<table border=\"1\" class=\"dataframe\">\n",
       "  <thead>\n",
       "    <tr style=\"text-align: right;\">\n",
       "      <th></th>\n",
       "      <th>EmployeeID</th>\n",
       "    </tr>\n",
       "  </thead>\n",
       "  <tbody>\n",
       "    <tr>\n",
       "      <th>0</th>\n",
       "      <td>1</td>\n",
       "    </tr>\n",
       "    <tr>\n",
       "      <th>1</th>\n",
       "      <td>5</td>\n",
       "    </tr>\n",
       "    <tr>\n",
       "      <th>2</th>\n",
       "      <td>9</td>\n",
       "    </tr>\n",
       "  </tbody>\n",
       "</table>\n",
       "</div>"
      ],
      "text/plain": [
       "   EmployeeID\n",
       "0           1\n",
       "1           5\n",
       "2           9"
      ]
     },
     "metadata": {},
     "output_type": "display_data"
    }
   ],
   "source": [
    "cur.execute('''\n",
    "SELECT EmployeeID\n",
    "FROM Employee\n",
    "WHERE Job = 'Sales Representative'\n",
    "''')\n",
    "\n",
    "result = cur.fetchall()\n",
    "\n",
    "df = pd.DataFrame(result, columns=[item[0] for item in cur.description])\n",
    "display(df)"
   ]
  },
  {
   "cell_type": "code",
   "execution_count": 17,
   "id": "f087973a",
   "metadata": {},
   "outputs": [
    {
     "data": {
      "text/html": [
       "<div>\n",
       "<style scoped>\n",
       "    .dataframe tbody tr th:only-of-type {\n",
       "        vertical-align: middle;\n",
       "    }\n",
       "\n",
       "    .dataframe tbody tr th {\n",
       "        vertical-align: top;\n",
       "    }\n",
       "\n",
       "    .dataframe thead th {\n",
       "        text-align: right;\n",
       "    }\n",
       "</style>\n",
       "<table border=\"1\" class=\"dataframe\">\n",
       "  <thead>\n",
       "    <tr style=\"text-align: right;\">\n",
       "      <th></th>\n",
       "      <th>Salary</th>\n",
       "    </tr>\n",
       "  </thead>\n",
       "  <tbody>\n",
       "    <tr>\n",
       "      <th>0</th>\n",
       "      <td>50000</td>\n",
       "    </tr>\n",
       "    <tr>\n",
       "      <th>1</th>\n",
       "      <td>75000</td>\n",
       "    </tr>\n",
       "    <tr>\n",
       "      <th>2</th>\n",
       "      <td>55000</td>\n",
       "    </tr>\n",
       "  </tbody>\n",
       "</table>\n",
       "</div>"
      ],
      "text/plain": [
       "   Salary\n",
       "0   50000\n",
       "1   75000\n",
       "2   55000"
      ]
     },
     "metadata": {},
     "output_type": "display_data"
    }
   ],
   "source": [
    "cur.execute('''\n",
    "SELECT Salary\n",
    "FROM Employee\n",
    "WHERE Job = 'Sales Representative'\n",
    "''')\n",
    "\n",
    "result = cur.fetchall()\n",
    "\n",
    "df = pd.DataFrame(result, columns=[item[0] for item in cur.description])\n",
    "display(df)"
   ]
  },
  {
   "cell_type": "markdown",
   "id": "3748e1a9",
   "metadata": {},
   "source": [
    "#### Main-Query"
   ]
  },
  {
   "cell_type": "code",
   "execution_count": 18,
   "id": "6872d5f0",
   "metadata": {},
   "outputs": [
    {
     "data": {
      "text/html": [
       "<div>\n",
       "<style scoped>\n",
       "    .dataframe tbody tr th:only-of-type {\n",
       "        vertical-align: middle;\n",
       "    }\n",
       "\n",
       "    .dataframe tbody tr th {\n",
       "        vertical-align: top;\n",
       "    }\n",
       "\n",
       "    .dataframe thead th {\n",
       "        text-align: right;\n",
       "    }\n",
       "</style>\n",
       "<table border=\"1\" class=\"dataframe\">\n",
       "  <thead>\n",
       "    <tr style=\"text-align: right;\">\n",
       "      <th></th>\n",
       "      <th>EmployeeID</th>\n",
       "      <th>Name</th>\n",
       "      <th>Job</th>\n",
       "      <th>Salary</th>\n",
       "      <th>DepartmentID</th>\n",
       "    </tr>\n",
       "  </thead>\n",
       "  <tbody>\n",
       "    <tr>\n",
       "      <th>0</th>\n",
       "      <td>1</td>\n",
       "      <td>John Doe</td>\n",
       "      <td>Sales Representative</td>\n",
       "      <td>50000</td>\n",
       "      <td>1</td>\n",
       "    </tr>\n",
       "    <tr>\n",
       "      <th>1</th>\n",
       "      <td>5</td>\n",
       "      <td>Robert Brown</td>\n",
       "      <td>Sales Representative</td>\n",
       "      <td>75000</td>\n",
       "      <td>1</td>\n",
       "    </tr>\n",
       "    <tr>\n",
       "      <th>2</th>\n",
       "      <td>9</td>\n",
       "      <td>William Turner</td>\n",
       "      <td>Sales Representative</td>\n",
       "      <td>55000</td>\n",
       "      <td>1</td>\n",
       "    </tr>\n",
       "  </tbody>\n",
       "</table>\n",
       "</div>"
      ],
      "text/plain": [
       "   EmployeeID            Name                   Job  Salary  DepartmentID\n",
       "0           1        John Doe  Sales Representative   50000             1\n",
       "1           5    Robert Brown  Sales Representative   75000             1\n",
       "2           9  William Turner  Sales Representative   55000             1"
      ]
     },
     "metadata": {},
     "output_type": "display_data"
    }
   ],
   "source": [
    "cur.execute('''\n",
    "SELECT *\n",
    "FROM Employee\n",
    "WHERE EmployeeID IN (\n",
    "    SELECT EmployeeID\n",
    "    FROM Employee\n",
    "    WHERE Job = 'Sales Representative'\n",
    ")\n",
    "AND Salary IN (\n",
    "    SELECT Salary\n",
    "    FROM Employee\n",
    "    WHERE Job = 'Sales Representative'\n",
    ");\n",
    "''')\n",
    "\n",
    "result = cur.fetchall()\n",
    "\n",
    "df = pd.DataFrame(result, columns=[item[0] for item in cur.description])\n",
    "display(df)"
   ]
  },
  {
   "cell_type": "markdown",
   "id": "91117484",
   "metadata": {},
   "source": [
    "### Display the Information of those Employees whose Name and Salary match those of Employees with the DepartmentID '3'"
   ]
  },
  {
   "cell_type": "markdown",
   "id": "9903cd98",
   "metadata": {},
   "source": [
    "#### Sub-Query"
   ]
  },
  {
   "cell_type": "code",
   "execution_count": 19,
   "id": "dab17706",
   "metadata": {},
   "outputs": [
    {
     "data": {
      "text/html": [
       "<div>\n",
       "<style scoped>\n",
       "    .dataframe tbody tr th:only-of-type {\n",
       "        vertical-align: middle;\n",
       "    }\n",
       "\n",
       "    .dataframe tbody tr th {\n",
       "        vertical-align: top;\n",
       "    }\n",
       "\n",
       "    .dataframe thead th {\n",
       "        text-align: right;\n",
       "    }\n",
       "</style>\n",
       "<table border=\"1\" class=\"dataframe\">\n",
       "  <thead>\n",
       "    <tr style=\"text-align: right;\">\n",
       "      <th></th>\n",
       "      <th>Name</th>\n",
       "    </tr>\n",
       "  </thead>\n",
       "  <tbody>\n",
       "    <tr>\n",
       "      <th>0</th>\n",
       "      <td>Mike Johnson</td>\n",
       "    </tr>\n",
       "    <tr>\n",
       "      <th>1</th>\n",
       "      <td>Daniel Lee</td>\n",
       "    </tr>\n",
       "  </tbody>\n",
       "</table>\n",
       "</div>"
      ],
      "text/plain": [
       "           Name\n",
       "0  Mike Johnson\n",
       "1    Daniel Lee"
      ]
     },
     "metadata": {},
     "output_type": "display_data"
    }
   ],
   "source": [
    "cur.execute('''\n",
    "SELECT Name\n",
    "FROM Employee\n",
    "WHERE DepartmentID = 3\n",
    "''')\n",
    "\n",
    "result = cur.fetchall()\n",
    "\n",
    "df = pd.DataFrame(result, columns=[item[0] for item in cur.description])\n",
    "display(df)"
   ]
  },
  {
   "cell_type": "code",
   "execution_count": 20,
   "id": "c16c6989",
   "metadata": {},
   "outputs": [
    {
     "data": {
      "text/html": [
       "<div>\n",
       "<style scoped>\n",
       "    .dataframe tbody tr th:only-of-type {\n",
       "        vertical-align: middle;\n",
       "    }\n",
       "\n",
       "    .dataframe tbody tr th {\n",
       "        vertical-align: top;\n",
       "    }\n",
       "\n",
       "    .dataframe thead th {\n",
       "        text-align: right;\n",
       "    }\n",
       "</style>\n",
       "<table border=\"1\" class=\"dataframe\">\n",
       "  <thead>\n",
       "    <tr style=\"text-align: right;\">\n",
       "      <th></th>\n",
       "      <th>Salary</th>\n",
       "    </tr>\n",
       "  </thead>\n",
       "  <tbody>\n",
       "    <tr>\n",
       "      <th>0</th>\n",
       "      <td>70000</td>\n",
       "    </tr>\n",
       "    <tr>\n",
       "      <th>1</th>\n",
       "      <td>90000</td>\n",
       "    </tr>\n",
       "  </tbody>\n",
       "</table>\n",
       "</div>"
      ],
      "text/plain": [
       "   Salary\n",
       "0   70000\n",
       "1   90000"
      ]
     },
     "metadata": {},
     "output_type": "display_data"
    }
   ],
   "source": [
    "cur.execute('''\n",
    "SELECT Salary\n",
    "FROM Employee\n",
    "WHERE DepartmentID = 3\n",
    "''')\n",
    "\n",
    "result = cur.fetchall()\n",
    "\n",
    "df = pd.DataFrame(result, columns=[item[0] for item in cur.description])\n",
    "display(df)"
   ]
  },
  {
   "cell_type": "markdown",
   "id": "76927011",
   "metadata": {},
   "source": [
    "#### Main-Query"
   ]
  },
  {
   "cell_type": "code",
   "execution_count": 21,
   "id": "46250f40",
   "metadata": {},
   "outputs": [
    {
     "data": {
      "text/html": [
       "<div>\n",
       "<style scoped>\n",
       "    .dataframe tbody tr th:only-of-type {\n",
       "        vertical-align: middle;\n",
       "    }\n",
       "\n",
       "    .dataframe tbody tr th {\n",
       "        vertical-align: top;\n",
       "    }\n",
       "\n",
       "    .dataframe thead th {\n",
       "        text-align: right;\n",
       "    }\n",
       "</style>\n",
       "<table border=\"1\" class=\"dataframe\">\n",
       "  <thead>\n",
       "    <tr style=\"text-align: right;\">\n",
       "      <th></th>\n",
       "      <th>EmployeeID</th>\n",
       "      <th>Name</th>\n",
       "      <th>Job</th>\n",
       "      <th>Salary</th>\n",
       "      <th>DepartmentID</th>\n",
       "    </tr>\n",
       "  </thead>\n",
       "  <tbody>\n",
       "    <tr>\n",
       "      <th>0</th>\n",
       "      <td>3</td>\n",
       "      <td>Mike Johnson</td>\n",
       "      <td>Financial Analyst</td>\n",
       "      <td>70000</td>\n",
       "      <td>3</td>\n",
       "    </tr>\n",
       "    <tr>\n",
       "      <th>1</th>\n",
       "      <td>7</td>\n",
       "      <td>Daniel Lee</td>\n",
       "      <td>Senior Financial Analyst</td>\n",
       "      <td>90000</td>\n",
       "      <td>3</td>\n",
       "    </tr>\n",
       "  </tbody>\n",
       "</table>\n",
       "</div>"
      ],
      "text/plain": [
       "   EmployeeID          Name                       Job  Salary  DepartmentID\n",
       "0           3  Mike Johnson         Financial Analyst   70000             3\n",
       "1           7    Daniel Lee  Senior Financial Analyst   90000             3"
      ]
     },
     "metadata": {},
     "output_type": "display_data"
    }
   ],
   "source": [
    "cur.execute('''\n",
    "SELECT *\n",
    "FROM Employee\n",
    "WHERE Name IN (\n",
    "    SELECT Name\n",
    "    FROM Employee\n",
    "    WHERE DepartmentID = 3\n",
    ")\n",
    "AND Salary IN (\n",
    "    SELECT Salary\n",
    "    FROM Employee\n",
    "    WHERE DepartmentID = 3\n",
    ");\n",
    "''')\n",
    "\n",
    "result = cur.fetchall()\n",
    "\n",
    "df = pd.DataFrame(result, columns=[item[0] for item in cur.description])\n",
    "display(df)"
   ]
  },
  {
   "cell_type": "markdown",
   "id": "c42aaaa8",
   "metadata": {},
   "source": [
    "# Multiple Row Sub-Query"
   ]
  },
  {
   "cell_type": "markdown",
   "id": "1b630fc2",
   "metadata": {},
   "source": [
    "### A multiple-row subquery is a subquery which produce multi-row results in the inner query"
   ]
  },
  {
   "cell_type": "markdown",
   "id": "c8a87377",
   "metadata": {},
   "source": [
    "### Display the information of the Employees who has the job as 'HR Manager'"
   ]
  },
  {
   "cell_type": "markdown",
   "id": "9cf5927b",
   "metadata": {},
   "source": [
    "#### Sub-Query"
   ]
  },
  {
   "cell_type": "code",
   "execution_count": 22,
   "id": "2c704c9d",
   "metadata": {},
   "outputs": [
    {
     "data": {
      "text/html": [
       "<div>\n",
       "<style scoped>\n",
       "    .dataframe tbody tr th:only-of-type {\n",
       "        vertical-align: middle;\n",
       "    }\n",
       "\n",
       "    .dataframe tbody tr th {\n",
       "        vertical-align: top;\n",
       "    }\n",
       "\n",
       "    .dataframe thead th {\n",
       "        text-align: right;\n",
       "    }\n",
       "</style>\n",
       "<table border=\"1\" class=\"dataframe\">\n",
       "  <thead>\n",
       "    <tr style=\"text-align: right;\">\n",
       "      <th></th>\n",
       "      <th>EmployeeID</th>\n",
       "    </tr>\n",
       "  </thead>\n",
       "  <tbody>\n",
       "    <tr>\n",
       "      <th>0</th>\n",
       "      <td>4</td>\n",
       "    </tr>\n",
       "    <tr>\n",
       "      <th>1</th>\n",
       "      <td>8</td>\n",
       "    </tr>\n",
       "  </tbody>\n",
       "</table>\n",
       "</div>"
      ],
      "text/plain": [
       "   EmployeeID\n",
       "0           4\n",
       "1           8"
      ]
     },
     "metadata": {},
     "output_type": "display_data"
    }
   ],
   "source": [
    "cur.execute('''\n",
    "SELECT EmployeeID\n",
    "FROM Employee\n",
    "WHERE Job = \"HR Manager\"\n",
    "''')\n",
    "\n",
    "result = cur.fetchall()\n",
    "\n",
    "df = pd.DataFrame(result, columns=[item[0] for item in cur.description])\n",
    "display(df)"
   ]
  },
  {
   "cell_type": "markdown",
   "id": "e5db84a9",
   "metadata": {},
   "source": [
    "#### Main-Query"
   ]
  },
  {
   "cell_type": "code",
   "execution_count": 23,
   "id": "02c2a839",
   "metadata": {},
   "outputs": [
    {
     "data": {
      "text/html": [
       "<div>\n",
       "<style scoped>\n",
       "    .dataframe tbody tr th:only-of-type {\n",
       "        vertical-align: middle;\n",
       "    }\n",
       "\n",
       "    .dataframe tbody tr th {\n",
       "        vertical-align: top;\n",
       "    }\n",
       "\n",
       "    .dataframe thead th {\n",
       "        text-align: right;\n",
       "    }\n",
       "</style>\n",
       "<table border=\"1\" class=\"dataframe\">\n",
       "  <thead>\n",
       "    <tr style=\"text-align: right;\">\n",
       "      <th></th>\n",
       "      <th>EmployeeID</th>\n",
       "      <th>Name</th>\n",
       "      <th>Job</th>\n",
       "      <th>Salary</th>\n",
       "      <th>DepartmentID</th>\n",
       "    </tr>\n",
       "  </thead>\n",
       "  <tbody>\n",
       "    <tr>\n",
       "      <th>0</th>\n",
       "      <td>4</td>\n",
       "      <td>Emily Davis</td>\n",
       "      <td>HR Manager</td>\n",
       "      <td>55000</td>\n",
       "      <td>4</td>\n",
       "    </tr>\n",
       "    <tr>\n",
       "      <th>1</th>\n",
       "      <td>8</td>\n",
       "      <td>Olivia Miller</td>\n",
       "      <td>HR Manager</td>\n",
       "      <td>70000</td>\n",
       "      <td>4</td>\n",
       "    </tr>\n",
       "  </tbody>\n",
       "</table>\n",
       "</div>"
      ],
      "text/plain": [
       "   EmployeeID           Name         Job  Salary  DepartmentID\n",
       "0           4    Emily Davis  HR Manager   55000             4\n",
       "1           8  Olivia Miller  HR Manager   70000             4"
      ]
     },
     "metadata": {},
     "output_type": "display_data"
    }
   ],
   "source": [
    "cur.execute('''\n",
    "SELECT *\n",
    "FROM Employee\n",
    "WHERE EmployeeID IN (\n",
    "    SELECT EmployeeID\n",
    "    FROM Employee\n",
    "    WHERE Job = \"HR Manager\"\n",
    ");\n",
    "''')\n",
    "\n",
    "result = cur.fetchall()\n",
    "\n",
    "df = pd.DataFrame(result, columns=[item[0] for item in cur.description])\n",
    "display(df)"
   ]
  },
  {
   "cell_type": "markdown",
   "id": "0adc5e0c",
   "metadata": {},
   "source": [
    "# Scalar Sub-Query"
   ]
  },
  {
   "cell_type": "markdown",
   "id": "7c0c138a",
   "metadata": {},
   "source": [
    "### Scalar Sub-Query is a Sub-Query which will always return just one row and one column."
   ]
  },
  {
   "cell_type": "markdown",
   "id": "594a1b42",
   "metadata": {},
   "source": [
    "### Display the employees who's salary is more than the average salary earned by all employees"
   ]
  },
  {
   "cell_type": "markdown",
   "id": "d8413eb6",
   "metadata": {},
   "source": [
    "#### Sub-Query"
   ]
  },
  {
   "cell_type": "code",
   "execution_count": 24,
   "id": "128529b2",
   "metadata": {},
   "outputs": [
    {
     "data": {
      "text/html": [
       "<div>\n",
       "<style scoped>\n",
       "    .dataframe tbody tr th:only-of-type {\n",
       "        vertical-align: middle;\n",
       "    }\n",
       "\n",
       "    .dataframe tbody tr th {\n",
       "        vertical-align: top;\n",
       "    }\n",
       "\n",
       "    .dataframe thead th {\n",
       "        text-align: right;\n",
       "    }\n",
       "</style>\n",
       "<table border=\"1\" class=\"dataframe\">\n",
       "  <thead>\n",
       "    <tr style=\"text-align: right;\">\n",
       "      <th></th>\n",
       "      <th>AVG(Salary)</th>\n",
       "    </tr>\n",
       "  </thead>\n",
       "  <tbody>\n",
       "    <tr>\n",
       "      <th>0</th>\n",
       "      <td>66500.0</td>\n",
       "    </tr>\n",
       "  </tbody>\n",
       "</table>\n",
       "</div>"
      ],
      "text/plain": [
       "   AVG(Salary)\n",
       "0      66500.0"
      ]
     },
     "metadata": {},
     "output_type": "display_data"
    }
   ],
   "source": [
    "cur.execute('''\n",
    "SELECT AVG(Salary)\n",
    "FROM Employee;\n",
    "''')\n",
    "\n",
    "result = cur.fetchall()\n",
    "\n",
    "df = pd.DataFrame(result, columns=[item[0] for item in cur.description])\n",
    "display(df)"
   ]
  },
  {
   "cell_type": "markdown",
   "id": "a2d0e196",
   "metadata": {},
   "source": [
    "#### Main-Query"
   ]
  },
  {
   "cell_type": "code",
   "execution_count": 25,
   "id": "9040f2e7",
   "metadata": {},
   "outputs": [
    {
     "data": {
      "text/html": [
       "<div>\n",
       "<style scoped>\n",
       "    .dataframe tbody tr th:only-of-type {\n",
       "        vertical-align: middle;\n",
       "    }\n",
       "\n",
       "    .dataframe tbody tr th {\n",
       "        vertical-align: top;\n",
       "    }\n",
       "\n",
       "    .dataframe thead th {\n",
       "        text-align: right;\n",
       "    }\n",
       "</style>\n",
       "<table border=\"1\" class=\"dataframe\">\n",
       "  <thead>\n",
       "    <tr style=\"text-align: right;\">\n",
       "      <th></th>\n",
       "      <th>EmployeeID</th>\n",
       "      <th>Name</th>\n",
       "      <th>Job</th>\n",
       "      <th>Salary</th>\n",
       "      <th>DepartmentID</th>\n",
       "    </tr>\n",
       "  </thead>\n",
       "  <tbody>\n",
       "    <tr>\n",
       "      <th>0</th>\n",
       "      <td>3</td>\n",
       "      <td>Mike Johnson</td>\n",
       "      <td>Financial Analyst</td>\n",
       "      <td>70000</td>\n",
       "      <td>3</td>\n",
       "    </tr>\n",
       "    <tr>\n",
       "      <th>1</th>\n",
       "      <td>5</td>\n",
       "      <td>Robert Brown</td>\n",
       "      <td>Sales Representative</td>\n",
       "      <td>75000</td>\n",
       "      <td>1</td>\n",
       "    </tr>\n",
       "    <tr>\n",
       "      <th>2</th>\n",
       "      <td>6</td>\n",
       "      <td>Alice White</td>\n",
       "      <td>Marketing Specialist</td>\n",
       "      <td>80000</td>\n",
       "      <td>2</td>\n",
       "    </tr>\n",
       "    <tr>\n",
       "      <th>3</th>\n",
       "      <td>7</td>\n",
       "      <td>Daniel Lee</td>\n",
       "      <td>Senior Financial Analyst</td>\n",
       "      <td>90000</td>\n",
       "      <td>3</td>\n",
       "    </tr>\n",
       "    <tr>\n",
       "      <th>4</th>\n",
       "      <td>8</td>\n",
       "      <td>Olivia Miller</td>\n",
       "      <td>HR Manager</td>\n",
       "      <td>70000</td>\n",
       "      <td>4</td>\n",
       "    </tr>\n",
       "  </tbody>\n",
       "</table>\n",
       "</div>"
      ],
      "text/plain": [
       "   EmployeeID           Name                       Job  Salary  DepartmentID\n",
       "0           3   Mike Johnson         Financial Analyst   70000             3\n",
       "1           5   Robert Brown      Sales Representative   75000             1\n",
       "2           6    Alice White      Marketing Specialist   80000             2\n",
       "3           7     Daniel Lee  Senior Financial Analyst   90000             3\n",
       "4           8  Olivia Miller                HR Manager   70000             4"
      ]
     },
     "metadata": {},
     "output_type": "display_data"
    }
   ],
   "source": [
    "cur.execute('''\n",
    "SELECT * \n",
    "FROM Employee\n",
    "WHERE Salary > (\n",
    "    SELECT AVG(Salary)\n",
    "    FROM Employee\n",
    ");\n",
    "''')\n",
    "\n",
    "result = cur.fetchall()\n",
    "\n",
    "df = pd.DataFrame(result, columns=[item[0] for item in cur.description])\n",
    "display(df)"
   ]
  },
  {
   "cell_type": "markdown",
   "id": "1e7b5a2d",
   "metadata": {},
   "source": [
    "### Display the employees with a salary greater than the salary of employee 'Mike Johnson'"
   ]
  },
  {
   "cell_type": "markdown",
   "id": "ddf28512",
   "metadata": {},
   "source": [
    "#### Sub-Query"
   ]
  },
  {
   "cell_type": "code",
   "execution_count": 27,
   "id": "12ee5271",
   "metadata": {},
   "outputs": [
    {
     "data": {
      "text/html": [
       "<div>\n",
       "<style scoped>\n",
       "    .dataframe tbody tr th:only-of-type {\n",
       "        vertical-align: middle;\n",
       "    }\n",
       "\n",
       "    .dataframe tbody tr th {\n",
       "        vertical-align: top;\n",
       "    }\n",
       "\n",
       "    .dataframe thead th {\n",
       "        text-align: right;\n",
       "    }\n",
       "</style>\n",
       "<table border=\"1\" class=\"dataframe\">\n",
       "  <thead>\n",
       "    <tr style=\"text-align: right;\">\n",
       "      <th></th>\n",
       "      <th>Salary</th>\n",
       "    </tr>\n",
       "  </thead>\n",
       "  <tbody>\n",
       "    <tr>\n",
       "      <th>0</th>\n",
       "      <td>70000</td>\n",
       "    </tr>\n",
       "  </tbody>\n",
       "</table>\n",
       "</div>"
      ],
      "text/plain": [
       "   Salary\n",
       "0   70000"
      ]
     },
     "metadata": {},
     "output_type": "display_data"
    }
   ],
   "source": [
    "cur.execute('''\n",
    "SELECT Salary\n",
    "FROM Employee\n",
    "WHERE Name = 'Mike Johnson'\n",
    "''')\n",
    "\n",
    "result = cur.fetchall()\n",
    "\n",
    "df = pd.DataFrame(result, columns=[item[0] for item in cur.description])\n",
    "display(df)"
   ]
  },
  {
   "cell_type": "markdown",
   "id": "e9a615e0",
   "metadata": {},
   "source": [
    "#### Main-Query"
   ]
  },
  {
   "cell_type": "code",
   "execution_count": 28,
   "id": "949d97e2",
   "metadata": {},
   "outputs": [
    {
     "data": {
      "text/html": [
       "<div>\n",
       "<style scoped>\n",
       "    .dataframe tbody tr th:only-of-type {\n",
       "        vertical-align: middle;\n",
       "    }\n",
       "\n",
       "    .dataframe tbody tr th {\n",
       "        vertical-align: top;\n",
       "    }\n",
       "\n",
       "    .dataframe thead th {\n",
       "        text-align: right;\n",
       "    }\n",
       "</style>\n",
       "<table border=\"1\" class=\"dataframe\">\n",
       "  <thead>\n",
       "    <tr style=\"text-align: right;\">\n",
       "      <th></th>\n",
       "      <th>EmployeeID</th>\n",
       "      <th>Name</th>\n",
       "      <th>Job</th>\n",
       "      <th>Salary</th>\n",
       "      <th>DepartmentID</th>\n",
       "    </tr>\n",
       "  </thead>\n",
       "  <tbody>\n",
       "    <tr>\n",
       "      <th>0</th>\n",
       "      <td>5</td>\n",
       "      <td>Robert Brown</td>\n",
       "      <td>Sales Representative</td>\n",
       "      <td>75000</td>\n",
       "      <td>1</td>\n",
       "    </tr>\n",
       "    <tr>\n",
       "      <th>1</th>\n",
       "      <td>6</td>\n",
       "      <td>Alice White</td>\n",
       "      <td>Marketing Specialist</td>\n",
       "      <td>80000</td>\n",
       "      <td>2</td>\n",
       "    </tr>\n",
       "    <tr>\n",
       "      <th>2</th>\n",
       "      <td>7</td>\n",
       "      <td>Daniel Lee</td>\n",
       "      <td>Senior Financial Analyst</td>\n",
       "      <td>90000</td>\n",
       "      <td>3</td>\n",
       "    </tr>\n",
       "  </tbody>\n",
       "</table>\n",
       "</div>"
      ],
      "text/plain": [
       "   EmployeeID          Name                       Job  Salary  DepartmentID\n",
       "0           5  Robert Brown      Sales Representative   75000             1\n",
       "1           6   Alice White      Marketing Specialist   80000             2\n",
       "2           7    Daniel Lee  Senior Financial Analyst   90000             3"
      ]
     },
     "metadata": {},
     "output_type": "display_data"
    }
   ],
   "source": [
    "cur.execute('''\n",
    "SELECT *\n",
    "FROM Employee\n",
    "WHERE Salary > (\n",
    "    SELECT Salary\n",
    "    FROM Employee\n",
    "    WHERE Name = 'Mike Johnson'\n",
    ");\n",
    "''')\n",
    "\n",
    "result = cur.fetchall()\n",
    "\n",
    "df = pd.DataFrame(result, columns=[item[0] for item in cur.description])\n",
    "display(df)"
   ]
  },
  {
   "cell_type": "markdown",
   "id": "9be69d76",
   "metadata": {},
   "source": [
    "# Inline View Sub-Query"
   ]
  },
  {
   "cell_type": "markdown",
   "id": "4269e329",
   "metadata": {},
   "source": [
    "### An inline query is a query in the FROM clause. You select data from it as you would a table.\n",
    "### It is used within the FROM clause of a SELECT statement"
   ]
  },
  {
   "cell_type": "markdown",
   "id": "5b4171d4",
   "metadata": {},
   "source": [
    "### Display the names and salaries of employees with the job title 'HR Manager' from the 'Employee' table, sorted in descending order based on their salaries"
   ]
  },
  {
   "cell_type": "markdown",
   "id": "66480271",
   "metadata": {},
   "source": [
    "#### Sub-Query"
   ]
  },
  {
   "cell_type": "code",
   "execution_count": 29,
   "id": "17e8cfed",
   "metadata": {},
   "outputs": [
    {
     "data": {
      "text/html": [
       "<div>\n",
       "<style scoped>\n",
       "    .dataframe tbody tr th:only-of-type {\n",
       "        vertical-align: middle;\n",
       "    }\n",
       "\n",
       "    .dataframe tbody tr th {\n",
       "        vertical-align: top;\n",
       "    }\n",
       "\n",
       "    .dataframe thead th {\n",
       "        text-align: right;\n",
       "    }\n",
       "</style>\n",
       "<table border=\"1\" class=\"dataframe\">\n",
       "  <thead>\n",
       "    <tr style=\"text-align: right;\">\n",
       "      <th></th>\n",
       "      <th>Name</th>\n",
       "      <th>Salary</th>\n",
       "    </tr>\n",
       "  </thead>\n",
       "  <tbody>\n",
       "    <tr>\n",
       "      <th>0</th>\n",
       "      <td>Emily Davis</td>\n",
       "      <td>55000</td>\n",
       "    </tr>\n",
       "    <tr>\n",
       "      <th>1</th>\n",
       "      <td>Olivia Miller</td>\n",
       "      <td>70000</td>\n",
       "    </tr>\n",
       "  </tbody>\n",
       "</table>\n",
       "</div>"
      ],
      "text/plain": [
       "            Name  Salary\n",
       "0    Emily Davis   55000\n",
       "1  Olivia Miller   70000"
      ]
     },
     "metadata": {},
     "output_type": "display_data"
    }
   ],
   "source": [
    "cur.execute('''\n",
    "SELECT Name, Salary\n",
    "FROM Employee\n",
    "WHERE Job = 'HR Manager';\n",
    "''')\n",
    "\n",
    "result = cur.fetchall()\n",
    "\n",
    "df = pd.DataFrame(result, columns=[item[0] for item in cur.description])\n",
    "display(df)"
   ]
  },
  {
   "cell_type": "markdown",
   "id": "ed6d537f",
   "metadata": {},
   "source": [
    "#### Main-Query"
   ]
  },
  {
   "cell_type": "code",
   "execution_count": 30,
   "id": "f19216ca",
   "metadata": {},
   "outputs": [
    {
     "data": {
      "text/html": [
       "<div>\n",
       "<style scoped>\n",
       "    .dataframe tbody tr th:only-of-type {\n",
       "        vertical-align: middle;\n",
       "    }\n",
       "\n",
       "    .dataframe tbody tr th {\n",
       "        vertical-align: top;\n",
       "    }\n",
       "\n",
       "    .dataframe thead th {\n",
       "        text-align: right;\n",
       "    }\n",
       "</style>\n",
       "<table border=\"1\" class=\"dataframe\">\n",
       "  <thead>\n",
       "    <tr style=\"text-align: right;\">\n",
       "      <th></th>\n",
       "      <th>Name</th>\n",
       "      <th>Salary</th>\n",
       "    </tr>\n",
       "  </thead>\n",
       "  <tbody>\n",
       "    <tr>\n",
       "      <th>0</th>\n",
       "      <td>Olivia Miller</td>\n",
       "      <td>70000</td>\n",
       "    </tr>\n",
       "    <tr>\n",
       "      <th>1</th>\n",
       "      <td>Emily Davis</td>\n",
       "      <td>55000</td>\n",
       "    </tr>\n",
       "  </tbody>\n",
       "</table>\n",
       "</div>"
      ],
      "text/plain": [
       "            Name  Salary\n",
       "0  Olivia Miller   70000\n",
       "1    Emily Davis   55000"
      ]
     },
     "metadata": {},
     "output_type": "display_data"
    }
   ],
   "source": [
    "cur.execute('''\n",
    "SELECT *\n",
    "FROM (\n",
    "    SELECT Name, Salary\n",
    "    FROM Employee\n",
    "    WHERE Job = 'HR Manager'\n",
    ")\n",
    "ORDER BY SALARY DESC;\n",
    "''')\n",
    "\n",
    "result = cur.fetchall()\n",
    "\n",
    "df = pd.DataFrame(result, columns=[item[0] for item in cur.description])\n",
    "display(df)"
   ]
  },
  {
   "cell_type": "markdown",
   "id": "782e41e7",
   "metadata": {},
   "source": [
    "# Corelated Sub-Query"
   ]
  },
  {
   "cell_type": "markdown",
   "id": "87bc8e0e",
   "metadata": {},
   "source": [
    "### A Sub-Query which is related to the Outer-Query is called Correlated Sub-Query"
   ]
  },
  {
   "cell_type": "markdown",
   "id": "68a617da",
   "metadata": {},
   "source": [
    "### Find Employees with Salaries Greater Than Their Department Average:"
   ]
  },
  {
   "cell_type": "code",
   "execution_count": 8,
   "id": "175d4e1c",
   "metadata": {},
   "outputs": [
    {
     "data": {
      "text/html": [
       "<div>\n",
       "<style scoped>\n",
       "    .dataframe tbody tr th:only-of-type {\n",
       "        vertical-align: middle;\n",
       "    }\n",
       "\n",
       "    .dataframe tbody tr th {\n",
       "        vertical-align: top;\n",
       "    }\n",
       "\n",
       "    .dataframe thead th {\n",
       "        text-align: right;\n",
       "    }\n",
       "</style>\n",
       "<table border=\"1\" class=\"dataframe\">\n",
       "  <thead>\n",
       "    <tr style=\"text-align: right;\">\n",
       "      <th></th>\n",
       "      <th>EmployeeID</th>\n",
       "      <th>Name</th>\n",
       "      <th>Job</th>\n",
       "      <th>Salary</th>\n",
       "      <th>DepartmentID</th>\n",
       "    </tr>\n",
       "  </thead>\n",
       "  <tbody>\n",
       "    <tr>\n",
       "      <th>0</th>\n",
       "      <td>5</td>\n",
       "      <td>Robert Brown</td>\n",
       "      <td>Sales Representative</td>\n",
       "      <td>75000</td>\n",
       "      <td>1</td>\n",
       "    </tr>\n",
       "    <tr>\n",
       "      <th>1</th>\n",
       "      <td>6</td>\n",
       "      <td>Alice White</td>\n",
       "      <td>Marketing Specialist</td>\n",
       "      <td>80000</td>\n",
       "      <td>2</td>\n",
       "    </tr>\n",
       "    <tr>\n",
       "      <th>2</th>\n",
       "      <td>7</td>\n",
       "      <td>Daniel Lee</td>\n",
       "      <td>Senior Financial Analyst</td>\n",
       "      <td>90000</td>\n",
       "      <td>3</td>\n",
       "    </tr>\n",
       "    <tr>\n",
       "      <th>3</th>\n",
       "      <td>8</td>\n",
       "      <td>Olivia Miller</td>\n",
       "      <td>HR Manager</td>\n",
       "      <td>70000</td>\n",
       "      <td>4</td>\n",
       "    </tr>\n",
       "  </tbody>\n",
       "</table>\n",
       "</div>"
      ],
      "text/plain": [
       "   EmployeeID           Name                       Job  Salary  DepartmentID\n",
       "0           5   Robert Brown      Sales Representative   75000             1\n",
       "1           6    Alice White      Marketing Specialist   80000             2\n",
       "2           7     Daniel Lee  Senior Financial Analyst   90000             3\n",
       "3           8  Olivia Miller                HR Manager   70000             4"
      ]
     },
     "metadata": {},
     "output_type": "display_data"
    }
   ],
   "source": [
    "cur.execute('''\n",
    "SELECT *\n",
    "FROM Employee e1\n",
    "WHERE Salary > (\n",
    "    SELECT AVG(Salary)\n",
    "    FROM Employee e2\n",
    "    WHERE e2.DepartmentID = e1.DepartmentID\n",
    ")\n",
    "''')\n",
    "\n",
    "result = cur.fetchall()\n",
    "\n",
    "df = pd.DataFrame(result, columns=[item[0] for item in cur.description])\n",
    "display(df)"
   ]
  },
  {
   "cell_type": "markdown",
   "id": "ecfce91e",
   "metadata": {},
   "source": [
    "### Find Employees with Salaries Greater Than Their Jobs Average:"
   ]
  },
  {
   "cell_type": "code",
   "execution_count": 32,
   "id": "41216953",
   "metadata": {},
   "outputs": [
    {
     "data": {
      "text/html": [
       "<div>\n",
       "<style scoped>\n",
       "    .dataframe tbody tr th:only-of-type {\n",
       "        vertical-align: middle;\n",
       "    }\n",
       "\n",
       "    .dataframe tbody tr th {\n",
       "        vertical-align: top;\n",
       "    }\n",
       "\n",
       "    .dataframe thead th {\n",
       "        text-align: right;\n",
       "    }\n",
       "</style>\n",
       "<table border=\"1\" class=\"dataframe\">\n",
       "  <thead>\n",
       "    <tr style=\"text-align: right;\">\n",
       "      <th></th>\n",
       "      <th>EmployeeID</th>\n",
       "      <th>Name</th>\n",
       "      <th>Job</th>\n",
       "      <th>Salary</th>\n",
       "      <th>DepartmentID</th>\n",
       "    </tr>\n",
       "  </thead>\n",
       "  <tbody>\n",
       "    <tr>\n",
       "      <th>0</th>\n",
       "      <td>3</td>\n",
       "      <td>Mike Johnson</td>\n",
       "      <td>Financial Analyst</td>\n",
       "      <td>70000</td>\n",
       "      <td>3</td>\n",
       "    </tr>\n",
       "    <tr>\n",
       "      <th>1</th>\n",
       "      <td>5</td>\n",
       "      <td>Robert Brown</td>\n",
       "      <td>Sales Representative</td>\n",
       "      <td>75000</td>\n",
       "      <td>1</td>\n",
       "    </tr>\n",
       "    <tr>\n",
       "      <th>2</th>\n",
       "      <td>6</td>\n",
       "      <td>Alice White</td>\n",
       "      <td>Marketing Specialist</td>\n",
       "      <td>80000</td>\n",
       "      <td>2</td>\n",
       "    </tr>\n",
       "    <tr>\n",
       "      <th>3</th>\n",
       "      <td>7</td>\n",
       "      <td>Daniel Lee</td>\n",
       "      <td>Senior Financial Analyst</td>\n",
       "      <td>90000</td>\n",
       "      <td>3</td>\n",
       "    </tr>\n",
       "    <tr>\n",
       "      <th>4</th>\n",
       "      <td>8</td>\n",
       "      <td>Olivia Miller</td>\n",
       "      <td>HR Manager</td>\n",
       "      <td>70000</td>\n",
       "      <td>4</td>\n",
       "    </tr>\n",
       "  </tbody>\n",
       "</table>\n",
       "</div>"
      ],
      "text/plain": [
       "   EmployeeID           Name                       Job  Salary  DepartmentID\n",
       "0           3   Mike Johnson         Financial Analyst   70000             3\n",
       "1           5   Robert Brown      Sales Representative   75000             1\n",
       "2           6    Alice White      Marketing Specialist   80000             2\n",
       "3           7     Daniel Lee  Senior Financial Analyst   90000             3\n",
       "4           8  Olivia Miller                HR Manager   70000             4"
      ]
     },
     "metadata": {},
     "output_type": "display_data"
    }
   ],
   "source": [
    "cur.execute('''\n",
    "SELECT *\n",
    "FROM Employee e1\n",
    "WHERE Salary >= (\n",
    "    SELECT AVG(Salary)\n",
    "    FROM Employee e2\n",
    "    WHERE e2.Job = e1.Job\n",
    ")\n",
    "''')\n",
    "\n",
    "result = cur.fetchall()\n",
    "\n",
    "df = pd.DataFrame(result, columns=[item[0] for item in cur.description])\n",
    "display(df)"
   ]
  }
 ],
 "metadata": {
  "kernelspec": {
   "display_name": "Python 3 (ipykernel)",
   "language": "python",
   "name": "python3"
  },
  "language_info": {
   "codemirror_mode": {
    "name": "ipython",
    "version": 3
   },
   "file_extension": ".py",
   "mimetype": "text/x-python",
   "name": "python",
   "nbconvert_exporter": "python",
   "pygments_lexer": "ipython3",
   "version": "3.10.9"
  }
 },
 "nbformat": 4,
 "nbformat_minor": 5
}

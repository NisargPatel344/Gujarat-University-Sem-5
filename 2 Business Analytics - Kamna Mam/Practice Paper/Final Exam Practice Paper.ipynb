{
 "cells": [
  {
   "cell_type": "code",
   "execution_count": 1,
   "id": "5a678246",
   "metadata": {},
   "outputs": [],
   "source": [
    "import pandas as pd\n",
    "import numpy as np\n",
    "import sqlite3\n",
    "from datetime import datetime as dt"
   ]
  },
  {
   "cell_type": "markdown",
   "id": "90e01f9c",
   "metadata": {},
   "source": [
    "# Question 1: What is a Common Table Expression (CTE) in SQL?"
   ]
  },
  {
   "cell_type": "markdown",
   "id": "2ff509f6",
   "metadata": {},
   "source": [
    "- A Common Table Expression (CTE) is a named temporary result set in SQL that you can reference within a SELECT, INSERT, UPDATE, or DELETE statement. \n",
    "- CTEs are defined using the WITH clause and provide a way to create more readable and modular queries, especially for complex queries that involve multiple subqueries."
   ]
  },
  {
   "cell_type": "markdown",
   "id": "9cdbe367",
   "metadata": {},
   "source": [
    "# Question 2: How do you define a CTE in SQL?"
   ]
  },
  {
   "cell_type": "markdown",
   "id": "1fcc9178",
   "metadata": {},
   "source": [
    "WITH cte_name (column1, column2, ...) AS (\n",
    "    SELECT column1, column2, ...\n",
    "    FROM your_table\n",
    "    WHERE conditions\n",
    ")"
   ]
  },
  {
   "cell_type": "markdown",
   "id": "10ff703c",
   "metadata": {},
   "source": [
    "# Question 3: How is a CTE different from a temporary table in SQL?"
   ]
  },
  {
   "cell_type": "markdown",
   "id": "b8076d9b",
   "metadata": {},
   "source": [
    "- A CTE is a temporary result set that exists only for the duration of the query, while a temporary table is a physical table that is created and stored in the tempdb database. \n",
    "- CTEs are defined within the scope of a single query and are not stored persistently, whereas temporary tables persist until they are explicitly dropped or until the session ends."
   ]
  },
  {
   "cell_type": "markdown",
   "id": "75ae43bd",
   "metadata": {},
   "source": [
    "# Question 4: What is the scope of a CTE in SQL?"
   ]
  },
  {
   "cell_type": "markdown",
   "id": "a0a44e1e",
   "metadata": {},
   "source": [
    "- The scope of a CTE is limited to the query in which it is defined. \n",
    "- Once the query execution is complete, the CTE is discarded and not accessible anymore. \n",
    "- It cannot be referenced from outside the query in which it is defined."
   ]
  },
  {
   "cell_type": "markdown",
   "id": "39c2efb4",
   "metadata": {},
   "source": [
    "# Question 5: How can you reference a CTE within a SQL query?"
   ]
  },
  {
   "cell_type": "markdown",
   "id": "3ab67df0",
   "metadata": {},
   "source": [
    "- You can reference a CTE within a SQL query by specifying its name after the WITH clause. \n",
    "- The CTE name acts as a derived table or a subquery that you can refer to in the main query.\n",
    "\n",
    "**Example**"
   ]
  },
  {
   "cell_type": "code",
   "execution_count": 2,
   "id": "d175a88e",
   "metadata": {},
   "outputs": [],
   "source": [
    "cnn = sqlite3.connect('database1.db')\n",
    "cur = cnn.cursor()"
   ]
  },
  {
   "cell_type": "code",
   "execution_count": 3,
   "id": "4fe63d9e",
   "metadata": {},
   "outputs": [
    {
     "data": {
      "text/plain": [
       "<sqlite3.Cursor at 0x1f7b1f3a2c0>"
      ]
     },
     "execution_count": 3,
     "metadata": {},
     "output_type": "execute_result"
    }
   ],
   "source": [
    "cur.execute('''\n",
    "CREATE TABLE Employee (\n",
    "    EmployeeID INT PRIMARY KEY,\n",
    "    Name VARCHAR(100),\n",
    "    Job VARCHAR(50),\n",
    "    Salary INT,\n",
    "    DepartmentID INT,\n",
    "    FOREIGN KEY (DepartmentID) REFERENCES Department(DepartmentID)\n",
    ");\n",
    "''')"
   ]
  },
  {
   "cell_type": "code",
   "execution_count": 4,
   "id": "35e73e4f",
   "metadata": {},
   "outputs": [
    {
     "data": {
      "text/plain": [
       "<sqlite3.Cursor at 0x1f7b1f3a2c0>"
      ]
     },
     "execution_count": 4,
     "metadata": {},
     "output_type": "execute_result"
    }
   ],
   "source": [
    "cur.execute('''\n",
    "INSERT INTO Employee (EmployeeID, Name, Job, Salary, DepartmentID) VALUES\n",
    "(1, 'John Doe', 'Sales Representative', 50000, 1),\n",
    "(2, 'Jane Smith', 'Marketing Specialist', 60000, 2),\n",
    "(3, 'Mike Johnson', 'Financial Analyst', 70000, 3),\n",
    "(4, 'Emily Davis', 'HR Manager', 55000, 4),\n",
    "(5, 'Robert Brown', 'Sales Representative', 75000, 1),\n",
    "(6, 'Alice White', 'Marketing Specialist', 80000, 2),\n",
    "(7, 'Daniel Lee', 'Senior Financial Analyst', 90000, 3),\n",
    "(8, 'Olivia Miller', 'HR Manager', 70000, 4),\n",
    "(9, 'William Turner', 'Sales Representative', 55000, 1),\n",
    "(10, 'Sophia Martin', 'Financial Analyst', 60000, 2);\n",
    "''')"
   ]
  },
  {
   "cell_type": "code",
   "execution_count": 5,
   "id": "022221d3",
   "metadata": {},
   "outputs": [
    {
     "data": {
      "text/html": [
       "<div>\n",
       "<style scoped>\n",
       "    .dataframe tbody tr th:only-of-type {\n",
       "        vertical-align: middle;\n",
       "    }\n",
       "\n",
       "    .dataframe tbody tr th {\n",
       "        vertical-align: top;\n",
       "    }\n",
       "\n",
       "    .dataframe thead th {\n",
       "        text-align: right;\n",
       "    }\n",
       "</style>\n",
       "<table border=\"1\" class=\"dataframe\">\n",
       "  <thead>\n",
       "    <tr style=\"text-align: right;\">\n",
       "      <th></th>\n",
       "      <th>EmployeeID</th>\n",
       "      <th>Name</th>\n",
       "      <th>Job</th>\n",
       "      <th>Salary</th>\n",
       "      <th>DepartmentID</th>\n",
       "    </tr>\n",
       "  </thead>\n",
       "  <tbody>\n",
       "    <tr>\n",
       "      <th>0</th>\n",
       "      <td>1</td>\n",
       "      <td>John Doe</td>\n",
       "      <td>Sales Representative</td>\n",
       "      <td>50000</td>\n",
       "      <td>1</td>\n",
       "    </tr>\n",
       "    <tr>\n",
       "      <th>1</th>\n",
       "      <td>2</td>\n",
       "      <td>Jane Smith</td>\n",
       "      <td>Marketing Specialist</td>\n",
       "      <td>60000</td>\n",
       "      <td>2</td>\n",
       "    </tr>\n",
       "    <tr>\n",
       "      <th>2</th>\n",
       "      <td>3</td>\n",
       "      <td>Mike Johnson</td>\n",
       "      <td>Financial Analyst</td>\n",
       "      <td>70000</td>\n",
       "      <td>3</td>\n",
       "    </tr>\n",
       "    <tr>\n",
       "      <th>3</th>\n",
       "      <td>4</td>\n",
       "      <td>Emily Davis</td>\n",
       "      <td>HR Manager</td>\n",
       "      <td>55000</td>\n",
       "      <td>4</td>\n",
       "    </tr>\n",
       "    <tr>\n",
       "      <th>4</th>\n",
       "      <td>5</td>\n",
       "      <td>Robert Brown</td>\n",
       "      <td>Sales Representative</td>\n",
       "      <td>75000</td>\n",
       "      <td>1</td>\n",
       "    </tr>\n",
       "    <tr>\n",
       "      <th>5</th>\n",
       "      <td>6</td>\n",
       "      <td>Alice White</td>\n",
       "      <td>Marketing Specialist</td>\n",
       "      <td>80000</td>\n",
       "      <td>2</td>\n",
       "    </tr>\n",
       "    <tr>\n",
       "      <th>6</th>\n",
       "      <td>7</td>\n",
       "      <td>Daniel Lee</td>\n",
       "      <td>Senior Financial Analyst</td>\n",
       "      <td>90000</td>\n",
       "      <td>3</td>\n",
       "    </tr>\n",
       "    <tr>\n",
       "      <th>7</th>\n",
       "      <td>8</td>\n",
       "      <td>Olivia Miller</td>\n",
       "      <td>HR Manager</td>\n",
       "      <td>70000</td>\n",
       "      <td>4</td>\n",
       "    </tr>\n",
       "    <tr>\n",
       "      <th>8</th>\n",
       "      <td>9</td>\n",
       "      <td>William Turner</td>\n",
       "      <td>Sales Representative</td>\n",
       "      <td>55000</td>\n",
       "      <td>1</td>\n",
       "    </tr>\n",
       "    <tr>\n",
       "      <th>9</th>\n",
       "      <td>10</td>\n",
       "      <td>Sophia Martin</td>\n",
       "      <td>Financial Analyst</td>\n",
       "      <td>60000</td>\n",
       "      <td>2</td>\n",
       "    </tr>\n",
       "  </tbody>\n",
       "</table>\n",
       "</div>"
      ],
      "text/plain": [
       "   EmployeeID            Name                       Job  Salary  DepartmentID\n",
       "0           1        John Doe      Sales Representative   50000             1\n",
       "1           2      Jane Smith      Marketing Specialist   60000             2\n",
       "2           3    Mike Johnson         Financial Analyst   70000             3\n",
       "3           4     Emily Davis                HR Manager   55000             4\n",
       "4           5    Robert Brown      Sales Representative   75000             1\n",
       "5           6     Alice White      Marketing Specialist   80000             2\n",
       "6           7      Daniel Lee  Senior Financial Analyst   90000             3\n",
       "7           8   Olivia Miller                HR Manager   70000             4\n",
       "8           9  William Turner      Sales Representative   55000             1\n",
       "9          10   Sophia Martin         Financial Analyst   60000             2"
      ]
     },
     "metadata": {},
     "output_type": "display_data"
    }
   ],
   "source": [
    "cur.execute('''\n",
    "SELECT *\n",
    "FROM Employee;\n",
    "''')\n",
    "\n",
    "result = cur.fetchall()\n",
    "\n",
    "df = pd.DataFrame(result, columns=[item[0] for item in cur.description])\n",
    "display(df)"
   ]
  },
  {
   "cell_type": "code",
   "execution_count": 6,
   "id": "416edfcf",
   "metadata": {},
   "outputs": [
    {
     "data": {
      "text/html": [
       "<div>\n",
       "<style scoped>\n",
       "    .dataframe tbody tr th:only-of-type {\n",
       "        vertical-align: middle;\n",
       "    }\n",
       "\n",
       "    .dataframe tbody tr th {\n",
       "        vertical-align: top;\n",
       "    }\n",
       "\n",
       "    .dataframe thead th {\n",
       "        text-align: right;\n",
       "    }\n",
       "</style>\n",
       "<table border=\"1\" class=\"dataframe\">\n",
       "  <thead>\n",
       "    <tr style=\"text-align: right;\">\n",
       "      <th></th>\n",
       "      <th>EmployeeID</th>\n",
       "      <th>Name</th>\n",
       "      <th>Job</th>\n",
       "      <th>Salary</th>\n",
       "      <th>DepartmentID</th>\n",
       "      <th>AvgSalary</th>\n",
       "    </tr>\n",
       "  </thead>\n",
       "  <tbody>\n",
       "    <tr>\n",
       "      <th>0</th>\n",
       "      <td>1</td>\n",
       "      <td>John Doe</td>\n",
       "      <td>Sales Representative</td>\n",
       "      <td>50000</td>\n",
       "      <td>1</td>\n",
       "      <td>60000.000000</td>\n",
       "    </tr>\n",
       "    <tr>\n",
       "      <th>1</th>\n",
       "      <td>2</td>\n",
       "      <td>Jane Smith</td>\n",
       "      <td>Marketing Specialist</td>\n",
       "      <td>60000</td>\n",
       "      <td>2</td>\n",
       "      <td>66666.666667</td>\n",
       "    </tr>\n",
       "    <tr>\n",
       "      <th>2</th>\n",
       "      <td>3</td>\n",
       "      <td>Mike Johnson</td>\n",
       "      <td>Financial Analyst</td>\n",
       "      <td>70000</td>\n",
       "      <td>3</td>\n",
       "      <td>80000.000000</td>\n",
       "    </tr>\n",
       "    <tr>\n",
       "      <th>3</th>\n",
       "      <td>4</td>\n",
       "      <td>Emily Davis</td>\n",
       "      <td>HR Manager</td>\n",
       "      <td>55000</td>\n",
       "      <td>4</td>\n",
       "      <td>62500.000000</td>\n",
       "    </tr>\n",
       "    <tr>\n",
       "      <th>4</th>\n",
       "      <td>5</td>\n",
       "      <td>Robert Brown</td>\n",
       "      <td>Sales Representative</td>\n",
       "      <td>75000</td>\n",
       "      <td>1</td>\n",
       "      <td>60000.000000</td>\n",
       "    </tr>\n",
       "    <tr>\n",
       "      <th>5</th>\n",
       "      <td>6</td>\n",
       "      <td>Alice White</td>\n",
       "      <td>Marketing Specialist</td>\n",
       "      <td>80000</td>\n",
       "      <td>2</td>\n",
       "      <td>66666.666667</td>\n",
       "    </tr>\n",
       "    <tr>\n",
       "      <th>6</th>\n",
       "      <td>7</td>\n",
       "      <td>Daniel Lee</td>\n",
       "      <td>Senior Financial Analyst</td>\n",
       "      <td>90000</td>\n",
       "      <td>3</td>\n",
       "      <td>80000.000000</td>\n",
       "    </tr>\n",
       "    <tr>\n",
       "      <th>7</th>\n",
       "      <td>8</td>\n",
       "      <td>Olivia Miller</td>\n",
       "      <td>HR Manager</td>\n",
       "      <td>70000</td>\n",
       "      <td>4</td>\n",
       "      <td>62500.000000</td>\n",
       "    </tr>\n",
       "    <tr>\n",
       "      <th>8</th>\n",
       "      <td>9</td>\n",
       "      <td>William Turner</td>\n",
       "      <td>Sales Representative</td>\n",
       "      <td>55000</td>\n",
       "      <td>1</td>\n",
       "      <td>60000.000000</td>\n",
       "    </tr>\n",
       "    <tr>\n",
       "      <th>9</th>\n",
       "      <td>10</td>\n",
       "      <td>Sophia Martin</td>\n",
       "      <td>Financial Analyst</td>\n",
       "      <td>60000</td>\n",
       "      <td>2</td>\n",
       "      <td>66666.666667</td>\n",
       "    </tr>\n",
       "  </tbody>\n",
       "</table>\n",
       "</div>"
      ],
      "text/plain": [
       "   EmployeeID            Name                       Job  Salary  DepartmentID  \\\n",
       "0           1        John Doe      Sales Representative   50000             1   \n",
       "1           2      Jane Smith      Marketing Specialist   60000             2   \n",
       "2           3    Mike Johnson         Financial Analyst   70000             3   \n",
       "3           4     Emily Davis                HR Manager   55000             4   \n",
       "4           5    Robert Brown      Sales Representative   75000             1   \n",
       "5           6     Alice White      Marketing Specialist   80000             2   \n",
       "6           7      Daniel Lee  Senior Financial Analyst   90000             3   \n",
       "7           8   Olivia Miller                HR Manager   70000             4   \n",
       "8           9  William Turner      Sales Representative   55000             1   \n",
       "9          10   Sophia Martin         Financial Analyst   60000             2   \n",
       "\n",
       "      AvgSalary  \n",
       "0  60000.000000  \n",
       "1  66666.666667  \n",
       "2  80000.000000  \n",
       "3  62500.000000  \n",
       "4  60000.000000  \n",
       "5  66666.666667  \n",
       "6  80000.000000  \n",
       "7  62500.000000  \n",
       "8  60000.000000  \n",
       "9  66666.666667  "
      ]
     },
     "metadata": {},
     "output_type": "display_data"
    }
   ],
   "source": [
    "cur.execute('''\n",
    "-- Common Table Expression (CTE) definition\n",
    "WITH DepartmentCTE AS (\n",
    "    SELECT\n",
    "        DepartmentID,\n",
    "        AVG(Salary) AS AvgSalary\n",
    "    FROM\n",
    "        Employee\n",
    "    GROUP BY\n",
    "        DepartmentID\n",
    ")\n",
    "\n",
    "-- Main query using the CTE\n",
    "SELECT\n",
    "    e.EmployeeID,\n",
    "    e.Name,\n",
    "    e.Job,\n",
    "    e.Salary,\n",
    "    e.DepartmentID,\n",
    "    d.AvgSalary\n",
    "FROM\n",
    "    Employee e\n",
    "JOIN\n",
    "    DepartmentCTE d ON e.DepartmentID = d.DepartmentID;\n",
    "''')\n",
    "\n",
    "result = cur.fetchall()\n",
    "\n",
    "df = pd.DataFrame(result, columns=[item[0] for item in cur.description])\n",
    "display(df)"
   ]
  },
  {
   "cell_type": "markdown",
   "id": "d66239bc",
   "metadata": {},
   "source": [
    "# Question 6: Retrieve a list of employees and their respective managers using a CTE."
   ]
  },
  {
   "cell_type": "code",
   "execution_count": 7,
   "id": "8e9c282f",
   "metadata": {},
   "outputs": [],
   "source": [
    "cnn = sqlite3.connect('database2.db')\n",
    "cur = cnn.cursor()"
   ]
  },
  {
   "cell_type": "code",
   "execution_count": 8,
   "id": "4669286f",
   "metadata": {},
   "outputs": [
    {
     "data": {
      "text/plain": [
       "<sqlite3.Cursor at 0x1f7b1f3af40>"
      ]
     },
     "execution_count": 8,
     "metadata": {},
     "output_type": "execute_result"
    }
   ],
   "source": [
    "cur.execute('''\n",
    "CREATE TABLE Employee (\n",
    "    employee_ID INT PRIMARY KEY,\n",
    "    employee_name VARCHAR(100),\n",
    "    manager_id INT\n",
    ");\n",
    "''')"
   ]
  },
  {
   "cell_type": "code",
   "execution_count": 9,
   "id": "7d26b5d7",
   "metadata": {},
   "outputs": [
    {
     "data": {
      "text/plain": [
       "<sqlite3.Cursor at 0x1f7b1f3af40>"
      ]
     },
     "execution_count": 9,
     "metadata": {},
     "output_type": "execute_result"
    }
   ],
   "source": [
    "cur.execute('''\n",
    "INSERT INTO Employee (employee_ID, employee_name, manager_id) VALUES\n",
    "(1, 'Alice', 3),\n",
    "(2, 'Bob', 3),\n",
    "(3, 'Charlie', 4),\n",
    "(4, 'David', NULL);\n",
    "''')"
   ]
  },
  {
   "cell_type": "code",
   "execution_count": 10,
   "id": "503b1b94",
   "metadata": {},
   "outputs": [
    {
     "data": {
      "text/html": [
       "<div>\n",
       "<style scoped>\n",
       "    .dataframe tbody tr th:only-of-type {\n",
       "        vertical-align: middle;\n",
       "    }\n",
       "\n",
       "    .dataframe tbody tr th {\n",
       "        vertical-align: top;\n",
       "    }\n",
       "\n",
       "    .dataframe thead th {\n",
       "        text-align: right;\n",
       "    }\n",
       "</style>\n",
       "<table border=\"1\" class=\"dataframe\">\n",
       "  <thead>\n",
       "    <tr style=\"text-align: right;\">\n",
       "      <th></th>\n",
       "      <th>employee_ID</th>\n",
       "      <th>employee_name</th>\n",
       "      <th>manager_id</th>\n",
       "    </tr>\n",
       "  </thead>\n",
       "  <tbody>\n",
       "    <tr>\n",
       "      <th>0</th>\n",
       "      <td>1</td>\n",
       "      <td>Alice</td>\n",
       "      <td>3.0</td>\n",
       "    </tr>\n",
       "    <tr>\n",
       "      <th>1</th>\n",
       "      <td>2</td>\n",
       "      <td>Bob</td>\n",
       "      <td>3.0</td>\n",
       "    </tr>\n",
       "    <tr>\n",
       "      <th>2</th>\n",
       "      <td>3</td>\n",
       "      <td>Charlie</td>\n",
       "      <td>4.0</td>\n",
       "    </tr>\n",
       "    <tr>\n",
       "      <th>3</th>\n",
       "      <td>4</td>\n",
       "      <td>David</td>\n",
       "      <td>NaN</td>\n",
       "    </tr>\n",
       "  </tbody>\n",
       "</table>\n",
       "</div>"
      ],
      "text/plain": [
       "   employee_ID employee_name  manager_id\n",
       "0            1         Alice         3.0\n",
       "1            2           Bob         3.0\n",
       "2            3       Charlie         4.0\n",
       "3            4         David         NaN"
      ]
     },
     "metadata": {},
     "output_type": "display_data"
    }
   ],
   "source": [
    "cur.execute('''\n",
    "SELECT *\n",
    "FROM Employee;\n",
    "''')\n",
    "\n",
    "result = cur.fetchall()\n",
    "\n",
    "df = pd.DataFrame(result, columns=[item[0] for item in cur.description])\n",
    "display(df)"
   ]
  },
  {
   "cell_type": "code",
   "execution_count": 11,
   "id": "fed12250",
   "metadata": {},
   "outputs": [
    {
     "data": {
      "text/html": [
       "<div>\n",
       "<style scoped>\n",
       "    .dataframe tbody tr th:only-of-type {\n",
       "        vertical-align: middle;\n",
       "    }\n",
       "\n",
       "    .dataframe tbody tr th {\n",
       "        vertical-align: top;\n",
       "    }\n",
       "\n",
       "    .dataframe thead th {\n",
       "        text-align: right;\n",
       "    }\n",
       "</style>\n",
       "<table border=\"1\" class=\"dataframe\">\n",
       "  <thead>\n",
       "    <tr style=\"text-align: right;\">\n",
       "      <th></th>\n",
       "      <th>employee_name</th>\n",
       "      <th>manager_name</th>\n",
       "    </tr>\n",
       "  </thead>\n",
       "  <tbody>\n",
       "    <tr>\n",
       "      <th>0</th>\n",
       "      <td>Alice</td>\n",
       "      <td>Charlie</td>\n",
       "    </tr>\n",
       "    <tr>\n",
       "      <th>1</th>\n",
       "      <td>Bob</td>\n",
       "      <td>Charlie</td>\n",
       "    </tr>\n",
       "    <tr>\n",
       "      <th>2</th>\n",
       "      <td>Charlie</td>\n",
       "      <td>David</td>\n",
       "    </tr>\n",
       "    <tr>\n",
       "      <th>3</th>\n",
       "      <td>David</td>\n",
       "      <td>None</td>\n",
       "    </tr>\n",
       "  </tbody>\n",
       "</table>\n",
       "</div>"
      ],
      "text/plain": [
       "  employee_name manager_name\n",
       "0         Alice      Charlie\n",
       "1           Bob      Charlie\n",
       "2       Charlie        David\n",
       "3         David         None"
      ]
     },
     "metadata": {},
     "output_type": "display_data"
    }
   ],
   "source": [
    "cur.execute('''\n",
    "WITH EmployeeWithManagerCTE AS(\n",
    "    SELECT \n",
    "        e.employee_name, \n",
    "        m.employee_name AS manager_name \n",
    "    FROM \n",
    "        employee e\n",
    "    LEFT JOIN \n",
    "        employee m ON e.manager_id = m.employee_id \n",
    ")\n",
    "SELECT * \n",
    "FROM EmployeeWithManagerCTE;\n",
    "''')\n",
    "\n",
    "result = cur.fetchall()\n",
    "\n",
    "df = pd.DataFrame(result, columns=[item[0] for item in cur.description])\n",
    "display(df)"
   ]
  },
  {
   "cell_type": "markdown",
   "id": "eac3a275",
   "metadata": {},
   "source": [
    "# Question 7: Find the total sales for each product in the \"Product\" table. And use a CTE to achieve this."
   ]
  },
  {
   "cell_type": "code",
   "execution_count": 12,
   "id": "f3f82b26",
   "metadata": {},
   "outputs": [],
   "source": [
    "cnn = sqlite3.connect('database3.db')\n",
    "cur = cnn.cursor()"
   ]
  },
  {
   "cell_type": "code",
   "execution_count": 13,
   "id": "bfd45353",
   "metadata": {},
   "outputs": [
    {
     "data": {
      "text/plain": [
       "<sqlite3.Cursor at 0x1f7b1f3b2c0>"
      ]
     },
     "execution_count": 13,
     "metadata": {},
     "output_type": "execute_result"
    }
   ],
   "source": [
    "cur.execute('''\n",
    "CREATE TABLE Product (\n",
    "    product_id INT PRIMARY KEY,\n",
    "    product_name VARCHAR(255)\n",
    ");\n",
    "''')"
   ]
  },
  {
   "cell_type": "code",
   "execution_count": 14,
   "id": "3b1bc83a",
   "metadata": {},
   "outputs": [
    {
     "data": {
      "text/plain": [
       "<sqlite3.Cursor at 0x1f7b1f3b2c0>"
      ]
     },
     "execution_count": 14,
     "metadata": {},
     "output_type": "execute_result"
    }
   ],
   "source": [
    "cur.execute('''\n",
    "CREATE TABLE Sales (\n",
    "    sale_id INT PRIMARY KEY,\n",
    "    product_id INT,\n",
    "    sale_date DATE,\n",
    "    sale_amount INT,\n",
    "    FOREIGN KEY (product_id) REFERENCES Product(product_id)\n",
    ");\n",
    "''')"
   ]
  },
  {
   "cell_type": "code",
   "execution_count": 15,
   "id": "fe5e8141",
   "metadata": {},
   "outputs": [
    {
     "data": {
      "text/plain": [
       "<sqlite3.Cursor at 0x1f7b1f3b2c0>"
      ]
     },
     "execution_count": 15,
     "metadata": {},
     "output_type": "execute_result"
    }
   ],
   "source": [
    "cur.execute('''\n",
    "INSERT INTO Product (product_id, product_name) VALUES\n",
    "    (1, 'Product A'),\n",
    "    (2, 'Product B'),\n",
    "    (3, 'Product C');\n",
    "''')"
   ]
  },
  {
   "cell_type": "code",
   "execution_count": 16,
   "id": "41846a51",
   "metadata": {},
   "outputs": [
    {
     "data": {
      "text/plain": [
       "<sqlite3.Cursor at 0x1f7b1f3b2c0>"
      ]
     },
     "execution_count": 16,
     "metadata": {},
     "output_type": "execute_result"
    }
   ],
   "source": [
    "cur.execute('''\n",
    "INSERT INTO Sales (sale_id, product_id, sale_date, sale_amount) VALUES\n",
    "    (1, 1, '2023-01-05', 100),\n",
    "    (2, 2, '2023-01-10', 150),\n",
    "    (3, 1, '2023-01-15', 75),\n",
    "    (4, 3, '2023-01-20', 200),\n",
    "    (5, 2, '2023-01-25', 50);\n",
    "''')"
   ]
  },
  {
   "cell_type": "code",
   "execution_count": 17,
   "id": "13f52874",
   "metadata": {},
   "outputs": [
    {
     "data": {
      "text/html": [
       "<div>\n",
       "<style scoped>\n",
       "    .dataframe tbody tr th:only-of-type {\n",
       "        vertical-align: middle;\n",
       "    }\n",
       "\n",
       "    .dataframe tbody tr th {\n",
       "        vertical-align: top;\n",
       "    }\n",
       "\n",
       "    .dataframe thead th {\n",
       "        text-align: right;\n",
       "    }\n",
       "</style>\n",
       "<table border=\"1\" class=\"dataframe\">\n",
       "  <thead>\n",
       "    <tr style=\"text-align: right;\">\n",
       "      <th></th>\n",
       "      <th>product_id</th>\n",
       "      <th>product_name</th>\n",
       "    </tr>\n",
       "  </thead>\n",
       "  <tbody>\n",
       "    <tr>\n",
       "      <th>0</th>\n",
       "      <td>1</td>\n",
       "      <td>Product A</td>\n",
       "    </tr>\n",
       "    <tr>\n",
       "      <th>1</th>\n",
       "      <td>2</td>\n",
       "      <td>Product B</td>\n",
       "    </tr>\n",
       "    <tr>\n",
       "      <th>2</th>\n",
       "      <td>3</td>\n",
       "      <td>Product C</td>\n",
       "    </tr>\n",
       "  </tbody>\n",
       "</table>\n",
       "</div>"
      ],
      "text/plain": [
       "   product_id product_name\n",
       "0           1    Product A\n",
       "1           2    Product B\n",
       "2           3    Product C"
      ]
     },
     "metadata": {},
     "output_type": "display_data"
    },
    {
     "data": {
      "text/html": [
       "<div>\n",
       "<style scoped>\n",
       "    .dataframe tbody tr th:only-of-type {\n",
       "        vertical-align: middle;\n",
       "    }\n",
       "\n",
       "    .dataframe tbody tr th {\n",
       "        vertical-align: top;\n",
       "    }\n",
       "\n",
       "    .dataframe thead th {\n",
       "        text-align: right;\n",
       "    }\n",
       "</style>\n",
       "<table border=\"1\" class=\"dataframe\">\n",
       "  <thead>\n",
       "    <tr style=\"text-align: right;\">\n",
       "      <th></th>\n",
       "      <th>sale_id</th>\n",
       "      <th>product_id</th>\n",
       "      <th>sale_date</th>\n",
       "      <th>sale_amount</th>\n",
       "    </tr>\n",
       "  </thead>\n",
       "  <tbody>\n",
       "    <tr>\n",
       "      <th>0</th>\n",
       "      <td>1</td>\n",
       "      <td>1</td>\n",
       "      <td>2023-01-05</td>\n",
       "      <td>100</td>\n",
       "    </tr>\n",
       "    <tr>\n",
       "      <th>1</th>\n",
       "      <td>2</td>\n",
       "      <td>2</td>\n",
       "      <td>2023-01-10</td>\n",
       "      <td>150</td>\n",
       "    </tr>\n",
       "    <tr>\n",
       "      <th>2</th>\n",
       "      <td>3</td>\n",
       "      <td>1</td>\n",
       "      <td>2023-01-15</td>\n",
       "      <td>75</td>\n",
       "    </tr>\n",
       "    <tr>\n",
       "      <th>3</th>\n",
       "      <td>4</td>\n",
       "      <td>3</td>\n",
       "      <td>2023-01-20</td>\n",
       "      <td>200</td>\n",
       "    </tr>\n",
       "    <tr>\n",
       "      <th>4</th>\n",
       "      <td>5</td>\n",
       "      <td>2</td>\n",
       "      <td>2023-01-25</td>\n",
       "      <td>50</td>\n",
       "    </tr>\n",
       "  </tbody>\n",
       "</table>\n",
       "</div>"
      ],
      "text/plain": [
       "   sale_id  product_id   sale_date  sale_amount\n",
       "0        1           1  2023-01-05          100\n",
       "1        2           2  2023-01-10          150\n",
       "2        3           1  2023-01-15           75\n",
       "3        4           3  2023-01-20          200\n",
       "4        5           2  2023-01-25           50"
      ]
     },
     "metadata": {},
     "output_type": "display_data"
    }
   ],
   "source": [
    "cur.execute('''\n",
    " SELECT *\n",
    " FROM Product;\n",
    "''')\n",
    "\n",
    "result = cur.fetchall()\n",
    "\n",
    "df = pd.DataFrame(result, columns=[item[0] for item in cur.description])\n",
    "display(df)\n",
    "\n",
    "cur.execute('''\n",
    " SELECT *\n",
    " FROM Sales;\n",
    "''')\n",
    "\n",
    "result = cur.fetchall()\n",
    "\n",
    "df = pd.DataFrame(result, columns=[item[0] for item in cur.description])\n",
    "display(df)"
   ]
  },
  {
   "cell_type": "code",
   "execution_count": 18,
   "id": "27b49d73",
   "metadata": {},
   "outputs": [
    {
     "data": {
      "text/html": [
       "<div>\n",
       "<style scoped>\n",
       "    .dataframe tbody tr th:only-of-type {\n",
       "        vertical-align: middle;\n",
       "    }\n",
       "\n",
       "    .dataframe tbody tr th {\n",
       "        vertical-align: top;\n",
       "    }\n",
       "\n",
       "    .dataframe thead th {\n",
       "        text-align: right;\n",
       "    }\n",
       "</style>\n",
       "<table border=\"1\" class=\"dataframe\">\n",
       "  <thead>\n",
       "    <tr style=\"text-align: right;\">\n",
       "      <th></th>\n",
       "      <th>product_name</th>\n",
       "      <th>TotalAmount</th>\n",
       "    </tr>\n",
       "  </thead>\n",
       "  <tbody>\n",
       "    <tr>\n",
       "      <th>0</th>\n",
       "      <td>Product A</td>\n",
       "      <td>175</td>\n",
       "    </tr>\n",
       "    <tr>\n",
       "      <th>1</th>\n",
       "      <td>Product B</td>\n",
       "      <td>200</td>\n",
       "    </tr>\n",
       "    <tr>\n",
       "      <th>2</th>\n",
       "      <td>Product C</td>\n",
       "      <td>200</td>\n",
       "    </tr>\n",
       "  </tbody>\n",
       "</table>\n",
       "</div>"
      ],
      "text/plain": [
       "  product_name  TotalAmount\n",
       "0    Product A          175\n",
       "1    Product B          200\n",
       "2    Product C          200"
      ]
     },
     "metadata": {},
     "output_type": "display_data"
    }
   ],
   "source": [
    "cur.execute('''\n",
    "WITH TotalSalesForEachProduct AS (\n",
    "    SELECT \n",
    "        product_id, \n",
    "        SUM(sale_amount) AS TotalAmount\n",
    "    FROM \n",
    "        Sales\n",
    "    GROUP BY \n",
    "        product_id\n",
    ")\n",
    "SELECT \n",
    "    product_name, \n",
    "    TotalAmount\n",
    "FROM \n",
    "    Product\n",
    "JOIN \n",
    "    TotalSalesForEachProduct ON Product.product_id = TotalSalesForEachProduct.product_id\n",
    "''')\n",
    "\n",
    "result = cur.fetchall()\n",
    "\n",
    "df = pd.DataFrame(result, columns=[item[0] for item in cur.description])\n",
    "display(df)"
   ]
  },
  {
   "cell_type": "markdown",
   "id": "5cca7a3b",
   "metadata": {},
   "source": [
    "# Question 8 :-\n",
    "#### Use CTE\n",
    "1. Display the names of all employees and their respective managers.\n",
    "2. List all employees and their direct reports.\n",
    "3. Calculate the number of levels in the employee hierarchy for each employee."
   ]
  },
  {
   "cell_type": "code",
   "execution_count": 19,
   "id": "a4fa8b8f",
   "metadata": {},
   "outputs": [],
   "source": [
    "cnn = sqlite3.connect('database4.db')\n",
    "cur = cnn.cursor()"
   ]
  },
  {
   "cell_type": "code",
   "execution_count": 20,
   "id": "74da3467",
   "metadata": {},
   "outputs": [
    {
     "data": {
      "text/plain": [
       "<sqlite3.Cursor at 0x1f7b1f3a440>"
      ]
     },
     "execution_count": 20,
     "metadata": {},
     "output_type": "execute_result"
    }
   ],
   "source": [
    "cur.execute('''\n",
    "CREATE TABLE Employee (\n",
    "    employee_ID INT PRIMARY KEY,\n",
    "    employee_name VARCHAR(100),\n",
    "    manager_id INT\n",
    ");\n",
    "''')"
   ]
  },
  {
   "cell_type": "code",
   "execution_count": 21,
   "id": "e99479d3",
   "metadata": {},
   "outputs": [
    {
     "data": {
      "text/plain": [
       "<sqlite3.Cursor at 0x1f7b1f3a440>"
      ]
     },
     "execution_count": 21,
     "metadata": {},
     "output_type": "execute_result"
    }
   ],
   "source": [
    "cur.execute('''\n",
    "INSERT INTO Employee (employee_ID, employee_name, manager_id) VALUES\n",
    "(1, 'Alice', 3),\n",
    "(2, 'Bob', 3),\n",
    "(3, 'Charlie', 4),\n",
    "(4, 'David', NULL);\n",
    "''')"
   ]
  },
  {
   "cell_type": "code",
   "execution_count": 22,
   "id": "497af4b4",
   "metadata": {},
   "outputs": [
    {
     "data": {
      "text/html": [
       "<div>\n",
       "<style scoped>\n",
       "    .dataframe tbody tr th:only-of-type {\n",
       "        vertical-align: middle;\n",
       "    }\n",
       "\n",
       "    .dataframe tbody tr th {\n",
       "        vertical-align: top;\n",
       "    }\n",
       "\n",
       "    .dataframe thead th {\n",
       "        text-align: right;\n",
       "    }\n",
       "</style>\n",
       "<table border=\"1\" class=\"dataframe\">\n",
       "  <thead>\n",
       "    <tr style=\"text-align: right;\">\n",
       "      <th></th>\n",
       "      <th>employee_ID</th>\n",
       "      <th>employee_name</th>\n",
       "      <th>manager_id</th>\n",
       "    </tr>\n",
       "  </thead>\n",
       "  <tbody>\n",
       "    <tr>\n",
       "      <th>0</th>\n",
       "      <td>1</td>\n",
       "      <td>Alice</td>\n",
       "      <td>3.0</td>\n",
       "    </tr>\n",
       "    <tr>\n",
       "      <th>1</th>\n",
       "      <td>2</td>\n",
       "      <td>Bob</td>\n",
       "      <td>3.0</td>\n",
       "    </tr>\n",
       "    <tr>\n",
       "      <th>2</th>\n",
       "      <td>3</td>\n",
       "      <td>Charlie</td>\n",
       "      <td>4.0</td>\n",
       "    </tr>\n",
       "    <tr>\n",
       "      <th>3</th>\n",
       "      <td>4</td>\n",
       "      <td>David</td>\n",
       "      <td>NaN</td>\n",
       "    </tr>\n",
       "  </tbody>\n",
       "</table>\n",
       "</div>"
      ],
      "text/plain": [
       "   employee_ID employee_name  manager_id\n",
       "0            1         Alice         3.0\n",
       "1            2           Bob         3.0\n",
       "2            3       Charlie         4.0\n",
       "3            4         David         NaN"
      ]
     },
     "metadata": {},
     "output_type": "display_data"
    }
   ],
   "source": [
    "cur.execute('''\n",
    "SELECT *\n",
    "FROM Employee;\n",
    "''')\n",
    "\n",
    "result = cur.fetchall()\n",
    "\n",
    "df = pd.DataFrame(result, columns=[item[0] for item in cur.description])\n",
    "display(df)"
   ]
  },
  {
   "cell_type": "markdown",
   "id": "c7d2f160",
   "metadata": {},
   "source": [
    "### Display the names of all employees and their respective managers.\n",
    "# Or\n",
    "### List all employees and their direct reports."
   ]
  },
  {
   "cell_type": "code",
   "execution_count": 23,
   "id": "83da2125",
   "metadata": {},
   "outputs": [
    {
     "data": {
      "text/html": [
       "<div>\n",
       "<style scoped>\n",
       "    .dataframe tbody tr th:only-of-type {\n",
       "        vertical-align: middle;\n",
       "    }\n",
       "\n",
       "    .dataframe tbody tr th {\n",
       "        vertical-align: top;\n",
       "    }\n",
       "\n",
       "    .dataframe thead th {\n",
       "        text-align: right;\n",
       "    }\n",
       "</style>\n",
       "<table border=\"1\" class=\"dataframe\">\n",
       "  <thead>\n",
       "    <tr style=\"text-align: right;\">\n",
       "      <th></th>\n",
       "      <th>employee_name</th>\n",
       "      <th>manager_name</th>\n",
       "    </tr>\n",
       "  </thead>\n",
       "  <tbody>\n",
       "    <tr>\n",
       "      <th>0</th>\n",
       "      <td>Alice</td>\n",
       "      <td>Charlie</td>\n",
       "    </tr>\n",
       "    <tr>\n",
       "      <th>1</th>\n",
       "      <td>Bob</td>\n",
       "      <td>Charlie</td>\n",
       "    </tr>\n",
       "    <tr>\n",
       "      <th>2</th>\n",
       "      <td>Charlie</td>\n",
       "      <td>David</td>\n",
       "    </tr>\n",
       "    <tr>\n",
       "      <th>3</th>\n",
       "      <td>David</td>\n",
       "      <td>None</td>\n",
       "    </tr>\n",
       "  </tbody>\n",
       "</table>\n",
       "</div>"
      ],
      "text/plain": [
       "  employee_name manager_name\n",
       "0         Alice      Charlie\n",
       "1           Bob      Charlie\n",
       "2       Charlie        David\n",
       "3         David         None"
      ]
     },
     "metadata": {},
     "output_type": "display_data"
    }
   ],
   "source": [
    "cur.execute('''\n",
    "WITH EmployeeWithManagerCTE AS(\n",
    "    SELECT \n",
    "        e.employee_name, \n",
    "        m.employee_name AS manager_name \n",
    "    FROM \n",
    "        employee e\n",
    "    LEFT JOIN \n",
    "        employee m ON e.manager_id = m.employee_id \n",
    ")\n",
    "SELECT * \n",
    "FROM EmployeeWithManagerCTE;\n",
    "''')\n",
    "\n",
    "result = cur.fetchall()\n",
    "\n",
    "df = pd.DataFrame(result, columns=[item[0] for item in cur.description])\n",
    "display(df)"
   ]
  },
  {
   "cell_type": "markdown",
   "id": "dbd16710",
   "metadata": {},
   "source": [
    "### Calculate the number of levels in the employee hierarchy for each employee."
   ]
  },
  {
   "cell_type": "code",
   "execution_count": 24,
   "id": "b9674f39",
   "metadata": {},
   "outputs": [
    {
     "data": {
      "text/html": [
       "<div>\n",
       "<style scoped>\n",
       "    .dataframe tbody tr th:only-of-type {\n",
       "        vertical-align: middle;\n",
       "    }\n",
       "\n",
       "    .dataframe tbody tr th {\n",
       "        vertical-align: top;\n",
       "    }\n",
       "\n",
       "    .dataframe thead th {\n",
       "        text-align: right;\n",
       "    }\n",
       "</style>\n",
       "<table border=\"1\" class=\"dataframe\">\n",
       "  <thead>\n",
       "    <tr style=\"text-align: right;\">\n",
       "      <th></th>\n",
       "      <th>employee_ID</th>\n",
       "      <th>employee_name</th>\n",
       "      <th>level</th>\n",
       "    </tr>\n",
       "  </thead>\n",
       "  <tbody>\n",
       "    <tr>\n",
       "      <th>0</th>\n",
       "      <td>4</td>\n",
       "      <td>David</td>\n",
       "      <td>1</td>\n",
       "    </tr>\n",
       "    <tr>\n",
       "      <th>1</th>\n",
       "      <td>3</td>\n",
       "      <td>Charlie</td>\n",
       "      <td>2</td>\n",
       "    </tr>\n",
       "    <tr>\n",
       "      <th>2</th>\n",
       "      <td>1</td>\n",
       "      <td>Alice</td>\n",
       "      <td>3</td>\n",
       "    </tr>\n",
       "    <tr>\n",
       "      <th>3</th>\n",
       "      <td>2</td>\n",
       "      <td>Bob</td>\n",
       "      <td>3</td>\n",
       "    </tr>\n",
       "  </tbody>\n",
       "</table>\n",
       "</div>"
      ],
      "text/plain": [
       "   employee_ID employee_name  level\n",
       "0            4         David      1\n",
       "1            3       Charlie      2\n",
       "2            1         Alice      3\n",
       "3            2           Bob      3"
      ]
     },
     "metadata": {},
     "output_type": "display_data"
    }
   ],
   "source": [
    "cur.execute('''\n",
    "WITH RECURSIVE EmployeeHierarchy AS (\n",
    "    SELECT employee_ID, employee_name, manager_id, 1 AS level\n",
    "    FROM Employee\n",
    "    WHERE manager_id IS NULL\n",
    "\n",
    "    UNION ALL\n",
    "\n",
    "    SELECT e.employee_ID, e.employee_name, e.manager_id, eh.level + 1\n",
    "    FROM Employee e\n",
    "    JOIN EmployeeHierarchy eh ON e.manager_id = eh.employee_ID\n",
    ")\n",
    "\n",
    "SELECT employee_ID, employee_name, level\n",
    "FROM EmployeeHierarchy;\n",
    "''')\n",
    "\n",
    "result = cur.fetchall()\n",
    "\n",
    "df = pd.DataFrame(result, columns=[item[0] for item in cur.description])\n",
    "display(df)"
   ]
  },
  {
   "cell_type": "markdown",
   "id": "5e74753a",
   "metadata": {},
   "source": [
    "# Question 9: In an inventory database, identify all products that have never been ordered. Write an SQL query based on pairwise and non-pairwise to find the product details.\n",
    "Hint:- To identify all products that have never been ordered in an inventory database, you can use both a pairwise comparison (with a subquery) and a non-pairwise approach (with a LEFT JOIN). "
   ]
  },
  {
   "cell_type": "code",
   "execution_count": 25,
   "id": "d90b4b59",
   "metadata": {},
   "outputs": [],
   "source": [
    "cnn = sqlite3.connect('database5.db')\n",
    "cur = cnn.cursor()"
   ]
  },
  {
   "cell_type": "code",
   "execution_count": 26,
   "id": "3c1efa90",
   "metadata": {},
   "outputs": [
    {
     "data": {
      "text/plain": [
       "<sqlite3.Cursor at 0x1f7b1f3b740>"
      ]
     },
     "execution_count": 26,
     "metadata": {},
     "output_type": "execute_result"
    }
   ],
   "source": [
    "cur.execute('''\n",
    "CREATE TABLE products (\n",
    "    product_id INT PRIMARY KEY,\n",
    "    product_name VARCHAR(255),\n",
    "    price DECIMAL(10, 2)\n",
    ");\n",
    "''')"
   ]
  },
  {
   "cell_type": "code",
   "execution_count": 2,
   "id": "7b327cb4",
   "metadata": {},
   "outputs": [
    {
     "ename": "NameError",
     "evalue": "name 'cur' is not defined",
     "output_type": "error",
     "traceback": [
      "\u001b[1;31m---------------------------------------------------------------------------\u001b[0m",
      "\u001b[1;31mNameError\u001b[0m                                 Traceback (most recent call last)",
      "Cell \u001b[1;32mIn[2], line 1\u001b[0m\n\u001b[1;32m----> 1\u001b[0m \u001b[43mcur\u001b[49m\u001b[38;5;241m.\u001b[39mexecute(\u001b[38;5;124m'''\u001b[39m\n\u001b[0;32m      2\u001b[0m \u001b[38;5;124mINSERT INTO products (product_id, product_name, price) VALUES\u001b[39m\n\u001b[0;32m      3\u001b[0m \u001b[38;5;124m(1, \u001b[39m\u001b[38;5;124m'\u001b[39m\u001b[38;5;124mProduct A\u001b[39m\u001b[38;5;124m'\u001b[39m\u001b[38;5;124m, 10.99),\u001b[39m\n\u001b[0;32m      4\u001b[0m \u001b[38;5;124m(2, \u001b[39m\u001b[38;5;124m'\u001b[39m\u001b[38;5;124mProduct B\u001b[39m\u001b[38;5;124m'\u001b[39m\u001b[38;5;124m, 19.99),\u001b[39m\n\u001b[0;32m      5\u001b[0m \u001b[38;5;124m(3, \u001b[39m\u001b[38;5;124m'\u001b[39m\u001b[38;5;124mProduct C\u001b[39m\u001b[38;5;124m'\u001b[39m\u001b[38;5;124m, 15.49),\u001b[39m\n\u001b[0;32m      6\u001b[0m \u001b[38;5;124m(4, \u001b[39m\u001b[38;5;124m'\u001b[39m\u001b[38;5;124mProduct D\u001b[39m\u001b[38;5;124m'\u001b[39m\u001b[38;5;124m, 8.75);\u001b[39m\n\u001b[0;32m      7\u001b[0m \u001b[38;5;124m'''\u001b[39m)\n",
      "\u001b[1;31mNameError\u001b[0m: name 'cur' is not defined"
     ]
    }
   ],
   "source": [
    "cur.execute('''\n",
    "INSERT INTO products (product_id, product_name, price) VALUES\n",
    "(1, 'Product A', 10.99),\n",
    "(2, 'Product B', 19.99),\n",
    "(3, 'Product C', 15.49),\n",
    "(4, 'Product D', 8.75);\n",
    "''')"
   ]
  },
  {
   "cell_type": "code",
   "execution_count": 28,
   "id": "bab98db6",
   "metadata": {},
   "outputs": [
    {
     "data": {
      "text/plain": [
       "<sqlite3.Cursor at 0x1f7b1f3b740>"
      ]
     },
     "execution_count": 28,
     "metadata": {},
     "output_type": "execute_result"
    }
   ],
   "source": [
    "cur.execute('''\n",
    "CREATE TABLE orders (\n",
    "    order_id INT PRIMARY KEY,\n",
    "    product_id INT,\n",
    "    quantity INT,\n",
    "    order_date DATE,\n",
    "    sales DECIMAL(10, 2),\n",
    "    FOREIGN KEY (product_id) REFERENCES products(product_id)\n",
    ");\n",
    "''')"
   ]
  },
  {
   "cell_type": "code",
   "execution_count": 29,
   "id": "a00593a9",
   "metadata": {},
   "outputs": [
    {
     "data": {
      "text/plain": [
       "<sqlite3.Cursor at 0x1f7b1f3b740>"
      ]
     },
     "execution_count": 29,
     "metadata": {},
     "output_type": "execute_result"
    }
   ],
   "source": [
    "cur.execute('''\n",
    "INSERT INTO orders (order_id, product_id, quantity, order_date, sales) VALUES\n",
    "(1, 1, 5, '2023-01-01', 54.95),\n",
    "(2, 2, 3, '2023-01-02', 59.97),\n",
    "(3, 1, 2, '2023-01-03', 21.98),\n",
    "(4, 3, 1, '2023-01-04', 15.49);\n",
    "''')"
   ]
  },
  {
   "cell_type": "code",
   "execution_count": 30,
   "id": "c9c2b3fe",
   "metadata": {},
   "outputs": [
    {
     "data": {
      "text/html": [
       "<div>\n",
       "<style scoped>\n",
       "    .dataframe tbody tr th:only-of-type {\n",
       "        vertical-align: middle;\n",
       "    }\n",
       "\n",
       "    .dataframe tbody tr th {\n",
       "        vertical-align: top;\n",
       "    }\n",
       "\n",
       "    .dataframe thead th {\n",
       "        text-align: right;\n",
       "    }\n",
       "</style>\n",
       "<table border=\"1\" class=\"dataframe\">\n",
       "  <thead>\n",
       "    <tr style=\"text-align: right;\">\n",
       "      <th></th>\n",
       "      <th>product_id</th>\n",
       "      <th>product_name</th>\n",
       "      <th>price</th>\n",
       "    </tr>\n",
       "  </thead>\n",
       "  <tbody>\n",
       "    <tr>\n",
       "      <th>0</th>\n",
       "      <td>1</td>\n",
       "      <td>Product A</td>\n",
       "      <td>10.99</td>\n",
       "    </tr>\n",
       "    <tr>\n",
       "      <th>1</th>\n",
       "      <td>2</td>\n",
       "      <td>Product B</td>\n",
       "      <td>19.99</td>\n",
       "    </tr>\n",
       "    <tr>\n",
       "      <th>2</th>\n",
       "      <td>3</td>\n",
       "      <td>Product C</td>\n",
       "      <td>15.49</td>\n",
       "    </tr>\n",
       "    <tr>\n",
       "      <th>3</th>\n",
       "      <td>4</td>\n",
       "      <td>Product D</td>\n",
       "      <td>8.75</td>\n",
       "    </tr>\n",
       "  </tbody>\n",
       "</table>\n",
       "</div>"
      ],
      "text/plain": [
       "   product_id product_name  price\n",
       "0           1    Product A  10.99\n",
       "1           2    Product B  19.99\n",
       "2           3    Product C  15.49\n",
       "3           4    Product D   8.75"
      ]
     },
     "metadata": {},
     "output_type": "display_data"
    },
    {
     "data": {
      "text/html": [
       "<div>\n",
       "<style scoped>\n",
       "    .dataframe tbody tr th:only-of-type {\n",
       "        vertical-align: middle;\n",
       "    }\n",
       "\n",
       "    .dataframe tbody tr th {\n",
       "        vertical-align: top;\n",
       "    }\n",
       "\n",
       "    .dataframe thead th {\n",
       "        text-align: right;\n",
       "    }\n",
       "</style>\n",
       "<table border=\"1\" class=\"dataframe\">\n",
       "  <thead>\n",
       "    <tr style=\"text-align: right;\">\n",
       "      <th></th>\n",
       "      <th>order_id</th>\n",
       "      <th>product_id</th>\n",
       "      <th>quantity</th>\n",
       "      <th>order_date</th>\n",
       "      <th>sales</th>\n",
       "    </tr>\n",
       "  </thead>\n",
       "  <tbody>\n",
       "    <tr>\n",
       "      <th>0</th>\n",
       "      <td>1</td>\n",
       "      <td>1</td>\n",
       "      <td>5</td>\n",
       "      <td>2023-01-01</td>\n",
       "      <td>54.95</td>\n",
       "    </tr>\n",
       "    <tr>\n",
       "      <th>1</th>\n",
       "      <td>2</td>\n",
       "      <td>2</td>\n",
       "      <td>3</td>\n",
       "      <td>2023-01-02</td>\n",
       "      <td>59.97</td>\n",
       "    </tr>\n",
       "    <tr>\n",
       "      <th>2</th>\n",
       "      <td>3</td>\n",
       "      <td>1</td>\n",
       "      <td>2</td>\n",
       "      <td>2023-01-03</td>\n",
       "      <td>21.98</td>\n",
       "    </tr>\n",
       "    <tr>\n",
       "      <th>3</th>\n",
       "      <td>4</td>\n",
       "      <td>3</td>\n",
       "      <td>1</td>\n",
       "      <td>2023-01-04</td>\n",
       "      <td>15.49</td>\n",
       "    </tr>\n",
       "  </tbody>\n",
       "</table>\n",
       "</div>"
      ],
      "text/plain": [
       "   order_id  product_id  quantity  order_date  sales\n",
       "0         1           1         5  2023-01-01  54.95\n",
       "1         2           2         3  2023-01-02  59.97\n",
       "2         3           1         2  2023-01-03  21.98\n",
       "3         4           3         1  2023-01-04  15.49"
      ]
     },
     "metadata": {},
     "output_type": "display_data"
    }
   ],
   "source": [
    "cur.execute('''\n",
    "SELECT *\n",
    "FROM products;\n",
    "''')\n",
    "\n",
    "result = cur.fetchall()\n",
    "\n",
    "df = pd.DataFrame(result, columns=[item[0] for item in cur.description])\n",
    "display(df)\n",
    "\n",
    "cur.execute('''\n",
    "SELECT *\n",
    "FROM orders;\n",
    "''')\n",
    "\n",
    "result = cur.fetchall()\n",
    "\n",
    "df = pd.DataFrame(result, columns=[item[0] for item in cur.description])\n",
    "display(df)"
   ]
  },
  {
   "cell_type": "markdown",
   "id": "9dc60f8d",
   "metadata": {},
   "source": [
    "### Identify the products that have never been ordered \n",
    "### Pairwise Comparison"
   ]
  },
  {
   "cell_type": "code",
   "execution_count": 31,
   "id": "0d120ab2",
   "metadata": {},
   "outputs": [
    {
     "data": {
      "text/html": [
       "<div>\n",
       "<style scoped>\n",
       "    .dataframe tbody tr th:only-of-type {\n",
       "        vertical-align: middle;\n",
       "    }\n",
       "\n",
       "    .dataframe tbody tr th {\n",
       "        vertical-align: top;\n",
       "    }\n",
       "\n",
       "    .dataframe thead th {\n",
       "        text-align: right;\n",
       "    }\n",
       "</style>\n",
       "<table border=\"1\" class=\"dataframe\">\n",
       "  <thead>\n",
       "    <tr style=\"text-align: right;\">\n",
       "      <th></th>\n",
       "      <th>product_id</th>\n",
       "      <th>product_name</th>\n",
       "      <th>price</th>\n",
       "    </tr>\n",
       "  </thead>\n",
       "  <tbody>\n",
       "    <tr>\n",
       "      <th>0</th>\n",
       "      <td>4</td>\n",
       "      <td>Product D</td>\n",
       "      <td>8.75</td>\n",
       "    </tr>\n",
       "  </tbody>\n",
       "</table>\n",
       "</div>"
      ],
      "text/plain": [
       "   product_id product_name  price\n",
       "0           4    Product D   8.75"
      ]
     },
     "metadata": {},
     "output_type": "display_data"
    }
   ],
   "source": [
    "cur.execute('''\n",
    "SELECT *\n",
    "FROM products\n",
    "WHERE (product_id, product_name, price) NOT IN (\n",
    "    SELECT p.product_id, p.product_name, p.price\n",
    "    FROM products p\n",
    "    JOIN orders o ON p.product_id = o.product_id\n",
    ");\n",
    "''')\n",
    "\n",
    "result = cur.fetchall()\n",
    "\n",
    "df = pd.DataFrame(result, columns=[item[0] for item in cur.description])\n",
    "display(df)"
   ]
  },
  {
   "cell_type": "markdown",
   "id": "ef32ffe4",
   "metadata": {},
   "source": [
    "### Non-Pairwise Comparison"
   ]
  },
  {
   "cell_type": "code",
   "execution_count": 32,
   "id": "48beaf58",
   "metadata": {},
   "outputs": [
    {
     "data": {
      "text/html": [
       "<div>\n",
       "<style scoped>\n",
       "    .dataframe tbody tr th:only-of-type {\n",
       "        vertical-align: middle;\n",
       "    }\n",
       "\n",
       "    .dataframe tbody tr th {\n",
       "        vertical-align: top;\n",
       "    }\n",
       "\n",
       "    .dataframe thead th {\n",
       "        text-align: right;\n",
       "    }\n",
       "</style>\n",
       "<table border=\"1\" class=\"dataframe\">\n",
       "  <thead>\n",
       "    <tr style=\"text-align: right;\">\n",
       "      <th></th>\n",
       "      <th>product_id</th>\n",
       "      <th>product_name</th>\n",
       "      <th>price</th>\n",
       "    </tr>\n",
       "  </thead>\n",
       "  <tbody>\n",
       "    <tr>\n",
       "      <th>0</th>\n",
       "      <td>4</td>\n",
       "      <td>Product D</td>\n",
       "      <td>8.75</td>\n",
       "    </tr>\n",
       "  </tbody>\n",
       "</table>\n",
       "</div>"
      ],
      "text/plain": [
       "   product_id product_name  price\n",
       "0           4    Product D   8.75"
      ]
     },
     "metadata": {},
     "output_type": "display_data"
    }
   ],
   "source": [
    "cur.execute('''\n",
    "SELECT *\n",
    "FROM products\n",
    "WHERE product_id NOT IN (\n",
    "    SELECT p.product_id\n",
    "    FROM products p\n",
    "    JOIN orders o ON p.product_id = o.product_id\n",
    ")\n",
    "AND product_name NOT IN (\n",
    "    SELECT p.product_name\n",
    "    FROM products p\n",
    "    JOIN orders o ON p.product_id = o.product_id\n",
    ")\n",
    "AND price NOT IN (\n",
    "    SELECT p.price\n",
    "    FROM products p\n",
    "    JOIN orders o ON p.product_id = o.product_id\n",
    ")\n",
    "''')\n",
    "\n",
    "result = cur.fetchall()\n",
    "\n",
    "df = pd.DataFrame(result, columns=[item[0] for item in cur.description])\n",
    "display(df)"
   ]
  },
  {
   "cell_type": "markdown",
   "id": "c5b6022d",
   "metadata": {},
   "source": [
    "# Question 10: In a student records database, find all students who have a GPA greater than the average GPA of students in their department. Write an SQL query based on scalar, inline, pairwise, non-pairwise, multi-row, single row and correlated sub queries type to extract this information.\n",
    "Hint :- You can find all students who have a GPA greater than the average GPA of students in their department using scalar, inline, and correlated sub queries. Here's how you can write SQL queries for each of these sub query types:"
   ]
  },
  {
   "cell_type": "code",
   "execution_count": 33,
   "id": "b60c4b4b",
   "metadata": {},
   "outputs": [],
   "source": [
    "cnn = sqlite3.connect('database6.db')\n",
    "cur = cnn.cursor()"
   ]
  },
  {
   "cell_type": "code",
   "execution_count": 34,
   "id": "f633e29d",
   "metadata": {},
   "outputs": [
    {
     "data": {
      "text/plain": [
       "<sqlite3.Cursor at 0x1f7b1f3bc40>"
      ]
     },
     "execution_count": 34,
     "metadata": {},
     "output_type": "execute_result"
    }
   ],
   "source": [
    "cur.execute('''\n",
    "CREATE TABLE student_records (\n",
    "  student_id INT PRIMARY KEY,\n",
    "  student_name VARCHAR(50),\n",
    "  GPA DECIMAL(3, 2),\n",
    "  department_id INT\n",
    ");\n",
    "''')"
   ]
  },
  {
   "cell_type": "code",
   "execution_count": 35,
   "id": "328ed074",
   "metadata": {},
   "outputs": [
    {
     "data": {
      "text/plain": [
       "<sqlite3.Cursor at 0x1f7b1f3bc40>"
      ]
     },
     "execution_count": 35,
     "metadata": {},
     "output_type": "execute_result"
    }
   ],
   "source": [
    "cur.execute('''\n",
    "INSERT INTO student_records (student_id, student_name, GPA, department_id)\n",
    "VALUES\n",
    "  (1, 'John Doe', 3.5, 101),\n",
    "  (2, 'Jane Smith', 3.8, 102),\n",
    "  (3, 'Bob Johnson', 3.2, 101),\n",
    "  (4, 'Alice Williams', 3.9, 103),\n",
    "  (5, 'Charlie Brown', 3.6, 102),\n",
    "  (6, 'Eva Martinez', 3.1, 101);\n",
    "''')"
   ]
  },
  {
   "cell_type": "code",
   "execution_count": 36,
   "id": "df8146e5",
   "metadata": {},
   "outputs": [
    {
     "data": {
      "text/html": [
       "<div>\n",
       "<style scoped>\n",
       "    .dataframe tbody tr th:only-of-type {\n",
       "        vertical-align: middle;\n",
       "    }\n",
       "\n",
       "    .dataframe tbody tr th {\n",
       "        vertical-align: top;\n",
       "    }\n",
       "\n",
       "    .dataframe thead th {\n",
       "        text-align: right;\n",
       "    }\n",
       "</style>\n",
       "<table border=\"1\" class=\"dataframe\">\n",
       "  <thead>\n",
       "    <tr style=\"text-align: right;\">\n",
       "      <th></th>\n",
       "      <th>student_id</th>\n",
       "      <th>student_name</th>\n",
       "      <th>GPA</th>\n",
       "      <th>department_id</th>\n",
       "    </tr>\n",
       "  </thead>\n",
       "  <tbody>\n",
       "    <tr>\n",
       "      <th>0</th>\n",
       "      <td>1</td>\n",
       "      <td>John Doe</td>\n",
       "      <td>3.5</td>\n",
       "      <td>101</td>\n",
       "    </tr>\n",
       "    <tr>\n",
       "      <th>1</th>\n",
       "      <td>2</td>\n",
       "      <td>Jane Smith</td>\n",
       "      <td>3.8</td>\n",
       "      <td>102</td>\n",
       "    </tr>\n",
       "    <tr>\n",
       "      <th>2</th>\n",
       "      <td>3</td>\n",
       "      <td>Bob Johnson</td>\n",
       "      <td>3.2</td>\n",
       "      <td>101</td>\n",
       "    </tr>\n",
       "    <tr>\n",
       "      <th>3</th>\n",
       "      <td>4</td>\n",
       "      <td>Alice Williams</td>\n",
       "      <td>3.9</td>\n",
       "      <td>103</td>\n",
       "    </tr>\n",
       "    <tr>\n",
       "      <th>4</th>\n",
       "      <td>5</td>\n",
       "      <td>Charlie Brown</td>\n",
       "      <td>3.6</td>\n",
       "      <td>102</td>\n",
       "    </tr>\n",
       "    <tr>\n",
       "      <th>5</th>\n",
       "      <td>6</td>\n",
       "      <td>Eva Martinez</td>\n",
       "      <td>3.1</td>\n",
       "      <td>101</td>\n",
       "    </tr>\n",
       "  </tbody>\n",
       "</table>\n",
       "</div>"
      ],
      "text/plain": [
       "   student_id    student_name  GPA  department_id\n",
       "0           1        John Doe  3.5            101\n",
       "1           2      Jane Smith  3.8            102\n",
       "2           3     Bob Johnson  3.2            101\n",
       "3           4  Alice Williams  3.9            103\n",
       "4           5   Charlie Brown  3.6            102\n",
       "5           6    Eva Martinez  3.1            101"
      ]
     },
     "metadata": {},
     "output_type": "display_data"
    }
   ],
   "source": [
    "cur.execute('''\n",
    "SELECT *\n",
    "FROM student_records;\n",
    "''')\n",
    "\n",
    "result = cur.fetchall()\n",
    "\n",
    "df = pd.DataFrame(result, columns=[item[0] for item in cur.description])\n",
    "display(df)\n"
   ]
  },
  {
   "cell_type": "markdown",
   "id": "a3745b55",
   "metadata": {},
   "source": [
    "### Find all students who have a GPA greater than the average GPA of all the students."
   ]
  },
  {
   "cell_type": "code",
   "execution_count": 37,
   "id": "712be2e1",
   "metadata": {},
   "outputs": [
    {
     "data": {
      "text/html": [
       "<div>\n",
       "<style scoped>\n",
       "    .dataframe tbody tr th:only-of-type {\n",
       "        vertical-align: middle;\n",
       "    }\n",
       "\n",
       "    .dataframe tbody tr th {\n",
       "        vertical-align: top;\n",
       "    }\n",
       "\n",
       "    .dataframe thead th {\n",
       "        text-align: right;\n",
       "    }\n",
       "</style>\n",
       "<table border=\"1\" class=\"dataframe\">\n",
       "  <thead>\n",
       "    <tr style=\"text-align: right;\">\n",
       "      <th></th>\n",
       "      <th>student_id</th>\n",
       "      <th>student_name</th>\n",
       "      <th>GPA</th>\n",
       "      <th>department_id</th>\n",
       "    </tr>\n",
       "  </thead>\n",
       "  <tbody>\n",
       "    <tr>\n",
       "      <th>0</th>\n",
       "      <td>2</td>\n",
       "      <td>Jane Smith</td>\n",
       "      <td>3.8</td>\n",
       "      <td>102</td>\n",
       "    </tr>\n",
       "    <tr>\n",
       "      <th>1</th>\n",
       "      <td>4</td>\n",
       "      <td>Alice Williams</td>\n",
       "      <td>3.9</td>\n",
       "      <td>103</td>\n",
       "    </tr>\n",
       "    <tr>\n",
       "      <th>2</th>\n",
       "      <td>5</td>\n",
       "      <td>Charlie Brown</td>\n",
       "      <td>3.6</td>\n",
       "      <td>102</td>\n",
       "    </tr>\n",
       "  </tbody>\n",
       "</table>\n",
       "</div>"
      ],
      "text/plain": [
       "   student_id    student_name  GPA  department_id\n",
       "0           2      Jane Smith  3.8            102\n",
       "1           4  Alice Williams  3.9            103\n",
       "2           5   Charlie Brown  3.6            102"
      ]
     },
     "metadata": {},
     "output_type": "display_data"
    }
   ],
   "source": [
    "# Scalar Sub-Query\n",
    "cur.execute('''\n",
    "SELECT * \n",
    "FROM student_records\n",
    "WHERE GPA > (\n",
    "    SELECT AVG(GPA)\n",
    "    FROM student_records\n",
    ");\n",
    "''')\n",
    "\n",
    "result = cur.fetchall()\n",
    "\n",
    "df = pd.DataFrame(result, columns=[item[0] for item in cur.description])\n",
    "display(df)"
   ]
  },
  {
   "cell_type": "markdown",
   "id": "6184ee89",
   "metadata": {},
   "source": [
    "### Find all students who have a GPA greater than the average GPA of students in their department."
   ]
  },
  {
   "cell_type": "code",
   "execution_count": 38,
   "id": "d885b849",
   "metadata": {},
   "outputs": [
    {
     "data": {
      "text/html": [
       "<div>\n",
       "<style scoped>\n",
       "    .dataframe tbody tr th:only-of-type {\n",
       "        vertical-align: middle;\n",
       "    }\n",
       "\n",
       "    .dataframe tbody tr th {\n",
       "        vertical-align: top;\n",
       "    }\n",
       "\n",
       "    .dataframe thead th {\n",
       "        text-align: right;\n",
       "    }\n",
       "</style>\n",
       "<table border=\"1\" class=\"dataframe\">\n",
       "  <thead>\n",
       "    <tr style=\"text-align: right;\">\n",
       "      <th></th>\n",
       "      <th>student_id</th>\n",
       "      <th>student_name</th>\n",
       "      <th>GPA</th>\n",
       "      <th>department_id</th>\n",
       "      <th>department_avg</th>\n",
       "    </tr>\n",
       "  </thead>\n",
       "  <tbody>\n",
       "    <tr>\n",
       "      <th>0</th>\n",
       "      <td>1</td>\n",
       "      <td>John Doe</td>\n",
       "      <td>3.5</td>\n",
       "      <td>101</td>\n",
       "      <td>3.266667</td>\n",
       "    </tr>\n",
       "    <tr>\n",
       "      <th>1</th>\n",
       "      <td>2</td>\n",
       "      <td>Jane Smith</td>\n",
       "      <td>3.8</td>\n",
       "      <td>102</td>\n",
       "      <td>3.700000</td>\n",
       "    </tr>\n",
       "  </tbody>\n",
       "</table>\n",
       "</div>"
      ],
      "text/plain": [
       "   student_id student_name  GPA  department_id  department_avg\n",
       "0           1     John Doe  3.5            101        3.266667\n",
       "1           2   Jane Smith  3.8            102        3.700000"
      ]
     },
     "metadata": {},
     "output_type": "display_data"
    }
   ],
   "source": [
    "# Inline Sub-Query\n",
    "cur.execute('''\n",
    "SELECT sr.student_id, sr.student_name, sr.GPA, sr.department_id, avg_table.department_avg\n",
    "FROM student_records sr\n",
    "JOIN (\n",
    "    SELECT department_id, AVG(GPA) AS department_avg\n",
    "    FROM student_records\n",
    "    GROUP BY department_id\n",
    ") avg_table ON sr.department_id = avg_table.department_id\n",
    "WHERE sr.GPA > avg_table.department_avg\n",
    "''')\n",
    "\n",
    "result = cur.fetchall()\n",
    "\n",
    "df = pd.DataFrame(result, columns=[item[0] for item in cur.description])\n",
    "display(df)"
   ]
  },
  {
   "cell_type": "code",
   "execution_count": 39,
   "id": "a8521b73",
   "metadata": {},
   "outputs": [
    {
     "data": {
      "text/html": [
       "<div>\n",
       "<style scoped>\n",
       "    .dataframe tbody tr th:only-of-type {\n",
       "        vertical-align: middle;\n",
       "    }\n",
       "\n",
       "    .dataframe tbody tr th {\n",
       "        vertical-align: top;\n",
       "    }\n",
       "\n",
       "    .dataframe thead th {\n",
       "        text-align: right;\n",
       "    }\n",
       "</style>\n",
       "<table border=\"1\" class=\"dataframe\">\n",
       "  <thead>\n",
       "    <tr style=\"text-align: right;\">\n",
       "      <th></th>\n",
       "      <th>student_id</th>\n",
       "      <th>student_name</th>\n",
       "      <th>GPA</th>\n",
       "      <th>department_id</th>\n",
       "    </tr>\n",
       "  </thead>\n",
       "  <tbody>\n",
       "    <tr>\n",
       "      <th>0</th>\n",
       "      <td>1</td>\n",
       "      <td>John Doe</td>\n",
       "      <td>3.5</td>\n",
       "      <td>101</td>\n",
       "    </tr>\n",
       "    <tr>\n",
       "      <th>1</th>\n",
       "      <td>2</td>\n",
       "      <td>Jane Smith</td>\n",
       "      <td>3.8</td>\n",
       "      <td>102</td>\n",
       "    </tr>\n",
       "  </tbody>\n",
       "</table>\n",
       "</div>"
      ],
      "text/plain": [
       "   student_id student_name  GPA  department_id\n",
       "0           1     John Doe  3.5            101\n",
       "1           2   Jane Smith  3.8            102"
      ]
     },
     "metadata": {},
     "output_type": "display_data"
    },
    {
     "data": {
      "text/html": [
       "<div>\n",
       "<style scoped>\n",
       "    .dataframe tbody tr th:only-of-type {\n",
       "        vertical-align: middle;\n",
       "    }\n",
       "\n",
       "    .dataframe tbody tr th {\n",
       "        vertical-align: top;\n",
       "    }\n",
       "\n",
       "    .dataframe thead th {\n",
       "        text-align: right;\n",
       "    }\n",
       "</style>\n",
       "<table border=\"1\" class=\"dataframe\">\n",
       "  <thead>\n",
       "    <tr style=\"text-align: right;\">\n",
       "      <th></th>\n",
       "      <th>student_id</th>\n",
       "      <th>student_name</th>\n",
       "      <th>GPA</th>\n",
       "      <th>department_id</th>\n",
       "      <th>department_avg</th>\n",
       "    </tr>\n",
       "  </thead>\n",
       "  <tbody>\n",
       "    <tr>\n",
       "      <th>0</th>\n",
       "      <td>1</td>\n",
       "      <td>John Doe</td>\n",
       "      <td>3.5</td>\n",
       "      <td>101</td>\n",
       "      <td>3.266667</td>\n",
       "    </tr>\n",
       "    <tr>\n",
       "      <th>1</th>\n",
       "      <td>2</td>\n",
       "      <td>Jane Smith</td>\n",
       "      <td>3.8</td>\n",
       "      <td>102</td>\n",
       "      <td>3.700000</td>\n",
       "    </tr>\n",
       "  </tbody>\n",
       "</table>\n",
       "</div>"
      ],
      "text/plain": [
       "   student_id student_name  GPA  department_id  department_avg\n",
       "0           1     John Doe  3.5            101        3.266667\n",
       "1           2   Jane Smith  3.8            102        3.700000"
      ]
     },
     "metadata": {},
     "output_type": "display_data"
    }
   ],
   "source": [
    "# Corelated Sub-Query\n",
    "cur.execute('''\n",
    "SELECT *\n",
    "FROM student_records s1\n",
    "WHERE GPA > (\n",
    "    SELECT AVG(GPA) \n",
    "    FROM student_records s2\n",
    "    WHERE s2.department_id = s1.department_id\n",
    ")\n",
    "''')\n",
    "\n",
    "result = cur.fetchall()\n",
    "\n",
    "df = pd.DataFrame(result, columns=[item[0] for item in cur.description])\n",
    "display(df)\n",
    "\n",
    "# To display department average\n",
    "cur.execute('''\n",
    "SELECT s1.*, (\n",
    "    SELECT AVG(GPA) \n",
    "    FROM student_records s2\n",
    "    WHERE s2.department_id = s1.department_id\n",
    ") AS department_avg\n",
    "FROM student_records s1\n",
    "WHERE GPA > (\n",
    "    SELECT AVG(GPA) \n",
    "    FROM student_records s2\n",
    "    WHERE s2.department_id = s1.department_id\n",
    ")\n",
    "''')\n",
    "\n",
    "result = cur.fetchall()\n",
    "\n",
    "df = pd.DataFrame(result, columns=[item[0] for item in cur.description])\n",
    "display(df)"
   ]
  },
  {
   "cell_type": "markdown",
   "id": "f1005c60",
   "metadata": {},
   "source": [
    "# Question 11:In a company database, you want to find all employees who have the same job title as the employee with EmployeeID 101. Write an SQL query based on pair wise , non-pairwise, inline, corelated,multi-row,scalar & single row to accomplish this.\n",
    "Hint: To find all employees who have the same job title as the employee with EmployeeID 101, you can use various SQL query techniques. Here are SQL queries based on pairwise, non-pairwise, inline, correlated, multi-row, and scalar subqueries:\n"
   ]
  },
  {
   "cell_type": "code",
   "execution_count": 40,
   "id": "52c69c13",
   "metadata": {},
   "outputs": [],
   "source": [
    "cnn = sqlite3.connect('database7.db')\n",
    "cur = cnn.cursor()"
   ]
  },
  {
   "cell_type": "code",
   "execution_count": 41,
   "id": "4366aa13",
   "metadata": {},
   "outputs": [
    {
     "data": {
      "text/plain": [
       "<sqlite3.Cursor at 0x1f7b1f3bbc0>"
      ]
     },
     "execution_count": 41,
     "metadata": {},
     "output_type": "execute_result"
    }
   ],
   "source": [
    "cur.execute('''\n",
    "CREATE TABLE employees (\n",
    "    EmployeeID INT PRIMARY KEY,\n",
    "    FirstName VARCHAR(50),\n",
    "    LastName VARCHAR(50),\n",
    "    JobTitle VARCHAR(50)\n",
    ");\n",
    "''')"
   ]
  },
  {
   "cell_type": "code",
   "execution_count": 42,
   "id": "4a6ebf99",
   "metadata": {},
   "outputs": [
    {
     "data": {
      "text/plain": [
       "<sqlite3.Cursor at 0x1f7b1f3bbc0>"
      ]
     },
     "execution_count": 42,
     "metadata": {},
     "output_type": "execute_result"
    }
   ],
   "source": [
    "cur.execute('''\n",
    "INSERT INTO employees (EmployeeID, FirstName, LastName, JobTitle) VALUES\n",
    "(101, 'John', 'Doe', 'Manager'),\n",
    "(102, 'Jane', 'Smith', 'Developer'),\n",
    "(103, 'Bob', 'Johnson', 'Manager'),\n",
    "(104, 'Alice', 'Williams', 'Analyst'),\n",
    "(105, 'Charlie', 'Brown', 'Developer');\n",
    "''')"
   ]
  },
  {
   "cell_type": "code",
   "execution_count": 43,
   "id": "eca86132",
   "metadata": {},
   "outputs": [
    {
     "data": {
      "text/html": [
       "<div>\n",
       "<style scoped>\n",
       "    .dataframe tbody tr th:only-of-type {\n",
       "        vertical-align: middle;\n",
       "    }\n",
       "\n",
       "    .dataframe tbody tr th {\n",
       "        vertical-align: top;\n",
       "    }\n",
       "\n",
       "    .dataframe thead th {\n",
       "        text-align: right;\n",
       "    }\n",
       "</style>\n",
       "<table border=\"1\" class=\"dataframe\">\n",
       "  <thead>\n",
       "    <tr style=\"text-align: right;\">\n",
       "      <th></th>\n",
       "      <th>EmployeeID</th>\n",
       "      <th>FirstName</th>\n",
       "      <th>LastName</th>\n",
       "      <th>JobTitle</th>\n",
       "    </tr>\n",
       "  </thead>\n",
       "  <tbody>\n",
       "    <tr>\n",
       "      <th>0</th>\n",
       "      <td>101</td>\n",
       "      <td>John</td>\n",
       "      <td>Doe</td>\n",
       "      <td>Manager</td>\n",
       "    </tr>\n",
       "    <tr>\n",
       "      <th>1</th>\n",
       "      <td>102</td>\n",
       "      <td>Jane</td>\n",
       "      <td>Smith</td>\n",
       "      <td>Developer</td>\n",
       "    </tr>\n",
       "    <tr>\n",
       "      <th>2</th>\n",
       "      <td>103</td>\n",
       "      <td>Bob</td>\n",
       "      <td>Johnson</td>\n",
       "      <td>Manager</td>\n",
       "    </tr>\n",
       "    <tr>\n",
       "      <th>3</th>\n",
       "      <td>104</td>\n",
       "      <td>Alice</td>\n",
       "      <td>Williams</td>\n",
       "      <td>Analyst</td>\n",
       "    </tr>\n",
       "    <tr>\n",
       "      <th>4</th>\n",
       "      <td>105</td>\n",
       "      <td>Charlie</td>\n",
       "      <td>Brown</td>\n",
       "      <td>Developer</td>\n",
       "    </tr>\n",
       "  </tbody>\n",
       "</table>\n",
       "</div>"
      ],
      "text/plain": [
       "   EmployeeID FirstName  LastName   JobTitle\n",
       "0         101      John       Doe    Manager\n",
       "1         102      Jane     Smith  Developer\n",
       "2         103       Bob   Johnson    Manager\n",
       "3         104     Alice  Williams    Analyst\n",
       "4         105   Charlie     Brown  Developer"
      ]
     },
     "metadata": {},
     "output_type": "display_data"
    }
   ],
   "source": [
    "cur.execute('''\n",
    "SELECT *\n",
    "FROM employees;\n",
    "''')\n",
    "\n",
    "result = cur.fetchall()\n",
    "\n",
    "df = pd.DataFrame(result, columns=[item[0] for item in cur.description])\n",
    "display(df)"
   ]
  },
  {
   "cell_type": "markdown",
   "id": "efa9c37a",
   "metadata": {},
   "source": [
    "### Find all employees who have the same job title as the employee with EmployeeID 101."
   ]
  },
  {
   "cell_type": "code",
   "execution_count": 44,
   "id": "08f7948a",
   "metadata": {},
   "outputs": [
    {
     "data": {
      "text/html": [
       "<div>\n",
       "<style scoped>\n",
       "    .dataframe tbody tr th:only-of-type {\n",
       "        vertical-align: middle;\n",
       "    }\n",
       "\n",
       "    .dataframe tbody tr th {\n",
       "        vertical-align: top;\n",
       "    }\n",
       "\n",
       "    .dataframe thead th {\n",
       "        text-align: right;\n",
       "    }\n",
       "</style>\n",
       "<table border=\"1\" class=\"dataframe\">\n",
       "  <thead>\n",
       "    <tr style=\"text-align: right;\">\n",
       "      <th></th>\n",
       "      <th>EmployeeID</th>\n",
       "      <th>FirstName</th>\n",
       "      <th>LastName</th>\n",
       "      <th>JobTitle</th>\n",
       "    </tr>\n",
       "  </thead>\n",
       "  <tbody>\n",
       "    <tr>\n",
       "      <th>0</th>\n",
       "      <td>101</td>\n",
       "      <td>John</td>\n",
       "      <td>Doe</td>\n",
       "      <td>Manager</td>\n",
       "    </tr>\n",
       "    <tr>\n",
       "      <th>1</th>\n",
       "      <td>103</td>\n",
       "      <td>Bob</td>\n",
       "      <td>Johnson</td>\n",
       "      <td>Manager</td>\n",
       "    </tr>\n",
       "  </tbody>\n",
       "</table>\n",
       "</div>"
      ],
      "text/plain": [
       "   EmployeeID FirstName LastName JobTitle\n",
       "0         101      John      Doe  Manager\n",
       "1         103       Bob  Johnson  Manager"
      ]
     },
     "metadata": {},
     "output_type": "display_data"
    }
   ],
   "source": [
    "# Scalar Sub-Query\n",
    "cur.execute('''\n",
    "SELECT *\n",
    "FROM employees\n",
    "WHERE JobTitle = (\n",
    "    SELECT JobTitle \n",
    "    FROM employees \n",
    "    WHERE EmployeeID = 101\n",
    ")\n",
    "''')\n",
    "\n",
    "result = cur.fetchall()\n",
    "\n",
    "df = pd.DataFrame(result, columns=[item[0] for item in cur.description])\n",
    "display(df)"
   ]
  },
  {
   "cell_type": "code",
   "execution_count": 45,
   "id": "a62ad7df",
   "metadata": {},
   "outputs": [
    {
     "data": {
      "text/html": [
       "<div>\n",
       "<style scoped>\n",
       "    .dataframe tbody tr th:only-of-type {\n",
       "        vertical-align: middle;\n",
       "    }\n",
       "\n",
       "    .dataframe tbody tr th {\n",
       "        vertical-align: top;\n",
       "    }\n",
       "\n",
       "    .dataframe thead th {\n",
       "        text-align: right;\n",
       "    }\n",
       "</style>\n",
       "<table border=\"1\" class=\"dataframe\">\n",
       "  <thead>\n",
       "    <tr style=\"text-align: right;\">\n",
       "      <th></th>\n",
       "      <th>EmployeeID</th>\n",
       "      <th>FirstName</th>\n",
       "      <th>LastName</th>\n",
       "      <th>JobTitle</th>\n",
       "    </tr>\n",
       "  </thead>\n",
       "  <tbody>\n",
       "    <tr>\n",
       "      <th>0</th>\n",
       "      <td>101</td>\n",
       "      <td>John</td>\n",
       "      <td>Doe</td>\n",
       "      <td>Manager</td>\n",
       "    </tr>\n",
       "    <tr>\n",
       "      <th>1</th>\n",
       "      <td>103</td>\n",
       "      <td>Bob</td>\n",
       "      <td>Johnson</td>\n",
       "      <td>Manager</td>\n",
       "    </tr>\n",
       "  </tbody>\n",
       "</table>\n",
       "</div>"
      ],
      "text/plain": [
       "   EmployeeID FirstName LastName JobTitle\n",
       "0         101      John      Doe  Manager\n",
       "1         103       Bob  Johnson  Manager"
      ]
     },
     "metadata": {},
     "output_type": "display_data"
    }
   ],
   "source": [
    "# Multiple Row Sub-Query\n",
    "cur.execute('''\n",
    "SELECT *\n",
    "FROM employees\n",
    "WHERE JobTitle IN (\n",
    "    SELECT JobTitle \n",
    "    FROM employees \n",
    "    WHERE EmployeeID = 101\n",
    ")\n",
    "''')\n",
    "\n",
    "result = cur.fetchall()\n",
    "\n",
    "df = pd.DataFrame(result, columns=[item[0] for item in cur.description])\n",
    "display(df)"
   ]
  },
  {
   "cell_type": "markdown",
   "id": "6b24e4b2",
   "metadata": {},
   "source": [
    "# Question 12: In a sales database, you need to find the total sales amount for each product category and list only those categories where the total sales amount is greater than the average total sales amount for all categories. Write an SQL query for this by using single row, multi-row, scalar, inline, correlated, pairwise and non-pairwise.\n",
    "\n",
    "Hint: To find the total sales amount for each product category and list only those categories where the total sales amount is greater than the average total sales amount for all categories, you can use different SQL query techniques. Here are SQL queries based on single row, multi-row, scalar, inline, correlated, pairwise, and non-pairwise subqueries:\n"
   ]
  },
  {
   "cell_type": "code",
   "execution_count": 46,
   "id": "3f8bd8c7",
   "metadata": {},
   "outputs": [],
   "source": [
    "cnn = sqlite3.connect('database8.db')\n",
    "cur = cnn.cursor()"
   ]
  },
  {
   "cell_type": "code",
   "execution_count": 47,
   "id": "99c96a83",
   "metadata": {},
   "outputs": [
    {
     "data": {
      "text/plain": [
       "<sqlite3.Cursor at 0x1f7b2018540>"
      ]
     },
     "execution_count": 47,
     "metadata": {},
     "output_type": "execute_result"
    }
   ],
   "source": [
    "cur.execute('''\n",
    "CREATE TABLE Sales (\n",
    "    SaleID INT PRIMARY KEY,\n",
    "    ProductID INT,\n",
    "    Category VARCHAR(50),\n",
    "    SalesAmount DECIMAL(10, 2),\n",
    "    SaleDate DATE\n",
    ");\n",
    "''')"
   ]
  },
  {
   "cell_type": "code",
   "execution_count": 48,
   "id": "f455249b",
   "metadata": {},
   "outputs": [
    {
     "data": {
      "text/plain": [
       "<sqlite3.Cursor at 0x1f7b2018540>"
      ]
     },
     "execution_count": 48,
     "metadata": {},
     "output_type": "execute_result"
    }
   ],
   "source": [
    "cur.execute('''\n",
    "INSERT INTO Sales (SaleID, ProductID, Category, SalesAmount, SaleDate) VALUES\n",
    "(1, 101, 'Electronics', 1500.50, '2023-01-01'),\n",
    "(2, 102, 'Clothing', 500.75, '2023-01-02'),\n",
    "(3, 103, 'Electronics', 1200.25, '2023-01-03'),\n",
    "(4, 104, 'Clothing', 800.00, '2023-01-04'),\n",
    "(5, 105, 'Electronics', 2000.80, '2023-01-05'),\n",
    "(6, 106, 'Clothing', 300.50, '2023-01-06'),\n",
    "(7, 107, 'Electronics', 1800.30, '2023-01-07'),\n",
    "(8, 108, 'Clothing', 700.90, '2023-01-08'),\n",
    "(9, 109, 'Electronics', 1600.60, '2023-01-09'),\n",
    "(10, 110, 'Clothing', 400.25, '2023-01-10');\n",
    "''')"
   ]
  },
  {
   "cell_type": "code",
   "execution_count": 49,
   "id": "9fc43737",
   "metadata": {},
   "outputs": [
    {
     "data": {
      "text/html": [
       "<div>\n",
       "<style scoped>\n",
       "    .dataframe tbody tr th:only-of-type {\n",
       "        vertical-align: middle;\n",
       "    }\n",
       "\n",
       "    .dataframe tbody tr th {\n",
       "        vertical-align: top;\n",
       "    }\n",
       "\n",
       "    .dataframe thead th {\n",
       "        text-align: right;\n",
       "    }\n",
       "</style>\n",
       "<table border=\"1\" class=\"dataframe\">\n",
       "  <thead>\n",
       "    <tr style=\"text-align: right;\">\n",
       "      <th></th>\n",
       "      <th>SaleID</th>\n",
       "      <th>ProductID</th>\n",
       "      <th>Category</th>\n",
       "      <th>SalesAmount</th>\n",
       "      <th>SaleDate</th>\n",
       "    </tr>\n",
       "  </thead>\n",
       "  <tbody>\n",
       "    <tr>\n",
       "      <th>0</th>\n",
       "      <td>1</td>\n",
       "      <td>101</td>\n",
       "      <td>Electronics</td>\n",
       "      <td>1500.50</td>\n",
       "      <td>2023-01-01</td>\n",
       "    </tr>\n",
       "    <tr>\n",
       "      <th>1</th>\n",
       "      <td>2</td>\n",
       "      <td>102</td>\n",
       "      <td>Clothing</td>\n",
       "      <td>500.75</td>\n",
       "      <td>2023-01-02</td>\n",
       "    </tr>\n",
       "    <tr>\n",
       "      <th>2</th>\n",
       "      <td>3</td>\n",
       "      <td>103</td>\n",
       "      <td>Electronics</td>\n",
       "      <td>1200.25</td>\n",
       "      <td>2023-01-03</td>\n",
       "    </tr>\n",
       "    <tr>\n",
       "      <th>3</th>\n",
       "      <td>4</td>\n",
       "      <td>104</td>\n",
       "      <td>Clothing</td>\n",
       "      <td>800.00</td>\n",
       "      <td>2023-01-04</td>\n",
       "    </tr>\n",
       "    <tr>\n",
       "      <th>4</th>\n",
       "      <td>5</td>\n",
       "      <td>105</td>\n",
       "      <td>Electronics</td>\n",
       "      <td>2000.80</td>\n",
       "      <td>2023-01-05</td>\n",
       "    </tr>\n",
       "    <tr>\n",
       "      <th>5</th>\n",
       "      <td>6</td>\n",
       "      <td>106</td>\n",
       "      <td>Clothing</td>\n",
       "      <td>300.50</td>\n",
       "      <td>2023-01-06</td>\n",
       "    </tr>\n",
       "    <tr>\n",
       "      <th>6</th>\n",
       "      <td>7</td>\n",
       "      <td>107</td>\n",
       "      <td>Electronics</td>\n",
       "      <td>1800.30</td>\n",
       "      <td>2023-01-07</td>\n",
       "    </tr>\n",
       "    <tr>\n",
       "      <th>7</th>\n",
       "      <td>8</td>\n",
       "      <td>108</td>\n",
       "      <td>Clothing</td>\n",
       "      <td>700.90</td>\n",
       "      <td>2023-01-08</td>\n",
       "    </tr>\n",
       "    <tr>\n",
       "      <th>8</th>\n",
       "      <td>9</td>\n",
       "      <td>109</td>\n",
       "      <td>Electronics</td>\n",
       "      <td>1600.60</td>\n",
       "      <td>2023-01-09</td>\n",
       "    </tr>\n",
       "    <tr>\n",
       "      <th>9</th>\n",
       "      <td>10</td>\n",
       "      <td>110</td>\n",
       "      <td>Clothing</td>\n",
       "      <td>400.25</td>\n",
       "      <td>2023-01-10</td>\n",
       "    </tr>\n",
       "  </tbody>\n",
       "</table>\n",
       "</div>"
      ],
      "text/plain": [
       "   SaleID  ProductID     Category  SalesAmount    SaleDate\n",
       "0       1        101  Electronics      1500.50  2023-01-01\n",
       "1       2        102     Clothing       500.75  2023-01-02\n",
       "2       3        103  Electronics      1200.25  2023-01-03\n",
       "3       4        104     Clothing       800.00  2023-01-04\n",
       "4       5        105  Electronics      2000.80  2023-01-05\n",
       "5       6        106     Clothing       300.50  2023-01-06\n",
       "6       7        107  Electronics      1800.30  2023-01-07\n",
       "7       8        108     Clothing       700.90  2023-01-08\n",
       "8       9        109  Electronics      1600.60  2023-01-09\n",
       "9      10        110     Clothing       400.25  2023-01-10"
      ]
     },
     "metadata": {},
     "output_type": "display_data"
    }
   ],
   "source": [
    "cur.execute('''\n",
    "SELECT *\n",
    "FROM Sales;\n",
    "''')\n",
    "\n",
    "result = cur.fetchall()\n",
    "\n",
    "df = pd.DataFrame(result, columns=[item[0] for item in cur.description])\n",
    "display(df)"
   ]
  },
  {
   "cell_type": "markdown",
   "id": "3ff8be43",
   "metadata": {},
   "source": [
    "### Find the total sales amount for each product category and list only those categories where the total sales amount is greater than the average total sales amount for all categories."
   ]
  },
  {
   "cell_type": "code",
   "execution_count": 50,
   "id": "04039313",
   "metadata": {},
   "outputs": [
    {
     "data": {
      "text/html": [
       "<div>\n",
       "<style scoped>\n",
       "    .dataframe tbody tr th:only-of-type {\n",
       "        vertical-align: middle;\n",
       "    }\n",
       "\n",
       "    .dataframe tbody tr th {\n",
       "        vertical-align: top;\n",
       "    }\n",
       "\n",
       "    .dataframe thead th {\n",
       "        text-align: right;\n",
       "    }\n",
       "</style>\n",
       "<table border=\"1\" class=\"dataframe\">\n",
       "  <thead>\n",
       "    <tr style=\"text-align: right;\">\n",
       "      <th></th>\n",
       "      <th>Category</th>\n",
       "      <th>TotalSales</th>\n",
       "    </tr>\n",
       "  </thead>\n",
       "  <tbody>\n",
       "    <tr>\n",
       "      <th>0</th>\n",
       "      <td>Clothing</td>\n",
       "      <td>2702.40</td>\n",
       "    </tr>\n",
       "    <tr>\n",
       "      <th>1</th>\n",
       "      <td>Electronics</td>\n",
       "      <td>8102.45</td>\n",
       "    </tr>\n",
       "  </tbody>\n",
       "</table>\n",
       "</div>"
      ],
      "text/plain": [
       "      Category  TotalSales\n",
       "0     Clothing     2702.40\n",
       "1  Electronics     8102.45"
      ]
     },
     "metadata": {},
     "output_type": "display_data"
    }
   ],
   "source": [
    "# Inline View Sub-Query\n",
    "cur.execute('''\n",
    "SELECT *\n",
    "FROM (\n",
    "    SELECT Category, SUM(SalesAmount) AS TotalSales\n",
    "    FROM Sales\n",
    "    GROUP BY Category\n",
    ") AS CategoryTotalSales\n",
    "WHERE TotalSales > (SELECT AVG(SalesAmount) FROM Sales)\n",
    "''')\n",
    "\n",
    "result = cur.fetchall()\n",
    "\n",
    "df = pd.DataFrame(result, columns=[item[0] for item in cur.description])\n",
    "display(df)"
   ]
  },
  {
   "cell_type": "code",
   "execution_count": 51,
   "id": "6b947972",
   "metadata": {},
   "outputs": [
    {
     "data": {
      "text/html": [
       "<div>\n",
       "<style scoped>\n",
       "    .dataframe tbody tr th:only-of-type {\n",
       "        vertical-align: middle;\n",
       "    }\n",
       "\n",
       "    .dataframe tbody tr th {\n",
       "        vertical-align: top;\n",
       "    }\n",
       "\n",
       "    .dataframe thead th {\n",
       "        text-align: right;\n",
       "    }\n",
       "</style>\n",
       "<table border=\"1\" class=\"dataframe\">\n",
       "  <thead>\n",
       "    <tr style=\"text-align: right;\">\n",
       "      <th></th>\n",
       "      <th>Category</th>\n",
       "      <th>TotalSales</th>\n",
       "    </tr>\n",
       "  </thead>\n",
       "  <tbody>\n",
       "    <tr>\n",
       "      <th>0</th>\n",
       "      <td>Clothing</td>\n",
       "      <td>2702.40</td>\n",
       "    </tr>\n",
       "    <tr>\n",
       "      <th>1</th>\n",
       "      <td>Electronics</td>\n",
       "      <td>8102.45</td>\n",
       "    </tr>\n",
       "  </tbody>\n",
       "</table>\n",
       "</div>"
      ],
      "text/plain": [
       "      Category  TotalSales\n",
       "0     Clothing     2702.40\n",
       "1  Electronics     8102.45"
      ]
     },
     "metadata": {},
     "output_type": "display_data"
    }
   ],
   "source": [
    "# Multiple Row Sub-Query\n",
    "cur.execute('''\n",
    "SELECT Category, SUM(SalesAmount) AS TotalSales\n",
    "FROM Sales\n",
    "WHERE Category IN (\n",
    "    SELECT DISTINCT Category\n",
    "    FROM Sales\n",
    "    WHERE (\n",
    "        SELECT SUM(SalesAmount)\n",
    "        FROM Sales\n",
    "        GROUP BY Category\n",
    "        HAVING SUM(SalesAmount) > (\n",
    "            SELECT AVG(TotalSales)\n",
    "            FROM (\n",
    "                SELECT SUM(SalesAmount) AS TotalSales\n",
    "                FROM Sales\n",
    "                GROUP BY Category\n",
    "            ) AS CategorySales\n",
    "        )\n",
    "    )\n",
    ")\n",
    "GROUP BY Category;\n",
    "''')\n",
    "result = cur.fetchall()\n",
    "df = pd.DataFrame(result, columns=[item[0] for item in cur.description])\n",
    "display(df)"
   ]
  },
  {
   "cell_type": "markdown",
   "id": "327c2421",
   "metadata": {},
   "source": [
    "# Question 13: You have a library database and want to find all books that are currently checked out. Write an SQL query pairwise, non-pairwise, inline, correlated, multi-row, and scalar subqueries to retrieve the book titles.\n",
    "Hint: To find all books that are currently checked out in a library database, you can use different SQL query techniques, including pairwise, non-pairwise, inline, correlated, multi-row, and scalar subqueries. Here are SQL queries for each of these subquery types:"
   ]
  },
  {
   "cell_type": "code",
   "execution_count": 52,
   "id": "a17306f9",
   "metadata": {},
   "outputs": [],
   "source": [
    "cnn = sqlite3.connect('database9.db')\n",
    "cur = cnn.cursor()"
   ]
  },
  {
   "cell_type": "code",
   "execution_count": 53,
   "id": "17a12f03",
   "metadata": {},
   "outputs": [
    {
     "data": {
      "text/plain": [
       "<sqlite3.Cursor at 0x1f7b2018bc0>"
      ]
     },
     "execution_count": 53,
     "metadata": {},
     "output_type": "execute_result"
    }
   ],
   "source": [
    "cur.execute('''\n",
    "CREATE TABLE Books (\n",
    "    BookID INT PRIMARY KEY,\n",
    "    Title VARCHAR(255) NOT NULL,\n",
    "    Author VARCHAR(255),\n",
    "    ISBN VARCHAR(20)\n",
    ");\n",
    "''')"
   ]
  },
  {
   "cell_type": "code",
   "execution_count": 54,
   "id": "48195ada",
   "metadata": {},
   "outputs": [
    {
     "data": {
      "text/plain": [
       "<sqlite3.Cursor at 0x1f7b2018bc0>"
      ]
     },
     "execution_count": 54,
     "metadata": {},
     "output_type": "execute_result"
    }
   ],
   "source": [
    "cur.execute('''\n",
    "CREATE TABLE Checkouts (\n",
    "    CheckoutID INT PRIMARY KEY,\n",
    "    BookID INT,\n",
    "    CheckoutDate DATE,\n",
    "    ReturnDate DATE,\n",
    "    FOREIGN KEY (BookID) REFERENCES Books(BookID)\n",
    ");\n",
    "''')"
   ]
  },
  {
   "cell_type": "code",
   "execution_count": 55,
   "id": "8b17ec21",
   "metadata": {},
   "outputs": [
    {
     "data": {
      "text/plain": [
       "<sqlite3.Cursor at 0x1f7b2018bc0>"
      ]
     },
     "execution_count": 55,
     "metadata": {},
     "output_type": "execute_result"
    }
   ],
   "source": [
    "cur.execute('''\n",
    "INSERT INTO Books (BookID, Title, Author, ISBN)\n",
    "VALUES\n",
    "    (1, 'The Great Gatsby', 'F. Scott Fitzgerald', '978-3-16-148410-0'),\n",
    "    (2, 'To Kill a Mockingbird', 'Harper Lee', '978-0-06-112008-4'),\n",
    "    (3, '1984', 'George Orwell', '978-0-45-152493-5'),\n",
    "    (4, 'Pride and Prejudice', 'Jane Austen', '978-1-41-650305-8'),\n",
    "    (5, 'The Catcher in the Rye', 'J.D. Salinger', '978-0-31-676948-0'),\n",
    "    (6, 'The Hobbit', 'J.R.R. Tolkien', '978-0-26-110334-4'),\n",
    "    (7, 'The Da Vinci Code', 'Dan Brown', '978-0-76-117490-4'),\n",
    "    (8, 'The Shining', 'Stephen King', '978-0-30-774365-7'),\n",
    "    (9, 'Brave New World', 'Aldous Huxley', '978-0-06-085052-4'),\n",
    "    (10, 'The Lord of the Rings', 'J.R.R. Tolkien', '978-0-54-400341-5');\n",
    "''')"
   ]
  },
  {
   "cell_type": "code",
   "execution_count": 56,
   "id": "1f91070e",
   "metadata": {},
   "outputs": [
    {
     "data": {
      "text/plain": [
       "<sqlite3.Cursor at 0x1f7b2018bc0>"
      ]
     },
     "execution_count": 56,
     "metadata": {},
     "output_type": "execute_result"
    }
   ],
   "source": [
    "cur.execute('''\n",
    "INSERT INTO Checkouts (CheckoutID, BookID, CheckoutDate, ReturnDate)\n",
    "VALUES\n",
    "    (1, 1, '2023-01-01', '2023-01-15'),\n",
    "    (2, 2, '2023-02-01', NULL),\n",
    "    (3, 3, '2023-03-01', '2023-03-15'),\n",
    "    (4, 4, '2023-04-01', '2023-04-15'),\n",
    "    (5, 5, '2023-05-01', '2023-05-15'),\n",
    "    (6, 6, '2023-06-01', NULL),\n",
    "    (7, 7, '2023-07-01', '2023-07-15'),\n",
    "    (8, 8, '2023-08-01', '2023-08-15'),\n",
    "    (9, 9, '2023-09-01', '2023-09-15'),\n",
    "    (10, 10, '2023-10-01', NULL);\n",
    "''')"
   ]
  },
  {
   "cell_type": "markdown",
   "id": "76bcc070",
   "metadata": {},
   "source": [
    "### Find all books that are currently checked out."
   ]
  },
  {
   "cell_type": "code",
   "execution_count": 57,
   "id": "f1f067b3",
   "metadata": {},
   "outputs": [
    {
     "data": {
      "text/html": [
       "<div>\n",
       "<style scoped>\n",
       "    .dataframe tbody tr th:only-of-type {\n",
       "        vertical-align: middle;\n",
       "    }\n",
       "\n",
       "    .dataframe tbody tr th {\n",
       "        vertical-align: top;\n",
       "    }\n",
       "\n",
       "    .dataframe thead th {\n",
       "        text-align: right;\n",
       "    }\n",
       "</style>\n",
       "<table border=\"1\" class=\"dataframe\">\n",
       "  <thead>\n",
       "    <tr style=\"text-align: right;\">\n",
       "      <th></th>\n",
       "      <th>BookID</th>\n",
       "      <th>Title</th>\n",
       "      <th>ReturnDate</th>\n",
       "    </tr>\n",
       "  </thead>\n",
       "  <tbody>\n",
       "    <tr>\n",
       "      <th>0</th>\n",
       "      <td>2</td>\n",
       "      <td>To Kill a Mockingbird</td>\n",
       "      <td>None</td>\n",
       "    </tr>\n",
       "    <tr>\n",
       "      <th>1</th>\n",
       "      <td>6</td>\n",
       "      <td>The Hobbit</td>\n",
       "      <td>None</td>\n",
       "    </tr>\n",
       "    <tr>\n",
       "      <th>2</th>\n",
       "      <td>10</td>\n",
       "      <td>The Lord of the Rings</td>\n",
       "      <td>None</td>\n",
       "    </tr>\n",
       "  </tbody>\n",
       "</table>\n",
       "</div>"
      ],
      "text/plain": [
       "   BookID                  Title ReturnDate\n",
       "0       2  To Kill a Mockingbird       None\n",
       "1       6             The Hobbit       None\n",
       "2      10  The Lord of the Rings       None"
      ]
     },
     "metadata": {},
     "output_type": "display_data"
    }
   ],
   "source": [
    "cur.execute('''\n",
    "SELECT Books.BookID, Books.Title, Checkouts.ReturnDate\n",
    "FROM Books\n",
    "LEFT JOIN Checkouts ON Books.BookID = Checkouts.BookID\n",
    "WHERE Checkouts.ReturnDate IS NULL;\n",
    "''')\n",
    "\n",
    "result = cur.fetchall()\n",
    "\n",
    "df = pd.DataFrame(result, columns=[item[0] for item in cur.description])\n",
    "display(df)"
   ]
  },
  {
   "cell_type": "code",
   "execution_count": 58,
   "id": "37172d5d",
   "metadata": {},
   "outputs": [
    {
     "data": {
      "text/html": [
       "<div>\n",
       "<style scoped>\n",
       "    .dataframe tbody tr th:only-of-type {\n",
       "        vertical-align: middle;\n",
       "    }\n",
       "\n",
       "    .dataframe tbody tr th {\n",
       "        vertical-align: top;\n",
       "    }\n",
       "\n",
       "    .dataframe thead th {\n",
       "        text-align: right;\n",
       "    }\n",
       "</style>\n",
       "<table border=\"1\" class=\"dataframe\">\n",
       "  <thead>\n",
       "    <tr style=\"text-align: right;\">\n",
       "      <th></th>\n",
       "      <th>BookID</th>\n",
       "      <th>Title</th>\n",
       "      <th>ReturnDate</th>\n",
       "    </tr>\n",
       "  </thead>\n",
       "  <tbody>\n",
       "    <tr>\n",
       "      <th>0</th>\n",
       "      <td>2</td>\n",
       "      <td>To Kill a Mockingbird</td>\n",
       "      <td>None</td>\n",
       "    </tr>\n",
       "    <tr>\n",
       "      <th>1</th>\n",
       "      <td>6</td>\n",
       "      <td>The Hobbit</td>\n",
       "      <td>None</td>\n",
       "    </tr>\n",
       "    <tr>\n",
       "      <th>2</th>\n",
       "      <td>10</td>\n",
       "      <td>The Lord of the Rings</td>\n",
       "      <td>None</td>\n",
       "    </tr>\n",
       "  </tbody>\n",
       "</table>\n",
       "</div>"
      ],
      "text/plain": [
       "   BookID                  Title ReturnDate\n",
       "0       2  To Kill a Mockingbird       None\n",
       "1       6             The Hobbit       None\n",
       "2      10  The Lord of the Rings       None"
      ]
     },
     "metadata": {},
     "output_type": "display_data"
    }
   ],
   "source": [
    "# Inline View Sub-Query\n",
    "cur.execute('''\n",
    "SELECT *\n",
    "FROM (\n",
    "    SELECT Books.BookID, Books.Title, Checkouts.ReturnDate\n",
    "    FROM Books\n",
    "    LEFT JOIN Checkouts ON Books.BookID = Checkouts.BookID\n",
    "    WHERE Checkouts.ReturnDate IS NULL\n",
    ")\n",
    "''')\n",
    "\n",
    "result = cur.fetchall()\n",
    "\n",
    "df = pd.DataFrame(result, columns=[item[0] for item in cur.description])\n",
    "display(df)"
   ]
  },
  {
   "cell_type": "code",
   "execution_count": 59,
   "id": "af78a58d",
   "metadata": {},
   "outputs": [
    {
     "data": {
      "text/html": [
       "<div>\n",
       "<style scoped>\n",
       "    .dataframe tbody tr th:only-of-type {\n",
       "        vertical-align: middle;\n",
       "    }\n",
       "\n",
       "    .dataframe tbody tr th {\n",
       "        vertical-align: top;\n",
       "    }\n",
       "\n",
       "    .dataframe thead th {\n",
       "        text-align: right;\n",
       "    }\n",
       "</style>\n",
       "<table border=\"1\" class=\"dataframe\">\n",
       "  <thead>\n",
       "    <tr style=\"text-align: right;\">\n",
       "      <th></th>\n",
       "      <th>BookID</th>\n",
       "      <th>Title</th>\n",
       "      <th>ReturnDate</th>\n",
       "    </tr>\n",
       "  </thead>\n",
       "  <tbody>\n",
       "    <tr>\n",
       "      <th>0</th>\n",
       "      <td>2</td>\n",
       "      <td>To Kill a Mockingbird</td>\n",
       "      <td>None</td>\n",
       "    </tr>\n",
       "    <tr>\n",
       "      <th>1</th>\n",
       "      <td>6</td>\n",
       "      <td>The Hobbit</td>\n",
       "      <td>None</td>\n",
       "    </tr>\n",
       "    <tr>\n",
       "      <th>2</th>\n",
       "      <td>10</td>\n",
       "      <td>The Lord of the Rings</td>\n",
       "      <td>None</td>\n",
       "    </tr>\n",
       "  </tbody>\n",
       "</table>\n",
       "</div>"
      ],
      "text/plain": [
       "   BookID                  Title ReturnDate\n",
       "0       2  To Kill a Mockingbird       None\n",
       "1       6             The Hobbit       None\n",
       "2      10  The Lord of the Rings       None"
      ]
     },
     "metadata": {},
     "output_type": "display_data"
    }
   ],
   "source": [
    "# Multiple Row Sub-Query\n",
    "cur.execute('''\n",
    "SELECT Books.BookID, Books.Title, Checkouts.ReturnDate\n",
    "FROM Books\n",
    "LEFT JOIN Checkouts ON Books.BookID = Checkouts.BookID\n",
    "WHERE Books.BookID IN (\n",
    "    SELECT Books.BookID\n",
    "    FROM Books\n",
    "    LEFT JOIN Checkouts ON Books.BookID = Checkouts.BookID\n",
    "    WHERE Checkouts.ReturnDate IS NULL\n",
    ")\n",
    "''')\n",
    "\n",
    "result = cur.fetchall()\n",
    "\n",
    "df = pd.DataFrame(result, columns=[item[0] for item in cur.description])\n",
    "display(df)"
   ]
  },
  {
   "cell_type": "code",
   "execution_count": 60,
   "id": "8584f1cf",
   "metadata": {},
   "outputs": [
    {
     "data": {
      "text/html": [
       "<div>\n",
       "<style scoped>\n",
       "    .dataframe tbody tr th:only-of-type {\n",
       "        vertical-align: middle;\n",
       "    }\n",
       "\n",
       "    .dataframe tbody tr th {\n",
       "        vertical-align: top;\n",
       "    }\n",
       "\n",
       "    .dataframe thead th {\n",
       "        text-align: right;\n",
       "    }\n",
       "</style>\n",
       "<table border=\"1\" class=\"dataframe\">\n",
       "  <thead>\n",
       "    <tr style=\"text-align: right;\">\n",
       "      <th></th>\n",
       "      <th>BookID</th>\n",
       "      <th>Title</th>\n",
       "      <th>ReturnDate</th>\n",
       "    </tr>\n",
       "  </thead>\n",
       "  <tbody>\n",
       "    <tr>\n",
       "      <th>0</th>\n",
       "      <td>2</td>\n",
       "      <td>To Kill a Mockingbird</td>\n",
       "      <td>None</td>\n",
       "    </tr>\n",
       "    <tr>\n",
       "      <th>1</th>\n",
       "      <td>6</td>\n",
       "      <td>The Hobbit</td>\n",
       "      <td>None</td>\n",
       "    </tr>\n",
       "    <tr>\n",
       "      <th>2</th>\n",
       "      <td>10</td>\n",
       "      <td>The Lord of the Rings</td>\n",
       "      <td>None</td>\n",
       "    </tr>\n",
       "  </tbody>\n",
       "</table>\n",
       "</div>"
      ],
      "text/plain": [
       "   BookID                  Title ReturnDate\n",
       "0       2  To Kill a Mockingbird       None\n",
       "1       6             The Hobbit       None\n",
       "2      10  The Lord of the Rings       None"
      ]
     },
     "metadata": {},
     "output_type": "display_data"
    }
   ],
   "source": [
    "# Pairwise Comparison Sub-Query\n",
    "cur.execute('''\n",
    "SELECT Books.BookID, Books.Title, Checkouts.ReturnDate\n",
    "FROM Books\n",
    "LEFT JOIN Checkouts ON Books.BookID = Checkouts.BookID\n",
    "WHERE (Books.BookID, Books.Title) IN (\n",
    "    SELECT Books.BookID, Books.Title\n",
    "    FROM Books\n",
    "    LEFT JOIN Checkouts ON Books.BookID = Checkouts.BookID\n",
    "    WHERE Checkouts.ReturnDate IS NULL\n",
    ");\n",
    "''')\n",
    "\n",
    "result = cur.fetchall()\n",
    "\n",
    "df = pd.DataFrame(result, columns=[item[0] for item in cur.description])\n",
    "display(df)"
   ]
  },
  {
   "cell_type": "code",
   "execution_count": 61,
   "id": "71c917c7",
   "metadata": {},
   "outputs": [
    {
     "data": {
      "text/html": [
       "<div>\n",
       "<style scoped>\n",
       "    .dataframe tbody tr th:only-of-type {\n",
       "        vertical-align: middle;\n",
       "    }\n",
       "\n",
       "    .dataframe tbody tr th {\n",
       "        vertical-align: top;\n",
       "    }\n",
       "\n",
       "    .dataframe thead th {\n",
       "        text-align: right;\n",
       "    }\n",
       "</style>\n",
       "<table border=\"1\" class=\"dataframe\">\n",
       "  <thead>\n",
       "    <tr style=\"text-align: right;\">\n",
       "      <th></th>\n",
       "      <th>BookID</th>\n",
       "      <th>Title</th>\n",
       "      <th>ReturnDate</th>\n",
       "    </tr>\n",
       "  </thead>\n",
       "  <tbody>\n",
       "    <tr>\n",
       "      <th>0</th>\n",
       "      <td>2</td>\n",
       "      <td>To Kill a Mockingbird</td>\n",
       "      <td>None</td>\n",
       "    </tr>\n",
       "    <tr>\n",
       "      <th>1</th>\n",
       "      <td>6</td>\n",
       "      <td>The Hobbit</td>\n",
       "      <td>None</td>\n",
       "    </tr>\n",
       "    <tr>\n",
       "      <th>2</th>\n",
       "      <td>10</td>\n",
       "      <td>The Lord of the Rings</td>\n",
       "      <td>None</td>\n",
       "    </tr>\n",
       "  </tbody>\n",
       "</table>\n",
       "</div>"
      ],
      "text/plain": [
       "   BookID                  Title ReturnDate\n",
       "0       2  To Kill a Mockingbird       None\n",
       "1       6             The Hobbit       None\n",
       "2      10  The Lord of the Rings       None"
      ]
     },
     "metadata": {},
     "output_type": "display_data"
    }
   ],
   "source": [
    "# Non-Pairwise Comparison Sub-Query\n",
    "cur.execute('''\n",
    "SELECT Books.BookID, Books.Title, Checkouts.ReturnDate\n",
    "FROM Books\n",
    "LEFT JOIN Checkouts ON Books.BookID = Checkouts.BookID\n",
    "WHERE Books.BookID IN (\n",
    "    SELECT Books.BookID\n",
    "    FROM Books\n",
    "    LEFT JOIN Checkouts ON Books.BookID = Checkouts.BookID\n",
    "    WHERE Checkouts.ReturnDate IS NULL\n",
    ") AND  Books.Title IN (\n",
    "    SELECT Books.Title\n",
    "    FROM Books\n",
    "    LEFT JOIN Checkouts ON Books.BookID = Checkouts.BookID\n",
    "    WHERE Checkouts.ReturnDate IS NULL\n",
    ");\n",
    "''')\n",
    "\n",
    "result = cur.fetchall()\n",
    "\n",
    "df = pd.DataFrame(result, columns=[item[0] for item in cur.description])\n",
    "display(df)"
   ]
  },
  {
   "cell_type": "markdown",
   "id": "1d21de2a",
   "metadata": {},
   "source": [
    "# Question 14: You are given a list of numbers, and you need to find the sum of all even numbers in the list using Python's built-in functions. Write a Python function to accomplish this task.\n",
    "### numbers = [1, 2, 3, 4, 5, 6, 7, 8, 9, 10]"
   ]
  },
  {
   "cell_type": "code",
   "execution_count": 62,
   "id": "2c866fe2",
   "metadata": {},
   "outputs": [
    {
     "name": "stdout",
     "output_type": "stream",
     "text": [
      "30\n"
     ]
    }
   ],
   "source": [
    "def sum_of_even_numbers(numbers):\n",
    "    return sum(num for num in numbers if num % 2 == 0)\n",
    "\n",
    "# Example usage\n",
    "numbers = [1, 2, 3, 4, 5, 6, 7, 8, 9, 10]\n",
    "result = sum_of_even_numbers(numbers)\n",
    "print(result)"
   ]
  },
  {
   "cell_type": "markdown",
   "id": "c054ffa8",
   "metadata": {},
   "source": [
    "# Question 15: Create the given SQL dataset, insert data and perform the FUNCTION on questions:-\n",
    "\n",
    "Suppose you have a dataset named 'sales' with the following columns:\n",
    "\n",
    "1. order_id (INT)\n",
    "2. order_date (DATE)\n",
    "3. delivery_date (DATETIME)\n",
    "4. product_name (VARCHAR)\n",
    "5. quantity (INT)\n",
    "6. unit_price (DECIMAL)\n",
    "\n",
    "### Questions:\n",
    "1. How many orders were placed in the month of May 2023?\n",
    "2. What was the total revenue generated in the first quarter (January to March) of 2023?\n",
    "3. Calculate the average delivery time in hours for all orders.\n",
    "4. Which product had the highest total sales quantity in 2023?"
   ]
  },
  {
   "cell_type": "code",
   "execution_count": 63,
   "id": "7aee4cdd",
   "metadata": {},
   "outputs": [],
   "source": [
    "cnn = sqlite3.connect('database10.db')\n",
    "cur = cnn.cursor()"
   ]
  },
  {
   "cell_type": "code",
   "execution_count": 64,
   "id": "900fb358",
   "metadata": {},
   "outputs": [
    {
     "data": {
      "text/plain": [
       "<sqlite3.Cursor at 0x1f7b2019440>"
      ]
     },
     "execution_count": 64,
     "metadata": {},
     "output_type": "execute_result"
    }
   ],
   "source": [
    "cur.execute('''\n",
    "CREATE TABLE sales (\n",
    "    order_id INT,\n",
    "    order_date DATE,\n",
    "    delivery_date DATETIME,\n",
    "    product_name VARCHAR(255),\n",
    "    quantity INT,\n",
    "    unit_price DECIMAL(10, 2)\n",
    ");\n",
    "''')"
   ]
  },
  {
   "cell_type": "code",
   "execution_count": 65,
   "id": "ceae9d1a",
   "metadata": {},
   "outputs": [
    {
     "data": {
      "text/plain": [
       "<sqlite3.Cursor at 0x1f7b2019440>"
      ]
     },
     "execution_count": 65,
     "metadata": {},
     "output_type": "execute_result"
    }
   ],
   "source": [
    "cur.execute('''\n",
    "INSERT INTO sales VALUES\n",
    "(1, '2023-05-01', '2023-05-02 12:30:00', 'Product A', 10, 20.00),\n",
    "(2, '2023-05-03', '2023-05-05 14:45:00', 'Product B', 8, 25.00),\n",
    "(3, '2023-03-15', '2023-03-18 09:00:00', 'Product A', 5, 22.50),\n",
    "(4, '2023-01-10', '2023-01-12 17:30:00', 'Product C', 12, 15.00),\n",
    "(5, '2023-02-22', '2023-02-25 08:15:00', 'Product B', 15, 18.00),\n",
    "(6, '2023-06-05', '2023-06-08 10:00:00', 'Product C', 7, 30.00);\n",
    "''')"
   ]
  },
  {
   "cell_type": "code",
   "execution_count": 66,
   "id": "094747bd",
   "metadata": {},
   "outputs": [
    {
     "data": {
      "text/html": [
       "<div>\n",
       "<style scoped>\n",
       "    .dataframe tbody tr th:only-of-type {\n",
       "        vertical-align: middle;\n",
       "    }\n",
       "\n",
       "    .dataframe tbody tr th {\n",
       "        vertical-align: top;\n",
       "    }\n",
       "\n",
       "    .dataframe thead th {\n",
       "        text-align: right;\n",
       "    }\n",
       "</style>\n",
       "<table border=\"1\" class=\"dataframe\">\n",
       "  <thead>\n",
       "    <tr style=\"text-align: right;\">\n",
       "      <th></th>\n",
       "      <th>order_id</th>\n",
       "      <th>order_date</th>\n",
       "      <th>delivery_date</th>\n",
       "      <th>product_name</th>\n",
       "      <th>quantity</th>\n",
       "      <th>unit_price</th>\n",
       "    </tr>\n",
       "  </thead>\n",
       "  <tbody>\n",
       "    <tr>\n",
       "      <th>0</th>\n",
       "      <td>1</td>\n",
       "      <td>2023-05-01</td>\n",
       "      <td>2023-05-02 12:30:00</td>\n",
       "      <td>Product A</td>\n",
       "      <td>10</td>\n",
       "      <td>20.0</td>\n",
       "    </tr>\n",
       "    <tr>\n",
       "      <th>1</th>\n",
       "      <td>2</td>\n",
       "      <td>2023-05-03</td>\n",
       "      <td>2023-05-05 14:45:00</td>\n",
       "      <td>Product B</td>\n",
       "      <td>8</td>\n",
       "      <td>25.0</td>\n",
       "    </tr>\n",
       "    <tr>\n",
       "      <th>2</th>\n",
       "      <td>3</td>\n",
       "      <td>2023-03-15</td>\n",
       "      <td>2023-03-18 09:00:00</td>\n",
       "      <td>Product A</td>\n",
       "      <td>5</td>\n",
       "      <td>22.5</td>\n",
       "    </tr>\n",
       "    <tr>\n",
       "      <th>3</th>\n",
       "      <td>4</td>\n",
       "      <td>2023-01-10</td>\n",
       "      <td>2023-01-12 17:30:00</td>\n",
       "      <td>Product C</td>\n",
       "      <td>12</td>\n",
       "      <td>15.0</td>\n",
       "    </tr>\n",
       "    <tr>\n",
       "      <th>4</th>\n",
       "      <td>5</td>\n",
       "      <td>2023-02-22</td>\n",
       "      <td>2023-02-25 08:15:00</td>\n",
       "      <td>Product B</td>\n",
       "      <td>15</td>\n",
       "      <td>18.0</td>\n",
       "    </tr>\n",
       "    <tr>\n",
       "      <th>5</th>\n",
       "      <td>6</td>\n",
       "      <td>2023-06-05</td>\n",
       "      <td>2023-06-08 10:00:00</td>\n",
       "      <td>Product C</td>\n",
       "      <td>7</td>\n",
       "      <td>30.0</td>\n",
       "    </tr>\n",
       "  </tbody>\n",
       "</table>\n",
       "</div>"
      ],
      "text/plain": [
       "   order_id  order_date        delivery_date product_name  quantity  \\\n",
       "0         1  2023-05-01  2023-05-02 12:30:00    Product A        10   \n",
       "1         2  2023-05-03  2023-05-05 14:45:00    Product B         8   \n",
       "2         3  2023-03-15  2023-03-18 09:00:00    Product A         5   \n",
       "3         4  2023-01-10  2023-01-12 17:30:00    Product C        12   \n",
       "4         5  2023-02-22  2023-02-25 08:15:00    Product B        15   \n",
       "5         6  2023-06-05  2023-06-08 10:00:00    Product C         7   \n",
       "\n",
       "   unit_price  \n",
       "0        20.0  \n",
       "1        25.0  \n",
       "2        22.5  \n",
       "3        15.0  \n",
       "4        18.0  \n",
       "5        30.0  "
      ]
     },
     "metadata": {},
     "output_type": "display_data"
    }
   ],
   "source": [
    "cur.execute('''\n",
    "SELECT *\n",
    "FROM sales\n",
    "''')\n",
    "\n",
    "result = cur.fetchall()\n",
    "\n",
    "df = pd.DataFrame(result, columns=[item[0] for item in cur.description])\n",
    "display(df)"
   ]
  },
  {
   "cell_type": "markdown",
   "id": "e88810c6",
   "metadata": {},
   "source": [
    "##### How many orders were placed in the month of May 2023?"
   ]
  },
  {
   "cell_type": "code",
   "execution_count": 67,
   "id": "f235bbd7",
   "metadata": {},
   "outputs": [
    {
     "data": {
      "text/html": [
       "<div>\n",
       "<style scoped>\n",
       "    .dataframe tbody tr th:only-of-type {\n",
       "        vertical-align: middle;\n",
       "    }\n",
       "\n",
       "    .dataframe tbody tr th {\n",
       "        vertical-align: top;\n",
       "    }\n",
       "\n",
       "    .dataframe thead th {\n",
       "        text-align: right;\n",
       "    }\n",
       "</style>\n",
       "<table border=\"1\" class=\"dataframe\">\n",
       "  <thead>\n",
       "    <tr style=\"text-align: right;\">\n",
       "      <th></th>\n",
       "      <th>total_orders</th>\n",
       "    </tr>\n",
       "  </thead>\n",
       "  <tbody>\n",
       "    <tr>\n",
       "      <th>0</th>\n",
       "      <td>2</td>\n",
       "    </tr>\n",
       "  </tbody>\n",
       "</table>\n",
       "</div>"
      ],
      "text/plain": [
       "   total_orders\n",
       "0             2"
      ]
     },
     "metadata": {},
     "output_type": "display_data"
    }
   ],
   "source": [
    "cur.execute('''\n",
    "SELECT COUNT(*) AS total_orders\n",
    "FROM sales\n",
    "WHERE strftime('%Y-%m', order_date) = '2023-05';\n",
    "''')\n",
    "\n",
    "result = cur.fetchall()\n",
    "\n",
    "df = pd.DataFrame(result, columns=[item[0] for item in cur.description])\n",
    "display(df)"
   ]
  },
  {
   "cell_type": "markdown",
   "id": "575f01b8",
   "metadata": {},
   "source": [
    "##### What was the total revenue generated in the first quarter (January to March) of 2023?"
   ]
  },
  {
   "cell_type": "code",
   "execution_count": 68,
   "id": "0732d2d6",
   "metadata": {},
   "outputs": [
    {
     "data": {
      "text/html": [
       "<div>\n",
       "<style scoped>\n",
       "    .dataframe tbody tr th:only-of-type {\n",
       "        vertical-align: middle;\n",
       "    }\n",
       "\n",
       "    .dataframe tbody tr th {\n",
       "        vertical-align: top;\n",
       "    }\n",
       "\n",
       "    .dataframe thead th {\n",
       "        text-align: right;\n",
       "    }\n",
       "</style>\n",
       "<table border=\"1\" class=\"dataframe\">\n",
       "  <thead>\n",
       "    <tr style=\"text-align: right;\">\n",
       "      <th></th>\n",
       "      <th>SUM(quantity * unit_price)</th>\n",
       "    </tr>\n",
       "  </thead>\n",
       "  <tbody>\n",
       "    <tr>\n",
       "      <th>0</th>\n",
       "      <td>562.5</td>\n",
       "    </tr>\n",
       "  </tbody>\n",
       "</table>\n",
       "</div>"
      ],
      "text/plain": [
       "   SUM(quantity * unit_price)\n",
       "0                       562.5"
      ]
     },
     "metadata": {},
     "output_type": "display_data"
    }
   ],
   "source": [
    "cur.execute('''\n",
    "SELECT SUM(quantity * unit_price) FROM sales\n",
    "WHERE order_date BETWEEN '2023-01-01' AND '2023-03-31';\n",
    "''')\n",
    "\n",
    "result = cur.fetchall()\n",
    "\n",
    "df = pd.DataFrame(result, columns=[item[0] for item in cur.description])\n",
    "display(df)"
   ]
  },
  {
   "cell_type": "markdown",
   "id": "1fdb8aee",
   "metadata": {},
   "source": [
    "##### Calculate the average delivery time in hours for all orders."
   ]
  },
  {
   "cell_type": "code",
   "execution_count": 69,
   "id": "4a56a110",
   "metadata": {},
   "outputs": [
    {
     "data": {
      "text/html": [
       "<div>\n",
       "<style scoped>\n",
       "    .dataframe tbody tr th:only-of-type {\n",
       "        vertical-align: middle;\n",
       "    }\n",
       "\n",
       "    .dataframe tbody tr th {\n",
       "        vertical-align: top;\n",
       "    }\n",
       "\n",
       "    .dataframe thead th {\n",
       "        text-align: right;\n",
       "    }\n",
       "</style>\n",
       "<table border=\"1\" class=\"dataframe\">\n",
       "  <thead>\n",
       "    <tr style=\"text-align: right;\">\n",
       "      <th></th>\n",
       "      <th>avg_delivery_time_hours</th>\n",
       "    </tr>\n",
       "  </thead>\n",
       "  <tbody>\n",
       "    <tr>\n",
       "      <th>0</th>\n",
       "      <td>68.0</td>\n",
       "    </tr>\n",
       "  </tbody>\n",
       "</table>\n",
       "</div>"
      ],
      "text/plain": [
       "   avg_delivery_time_hours\n",
       "0                     68.0"
      ]
     },
     "metadata": {},
     "output_type": "display_data"
    }
   ],
   "source": [
    "cur.execute('''\n",
    "SELECT AVG(strftime('%s', delivery_date) - strftime('%s', order_date)) / 3600 AS avg_delivery_time_hours\n",
    "FROM sales;\n",
    "''')\n",
    "\n",
    "result = cur.fetchall()\n",
    "\n",
    "df = pd.DataFrame(result, columns=[item[0] for item in cur.description])\n",
    "display(df)"
   ]
  },
  {
   "cell_type": "markdown",
   "id": "a74af58a",
   "metadata": {},
   "source": [
    "##### Which product had the highest total sales quantity in 2023?"
   ]
  },
  {
   "cell_type": "code",
   "execution_count": 70,
   "id": "a98620d1",
   "metadata": {},
   "outputs": [
    {
     "data": {
      "text/html": [
       "<div>\n",
       "<style scoped>\n",
       "    .dataframe tbody tr th:only-of-type {\n",
       "        vertical-align: middle;\n",
       "    }\n",
       "\n",
       "    .dataframe tbody tr th {\n",
       "        vertical-align: top;\n",
       "    }\n",
       "\n",
       "    .dataframe thead th {\n",
       "        text-align: right;\n",
       "    }\n",
       "</style>\n",
       "<table border=\"1\" class=\"dataframe\">\n",
       "  <thead>\n",
       "    <tr style=\"text-align: right;\">\n",
       "      <th></th>\n",
       "      <th>product_name</th>\n",
       "      <th>total_sales_quantity</th>\n",
       "    </tr>\n",
       "  </thead>\n",
       "  <tbody>\n",
       "    <tr>\n",
       "      <th>0</th>\n",
       "      <td>Product B</td>\n",
       "      <td>23</td>\n",
       "    </tr>\n",
       "  </tbody>\n",
       "</table>\n",
       "</div>"
      ],
      "text/plain": [
       "  product_name  total_sales_quantity\n",
       "0    Product B                    23"
      ]
     },
     "metadata": {},
     "output_type": "display_data"
    }
   ],
   "source": [
    "cur.execute('''\n",
    "SELECT product_name, SUM(quantity) AS total_sales_quantity\n",
    "FROM sales\n",
    "WHERE strftime('%Y', order_date) = '2023'\n",
    "GROUP BY product_name\n",
    "ORDER BY total_sales_quantity DESC\n",
    "LIMIT 1;\n",
    "''')\n",
    "\n",
    "result = cur.fetchall()\n",
    "\n",
    "df = pd.DataFrame(result, columns=[item[0] for item in cur.description])\n",
    "display(df)"
   ]
  },
  {
   "cell_type": "markdown",
   "id": "f09d6c75",
   "metadata": {},
   "source": [
    "# Question 16:"
   ]
  },
  {
   "cell_type": "code",
   "execution_count": 71,
   "id": "fac554d9",
   "metadata": {},
   "outputs": [],
   "source": [
    "cnn = sqlite3.connect('database11.db')\n",
    "cur = cnn.cursor()"
   ]
  },
  {
   "cell_type": "code",
   "execution_count": 72,
   "id": "81612717",
   "metadata": {},
   "outputs": [
    {
     "data": {
      "text/plain": [
       "<sqlite3.Cursor at 0x1f7b20196c0>"
      ]
     },
     "execution_count": 72,
     "metadata": {},
     "output_type": "execute_result"
    }
   ],
   "source": [
    "cur.execute('''\n",
    "CREATE TABLE orders (\n",
    "    order_id INT,\n",
    "    customer_id INT,\n",
    "    order_date DATETIME,\n",
    "    total_amount DECIMAL(10, 2)\n",
    ");\n",
    "''')"
   ]
  },
  {
   "cell_type": "code",
   "execution_count": 73,
   "id": "b6956efe",
   "metadata": {},
   "outputs": [
    {
     "data": {
      "text/plain": [
       "<sqlite3.Cursor at 0x1f7b20196c0>"
      ]
     },
     "execution_count": 73,
     "metadata": {},
     "output_type": "execute_result"
    }
   ],
   "source": [
    "cur.execute('''\n",
    "INSERT INTO orders VALUES\n",
    "(1, 101, '2023-01-15 08:30:00', 150.00),\n",
    "(2, 102, '2023-02-20 14:45:00', 200.00),\n",
    "(3, 103, '2023-03-05 10:20:00', 75.00),\n",
    "(4, 101, '2023-03-18 11:10:00', 100.00);\n",
    "''')"
   ]
  },
  {
   "cell_type": "code",
   "execution_count": 74,
   "id": "f11fcec3",
   "metadata": {},
   "outputs": [
    {
     "data": {
      "text/html": [
       "<div>\n",
       "<style scoped>\n",
       "    .dataframe tbody tr th:only-of-type {\n",
       "        vertical-align: middle;\n",
       "    }\n",
       "\n",
       "    .dataframe tbody tr th {\n",
       "        vertical-align: top;\n",
       "    }\n",
       "\n",
       "    .dataframe thead th {\n",
       "        text-align: right;\n",
       "    }\n",
       "</style>\n",
       "<table border=\"1\" class=\"dataframe\">\n",
       "  <thead>\n",
       "    <tr style=\"text-align: right;\">\n",
       "      <th></th>\n",
       "      <th>order_id</th>\n",
       "      <th>customer_id</th>\n",
       "      <th>order_date</th>\n",
       "      <th>total_amount</th>\n",
       "    </tr>\n",
       "  </thead>\n",
       "  <tbody>\n",
       "    <tr>\n",
       "      <th>0</th>\n",
       "      <td>1</td>\n",
       "      <td>101</td>\n",
       "      <td>2023-01-15 08:30:00</td>\n",
       "      <td>150</td>\n",
       "    </tr>\n",
       "    <tr>\n",
       "      <th>1</th>\n",
       "      <td>2</td>\n",
       "      <td>102</td>\n",
       "      <td>2023-02-20 14:45:00</td>\n",
       "      <td>200</td>\n",
       "    </tr>\n",
       "    <tr>\n",
       "      <th>2</th>\n",
       "      <td>3</td>\n",
       "      <td>103</td>\n",
       "      <td>2023-03-05 10:20:00</td>\n",
       "      <td>75</td>\n",
       "    </tr>\n",
       "    <tr>\n",
       "      <th>3</th>\n",
       "      <td>4</td>\n",
       "      <td>101</td>\n",
       "      <td>2023-03-18 11:10:00</td>\n",
       "      <td>100</td>\n",
       "    </tr>\n",
       "  </tbody>\n",
       "</table>\n",
       "</div>"
      ],
      "text/plain": [
       "   order_id  customer_id           order_date  total_amount\n",
       "0         1          101  2023-01-15 08:30:00           150\n",
       "1         2          102  2023-02-20 14:45:00           200\n",
       "2         3          103  2023-03-05 10:20:00            75\n",
       "3         4          101  2023-03-18 11:10:00           100"
      ]
     },
     "metadata": {},
     "output_type": "display_data"
    }
   ],
   "source": [
    "cur.execute('''\n",
    "SELECT *\n",
    "FROM orders\n",
    "''')\n",
    "\n",
    "result = cur.fetchall()\n",
    "\n",
    "df = pd.DataFrame(result, columns=[item[0] for item in cur.description])\n",
    "display(df)"
   ]
  },
  {
   "cell_type": "markdown",
   "id": "d121a356",
   "metadata": {},
   "source": [
    "##### How many orders were placed in the month of February 2023?"
   ]
  },
  {
   "cell_type": "code",
   "execution_count": 75,
   "id": "53d224f1",
   "metadata": {},
   "outputs": [
    {
     "data": {
      "text/html": [
       "<div>\n",
       "<style scoped>\n",
       "    .dataframe tbody tr th:only-of-type {\n",
       "        vertical-align: middle;\n",
       "    }\n",
       "\n",
       "    .dataframe tbody tr th {\n",
       "        vertical-align: top;\n",
       "    }\n",
       "\n",
       "    .dataframe thead th {\n",
       "        text-align: right;\n",
       "    }\n",
       "</style>\n",
       "<table border=\"1\" class=\"dataframe\">\n",
       "  <thead>\n",
       "    <tr style=\"text-align: right;\">\n",
       "      <th></th>\n",
       "      <th>COUNT(*)</th>\n",
       "    </tr>\n",
       "  </thead>\n",
       "  <tbody>\n",
       "    <tr>\n",
       "      <th>0</th>\n",
       "      <td>1</td>\n",
       "    </tr>\n",
       "  </tbody>\n",
       "</table>\n",
       "</div>"
      ],
      "text/plain": [
       "   COUNT(*)\n",
       "0         1"
      ]
     },
     "metadata": {},
     "output_type": "display_data"
    }
   ],
   "source": [
    "cur.execute('''\n",
    "SELECT COUNT(*) \n",
    "FROM orders \n",
    "WHERE strftime('%Y-%m', order_date) = '2023-02'\n",
    "''')\n",
    "\n",
    "result = cur.fetchall()\n",
    "\n",
    "df = pd.DataFrame(result, columns=[item[0] for item in cur.description])\n",
    "display(df)"
   ]
  },
  {
   "cell_type": "markdown",
   "id": "1c2a5feb",
   "metadata": {},
   "source": [
    "##### What is the average total amount of orders placed in March 2023?\n"
   ]
  },
  {
   "cell_type": "code",
   "execution_count": 76,
   "id": "24bfd64c",
   "metadata": {},
   "outputs": [
    {
     "data": {
      "text/html": [
       "<div>\n",
       "<style scoped>\n",
       "    .dataframe tbody tr th:only-of-type {\n",
       "        vertical-align: middle;\n",
       "    }\n",
       "\n",
       "    .dataframe tbody tr th {\n",
       "        vertical-align: top;\n",
       "    }\n",
       "\n",
       "    .dataframe thead th {\n",
       "        text-align: right;\n",
       "    }\n",
       "</style>\n",
       "<table border=\"1\" class=\"dataframe\">\n",
       "  <thead>\n",
       "    <tr style=\"text-align: right;\">\n",
       "      <th></th>\n",
       "      <th>AVG(total_amount)</th>\n",
       "    </tr>\n",
       "  </thead>\n",
       "  <tbody>\n",
       "    <tr>\n",
       "      <th>0</th>\n",
       "      <td>87.5</td>\n",
       "    </tr>\n",
       "  </tbody>\n",
       "</table>\n",
       "</div>"
      ],
      "text/plain": [
       "   AVG(total_amount)\n",
       "0               87.5"
      ]
     },
     "metadata": {},
     "output_type": "display_data"
    }
   ],
   "source": [
    "cur.execute('''\n",
    "SELECT AVG(total_amount) \n",
    "FROM orders \n",
    "WHERE strftime('%Y-%m', order_date) = '2023-03'\n",
    "''')\n",
    "\n",
    "result = cur.fetchall()\n",
    "\n",
    "df = pd.DataFrame(result, columns=[item[0] for item in cur.description])\n",
    "display(df)"
   ]
  },
  {
   "cell_type": "markdown",
   "id": "e94656c0",
   "metadata": {},
   "source": [
    "##### How many days elapsed between the first and last order placed in the dataset?"
   ]
  },
  {
   "cell_type": "code",
   "execution_count": 77,
   "id": "10b9c3be",
   "metadata": {},
   "outputs": [
    {
     "name": "stdout",
     "output_type": "stream",
     "text": [
      "Number of days elapsed between the first and last order: 62 days\n"
     ]
    }
   ],
   "source": [
    "cur.execute('''\n",
    "SELECT \n",
    "MIN(order_date) AS min_date, \n",
    "MAX(order_date) AS max_date FROM orders\n",
    "''')\n",
    "\n",
    "# Fetch the result\n",
    "result = cur.fetchone()\n",
    "\n",
    "# Get the minimum and maximum dates\n",
    "min_date, max_date = result\n",
    "\n",
    "# Calculate the number of days elapsed\n",
    "min_date = dt.strptime(min_date, \"%Y-%m-%d %H:%M:%S\")\n",
    "max_date = dt.strptime(max_date, \"%Y-%m-%d %H:%M:%S\")\n",
    "days_elapsed = (max_date - min_date).days\n",
    "\n",
    "# Print the result\n",
    "print(f\"Number of days elapsed between the first and last order: {days_elapsed} days\")"
   ]
  },
  {
   "cell_type": "markdown",
   "id": "db8022b2",
   "metadata": {},
   "source": [
    "##### What is the total sales made on weekends (Saturday and Sunday) in the dataset?\n"
   ]
  },
  {
   "cell_type": "code",
   "execution_count": 78,
   "id": "bd30d1b9",
   "metadata": {},
   "outputs": [
    {
     "data": {
      "text/html": [
       "<div>\n",
       "<style scoped>\n",
       "    .dataframe tbody tr th:only-of-type {\n",
       "        vertical-align: middle;\n",
       "    }\n",
       "\n",
       "    .dataframe tbody tr th {\n",
       "        vertical-align: top;\n",
       "    }\n",
       "\n",
       "    .dataframe thead th {\n",
       "        text-align: right;\n",
       "    }\n",
       "</style>\n",
       "<table border=\"1\" class=\"dataframe\">\n",
       "  <thead>\n",
       "    <tr style=\"text-align: right;\">\n",
       "      <th></th>\n",
       "      <th>SUM(total_amount)</th>\n",
       "    </tr>\n",
       "  </thead>\n",
       "  <tbody>\n",
       "    <tr>\n",
       "      <th>0</th>\n",
       "      <td>325</td>\n",
       "    </tr>\n",
       "  </tbody>\n",
       "</table>\n",
       "</div>"
      ],
      "text/plain": [
       "   SUM(total_amount)\n",
       "0                325"
      ]
     },
     "metadata": {},
     "output_type": "display_data"
    }
   ],
   "source": [
    "cur.execute('''\n",
    "SELECT SUM(total_amount) \n",
    "FROM orders \n",
    "WHERE strftime('%w', order_date) IN ('0', '6')\n",
    "''')\n",
    "\n",
    "result = cur.fetchall()\n",
    "\n",
    "df = pd.DataFrame(result, columns=[item[0] for item in cur.description])\n",
    "display(df)"
   ]
  },
  {
   "cell_type": "markdown",
   "id": "1a72fe96",
   "metadata": {},
   "source": [
    "# Question 17: Why ER Model is used in DBMS? Draw the ER Model for Student information with respective attributes"
   ]
  },
  {
   "cell_type": "markdown",
   "id": "a1666d1b",
   "metadata": {},
   "source": [
    "#### The Entity-Relationship (ER) model is used in Database Management Systems (DBMS) for several important reasons:\n",
    "\n",
    "1. Conceptual Clarity:\n",
    "\n",
    "The ER model provides a high-level, abstract representation of the data in a system. It uses entities to represent real-world objects, attributes to represent properties of those objects, and relationships to represent connections between entities. This abstraction helps in understanding the structure of the data without getting into the details of how the data is physically stored.\n",
    "\n",
    "2. Communication:\n",
    "\n",
    "ER diagrams offer a visual means of communication between different stakeholders involved in the development of a database system. The graphical representation is easily understandable by both technical and non-technical individuals, fostering effective communication and collaboration.\n",
    "\n",
    "3. Database Design:\n",
    "\n",
    "ER modeling is an essential step in the process of designing a database. It helps in identifying and defining the entities, attributes, and relationships that need to be represented in the database. This structured approach guides the design process and ensures that the resulting database is well-organized and efficient.\n",
    "\n",
    "4. Normalization:\n",
    "\n",
    "The ER model facilitates the normalization process in database design. Normalization is the process of organizing data in a database to reduce redundancy and improve data integrity. ER diagrams help in identifying relationships between entities and attributes, which aids in the normalization process.\n",
    "\n",
    "5. Database Maintenance and Modification:\n",
    "\n",
    "ER diagrams serve as a valuable reference for maintaining and modifying a database. When changes or updates are required, the ER model provides a visual representation of the existing structure, making it easier to understand how modifications might impact the overall system.\n",
    "\n",
    "6. Documentation:\n",
    "\n",
    "ER diagrams act as documentation for the database schema. They provide a comprehensive view of the entities, attributes, and relationships, making it easier for developers, administrators, and other stakeholders to understand the database structure.\n",
    "D\n",
    "7. atabase Optimization:\n",
    "\n",
    "During the database design phase, the ER model can help identify potential areas for optimization. By visualizing the relationships between entities, designers can make informed decisions about indexing, partitioning, and other optimization strategies.\n"
   ]
  },
  {
   "cell_type": "markdown",
   "id": "9fcf54c3",
   "metadata": {},
   "source": [
    "#### let's create an ER diagram for the \"Student Information\" scenario:\n",
    "\n",
    "#### Entities and Attributes:\n",
    "\n",
    "- Strong Entity:\n",
    "Entity: Student\n",
    "Attributes: StudentID (Primary Key), Name, DateOfBirth, Address, etc.\n",
    "\n",
    "- Weak Entity:\n",
    "Entity: CourseRegistration\n",
    "Attributes: RegistrationID (Partial Key), CourseID (Partial Key), Semester, etc.\n",
    "\n",
    "#### Relationships:\n",
    "\n",
    "- One-to-One (1-1) Relationship:\n",
    "Relationship: Student has StudentID (1-1) StudentID in CourseRegistration\n",
    "\n",
    "- One-to-Many (1-M) Relationship:\n",
    "Relationship: Student takes (1-M) CourseRegistration\n",
    "\n",
    "- Many-to-Many (M-M) Relationship:\n",
    "Relationship: Student takes (M-M) Course"
   ]
  },
  {
   "cell_type": "markdown",
   "id": "dfc74386",
   "metadata": {},
   "source": [
    "# Question 18:"
   ]
  },
  {
   "cell_type": "code",
   "execution_count": 79,
   "id": "b68fc141",
   "metadata": {},
   "outputs": [],
   "source": [
    "cnn = sqlite3.connect('database12.db')\n",
    "cur = cnn.cursor()"
   ]
  },
  {
   "cell_type": "code",
   "execution_count": 80,
   "id": "373f7019",
   "metadata": {},
   "outputs": [
    {
     "data": {
      "text/plain": [
       "<sqlite3.Cursor at 0x1f7b201a6c0>"
      ]
     },
     "execution_count": 80,
     "metadata": {},
     "output_type": "execute_result"
    }
   ],
   "source": [
    "cur.execute('''\n",
    "CREATE TABLE emp_details (\n",
    "    e_id INT PRIMARY KEY,\n",
    "    e_name VARCHAR(255),\n",
    "    e_address VARCHAR(255),\n",
    "    e_age INT,\n",
    "    phone_no VARCHAR(15)\n",
    ");\n",
    "''')"
   ]
  },
  {
   "cell_type": "code",
   "execution_count": 81,
   "id": "14adb422",
   "metadata": {},
   "outputs": [
    {
     "data": {
      "text/plain": [
       "<sqlite3.Cursor at 0x1f7b201a6c0>"
      ]
     },
     "execution_count": 81,
     "metadata": {},
     "output_type": "execute_result"
    }
   ],
   "source": [
    "cur.execute('''\n",
    "INSERT INTO emp_details VALUES\n",
    "(1, 'John Doe', '123 Main St', 30, '555-1234'),\n",
    "(2, 'Jane Smith', '456 Oak St', 25, '555-5678'),\n",
    "(3, 'Bob Johnson', '789 Pine St', 35, '555-9876'),\n",
    "(4, 'Alice Brown', '321 Cedar St', 28, '555-4321'),\n",
    "(5, 'Charlie Wilson', '555 Elm St', 40, '555-6789'),\n",
    "(6, 'Eva Davis', '999 Maple St', 22, '555-3456');\n",
    "''')"
   ]
  },
  {
   "cell_type": "code",
   "execution_count": 82,
   "id": "ce385f50",
   "metadata": {},
   "outputs": [
    {
     "data": {
      "text/html": [
       "<div>\n",
       "<style scoped>\n",
       "    .dataframe tbody tr th:only-of-type {\n",
       "        vertical-align: middle;\n",
       "    }\n",
       "\n",
       "    .dataframe tbody tr th {\n",
       "        vertical-align: top;\n",
       "    }\n",
       "\n",
       "    .dataframe thead th {\n",
       "        text-align: right;\n",
       "    }\n",
       "</style>\n",
       "<table border=\"1\" class=\"dataframe\">\n",
       "  <thead>\n",
       "    <tr style=\"text-align: right;\">\n",
       "      <th></th>\n",
       "      <th>e_id</th>\n",
       "      <th>e_name</th>\n",
       "      <th>e_address</th>\n",
       "      <th>e_age</th>\n",
       "      <th>phone_no</th>\n",
       "    </tr>\n",
       "  </thead>\n",
       "  <tbody>\n",
       "    <tr>\n",
       "      <th>0</th>\n",
       "      <td>1</td>\n",
       "      <td>John Doe</td>\n",
       "      <td>123 Main St</td>\n",
       "      <td>30</td>\n",
       "      <td>555-1234</td>\n",
       "    </tr>\n",
       "    <tr>\n",
       "      <th>1</th>\n",
       "      <td>2</td>\n",
       "      <td>Jane Smith</td>\n",
       "      <td>456 Oak St</td>\n",
       "      <td>25</td>\n",
       "      <td>555-5678</td>\n",
       "    </tr>\n",
       "    <tr>\n",
       "      <th>2</th>\n",
       "      <td>3</td>\n",
       "      <td>Bob Johnson</td>\n",
       "      <td>789 Pine St</td>\n",
       "      <td>35</td>\n",
       "      <td>555-9876</td>\n",
       "    </tr>\n",
       "    <tr>\n",
       "      <th>3</th>\n",
       "      <td>4</td>\n",
       "      <td>Alice Brown</td>\n",
       "      <td>321 Cedar St</td>\n",
       "      <td>28</td>\n",
       "      <td>555-4321</td>\n",
       "    </tr>\n",
       "    <tr>\n",
       "      <th>4</th>\n",
       "      <td>5</td>\n",
       "      <td>Charlie Wilson</td>\n",
       "      <td>555 Elm St</td>\n",
       "      <td>40</td>\n",
       "      <td>555-6789</td>\n",
       "    </tr>\n",
       "    <tr>\n",
       "      <th>5</th>\n",
       "      <td>6</td>\n",
       "      <td>Eva Davis</td>\n",
       "      <td>999 Maple St</td>\n",
       "      <td>22</td>\n",
       "      <td>555-3456</td>\n",
       "    </tr>\n",
       "  </tbody>\n",
       "</table>\n",
       "</div>"
      ],
      "text/plain": [
       "   e_id          e_name     e_address  e_age  phone_no\n",
       "0     1        John Doe   123 Main St     30  555-1234\n",
       "1     2      Jane Smith    456 Oak St     25  555-5678\n",
       "2     3     Bob Johnson   789 Pine St     35  555-9876\n",
       "3     4     Alice Brown  321 Cedar St     28  555-4321\n",
       "4     5  Charlie Wilson    555 Elm St     40  555-6789\n",
       "5     6       Eva Davis  999 Maple St     22  555-3456"
      ]
     },
     "metadata": {},
     "output_type": "display_data"
    }
   ],
   "source": [
    "cur.execute('''\n",
    "SELECT *\n",
    "FROM emp_details\n",
    "''')\n",
    "\n",
    "result = cur.fetchall()\n",
    "\n",
    "df = pd.DataFrame(result, columns=[item[0] for item in cur.description])\n",
    "display(df)"
   ]
  },
  {
   "cell_type": "markdown",
   "id": "d29c9a82",
   "metadata": {},
   "source": [
    "# Question 19:"
   ]
  },
  {
   "cell_type": "code",
   "execution_count": 83,
   "id": "ce8a8100",
   "metadata": {},
   "outputs": [],
   "source": [
    "cnn = sqlite3.connect('database13.db')\n",
    "cur = cnn.cursor()"
   ]
  },
  {
   "cell_type": "code",
   "execution_count": 84,
   "id": "2bf3fdd6",
   "metadata": {},
   "outputs": [
    {
     "data": {
      "text/plain": [
       "<sqlite3.Cursor at 0x1f7b201a740>"
      ]
     },
     "execution_count": 84,
     "metadata": {},
     "output_type": "execute_result"
    }
   ],
   "source": [
    "cur.execute('''\n",
    "CREATE TABLE sales_data (\n",
    "  state VARCHAR(255) NOT NULL,\n",
    "  department VARCHAR(255) NOT NULL,\n",
    "  sales_person VARCHAR(255) NOT NULL\n",
    ");\n",
    "''')"
   ]
  },
  {
   "cell_type": "code",
   "execution_count": 85,
   "id": "66b5758d",
   "metadata": {},
   "outputs": [
    {
     "data": {
      "text/plain": [
       "<sqlite3.Cursor at 0x1f7b201a740>"
      ]
     },
     "execution_count": 85,
     "metadata": {},
     "output_type": "execute_result"
    }
   ],
   "source": [
    "cur.execute('''\n",
    "INSERT INTO sales_data (state, department, sales_person)\n",
    "VALUES\n",
    "  ('Texas', 'Clothing', 'Jake'),\n",
    "  ('Florida', 'Home Décor', 'Amy'),\n",
    "  ('Texas', 'Jewellery', 'Rachel'),\n",
    "  ('Texas', 'Home Décor', 'Tony'),\n",
    "  ('Florida', 'Clothing', 'Micky'),\n",
    "  ('Texas', 'Clothing', 'Howard'),\n",
    "  ('Florida', 'Jewellery', 'Tracey');\n",
    "''')"
   ]
  },
  {
   "cell_type": "code",
   "execution_count": 86,
   "id": "2fdf34de",
   "metadata": {},
   "outputs": [
    {
     "data": {
      "text/html": [
       "<div>\n",
       "<style scoped>\n",
       "    .dataframe tbody tr th:only-of-type {\n",
       "        vertical-align: middle;\n",
       "    }\n",
       "\n",
       "    .dataframe tbody tr th {\n",
       "        vertical-align: top;\n",
       "    }\n",
       "\n",
       "    .dataframe thead th {\n",
       "        text-align: right;\n",
       "    }\n",
       "</style>\n",
       "<table border=\"1\" class=\"dataframe\">\n",
       "  <thead>\n",
       "    <tr style=\"text-align: right;\">\n",
       "      <th></th>\n",
       "      <th>state</th>\n",
       "      <th>department</th>\n",
       "      <th>sales_person</th>\n",
       "    </tr>\n",
       "  </thead>\n",
       "  <tbody>\n",
       "    <tr>\n",
       "      <th>0</th>\n",
       "      <td>Texas</td>\n",
       "      <td>Clothing</td>\n",
       "      <td>Jake</td>\n",
       "    </tr>\n",
       "    <tr>\n",
       "      <th>1</th>\n",
       "      <td>Florida</td>\n",
       "      <td>Home Décor</td>\n",
       "      <td>Amy</td>\n",
       "    </tr>\n",
       "    <tr>\n",
       "      <th>2</th>\n",
       "      <td>Texas</td>\n",
       "      <td>Jewellery</td>\n",
       "      <td>Rachel</td>\n",
       "    </tr>\n",
       "    <tr>\n",
       "      <th>3</th>\n",
       "      <td>Texas</td>\n",
       "      <td>Home Décor</td>\n",
       "      <td>Tony</td>\n",
       "    </tr>\n",
       "    <tr>\n",
       "      <th>4</th>\n",
       "      <td>Florida</td>\n",
       "      <td>Clothing</td>\n",
       "      <td>Micky</td>\n",
       "    </tr>\n",
       "    <tr>\n",
       "      <th>5</th>\n",
       "      <td>Texas</td>\n",
       "      <td>Clothing</td>\n",
       "      <td>Howard</td>\n",
       "    </tr>\n",
       "    <tr>\n",
       "      <th>6</th>\n",
       "      <td>Florida</td>\n",
       "      <td>Jewellery</td>\n",
       "      <td>Tracey</td>\n",
       "    </tr>\n",
       "  </tbody>\n",
       "</table>\n",
       "</div>"
      ],
      "text/plain": [
       "     state  department sales_person\n",
       "0    Texas    Clothing         Jake\n",
       "1  Florida  Home Décor          Amy\n",
       "2    Texas   Jewellery       Rachel\n",
       "3    Texas  Home Décor         Tony\n",
       "4  Florida    Clothing        Micky\n",
       "5    Texas    Clothing       Howard\n",
       "6  Florida   Jewellery       Tracey"
      ]
     },
     "metadata": {},
     "output_type": "display_data"
    }
   ],
   "source": [
    "cur.execute('''\n",
    "SELECT *\n",
    "FROM sales_data\n",
    "''')\n",
    "\n",
    "result = cur.fetchall()\n",
    "\n",
    "df = pd.DataFrame(result, columns=[item[0] for item in cur.description])\n",
    "display(df)"
   ]
  },
  {
   "cell_type": "markdown",
   "id": "5dde7d6d",
   "metadata": {},
   "source": [
    "##### Write sub query to display highest state from the above table.\n"
   ]
  },
  {
   "cell_type": "code",
   "execution_count": 87,
   "id": "6934e386",
   "metadata": {},
   "outputs": [
    {
     "data": {
      "text/html": [
       "<div>\n",
       "<style scoped>\n",
       "    .dataframe tbody tr th:only-of-type {\n",
       "        vertical-align: middle;\n",
       "    }\n",
       "\n",
       "    .dataframe tbody tr th {\n",
       "        vertical-align: top;\n",
       "    }\n",
       "\n",
       "    .dataframe thead th {\n",
       "        text-align: right;\n",
       "    }\n",
       "</style>\n",
       "<table border=\"1\" class=\"dataframe\">\n",
       "  <thead>\n",
       "    <tr style=\"text-align: right;\">\n",
       "      <th></th>\n",
       "      <th>state</th>\n",
       "    </tr>\n",
       "  </thead>\n",
       "  <tbody>\n",
       "    <tr>\n",
       "      <th>0</th>\n",
       "      <td>Florida</td>\n",
       "    </tr>\n",
       "  </tbody>\n",
       "</table>\n",
       "</div>"
      ],
      "text/plain": [
       "     state\n",
       "0  Florida"
      ]
     },
     "metadata": {},
     "output_type": "display_data"
    }
   ],
   "source": [
    "cur.execute('''\n",
    "SELECT DISTINCT state\n",
    "FROM sales_data\n",
    "WHERE LENGTH(state) = (\n",
    "  SELECT MAX(LENGTH(state))\n",
    "  FROM sales_data\n",
    ");\n",
    "''')\n",
    "\n",
    "result = cur.fetchall()\n",
    "\n",
    "df = pd.DataFrame(result, columns=[item[0] for item in cur.description])\n",
    "display(df)"
   ]
  },
  {
   "cell_type": "markdown",
   "id": "710f7e37",
   "metadata": {},
   "source": [
    "##### Write sub query to display the name of the sales person  who work in Clothing departments."
   ]
  },
  {
   "cell_type": "code",
   "execution_count": 88,
   "id": "4c4f4077",
   "metadata": {},
   "outputs": [
    {
     "data": {
      "text/html": [
       "<div>\n",
       "<style scoped>\n",
       "    .dataframe tbody tr th:only-of-type {\n",
       "        vertical-align: middle;\n",
       "    }\n",
       "\n",
       "    .dataframe tbody tr th {\n",
       "        vertical-align: top;\n",
       "    }\n",
       "\n",
       "    .dataframe thead th {\n",
       "        text-align: right;\n",
       "    }\n",
       "</style>\n",
       "<table border=\"1\" class=\"dataframe\">\n",
       "  <thead>\n",
       "    <tr style=\"text-align: right;\">\n",
       "      <th></th>\n",
       "      <th>sales_person</th>\n",
       "      <th>department</th>\n",
       "    </tr>\n",
       "  </thead>\n",
       "  <tbody>\n",
       "    <tr>\n",
       "      <th>0</th>\n",
       "      <td>Jake</td>\n",
       "      <td>Clothing</td>\n",
       "    </tr>\n",
       "    <tr>\n",
       "      <th>1</th>\n",
       "      <td>Micky</td>\n",
       "      <td>Clothing</td>\n",
       "    </tr>\n",
       "    <tr>\n",
       "      <th>2</th>\n",
       "      <td>Howard</td>\n",
       "      <td>Clothing</td>\n",
       "    </tr>\n",
       "  </tbody>\n",
       "</table>\n",
       "</div>"
      ],
      "text/plain": [
       "  sales_person department\n",
       "0         Jake   Clothing\n",
       "1        Micky   Clothing\n",
       "2       Howard   Clothing"
      ]
     },
     "metadata": {},
     "output_type": "display_data"
    }
   ],
   "source": [
    "# Multiple Row Sub-Query\n",
    "cur.execute('''\n",
    "SELECT sales_person, department\n",
    "FROM sales_data\n",
    "WHERE sales_person IN (\n",
    "    SELECT sales_person\n",
    "    FROM sales_data\n",
    "    WHERE department = 'Clothing'\n",
    ");\n",
    "''')\n",
    "\n",
    "result = cur.fetchall()\n",
    "\n",
    "df = pd.DataFrame(result, columns=[item[0] for item in cur.description])\n",
    "display(df)"
   ]
  },
  {
   "cell_type": "code",
   "execution_count": 89,
   "id": "db9a80b0",
   "metadata": {},
   "outputs": [
    {
     "data": {
      "text/html": [
       "<div>\n",
       "<style scoped>\n",
       "    .dataframe tbody tr th:only-of-type {\n",
       "        vertical-align: middle;\n",
       "    }\n",
       "\n",
       "    .dataframe tbody tr th {\n",
       "        vertical-align: top;\n",
       "    }\n",
       "\n",
       "    .dataframe thead th {\n",
       "        text-align: right;\n",
       "    }\n",
       "</style>\n",
       "<table border=\"1\" class=\"dataframe\">\n",
       "  <thead>\n",
       "    <tr style=\"text-align: right;\">\n",
       "      <th></th>\n",
       "      <th>sales_person</th>\n",
       "      <th>department</th>\n",
       "    </tr>\n",
       "  </thead>\n",
       "  <tbody>\n",
       "    <tr>\n",
       "      <th>0</th>\n",
       "      <td>Jake</td>\n",
       "      <td>Clothing</td>\n",
       "    </tr>\n",
       "    <tr>\n",
       "      <th>1</th>\n",
       "      <td>Micky</td>\n",
       "      <td>Clothing</td>\n",
       "    </tr>\n",
       "    <tr>\n",
       "      <th>2</th>\n",
       "      <td>Howard</td>\n",
       "      <td>Clothing</td>\n",
       "    </tr>\n",
       "  </tbody>\n",
       "</table>\n",
       "</div>"
      ],
      "text/plain": [
       "  sales_person department\n",
       "0         Jake   Clothing\n",
       "1        Micky   Clothing\n",
       "2       Howard   Clothing"
      ]
     },
     "metadata": {},
     "output_type": "display_data"
    }
   ],
   "source": [
    "# Inline View Sub-Query\n",
    "cur.execute('''\n",
    "SELECT *\n",
    "FROM (\n",
    "    SELECT sales_person, department\n",
    "    FROM sales_data\n",
    "    WHERE department = 'Clothing'\n",
    ");\n",
    "''')\n",
    "\n",
    "result = cur.fetchall()\n",
    "\n",
    "df = pd.DataFrame(result, columns=[item[0] for item in cur.description])\n",
    "display(df)"
   ]
  },
  {
   "cell_type": "markdown",
   "id": "f81d1f7f",
   "metadata": {},
   "source": [
    "##### Find out the count of states from the above table:"
   ]
  },
  {
   "cell_type": "code",
   "execution_count": 90,
   "id": "20a18453",
   "metadata": {},
   "outputs": [
    {
     "data": {
      "text/html": [
       "<div>\n",
       "<style scoped>\n",
       "    .dataframe tbody tr th:only-of-type {\n",
       "        vertical-align: middle;\n",
       "    }\n",
       "\n",
       "    .dataframe tbody tr th {\n",
       "        vertical-align: top;\n",
       "    }\n",
       "\n",
       "    .dataframe thead th {\n",
       "        text-align: right;\n",
       "    }\n",
       "</style>\n",
       "<table border=\"1\" class=\"dataframe\">\n",
       "  <thead>\n",
       "    <tr style=\"text-align: right;\">\n",
       "      <th></th>\n",
       "      <th>state_count</th>\n",
       "    </tr>\n",
       "  </thead>\n",
       "  <tbody>\n",
       "    <tr>\n",
       "      <th>0</th>\n",
       "      <td>2</td>\n",
       "    </tr>\n",
       "  </tbody>\n",
       "</table>\n",
       "</div>"
      ],
      "text/plain": [
       "   state_count\n",
       "0            2"
      ]
     },
     "metadata": {},
     "output_type": "display_data"
    }
   ],
   "source": [
    "# Inline View Sub-Query\n",
    "cur.execute('''\n",
    "SELECT *\n",
    "FROM (\n",
    "    SELECT COUNT(DISTINCT state) as state_count\n",
    "    FROM sales_data);\n",
    "''')\n",
    "\n",
    "result = cur.fetchall()\n",
    "\n",
    "df = pd.DataFrame(result, columns=[item[0] for item in cur.description])\n",
    "display(df)"
   ]
  },
  {
   "cell_type": "markdown",
   "id": "aadd67b9",
   "metadata": {},
   "source": [
    "# Question 20"
   ]
  },
  {
   "cell_type": "code",
   "execution_count": 91,
   "id": "157f68b8",
   "metadata": {},
   "outputs": [],
   "source": [
    "cnn = sqlite3.connect('database14.db')\n",
    "cur = cnn.cursor()"
   ]
  },
  {
   "cell_type": "code",
   "execution_count": 92,
   "id": "471ac1cd",
   "metadata": {},
   "outputs": [
    {
     "data": {
      "text/plain": [
       "<sqlite3.Cursor at 0x1f7b201ad40>"
      ]
     },
     "execution_count": 92,
     "metadata": {},
     "output_type": "execute_result"
    }
   ],
   "source": [
    "cur.execute('''\n",
    "CREATE TABLE Employee (\n",
    "    Emp_id CHAR(4),\n",
    "    Emp_name VARCHAR(50),\n",
    "    Emp_salary INT,\n",
    "    Emp_add VARCHAR(50),\n",
    "    Emp_mobno BIGINT\n",
    ");\n",
    "''')"
   ]
  },
  {
   "cell_type": "code",
   "execution_count": 93,
   "id": "0a37f7ad",
   "metadata": {},
   "outputs": [
    {
     "data": {
      "text/plain": [
       "<sqlite3.Cursor at 0x1f7b201ad40>"
      ]
     },
     "execution_count": 93,
     "metadata": {},
     "output_type": "execute_result"
    }
   ],
   "source": [
    "cur.execute('''\n",
    "INSERT INTO Employee (Emp_id, Emp_name, Emp_salary, Emp_add, Emp_mobno)\n",
    "VALUES\n",
    "('0101', 'Rahul', 10000, 'Delhi', 9005689758),\n",
    "('0102', 'Ajit', 20000, 'Mumbai', 9091659878),\n",
    "('0103', 'Nupur', 30000, 'MP', 8025947895),\n",
    "('0104', 'Swati', 40000, 'UP', 9958974635);\n",
    "''')"
   ]
  },
  {
   "cell_type": "code",
   "execution_count": 94,
   "id": "ce224c1c",
   "metadata": {},
   "outputs": [
    {
     "data": {
      "text/html": [
       "<div>\n",
       "<style scoped>\n",
       "    .dataframe tbody tr th:only-of-type {\n",
       "        vertical-align: middle;\n",
       "    }\n",
       "\n",
       "    .dataframe tbody tr th {\n",
       "        vertical-align: top;\n",
       "    }\n",
       "\n",
       "    .dataframe thead th {\n",
       "        text-align: right;\n",
       "    }\n",
       "</style>\n",
       "<table border=\"1\" class=\"dataframe\">\n",
       "  <thead>\n",
       "    <tr style=\"text-align: right;\">\n",
       "      <th></th>\n",
       "      <th>Emp_id</th>\n",
       "      <th>Emp_name</th>\n",
       "      <th>Emp_salary</th>\n",
       "      <th>Emp_add</th>\n",
       "      <th>Emp_mobno</th>\n",
       "    </tr>\n",
       "  </thead>\n",
       "  <tbody>\n",
       "    <tr>\n",
       "      <th>0</th>\n",
       "      <td>0101</td>\n",
       "      <td>Rahul</td>\n",
       "      <td>10000</td>\n",
       "      <td>Delhi</td>\n",
       "      <td>9005689758</td>\n",
       "    </tr>\n",
       "    <tr>\n",
       "      <th>1</th>\n",
       "      <td>0102</td>\n",
       "      <td>Ajit</td>\n",
       "      <td>20000</td>\n",
       "      <td>Mumbai</td>\n",
       "      <td>9091659878</td>\n",
       "    </tr>\n",
       "    <tr>\n",
       "      <th>2</th>\n",
       "      <td>0103</td>\n",
       "      <td>Nupur</td>\n",
       "      <td>30000</td>\n",
       "      <td>MP</td>\n",
       "      <td>8025947895</td>\n",
       "    </tr>\n",
       "    <tr>\n",
       "      <th>3</th>\n",
       "      <td>0104</td>\n",
       "      <td>Swati</td>\n",
       "      <td>40000</td>\n",
       "      <td>UP</td>\n",
       "      <td>9958974635</td>\n",
       "    </tr>\n",
       "  </tbody>\n",
       "</table>\n",
       "</div>"
      ],
      "text/plain": [
       "  Emp_id Emp_name  Emp_salary Emp_add   Emp_mobno\n",
       "0   0101    Rahul       10000   Delhi  9005689758\n",
       "1   0102     Ajit       20000  Mumbai  9091659878\n",
       "2   0103    Nupur       30000      MP  8025947895\n",
       "3   0104    Swati       40000      UP  9958974635"
      ]
     },
     "metadata": {},
     "output_type": "display_data"
    }
   ],
   "source": [
    "cur.execute('''\n",
    "SELECT *\n",
    "FROM Employee\n",
    "''')\n",
    "\n",
    "result = cur.fetchall()\n",
    "\n",
    "df = pd.DataFrame(result, columns=[item[0] for item in cur.description])\n",
    "display(df)"
   ]
  },
  {
   "cell_type": "markdown",
   "id": "2c5169bf",
   "metadata": {},
   "source": [
    "##### Write subquery to display the highest salary from the above table:\n",
    "\n"
   ]
  },
  {
   "cell_type": "code",
   "execution_count": 95,
   "id": "dec428c0",
   "metadata": {},
   "outputs": [
    {
     "data": {
      "text/html": [
       "<div>\n",
       "<style scoped>\n",
       "    .dataframe tbody tr th:only-of-type {\n",
       "        vertical-align: middle;\n",
       "    }\n",
       "\n",
       "    .dataframe tbody tr th {\n",
       "        vertical-align: top;\n",
       "    }\n",
       "\n",
       "    .dataframe thead th {\n",
       "        text-align: right;\n",
       "    }\n",
       "</style>\n",
       "<table border=\"1\" class=\"dataframe\">\n",
       "  <thead>\n",
       "    <tr style=\"text-align: right;\">\n",
       "      <th></th>\n",
       "      <th>Emp_salary</th>\n",
       "    </tr>\n",
       "  </thead>\n",
       "  <tbody>\n",
       "    <tr>\n",
       "      <th>0</th>\n",
       "      <td>40000</td>\n",
       "    </tr>\n",
       "  </tbody>\n",
       "</table>\n",
       "</div>"
      ],
      "text/plain": [
       "   Emp_salary\n",
       "0       40000"
      ]
     },
     "metadata": {},
     "output_type": "display_data"
    }
   ],
   "source": [
    "# Scalar Sub-Query\n",
    "cur.execute('''\n",
    "SELECT Emp_salary\n",
    "FROM Employee\n",
    "WHERE Emp_salary IN (\n",
    "    SELECT MAX(Emp_salary) \n",
    "    FROM Employee\n",
    ");\n",
    "''')\n",
    "\n",
    "result = cur.fetchall()\n",
    "\n",
    "df = pd.DataFrame(result, columns=[item[0] for item in cur.description])\n",
    "display(df)"
   ]
  },
  {
   "cell_type": "markdown",
   "id": "ae73e191",
   "metadata": {},
   "source": [
    "##### Write subquery to display the name of the employee having the maximum salary:\n",
    "\n"
   ]
  },
  {
   "cell_type": "code",
   "execution_count": 96,
   "id": "6385c33a",
   "metadata": {},
   "outputs": [
    {
     "data": {
      "text/html": [
       "<div>\n",
       "<style scoped>\n",
       "    .dataframe tbody tr th:only-of-type {\n",
       "        vertical-align: middle;\n",
       "    }\n",
       "\n",
       "    .dataframe tbody tr th {\n",
       "        vertical-align: top;\n",
       "    }\n",
       "\n",
       "    .dataframe thead th {\n",
       "        text-align: right;\n",
       "    }\n",
       "</style>\n",
       "<table border=\"1\" class=\"dataframe\">\n",
       "  <thead>\n",
       "    <tr style=\"text-align: right;\">\n",
       "      <th></th>\n",
       "      <th>Emp_name</th>\n",
       "    </tr>\n",
       "  </thead>\n",
       "  <tbody>\n",
       "    <tr>\n",
       "      <th>0</th>\n",
       "      <td>Swati</td>\n",
       "    </tr>\n",
       "  </tbody>\n",
       "</table>\n",
       "</div>"
      ],
      "text/plain": [
       "  Emp_name\n",
       "0    Swati"
      ]
     },
     "metadata": {},
     "output_type": "display_data"
    }
   ],
   "source": [
    "# Scalar Sub-Query\n",
    "cur.execute('''\n",
    "SELECT Emp_name\n",
    "FROM Employee\n",
    "WHERE Emp_salary = (\n",
    "    SELECT MAX(Emp_salary) \n",
    "    FROM Employee\n",
    ");\n",
    "''')\n",
    "\n",
    "result = cur.fetchall()\n",
    "\n",
    "df = pd.DataFrame(result, columns=[item[0] for item in cur.description])\n",
    "display(df)"
   ]
  },
  {
   "cell_type": "markdown",
   "id": "d02746c5",
   "metadata": {},
   "source": [
    "##### Find out the average salary from the above table:"
   ]
  },
  {
   "cell_type": "code",
   "execution_count": 97,
   "id": "ca14cf9b",
   "metadata": {},
   "outputs": [
    {
     "data": {
      "text/html": [
       "<div>\n",
       "<style scoped>\n",
       "    .dataframe tbody tr th:only-of-type {\n",
       "        vertical-align: middle;\n",
       "    }\n",
       "\n",
       "    .dataframe tbody tr th {\n",
       "        vertical-align: top;\n",
       "    }\n",
       "\n",
       "    .dataframe thead th {\n",
       "        text-align: right;\n",
       "    }\n",
       "</style>\n",
       "<table border=\"1\" class=\"dataframe\">\n",
       "  <thead>\n",
       "    <tr style=\"text-align: right;\">\n",
       "      <th></th>\n",
       "      <th>AVG(Emp_salary)</th>\n",
       "    </tr>\n",
       "  </thead>\n",
       "  <tbody>\n",
       "    <tr>\n",
       "      <th>0</th>\n",
       "      <td>25000.0</td>\n",
       "    </tr>\n",
       "  </tbody>\n",
       "</table>\n",
       "</div>"
      ],
      "text/plain": [
       "   AVG(Emp_salary)\n",
       "0          25000.0"
      ]
     },
     "metadata": {},
     "output_type": "display_data"
    }
   ],
   "source": [
    "cur.execute('''\n",
    "SELECT * \n",
    "FROM (\n",
    "    SELECT AVG(Emp_salary) \n",
    "    FROM Employee\n",
    ")\n",
    "''')\n",
    "\n",
    "result = cur.fetchall()\n",
    "\n",
    "df = pd.DataFrame(result, columns=[item[0] for item in cur.description])\n",
    "display(df)"
   ]
  },
  {
   "cell_type": "code",
   "execution_count": null,
   "id": "e49bfc9f",
   "metadata": {},
   "outputs": [],
   "source": []
  },
  {
   "cell_type": "markdown",
   "id": "312e7d8a",
   "metadata": {},
   "source": [
    "# Question 24:"
   ]
  },
  {
   "cell_type": "code",
   "execution_count": 98,
   "id": "c7a4095b",
   "metadata": {},
   "outputs": [
    {
     "name": "stdout",
     "output_type": "stream",
     "text": [
      "Requirement already satisfied: mysql-connector-python in c:\\users\\nisar\\anaconda3\\lib\\site-packages (8.0.33)\n",
      "Requirement already satisfied: protobuf<=3.20.3,>=3.11.0 in c:\\users\\nisar\\anaconda3\\lib\\site-packages (from mysql-connector-python) (3.20.3)\n"
     ]
    }
   ],
   "source": [
    "# Import the required library for connecting to MySQL\n",
    "!pip install mysql-connector-python\n",
    "import mysql.connector as sql"
   ]
  },
  {
   "cell_type": "code",
   "execution_count": 99,
   "id": "7bd2628a",
   "metadata": {},
   "outputs": [],
   "source": [
    "# Establish a connection to the MySQL server with provided credentials\n",
    "mydb = sql.connect(\n",
    "    host=\"localhost\",       \n",
    "    user=\"root\",            \n",
    "    password=\"11111111\" \n",
    ")"
   ]
  },
  {
   "cell_type": "code",
   "execution_count": 100,
   "id": "0629170c",
   "metadata": {},
   "outputs": [],
   "source": [
    "# Create a cursor object to interact with the MySQL database\n",
    "mycursor = mydb.cursor()"
   ]
  },
  {
   "cell_type": "code",
   "execution_count": 101,
   "id": "707ea4f4",
   "metadata": {},
   "outputs": [],
   "source": [
    "# Create a new database\n",
    "mycursor.execute('''\n",
    "CREATE DATABASE MyStore;\n",
    "''')"
   ]
  },
  {
   "cell_type": "code",
   "execution_count": 102,
   "id": "9dc01059",
   "metadata": {},
   "outputs": [],
   "source": [
    "# Switch to the database\n",
    "mycursor.execute('''\n",
    "USE MyStore;\n",
    "''')"
   ]
  },
  {
   "cell_type": "code",
   "execution_count": 103,
   "id": "26986556",
   "metadata": {},
   "outputs": [],
   "source": [
    "# Create a new table\n",
    "mycursor.execute('''\n",
    "CREATE TABLE ProductType (\n",
    "  ProductTypeID int PRIMARY KEY,\n",
    "  ProductTypeName varchar(255) NOT NULL\n",
    ");\n",
    "''')"
   ]
  },
  {
   "cell_type": "code",
   "execution_count": 104,
   "id": "6d505a8b",
   "metadata": {},
   "outputs": [],
   "source": [
    "mycursor.execute('''\n",
    "INSERT INTO ProductType VALUES \n",
    "(1, 'Electronics'),\n",
    "(2, 'Clothing');\n",
    "''')"
   ]
  },
  {
   "cell_type": "code",
   "execution_count": 105,
   "id": "e87f8541",
   "metadata": {},
   "outputs": [],
   "source": [
    "mycursor.execute('''\n",
    "CREATE TABLE Product (\n",
    "  ProductID int PRIMARY KEY,\n",
    "  ProductTypeID int NOT NULL,\n",
    "  ProductName varchar(255) NOT NULL,\n",
    "  UnitSalePrice decimal(10,2) NOT NULL,\n",
    "  UnitCosts decimal(10,2) NOT NULL,\n",
    "  Volume int NOT NULL,\n",
    "  VariableCosts decimal(10,2) NOT NULL,\n",
    "  IndirectCosts decimal(10,2) NOT NULL,\n",
    "  FOREIGN KEY (ProductTypeID) REFERENCES ProductType(ProductTypeID)\n",
    ");\n",
    "''')"
   ]
  },
  {
   "cell_type": "code",
   "execution_count": 106,
   "id": "7312953d",
   "metadata": {},
   "outputs": [],
   "source": [
    "mycursor.execute('''\n",
    "INSERT INTO Product VALUES \n",
    "(1, 1, 'Product A', 100.00, 50.00, 1000, 20.00, 10.00),\n",
    "(2, 2, 'Product B', 50.00, 25.00, 500, 15.00, 5.00),\n",
    "(3, 1, 'Product C', 75.00, 37.50, 750, 18.75, 6.25);\n",
    "''')"
   ]
  },
  {
   "cell_type": "code",
   "execution_count": 107,
   "id": "ba8a4cc9",
   "metadata": {},
   "outputs": [],
   "source": [
    "# Create a new table\n",
    "mycursor.execute('''\n",
    "CREATE TABLE Time (\n",
    "  TimeID int PRIMARY KEY,\n",
    "  Year int NOT NULL,\n",
    "  Quarter int NOT NULL,\n",
    "  Month int NOT NULL\n",
    ");\n",
    "''')"
   ]
  },
  {
   "cell_type": "code",
   "execution_count": 108,
   "id": "3fd3607c",
   "metadata": {},
   "outputs": [],
   "source": [
    "mycursor.execute('''\n",
    "INSERT INTO Time VALUES \n",
    "(1, 2023, 1, 1),\n",
    "(2, 2023, 1, 2),\n",
    "(3, 2023, 1, 3);\n",
    "''')"
   ]
  },
  {
   "cell_type": "code",
   "execution_count": 109,
   "id": "ecae1a94",
   "metadata": {},
   "outputs": [],
   "source": [
    "# Create a new table\n",
    "mycursor.execute('''\n",
    "CREATE TABLE FinancialFacts (\n",
    "  FinancialFactsID int PRIMARY KEY,\n",
    "  ProductID int NOT NULL,\n",
    "  TimeID int NOT NULL,\n",
    "  Profit decimal(10,2) NOT NULL,\n",
    "  Revenues decimal(10,2) NOT NULL,\n",
    "  Costs decimal(10,2) NOT NULL,\n",
    "  FOREIGN KEY (ProductID) REFERENCES Product(ProductID),\n",
    "  FOREIGN KEY (TimeID) REFERENCES Time(TimeID)\n",
    ");\n",
    "''')"
   ]
  },
  {
   "cell_type": "code",
   "execution_count": 110,
   "id": "d97cb389",
   "metadata": {},
   "outputs": [],
   "source": [
    "mycursor.execute('''\n",
    "INSERT INTO FinancialFacts VALUES \n",
    "(1, 1, 1, 50.00, 100.00, 50.00),\n",
    "(2, 2, 2, 25.00, 50.00, 25.00),\n",
    "(3, 3, 3, 37.50, 75.00, 37.50);\n",
    "''')"
   ]
  },
  {
   "cell_type": "code",
   "execution_count": 111,
   "id": "bcbb682e",
   "metadata": {},
   "outputs": [],
   "source": [
    "# Create a new table\n",
    "mycursor.execute('''\n",
    "CREATE TABLE City (\n",
    "  CityID int PRIMARY KEY,\n",
    "  CityName varchar(255) NOT NULL\n",
    ");\n",
    "''')"
   ]
  },
  {
   "cell_type": "code",
   "execution_count": 112,
   "id": "73e41e7c",
   "metadata": {},
   "outputs": [],
   "source": [
    "mycursor.execute('''\n",
    "INSERT INTO City VALUES \n",
    "(1, 'City A'),\n",
    "(2, 'City B');\n",
    "''')"
   ]
  },
  {
   "cell_type": "code",
   "execution_count": 113,
   "id": "115b8c16",
   "metadata": {},
   "outputs": [],
   "source": [
    "# Create a new table\n",
    "mycursor.execute('''\n",
    "CREATE TABLE Country (\n",
    "  CountryID int PRIMARY KEY,\n",
    "  CountryName varchar(255) NOT NULL\n",
    ");\n",
    "''')"
   ]
  },
  {
   "cell_type": "code",
   "execution_count": 114,
   "id": "6abc6328",
   "metadata": {},
   "outputs": [],
   "source": [
    "mycursor.execute('''\n",
    "INSERT INTO Country\n",
    "VALUES (1, 'Country 1');\n",
    "''')"
   ]
  },
  {
   "cell_type": "code",
   "execution_count": 115,
   "id": "cb2ba1fb",
   "metadata": {},
   "outputs": [],
   "source": [
    "# Create a new table\n",
    "mycursor.execute('''\n",
    "CREATE TABLE Location (\n",
    "  LocationID int PRIMARY KEY,\n",
    "  Name varchar(255) NOT NULL,\n",
    "  Position int NOT NULL,\n",
    "  CityID int NOT NULL,\n",
    "  CountryID int NOT NULL,\n",
    "  FOREIGN KEY (CityID) REFERENCES City(CityID),\n",
    "  FOREIGN KEY (CountryID) REFERENCES Country(CountryID)\n",
    ");\n",
    "''')"
   ]
  },
  {
   "cell_type": "code",
   "execution_count": 116,
   "id": "ff74c914",
   "metadata": {},
   "outputs": [],
   "source": [
    "mycursor.execute('''\n",
    "INSERT INTO Location VALUES \n",
    "(1, 'Store 1', 1, 1, 1),\n",
    "(2, 'Store 2', 2, 1, 1),\n",
    "(3, 'Warehouse 1', 3, 2, 1);\n",
    "''')"
   ]
  },
  {
   "cell_type": "code",
   "execution_count": 117,
   "id": "f5ed3051",
   "metadata": {},
   "outputs": [],
   "source": [
    "# Create a new table\n",
    "mycursor.execute('''\n",
    "CREATE TABLE VendorDivision (\n",
    "  VendorDivisionID int PRIMARY KEY,\n",
    "  VendorDivisionName varchar(255) NOT NULL\n",
    ");\n",
    "''')"
   ]
  },
  {
   "cell_type": "code",
   "execution_count": 118,
   "id": "e888919a",
   "metadata": {},
   "outputs": [],
   "source": [
    "mycursor.execute('''\n",
    "INSERT INTO VendorDivision VALUES \n",
    "(1, 'Division A'),\n",
    "(2, 'Division B');\n",
    "''')"
   ]
  },
  {
   "cell_type": "code",
   "execution_count": 119,
   "id": "0ec4cfe0",
   "metadata": {},
   "outputs": [],
   "source": [
    "# Create a new table\n",
    "mycursor.execute('''\n",
    "CREATE TABLE Vendor (\n",
    "  VendorID int PRIMARY KEY,\n",
    "  VendorName varchar(255) NOT NULL,\n",
    "  VendorDivisionID int NOT NULL,\n",
    "  FOREIGN KEY (VendorDivisionID) REFERENCES VendorDivision(VendorDivisionID)\n",
    ");\n",
    "''')"
   ]
  },
  {
   "cell_type": "code",
   "execution_count": 120,
   "id": "a11df0ec",
   "metadata": {},
   "outputs": [],
   "source": [
    "mycursor.execute('''\n",
    "INSERT INTO Vendor VALUES \n",
    "(1, 'Vendor A', 1),\n",
    "(2, 'Vendor B', 2);\n",
    "''')"
   ]
  },
  {
   "cell_type": "code",
   "execution_count": 121,
   "id": "9c3e7cb4",
   "metadata": {},
   "outputs": [
    {
     "data": {
      "text/html": [
       "<div>\n",
       "<style scoped>\n",
       "    .dataframe tbody tr th:only-of-type {\n",
       "        vertical-align: middle;\n",
       "    }\n",
       "\n",
       "    .dataframe tbody tr th {\n",
       "        vertical-align: top;\n",
       "    }\n",
       "\n",
       "    .dataframe thead th {\n",
       "        text-align: right;\n",
       "    }\n",
       "</style>\n",
       "<table border=\"1\" class=\"dataframe\">\n",
       "  <thead>\n",
       "    <tr style=\"text-align: right;\">\n",
       "      <th></th>\n",
       "      <th>ProductID</th>\n",
       "      <th>ProductTypeID</th>\n",
       "      <th>ProductName</th>\n",
       "      <th>UnitSalePrice</th>\n",
       "      <th>UnitCosts</th>\n",
       "      <th>Volume</th>\n",
       "      <th>VariableCosts</th>\n",
       "      <th>IndirectCosts</th>\n",
       "    </tr>\n",
       "  </thead>\n",
       "  <tbody>\n",
       "    <tr>\n",
       "      <th>0</th>\n",
       "      <td>1</td>\n",
       "      <td>1</td>\n",
       "      <td>Product A</td>\n",
       "      <td>100.00</td>\n",
       "      <td>50.00</td>\n",
       "      <td>1000</td>\n",
       "      <td>20.00</td>\n",
       "      <td>10.00</td>\n",
       "    </tr>\n",
       "    <tr>\n",
       "      <th>1</th>\n",
       "      <td>2</td>\n",
       "      <td>2</td>\n",
       "      <td>Product B</td>\n",
       "      <td>50.00</td>\n",
       "      <td>25.00</td>\n",
       "      <td>500</td>\n",
       "      <td>15.00</td>\n",
       "      <td>5.00</td>\n",
       "    </tr>\n",
       "    <tr>\n",
       "      <th>2</th>\n",
       "      <td>3</td>\n",
       "      <td>1</td>\n",
       "      <td>Product C</td>\n",
       "      <td>75.00</td>\n",
       "      <td>37.50</td>\n",
       "      <td>750</td>\n",
       "      <td>18.75</td>\n",
       "      <td>6.25</td>\n",
       "    </tr>\n",
       "  </tbody>\n",
       "</table>\n",
       "</div>"
      ],
      "text/plain": [
       "   ProductID  ProductTypeID ProductName UnitSalePrice UnitCosts  Volume  \\\n",
       "0          1              1   Product A        100.00     50.00    1000   \n",
       "1          2              2   Product B         50.00     25.00     500   \n",
       "2          3              1   Product C         75.00     37.50     750   \n",
       "\n",
       "  VariableCosts IndirectCosts  \n",
       "0         20.00         10.00  \n",
       "1         15.00          5.00  \n",
       "2         18.75          6.25  "
      ]
     },
     "metadata": {},
     "output_type": "display_data"
    },
    {
     "data": {
      "text/html": [
       "<div>\n",
       "<style scoped>\n",
       "    .dataframe tbody tr th:only-of-type {\n",
       "        vertical-align: middle;\n",
       "    }\n",
       "\n",
       "    .dataframe tbody tr th {\n",
       "        vertical-align: top;\n",
       "    }\n",
       "\n",
       "    .dataframe thead th {\n",
       "        text-align: right;\n",
       "    }\n",
       "</style>\n",
       "<table border=\"1\" class=\"dataframe\">\n",
       "  <thead>\n",
       "    <tr style=\"text-align: right;\">\n",
       "      <th></th>\n",
       "      <th>ProductTypeID</th>\n",
       "      <th>ProductTypeName</th>\n",
       "    </tr>\n",
       "  </thead>\n",
       "  <tbody>\n",
       "    <tr>\n",
       "      <th>0</th>\n",
       "      <td>1</td>\n",
       "      <td>Electronics</td>\n",
       "    </tr>\n",
       "    <tr>\n",
       "      <th>1</th>\n",
       "      <td>2</td>\n",
       "      <td>Clothing</td>\n",
       "    </tr>\n",
       "  </tbody>\n",
       "</table>\n",
       "</div>"
      ],
      "text/plain": [
       "   ProductTypeID ProductTypeName\n",
       "0              1     Electronics\n",
       "1              2        Clothing"
      ]
     },
     "metadata": {},
     "output_type": "display_data"
    },
    {
     "data": {
      "text/html": [
       "<div>\n",
       "<style scoped>\n",
       "    .dataframe tbody tr th:only-of-type {\n",
       "        vertical-align: middle;\n",
       "    }\n",
       "\n",
       "    .dataframe tbody tr th {\n",
       "        vertical-align: top;\n",
       "    }\n",
       "\n",
       "    .dataframe thead th {\n",
       "        text-align: right;\n",
       "    }\n",
       "</style>\n",
       "<table border=\"1\" class=\"dataframe\">\n",
       "  <thead>\n",
       "    <tr style=\"text-align: right;\">\n",
       "      <th></th>\n",
       "      <th>TimeID</th>\n",
       "      <th>Year</th>\n",
       "      <th>Quarter</th>\n",
       "      <th>Month</th>\n",
       "    </tr>\n",
       "  </thead>\n",
       "  <tbody>\n",
       "    <tr>\n",
       "      <th>0</th>\n",
       "      <td>1</td>\n",
       "      <td>2023</td>\n",
       "      <td>1</td>\n",
       "      <td>1</td>\n",
       "    </tr>\n",
       "    <tr>\n",
       "      <th>1</th>\n",
       "      <td>2</td>\n",
       "      <td>2023</td>\n",
       "      <td>1</td>\n",
       "      <td>2</td>\n",
       "    </tr>\n",
       "    <tr>\n",
       "      <th>2</th>\n",
       "      <td>3</td>\n",
       "      <td>2023</td>\n",
       "      <td>1</td>\n",
       "      <td>3</td>\n",
       "    </tr>\n",
       "  </tbody>\n",
       "</table>\n",
       "</div>"
      ],
      "text/plain": [
       "   TimeID  Year  Quarter  Month\n",
       "0       1  2023        1      1\n",
       "1       2  2023        1      2\n",
       "2       3  2023        1      3"
      ]
     },
     "metadata": {},
     "output_type": "display_data"
    },
    {
     "data": {
      "text/html": [
       "<div>\n",
       "<style scoped>\n",
       "    .dataframe tbody tr th:only-of-type {\n",
       "        vertical-align: middle;\n",
       "    }\n",
       "\n",
       "    .dataframe tbody tr th {\n",
       "        vertical-align: top;\n",
       "    }\n",
       "\n",
       "    .dataframe thead th {\n",
       "        text-align: right;\n",
       "    }\n",
       "</style>\n",
       "<table border=\"1\" class=\"dataframe\">\n",
       "  <thead>\n",
       "    <tr style=\"text-align: right;\">\n",
       "      <th></th>\n",
       "      <th>FinancialFactsID</th>\n",
       "      <th>ProductID</th>\n",
       "      <th>TimeID</th>\n",
       "      <th>Profit</th>\n",
       "      <th>Revenues</th>\n",
       "      <th>Costs</th>\n",
       "    </tr>\n",
       "  </thead>\n",
       "  <tbody>\n",
       "    <tr>\n",
       "      <th>0</th>\n",
       "      <td>1</td>\n",
       "      <td>1</td>\n",
       "      <td>1</td>\n",
       "      <td>50.00</td>\n",
       "      <td>100.00</td>\n",
       "      <td>50.00</td>\n",
       "    </tr>\n",
       "    <tr>\n",
       "      <th>1</th>\n",
       "      <td>2</td>\n",
       "      <td>2</td>\n",
       "      <td>2</td>\n",
       "      <td>25.00</td>\n",
       "      <td>50.00</td>\n",
       "      <td>25.00</td>\n",
       "    </tr>\n",
       "    <tr>\n",
       "      <th>2</th>\n",
       "      <td>3</td>\n",
       "      <td>3</td>\n",
       "      <td>3</td>\n",
       "      <td>37.50</td>\n",
       "      <td>75.00</td>\n",
       "      <td>37.50</td>\n",
       "    </tr>\n",
       "  </tbody>\n",
       "</table>\n",
       "</div>"
      ],
      "text/plain": [
       "   FinancialFactsID  ProductID  TimeID Profit Revenues  Costs\n",
       "0                 1          1       1  50.00   100.00  50.00\n",
       "1                 2          2       2  25.00    50.00  25.00\n",
       "2                 3          3       3  37.50    75.00  37.50"
      ]
     },
     "metadata": {},
     "output_type": "display_data"
    },
    {
     "data": {
      "text/html": [
       "<div>\n",
       "<style scoped>\n",
       "    .dataframe tbody tr th:only-of-type {\n",
       "        vertical-align: middle;\n",
       "    }\n",
       "\n",
       "    .dataframe tbody tr th {\n",
       "        vertical-align: top;\n",
       "    }\n",
       "\n",
       "    .dataframe thead th {\n",
       "        text-align: right;\n",
       "    }\n",
       "</style>\n",
       "<table border=\"1\" class=\"dataframe\">\n",
       "  <thead>\n",
       "    <tr style=\"text-align: right;\">\n",
       "      <th></th>\n",
       "      <th>LocationID</th>\n",
       "      <th>Name</th>\n",
       "      <th>Position</th>\n",
       "      <th>CityID</th>\n",
       "      <th>CountryID</th>\n",
       "    </tr>\n",
       "  </thead>\n",
       "  <tbody>\n",
       "    <tr>\n",
       "      <th>0</th>\n",
       "      <td>1</td>\n",
       "      <td>Store 1</td>\n",
       "      <td>1</td>\n",
       "      <td>1</td>\n",
       "      <td>1</td>\n",
       "    </tr>\n",
       "    <tr>\n",
       "      <th>1</th>\n",
       "      <td>2</td>\n",
       "      <td>Store 2</td>\n",
       "      <td>2</td>\n",
       "      <td>1</td>\n",
       "      <td>1</td>\n",
       "    </tr>\n",
       "    <tr>\n",
       "      <th>2</th>\n",
       "      <td>3</td>\n",
       "      <td>Warehouse 1</td>\n",
       "      <td>3</td>\n",
       "      <td>2</td>\n",
       "      <td>1</td>\n",
       "    </tr>\n",
       "  </tbody>\n",
       "</table>\n",
       "</div>"
      ],
      "text/plain": [
       "   LocationID         Name  Position  CityID  CountryID\n",
       "0           1      Store 1         1       1          1\n",
       "1           2      Store 2         2       1          1\n",
       "2           3  Warehouse 1         3       2          1"
      ]
     },
     "metadata": {},
     "output_type": "display_data"
    },
    {
     "data": {
      "text/html": [
       "<div>\n",
       "<style scoped>\n",
       "    .dataframe tbody tr th:only-of-type {\n",
       "        vertical-align: middle;\n",
       "    }\n",
       "\n",
       "    .dataframe tbody tr th {\n",
       "        vertical-align: top;\n",
       "    }\n",
       "\n",
       "    .dataframe thead th {\n",
       "        text-align: right;\n",
       "    }\n",
       "</style>\n",
       "<table border=\"1\" class=\"dataframe\">\n",
       "  <thead>\n",
       "    <tr style=\"text-align: right;\">\n",
       "      <th></th>\n",
       "      <th>CityID</th>\n",
       "      <th>CityName</th>\n",
       "    </tr>\n",
       "  </thead>\n",
       "  <tbody>\n",
       "    <tr>\n",
       "      <th>0</th>\n",
       "      <td>1</td>\n",
       "      <td>City A</td>\n",
       "    </tr>\n",
       "    <tr>\n",
       "      <th>1</th>\n",
       "      <td>2</td>\n",
       "      <td>City B</td>\n",
       "    </tr>\n",
       "  </tbody>\n",
       "</table>\n",
       "</div>"
      ],
      "text/plain": [
       "   CityID CityName\n",
       "0       1   City A\n",
       "1       2   City B"
      ]
     },
     "metadata": {},
     "output_type": "display_data"
    },
    {
     "data": {
      "text/html": [
       "<div>\n",
       "<style scoped>\n",
       "    .dataframe tbody tr th:only-of-type {\n",
       "        vertical-align: middle;\n",
       "    }\n",
       "\n",
       "    .dataframe tbody tr th {\n",
       "        vertical-align: top;\n",
       "    }\n",
       "\n",
       "    .dataframe thead th {\n",
       "        text-align: right;\n",
       "    }\n",
       "</style>\n",
       "<table border=\"1\" class=\"dataframe\">\n",
       "  <thead>\n",
       "    <tr style=\"text-align: right;\">\n",
       "      <th></th>\n",
       "      <th>CountryID</th>\n",
       "      <th>CountryName</th>\n",
       "    </tr>\n",
       "  </thead>\n",
       "  <tbody>\n",
       "    <tr>\n",
       "      <th>0</th>\n",
       "      <td>1</td>\n",
       "      <td>Country 1</td>\n",
       "    </tr>\n",
       "  </tbody>\n",
       "</table>\n",
       "</div>"
      ],
      "text/plain": [
       "   CountryID CountryName\n",
       "0          1   Country 1"
      ]
     },
     "metadata": {},
     "output_type": "display_data"
    },
    {
     "data": {
      "text/html": [
       "<div>\n",
       "<style scoped>\n",
       "    .dataframe tbody tr th:only-of-type {\n",
       "        vertical-align: middle;\n",
       "    }\n",
       "\n",
       "    .dataframe tbody tr th {\n",
       "        vertical-align: top;\n",
       "    }\n",
       "\n",
       "    .dataframe thead th {\n",
       "        text-align: right;\n",
       "    }\n",
       "</style>\n",
       "<table border=\"1\" class=\"dataframe\">\n",
       "  <thead>\n",
       "    <tr style=\"text-align: right;\">\n",
       "      <th></th>\n",
       "      <th>VendorID</th>\n",
       "      <th>VendorName</th>\n",
       "      <th>VendorDivisionID</th>\n",
       "    </tr>\n",
       "  </thead>\n",
       "  <tbody>\n",
       "    <tr>\n",
       "      <th>0</th>\n",
       "      <td>1</td>\n",
       "      <td>Vendor A</td>\n",
       "      <td>1</td>\n",
       "    </tr>\n",
       "    <tr>\n",
       "      <th>1</th>\n",
       "      <td>2</td>\n",
       "      <td>Vendor B</td>\n",
       "      <td>2</td>\n",
       "    </tr>\n",
       "  </tbody>\n",
       "</table>\n",
       "</div>"
      ],
      "text/plain": [
       "   VendorID VendorName  VendorDivisionID\n",
       "0         1   Vendor A                 1\n",
       "1         2   Vendor B                 2"
      ]
     },
     "metadata": {},
     "output_type": "display_data"
    },
    {
     "data": {
      "text/html": [
       "<div>\n",
       "<style scoped>\n",
       "    .dataframe tbody tr th:only-of-type {\n",
       "        vertical-align: middle;\n",
       "    }\n",
       "\n",
       "    .dataframe tbody tr th {\n",
       "        vertical-align: top;\n",
       "    }\n",
       "\n",
       "    .dataframe thead th {\n",
       "        text-align: right;\n",
       "    }\n",
       "</style>\n",
       "<table border=\"1\" class=\"dataframe\">\n",
       "  <thead>\n",
       "    <tr style=\"text-align: right;\">\n",
       "      <th></th>\n",
       "      <th>VendorDivisionID</th>\n",
       "      <th>VendorDivisionName</th>\n",
       "    </tr>\n",
       "  </thead>\n",
       "  <tbody>\n",
       "    <tr>\n",
       "      <th>0</th>\n",
       "      <td>1</td>\n",
       "      <td>Division A</td>\n",
       "    </tr>\n",
       "    <tr>\n",
       "      <th>1</th>\n",
       "      <td>2</td>\n",
       "      <td>Division B</td>\n",
       "    </tr>\n",
       "  </tbody>\n",
       "</table>\n",
       "</div>"
      ],
      "text/plain": [
       "   VendorDivisionID VendorDivisionName\n",
       "0                 1         Division A\n",
       "1                 2         Division B"
      ]
     },
     "metadata": {},
     "output_type": "display_data"
    }
   ],
   "source": [
    "mycursor.execute('''\n",
    "SELECT * \n",
    "FROM Product\n",
    "''')\n",
    "\n",
    "result = mycursor.fetchall()\n",
    "\n",
    "df = pd.DataFrame(result, columns=[item[0] for item in mycursor.description])\n",
    "display(df)\n",
    "\n",
    "mycursor.execute('''\n",
    "SELECT * \n",
    "FROM ProductType\n",
    "''')\n",
    "\n",
    "result = mycursor.fetchall()\n",
    "\n",
    "df = pd.DataFrame(result, columns=[item[0] for item in mycursor.description])\n",
    "display(df)\n",
    "\n",
    "mycursor.execute('''\n",
    "SELECT * \n",
    "FROM Time\n",
    "''')\n",
    "\n",
    "result = mycursor.fetchall()\n",
    "\n",
    "df = pd.DataFrame(result, columns=[item[0] for item in mycursor.description])\n",
    "display(df)\n",
    "\n",
    "mycursor.execute('''\n",
    "SELECT * \n",
    "FROM FinancialFacts\n",
    "''')\n",
    "\n",
    "result = mycursor.fetchall()\n",
    "\n",
    "df = pd.DataFrame(result, columns=[item[0] for item in mycursor.description])\n",
    "display(df)\n",
    "\n",
    "mycursor.execute('''\n",
    "SELECT * \n",
    "FROM Location\n",
    "''')\n",
    "\n",
    "result = mycursor.fetchall()\n",
    "\n",
    "df = pd.DataFrame(result, columns=[item[0] for item in mycursor.description])\n",
    "display(df)\n",
    "\n",
    "mycursor.execute('''\n",
    "SELECT * \n",
    "FROM City\n",
    "''')\n",
    "\n",
    "result = mycursor.fetchall()\n",
    "\n",
    "df = pd.DataFrame(result, columns=[item[0] for item in mycursor.description])\n",
    "display(df)\n",
    "\n",
    "mycursor.execute('''\n",
    "SELECT * \n",
    "FROM Country\n",
    "''')\n",
    "\n",
    "result = mycursor.fetchall()\n",
    "\n",
    "df = pd.DataFrame(result, columns=[item[0] for item in mycursor.description])\n",
    "display(df)\n",
    "\n",
    "mycursor.execute('''\n",
    "SELECT * \n",
    "FROM Vendor\n",
    "''')\n",
    "\n",
    "result = mycursor.fetchall()\n",
    "\n",
    "df = pd.DataFrame(result, columns=[item[0] for item in mycursor.description])\n",
    "display(df)\n",
    "\n",
    "mycursor.execute('''\n",
    "SELECT * \n",
    "FROM VendorDivision\n",
    "''')\n",
    "\n",
    "result = mycursor.fetchall()\n",
    "\n",
    "df = pd.DataFrame(result, columns=[item[0] for item in mycursor.description])\n",
    "display(df)"
   ]
  },
  {
   "cell_type": "code",
   "execution_count": 122,
   "id": "d29894cf",
   "metadata": {},
   "outputs": [],
   "source": [
    "# Close the MySQL connection\n",
    "mydb.close()"
   ]
  },
  {
   "cell_type": "markdown",
   "id": "05541c6e",
   "metadata": {},
   "source": [
    "# Question 25:"
   ]
  },
  {
   "cell_type": "code",
   "execution_count": 123,
   "id": "f37698c7",
   "metadata": {},
   "outputs": [
    {
     "name": "stdout",
     "output_type": "stream",
     "text": [
      "Requirement already satisfied: mysql-connector-python in c:\\users\\nisar\\anaconda3\\lib\\site-packages (8.0.33)\n",
      "Requirement already satisfied: protobuf<=3.20.3,>=3.11.0 in c:\\users\\nisar\\anaconda3\\lib\\site-packages (from mysql-connector-python) (3.20.3)\n"
     ]
    }
   ],
   "source": [
    "# Import the required library for connecting to MySQL\n",
    "!pip install mysql-connector-python\n",
    "import mysql.connector as sql"
   ]
  },
  {
   "cell_type": "code",
   "execution_count": 124,
   "id": "a07f59d4",
   "metadata": {},
   "outputs": [],
   "source": [
    "# Establish a connection to the MySQL server with provided credentials\n",
    "mydb = sql.connect(\n",
    "    host=\"localhost\",       \n",
    "    user=\"root\",            \n",
    "    password=\"11111111\" \n",
    ")"
   ]
  },
  {
   "cell_type": "code",
   "execution_count": 125,
   "id": "7fbe7a79",
   "metadata": {},
   "outputs": [],
   "source": [
    "# Create a cursor object to interact with the MySQL database\n",
    "mycursor = mydb.cursor()"
   ]
  },
  {
   "cell_type": "code",
   "execution_count": 126,
   "id": "d9525472",
   "metadata": {},
   "outputs": [],
   "source": [
    "# Create a new database\n",
    "mycursor.execute('''\n",
    "CREATE DATABASE MyDB1;\n",
    "''')"
   ]
  },
  {
   "cell_type": "code",
   "execution_count": 127,
   "id": "7450d198",
   "metadata": {},
   "outputs": [],
   "source": [
    "# Switch to the database\n",
    "mycursor.execute('''\n",
    "USE MyDB1;\n",
    "''')"
   ]
  },
  {
   "cell_type": "code",
   "execution_count": 128,
   "id": "5c4c096b",
   "metadata": {},
   "outputs": [],
   "source": [
    "# Create a new table\n",
    "mycursor.execute('''\n",
    "CREATE TABLE Employees (\n",
    "    EmployeeID int NOT NULL,\n",
    "    FirstName varchar(255) NOT NULL,\n",
    "    MiddleInitial varchar(255),\n",
    "    LastName varchar(255) NOT NULL,\n",
    "    PRIMARY KEY (EmployeeID)\n",
    ");\n",
    "''')"
   ]
  },
  {
   "cell_type": "code",
   "execution_count": 129,
   "id": "d71c102c",
   "metadata": {},
   "outputs": [],
   "source": [
    "mycursor.execute('''\n",
    "INSERT INTO Employees (EmployeeID, FirstName, MiddleInitial, LastName)\n",
    "VALUES\n",
    "    (1, 'John', 'D', 'Doe'),\n",
    "    (2, 'Jane', 'M', 'Smith');\n",
    "''')"
   ]
  },
  {
   "cell_type": "code",
   "execution_count": 130,
   "id": "75968059",
   "metadata": {},
   "outputs": [],
   "source": [
    "# Create a new table\n",
    "mycursor.execute('''\n",
    "CREATE TABLE Customers (\n",
    "    CustomerID int NOT NULL,\n",
    "    FirstName varchar(255) NOT NULL,\n",
    "    MiddleInitial varchar(255),\n",
    "    LastName varchar(255) NOT NULL,\n",
    "    PRIMARY KEY (CustomerID)\n",
    ");\n",
    "''')"
   ]
  },
  {
   "cell_type": "code",
   "execution_count": 131,
   "id": "bd409dec",
   "metadata": {},
   "outputs": [],
   "source": [
    "mycursor.execute('''\n",
    "INSERT INTO Customers (CustomerID, FirstName, MiddleInitial, LastName)\n",
    "VALUES\n",
    "    (1, 'Alice', 'A', 'Anderson'),\n",
    "    (2, 'Bob', 'B', 'Brown');\n",
    "''')"
   ]
  },
  {
   "cell_type": "code",
   "execution_count": 132,
   "id": "c7e9d3c6",
   "metadata": {},
   "outputs": [],
   "source": [
    "# Create a new table\n",
    "mycursor.execute('''\n",
    "CREATE TABLE Products (\n",
    "    ProductID int NOT NULL,\n",
    "    Name varchar(255) NOT NULL,\n",
    "    Price decimal(10,2) NOT NULL,\n",
    "    PRIMARY KEY (ProductID)\n",
    ");\n",
    "''')"
   ]
  },
  {
   "cell_type": "code",
   "execution_count": 133,
   "id": "9ed45ca2",
   "metadata": {},
   "outputs": [],
   "source": [
    "mycursor.execute('''\n",
    "INSERT INTO Products (ProductID, Name, Price)\n",
    "VALUES\n",
    "    (1, 'Product A', 100.00),\n",
    "    (2, 'Product B', 50.00);\n",
    "''')"
   ]
  },
  {
   "cell_type": "code",
   "execution_count": 134,
   "id": "4e8edcbf",
   "metadata": {},
   "outputs": [],
   "source": [
    "# Create a new table\n",
    "mycursor.execute('''\n",
    "CREATE TABLE Sales (\n",
    "    SalesID int NOT NULL,\n",
    "    SalesPersonID int NOT NULL,\n",
    "    CustomerID int NOT NULL,\n",
    "    ProductID int NOT NULL,\n",
    "    Quantity int NOT NULL,\n",
    "    PRIMARY KEY (SalesID),\n",
    "    FOREIGN KEY (SalesPersonID) REFERENCES Employees (EmployeeID),\n",
    "    FOREIGN KEY (CustomerID) REFERENCES Customers (CustomerID),\n",
    "    FOREIGN KEY (ProductID) REFERENCES Products (ProductID)\n",
    ");\n",
    "''')"
   ]
  },
  {
   "cell_type": "code",
   "execution_count": 135,
   "id": "d21113e6",
   "metadata": {},
   "outputs": [],
   "source": [
    "mycursor.execute('''\n",
    "INSERT INTO Sales (SalesID, SalesPersonID, CustomerID, ProductID, Quantity)\n",
    "VALUES\n",
    "    (1, 1, 1, 1, 5),\n",
    "    (2, 2, 2, 2, 3);\n",
    "''')"
   ]
  },
  {
   "cell_type": "code",
   "execution_count": 136,
   "id": "734c1dcb",
   "metadata": {},
   "outputs": [
    {
     "data": {
      "text/html": [
       "<div>\n",
       "<style scoped>\n",
       "    .dataframe tbody tr th:only-of-type {\n",
       "        vertical-align: middle;\n",
       "    }\n",
       "\n",
       "    .dataframe tbody tr th {\n",
       "        vertical-align: top;\n",
       "    }\n",
       "\n",
       "    .dataframe thead th {\n",
       "        text-align: right;\n",
       "    }\n",
       "</style>\n",
       "<table border=\"1\" class=\"dataframe\">\n",
       "  <thead>\n",
       "    <tr style=\"text-align: right;\">\n",
       "      <th></th>\n",
       "      <th>EmployeeID</th>\n",
       "      <th>FirstName</th>\n",
       "      <th>MiddleInitial</th>\n",
       "      <th>LastName</th>\n",
       "    </tr>\n",
       "  </thead>\n",
       "  <tbody>\n",
       "    <tr>\n",
       "      <th>0</th>\n",
       "      <td>1</td>\n",
       "      <td>John</td>\n",
       "      <td>D</td>\n",
       "      <td>Doe</td>\n",
       "    </tr>\n",
       "    <tr>\n",
       "      <th>1</th>\n",
       "      <td>2</td>\n",
       "      <td>Jane</td>\n",
       "      <td>M</td>\n",
       "      <td>Smith</td>\n",
       "    </tr>\n",
       "  </tbody>\n",
       "</table>\n",
       "</div>"
      ],
      "text/plain": [
       "   EmployeeID FirstName MiddleInitial LastName\n",
       "0           1      John             D      Doe\n",
       "1           2      Jane             M    Smith"
      ]
     },
     "metadata": {},
     "output_type": "display_data"
    },
    {
     "data": {
      "text/html": [
       "<div>\n",
       "<style scoped>\n",
       "    .dataframe tbody tr th:only-of-type {\n",
       "        vertical-align: middle;\n",
       "    }\n",
       "\n",
       "    .dataframe tbody tr th {\n",
       "        vertical-align: top;\n",
       "    }\n",
       "\n",
       "    .dataframe thead th {\n",
       "        text-align: right;\n",
       "    }\n",
       "</style>\n",
       "<table border=\"1\" class=\"dataframe\">\n",
       "  <thead>\n",
       "    <tr style=\"text-align: right;\">\n",
       "      <th></th>\n",
       "      <th>CustomerID</th>\n",
       "      <th>FirstName</th>\n",
       "      <th>MiddleInitial</th>\n",
       "      <th>LastName</th>\n",
       "    </tr>\n",
       "  </thead>\n",
       "  <tbody>\n",
       "    <tr>\n",
       "      <th>0</th>\n",
       "      <td>1</td>\n",
       "      <td>Alice</td>\n",
       "      <td>A</td>\n",
       "      <td>Anderson</td>\n",
       "    </tr>\n",
       "    <tr>\n",
       "      <th>1</th>\n",
       "      <td>2</td>\n",
       "      <td>Bob</td>\n",
       "      <td>B</td>\n",
       "      <td>Brown</td>\n",
       "    </tr>\n",
       "  </tbody>\n",
       "</table>\n",
       "</div>"
      ],
      "text/plain": [
       "   CustomerID FirstName MiddleInitial  LastName\n",
       "0           1     Alice             A  Anderson\n",
       "1           2       Bob             B     Brown"
      ]
     },
     "metadata": {},
     "output_type": "display_data"
    },
    {
     "data": {
      "text/html": [
       "<div>\n",
       "<style scoped>\n",
       "    .dataframe tbody tr th:only-of-type {\n",
       "        vertical-align: middle;\n",
       "    }\n",
       "\n",
       "    .dataframe tbody tr th {\n",
       "        vertical-align: top;\n",
       "    }\n",
       "\n",
       "    .dataframe thead th {\n",
       "        text-align: right;\n",
       "    }\n",
       "</style>\n",
       "<table border=\"1\" class=\"dataframe\">\n",
       "  <thead>\n",
       "    <tr style=\"text-align: right;\">\n",
       "      <th></th>\n",
       "      <th>ProductID</th>\n",
       "      <th>Name</th>\n",
       "      <th>Price</th>\n",
       "    </tr>\n",
       "  </thead>\n",
       "  <tbody>\n",
       "    <tr>\n",
       "      <th>0</th>\n",
       "      <td>1</td>\n",
       "      <td>Product A</td>\n",
       "      <td>100.00</td>\n",
       "    </tr>\n",
       "    <tr>\n",
       "      <th>1</th>\n",
       "      <td>2</td>\n",
       "      <td>Product B</td>\n",
       "      <td>50.00</td>\n",
       "    </tr>\n",
       "  </tbody>\n",
       "</table>\n",
       "</div>"
      ],
      "text/plain": [
       "   ProductID       Name   Price\n",
       "0          1  Product A  100.00\n",
       "1          2  Product B   50.00"
      ]
     },
     "metadata": {},
     "output_type": "display_data"
    },
    {
     "data": {
      "text/html": [
       "<div>\n",
       "<style scoped>\n",
       "    .dataframe tbody tr th:only-of-type {\n",
       "        vertical-align: middle;\n",
       "    }\n",
       "\n",
       "    .dataframe tbody tr th {\n",
       "        vertical-align: top;\n",
       "    }\n",
       "\n",
       "    .dataframe thead th {\n",
       "        text-align: right;\n",
       "    }\n",
       "</style>\n",
       "<table border=\"1\" class=\"dataframe\">\n",
       "  <thead>\n",
       "    <tr style=\"text-align: right;\">\n",
       "      <th></th>\n",
       "      <th>SalesID</th>\n",
       "      <th>SalesPersonID</th>\n",
       "      <th>CustomerID</th>\n",
       "      <th>ProductID</th>\n",
       "      <th>Quantity</th>\n",
       "    </tr>\n",
       "  </thead>\n",
       "  <tbody>\n",
       "    <tr>\n",
       "      <th>0</th>\n",
       "      <td>1</td>\n",
       "      <td>1</td>\n",
       "      <td>1</td>\n",
       "      <td>1</td>\n",
       "      <td>5</td>\n",
       "    </tr>\n",
       "    <tr>\n",
       "      <th>1</th>\n",
       "      <td>2</td>\n",
       "      <td>2</td>\n",
       "      <td>2</td>\n",
       "      <td>2</td>\n",
       "      <td>3</td>\n",
       "    </tr>\n",
       "  </tbody>\n",
       "</table>\n",
       "</div>"
      ],
      "text/plain": [
       "   SalesID  SalesPersonID  CustomerID  ProductID  Quantity\n",
       "0        1              1           1          1         5\n",
       "1        2              2           2          2         3"
      ]
     },
     "metadata": {},
     "output_type": "display_data"
    }
   ],
   "source": [
    "mycursor.execute('''\n",
    "SELECT * \n",
    "FROM Employees\n",
    "''')\n",
    "\n",
    "result = mycursor.fetchall()\n",
    "\n",
    "df = pd.DataFrame(result, columns=[item[0] for item in mycursor.description])\n",
    "display(df)\n",
    "\n",
    "mycursor.execute('''\n",
    "SELECT * \n",
    "FROM Customers\n",
    "''')\n",
    "\n",
    "result = mycursor.fetchall()\n",
    "\n",
    "df = pd.DataFrame(result, columns=[item[0] for item in mycursor.description])\n",
    "display(df)\n",
    "\n",
    "mycursor.execute('''\n",
    "SELECT * \n",
    "FROM Products\n",
    "''')\n",
    "\n",
    "result = mycursor.fetchall()\n",
    "\n",
    "df = pd.DataFrame(result, columns=[item[0] for item in mycursor.description])\n",
    "display(df)\n",
    "\n",
    "mycursor.execute('''\n",
    "SELECT * \n",
    "FROM Sales \n",
    "''')\n",
    "\n",
    "result = mycursor.fetchall()\n",
    "\n",
    "df = pd.DataFrame(result, columns=[item[0] for item in mycursor.description])\n",
    "display(df)"
   ]
  },
  {
   "cell_type": "code",
   "execution_count": 137,
   "id": "624fcbb8",
   "metadata": {},
   "outputs": [],
   "source": [
    "# Close the MySQL connection\n",
    "mydb.close()"
   ]
  },
  {
   "cell_type": "markdown",
   "id": "184d5d5b",
   "metadata": {},
   "source": [
    "# Question 26:"
   ]
  },
  {
   "cell_type": "code",
   "execution_count": 138,
   "id": "dcbeff6c",
   "metadata": {},
   "outputs": [
    {
     "name": "stdout",
     "output_type": "stream",
     "text": [
      "Requirement already satisfied: mysql-connector-python in c:\\users\\nisar\\anaconda3\\lib\\site-packages (8.0.33)\n",
      "Requirement already satisfied: protobuf<=3.20.3,>=3.11.0 in c:\\users\\nisar\\anaconda3\\lib\\site-packages (from mysql-connector-python) (3.20.3)\n"
     ]
    }
   ],
   "source": [
    "# Import the required library for connecting to MySQL\n",
    "!pip install mysql-connector-python\n",
    "import mysql.connector as sql"
   ]
  },
  {
   "cell_type": "code",
   "execution_count": 139,
   "id": "4386eaab",
   "metadata": {},
   "outputs": [],
   "source": [
    "# Establish a connection to the MySQL server with provided credentials\n",
    "mydb = sql.connect(\n",
    "    host=\"localhost\",       \n",
    "    user=\"root\",            \n",
    "    password=\"11111111\" \n",
    ")"
   ]
  },
  {
   "cell_type": "code",
   "execution_count": 140,
   "id": "50064ea9",
   "metadata": {},
   "outputs": [],
   "source": [
    "# Create a cursor object to interact with the MySQL database\n",
    "mycursor = mydb.cursor()"
   ]
  },
  {
   "cell_type": "code",
   "execution_count": 141,
   "id": "ef676087",
   "metadata": {},
   "outputs": [],
   "source": [
    "# Create a new database\n",
    "mycursor.execute('''\n",
    "CREATE DATABASE MyDB2;\n",
    "''')"
   ]
  },
  {
   "cell_type": "code",
   "execution_count": 142,
   "id": "9a632e37",
   "metadata": {},
   "outputs": [],
   "source": [
    "# Switch to the database\n",
    "mycursor.execute('''\n",
    "USE MyDB2;\n",
    "''')"
   ]
  },
  {
   "cell_type": "code",
   "execution_count": 143,
   "id": "21f6a467",
   "metadata": {},
   "outputs": [],
   "source": [
    "# Create a new table\n",
    "mycursor.execute('''\n",
    "CREATE TABLE orders (\n",
    "  order_id INT PRIMARY KEY,\n",
    "  order_date DATE,\n",
    "  year INT,\n",
    "  quarter INT,\n",
    "  month INT\n",
    ");\n",
    "''')"
   ]
  },
  {
   "cell_type": "code",
   "execution_count": 144,
   "id": "bfad7434",
   "metadata": {},
   "outputs": [],
   "source": [
    "mycursor.execute('''\n",
    "INSERT INTO orders (order_id, order_date, year, quarter, month)\n",
    "VALUES\n",
    "  (1, '2023-01-15', 2023, 1, 1),\n",
    "  (2, '2023-02-20', 2023, 1, 2),\n",
    "  (3, '2023-03-25', 2023, 1, 3);\n",
    "''')"
   ]
  },
  {
   "cell_type": "code",
   "execution_count": 145,
   "id": "ffa752ef",
   "metadata": {},
   "outputs": [],
   "source": [
    "# Create a new table\n",
    "mycursor.execute('''\n",
    "CREATE TABLE products (\n",
    "  product_id INT PRIMARY KEY,\n",
    "  product_name VARCHAR(255),\n",
    "  product_category VARCHAR(255),\n",
    "  unit_price DECIMAL(10,2)\n",
    ");\n",
    "''')"
   ]
  },
  {
   "cell_type": "code",
   "execution_count": 146,
   "id": "72d2c2ca",
   "metadata": {},
   "outputs": [],
   "source": [
    "mycursor.execute('''\n",
    "INSERT INTO products (product_id, product_name, product_category, unit_price)\n",
    "VALUES\n",
    "  (101, 'Product A', 'Category 1', 25.99),\n",
    "  (102, 'Product B', 'Category 2', 15.50),\n",
    "  (103, 'Product C', 'Category 1', 30.75);\n",
    "''')"
   ]
  },
  {
   "cell_type": "code",
   "execution_count": 147,
   "id": "7c92a1bf",
   "metadata": {},
   "outputs": [],
   "source": [
    "# Create a new table\n",
    "mycursor.execute('''\n",
    "CREATE TABLE customers (\n",
    "  customer_id INT PRIMARY KEY,\n",
    "  customer_name VARCHAR(255),\n",
    "  address VARCHAR(255),\n",
    "  zip VARCHAR(255)\n",
    ");\n",
    "''')"
   ]
  },
  {
   "cell_type": "code",
   "execution_count": 148,
   "id": "d3a4b57b",
   "metadata": {},
   "outputs": [],
   "source": [
    "mycursor.execute('''\n",
    "INSERT INTO customers (customer_id, customer_name, address, zip)\n",
    "VALUES\n",
    "  (201, 'Customer X', '123 Main St', '12345'),\n",
    "  (202, 'Customer Y', '456 Oak St', '67890'),\n",
    "  (203, 'Customer Z', '789 Pine St', '34567');\n",
    "''')"
   ]
  },
  {
   "cell_type": "code",
   "execution_count": 149,
   "id": "520c45f1",
   "metadata": {},
   "outputs": [],
   "source": [
    "# Create a new table\n",
    "mycursor.execute('''\n",
    "CREATE TABLE employers (\n",
    "  employer_id INT PRIMARY KEY,\n",
    "  employer_name VARCHAR(255),\n",
    "  title VARCHAR(255),\n",
    "  department VARCHAR(255),\n",
    "  region VARCHAR(255)\n",
    ");\n",
    "''')"
   ]
  },
  {
   "cell_type": "code",
   "execution_count": 150,
   "id": "1d683f56",
   "metadata": {},
   "outputs": [],
   "source": [
    "mycursor.execute('''\n",
    "INSERT INTO employers (employer_id, employer_name, title, department, region)\n",
    "VALUES\n",
    "  (301, 'Employer 1', 'Manager', 'Sales', 'East'),\n",
    "  (302, 'Employer 2', 'Supervisor', 'Marketing', 'West'),\n",
    "  (303, 'Employer 3', 'Director', 'Finance', 'North');\n",
    "''')"
   ]
  },
  {
   "cell_type": "code",
   "execution_count": 151,
   "id": "37e66a42",
   "metadata": {},
   "outputs": [],
   "source": [
    "# Create a new table\n",
    "mycursor.execute('''\n",
    "CREATE TABLE sales (\n",
    "  product_id INT,\n",
    "  order_id INT,\n",
    "  customer_id INT,\n",
    "  employer_id INT,\n",
    "  total DECIMAL(10,2),\n",
    "  quantity INT,\n",
    "  discount DECIMAL(10,2),\n",
    "  FOREIGN KEY (product_id) REFERENCES products(product_id),\n",
    "  FOREIGN KEY (order_id) REFERENCES orders(order_id),\n",
    "  FOREIGN KEY (customer_id) REFERENCES customers(customer_id),\n",
    "  FOREIGN KEY (employer_id) REFERENCES employers(employer_id)\n",
    ");\n",
    "\n",
    "\n",
    "''')"
   ]
  },
  {
   "cell_type": "code",
   "execution_count": 152,
   "id": "e5688f25",
   "metadata": {},
   "outputs": [],
   "source": [
    "mycursor.execute('''\n",
    "INSERT INTO sales (product_id, order_id, customer_id, employer_id, total, quantity, discount)\n",
    "VALUES\n",
    "  (101, 1, 201, 301, 100.00, 2, 5.00),\n",
    "  (102, 2, 202, 302, 75.50, 3, 2.50),\n",
    "  (103, 3, 203, 303, 150.25, 1, 10.00);\n",
    "''')"
   ]
  },
  {
   "cell_type": "code",
   "execution_count": 153,
   "id": "54406597",
   "metadata": {},
   "outputs": [
    {
     "data": {
      "text/html": [
       "<div>\n",
       "<style scoped>\n",
       "    .dataframe tbody tr th:only-of-type {\n",
       "        vertical-align: middle;\n",
       "    }\n",
       "\n",
       "    .dataframe tbody tr th {\n",
       "        vertical-align: top;\n",
       "    }\n",
       "\n",
       "    .dataframe thead th {\n",
       "        text-align: right;\n",
       "    }\n",
       "</style>\n",
       "<table border=\"1\" class=\"dataframe\">\n",
       "  <thead>\n",
       "    <tr style=\"text-align: right;\">\n",
       "      <th></th>\n",
       "      <th>order_id</th>\n",
       "      <th>order_date</th>\n",
       "      <th>year</th>\n",
       "      <th>quarter</th>\n",
       "      <th>month</th>\n",
       "    </tr>\n",
       "  </thead>\n",
       "  <tbody>\n",
       "    <tr>\n",
       "      <th>0</th>\n",
       "      <td>1</td>\n",
       "      <td>2023-01-15</td>\n",
       "      <td>2023</td>\n",
       "      <td>1</td>\n",
       "      <td>1</td>\n",
       "    </tr>\n",
       "    <tr>\n",
       "      <th>1</th>\n",
       "      <td>2</td>\n",
       "      <td>2023-02-20</td>\n",
       "      <td>2023</td>\n",
       "      <td>1</td>\n",
       "      <td>2</td>\n",
       "    </tr>\n",
       "    <tr>\n",
       "      <th>2</th>\n",
       "      <td>3</td>\n",
       "      <td>2023-03-25</td>\n",
       "      <td>2023</td>\n",
       "      <td>1</td>\n",
       "      <td>3</td>\n",
       "    </tr>\n",
       "  </tbody>\n",
       "</table>\n",
       "</div>"
      ],
      "text/plain": [
       "   order_id  order_date  year  quarter  month\n",
       "0         1  2023-01-15  2023        1      1\n",
       "1         2  2023-02-20  2023        1      2\n",
       "2         3  2023-03-25  2023        1      3"
      ]
     },
     "metadata": {},
     "output_type": "display_data"
    },
    {
     "data": {
      "text/html": [
       "<div>\n",
       "<style scoped>\n",
       "    .dataframe tbody tr th:only-of-type {\n",
       "        vertical-align: middle;\n",
       "    }\n",
       "\n",
       "    .dataframe tbody tr th {\n",
       "        vertical-align: top;\n",
       "    }\n",
       "\n",
       "    .dataframe thead th {\n",
       "        text-align: right;\n",
       "    }\n",
       "</style>\n",
       "<table border=\"1\" class=\"dataframe\">\n",
       "  <thead>\n",
       "    <tr style=\"text-align: right;\">\n",
       "      <th></th>\n",
       "      <th>product_id</th>\n",
       "      <th>product_name</th>\n",
       "      <th>product_category</th>\n",
       "      <th>unit_price</th>\n",
       "    </tr>\n",
       "  </thead>\n",
       "  <tbody>\n",
       "    <tr>\n",
       "      <th>0</th>\n",
       "      <td>101</td>\n",
       "      <td>Product A</td>\n",
       "      <td>Category 1</td>\n",
       "      <td>25.99</td>\n",
       "    </tr>\n",
       "    <tr>\n",
       "      <th>1</th>\n",
       "      <td>102</td>\n",
       "      <td>Product B</td>\n",
       "      <td>Category 2</td>\n",
       "      <td>15.50</td>\n",
       "    </tr>\n",
       "    <tr>\n",
       "      <th>2</th>\n",
       "      <td>103</td>\n",
       "      <td>Product C</td>\n",
       "      <td>Category 1</td>\n",
       "      <td>30.75</td>\n",
       "    </tr>\n",
       "  </tbody>\n",
       "</table>\n",
       "</div>"
      ],
      "text/plain": [
       "   product_id product_name product_category unit_price\n",
       "0         101    Product A       Category 1      25.99\n",
       "1         102    Product B       Category 2      15.50\n",
       "2         103    Product C       Category 1      30.75"
      ]
     },
     "metadata": {},
     "output_type": "display_data"
    },
    {
     "data": {
      "text/html": [
       "<div>\n",
       "<style scoped>\n",
       "    .dataframe tbody tr th:only-of-type {\n",
       "        vertical-align: middle;\n",
       "    }\n",
       "\n",
       "    .dataframe tbody tr th {\n",
       "        vertical-align: top;\n",
       "    }\n",
       "\n",
       "    .dataframe thead th {\n",
       "        text-align: right;\n",
       "    }\n",
       "</style>\n",
       "<table border=\"1\" class=\"dataframe\">\n",
       "  <thead>\n",
       "    <tr style=\"text-align: right;\">\n",
       "      <th></th>\n",
       "      <th>customer_id</th>\n",
       "      <th>customer_name</th>\n",
       "      <th>address</th>\n",
       "      <th>zip</th>\n",
       "    </tr>\n",
       "  </thead>\n",
       "  <tbody>\n",
       "    <tr>\n",
       "      <th>0</th>\n",
       "      <td>201</td>\n",
       "      <td>Customer X</td>\n",
       "      <td>123 Main St</td>\n",
       "      <td>12345</td>\n",
       "    </tr>\n",
       "    <tr>\n",
       "      <th>1</th>\n",
       "      <td>202</td>\n",
       "      <td>Customer Y</td>\n",
       "      <td>456 Oak St</td>\n",
       "      <td>67890</td>\n",
       "    </tr>\n",
       "    <tr>\n",
       "      <th>2</th>\n",
       "      <td>203</td>\n",
       "      <td>Customer Z</td>\n",
       "      <td>789 Pine St</td>\n",
       "      <td>34567</td>\n",
       "    </tr>\n",
       "  </tbody>\n",
       "</table>\n",
       "</div>"
      ],
      "text/plain": [
       "   customer_id customer_name      address    zip\n",
       "0          201    Customer X  123 Main St  12345\n",
       "1          202    Customer Y   456 Oak St  67890\n",
       "2          203    Customer Z  789 Pine St  34567"
      ]
     },
     "metadata": {},
     "output_type": "display_data"
    },
    {
     "data": {
      "text/html": [
       "<div>\n",
       "<style scoped>\n",
       "    .dataframe tbody tr th:only-of-type {\n",
       "        vertical-align: middle;\n",
       "    }\n",
       "\n",
       "    .dataframe tbody tr th {\n",
       "        vertical-align: top;\n",
       "    }\n",
       "\n",
       "    .dataframe thead th {\n",
       "        text-align: right;\n",
       "    }\n",
       "</style>\n",
       "<table border=\"1\" class=\"dataframe\">\n",
       "  <thead>\n",
       "    <tr style=\"text-align: right;\">\n",
       "      <th></th>\n",
       "      <th>employer_id</th>\n",
       "      <th>employer_name</th>\n",
       "      <th>title</th>\n",
       "      <th>department</th>\n",
       "      <th>region</th>\n",
       "    </tr>\n",
       "  </thead>\n",
       "  <tbody>\n",
       "    <tr>\n",
       "      <th>0</th>\n",
       "      <td>301</td>\n",
       "      <td>Employer 1</td>\n",
       "      <td>Manager</td>\n",
       "      <td>Sales</td>\n",
       "      <td>East</td>\n",
       "    </tr>\n",
       "    <tr>\n",
       "      <th>1</th>\n",
       "      <td>302</td>\n",
       "      <td>Employer 2</td>\n",
       "      <td>Supervisor</td>\n",
       "      <td>Marketing</td>\n",
       "      <td>West</td>\n",
       "    </tr>\n",
       "    <tr>\n",
       "      <th>2</th>\n",
       "      <td>303</td>\n",
       "      <td>Employer 3</td>\n",
       "      <td>Director</td>\n",
       "      <td>Finance</td>\n",
       "      <td>North</td>\n",
       "    </tr>\n",
       "  </tbody>\n",
       "</table>\n",
       "</div>"
      ],
      "text/plain": [
       "   employer_id employer_name       title department region\n",
       "0          301    Employer 1     Manager      Sales   East\n",
       "1          302    Employer 2  Supervisor  Marketing   West\n",
       "2          303    Employer 3    Director    Finance  North"
      ]
     },
     "metadata": {},
     "output_type": "display_data"
    },
    {
     "data": {
      "text/html": [
       "<div>\n",
       "<style scoped>\n",
       "    .dataframe tbody tr th:only-of-type {\n",
       "        vertical-align: middle;\n",
       "    }\n",
       "\n",
       "    .dataframe tbody tr th {\n",
       "        vertical-align: top;\n",
       "    }\n",
       "\n",
       "    .dataframe thead th {\n",
       "        text-align: right;\n",
       "    }\n",
       "</style>\n",
       "<table border=\"1\" class=\"dataframe\">\n",
       "  <thead>\n",
       "    <tr style=\"text-align: right;\">\n",
       "      <th></th>\n",
       "      <th>product_id</th>\n",
       "      <th>order_id</th>\n",
       "      <th>customer_id</th>\n",
       "      <th>employer_id</th>\n",
       "      <th>total</th>\n",
       "      <th>quantity</th>\n",
       "      <th>discount</th>\n",
       "    </tr>\n",
       "  </thead>\n",
       "  <tbody>\n",
       "    <tr>\n",
       "      <th>0</th>\n",
       "      <td>101</td>\n",
       "      <td>1</td>\n",
       "      <td>201</td>\n",
       "      <td>301</td>\n",
       "      <td>100.00</td>\n",
       "      <td>2</td>\n",
       "      <td>5.00</td>\n",
       "    </tr>\n",
       "    <tr>\n",
       "      <th>1</th>\n",
       "      <td>102</td>\n",
       "      <td>2</td>\n",
       "      <td>202</td>\n",
       "      <td>302</td>\n",
       "      <td>75.50</td>\n",
       "      <td>3</td>\n",
       "      <td>2.50</td>\n",
       "    </tr>\n",
       "    <tr>\n",
       "      <th>2</th>\n",
       "      <td>103</td>\n",
       "      <td>3</td>\n",
       "      <td>203</td>\n",
       "      <td>303</td>\n",
       "      <td>150.25</td>\n",
       "      <td>1</td>\n",
       "      <td>10.00</td>\n",
       "    </tr>\n",
       "  </tbody>\n",
       "</table>\n",
       "</div>"
      ],
      "text/plain": [
       "   product_id  order_id  customer_id  employer_id   total  quantity discount\n",
       "0         101         1          201          301  100.00         2     5.00\n",
       "1         102         2          202          302   75.50         3     2.50\n",
       "2         103         3          203          303  150.25         1    10.00"
      ]
     },
     "metadata": {},
     "output_type": "display_data"
    }
   ],
   "source": [
    "mycursor.execute('''\n",
    "SELECT * \n",
    "FROM orders\n",
    "''')\n",
    "\n",
    "result = mycursor.fetchall()\n",
    "\n",
    "df = pd.DataFrame(result, columns=[item[0] for item in mycursor.description])\n",
    "display(df)\n",
    "\n",
    "mycursor.execute('''\n",
    "SELECT * \n",
    "FROM products \n",
    "''')\n",
    "\n",
    "result = mycursor.fetchall()\n",
    "\n",
    "df = pd.DataFrame(result, columns=[item[0] for item in mycursor.description])\n",
    "display(df)\n",
    "\n",
    "mycursor.execute('''\n",
    "SELECT * \n",
    "FROM customers \n",
    "''')\n",
    "\n",
    "result = mycursor.fetchall()\n",
    "\n",
    "df = pd.DataFrame(result, columns=[item[0] for item in mycursor.description])\n",
    "display(df)\n",
    "\n",
    "mycursor.execute('''\n",
    "SELECT * \n",
    "FROM employers  \n",
    "''')\n",
    "\n",
    "result = mycursor.fetchall()\n",
    "\n",
    "df = pd.DataFrame(result, columns=[item[0] for item in mycursor.description])\n",
    "display(df)\n",
    "\n",
    "mycursor.execute('''\n",
    "SELECT * \n",
    "FROM sales   \n",
    "''')\n",
    "\n",
    "result = mycursor.fetchall()\n",
    "\n",
    "df = pd.DataFrame(result, columns=[item[0] for item in mycursor.description])\n",
    "display(df)"
   ]
  },
  {
   "cell_type": "code",
   "execution_count": 154,
   "id": "6f265e67",
   "metadata": {},
   "outputs": [],
   "source": [
    "# Close the MySQL connection\n",
    "mydb.close()"
   ]
  },
  {
   "cell_type": "markdown",
   "id": "9a24fcee",
   "metadata": {},
   "source": [
    "# Question 27:"
   ]
  },
  {
   "cell_type": "code",
   "execution_count": 155,
   "id": "67106920",
   "metadata": {},
   "outputs": [
    {
     "name": "stdout",
     "output_type": "stream",
     "text": [
      "Requirement already satisfied: mysql-connector-python in c:\\users\\nisar\\anaconda3\\lib\\site-packages (8.0.33)\n",
      "Requirement already satisfied: protobuf<=3.20.3,>=3.11.0 in c:\\users\\nisar\\anaconda3\\lib\\site-packages (from mysql-connector-python) (3.20.3)\n"
     ]
    }
   ],
   "source": [
    "# Import the required library for connecting to MySQL\n",
    "!pip install mysql-connector-python\n",
    "import mysql.connector as sql"
   ]
  },
  {
   "cell_type": "code",
   "execution_count": 156,
   "id": "7d7690b6",
   "metadata": {},
   "outputs": [],
   "source": [
    "# Establish a connection to the MySQL server with provided credentials\n",
    "mydb = sql.connect(\n",
    "    host=\"localhost\",       \n",
    "    user=\"root\",            \n",
    "    password=\"11111111\" \n",
    ")"
   ]
  },
  {
   "cell_type": "code",
   "execution_count": 157,
   "id": "579c3590",
   "metadata": {},
   "outputs": [],
   "source": [
    "# Create a cursor object to interact with the MySQL database\n",
    "mycursor = mydb.cursor()"
   ]
  },
  {
   "cell_type": "code",
   "execution_count": 158,
   "id": "0f3d3d6e",
   "metadata": {},
   "outputs": [],
   "source": [
    "# Create a new database\n",
    "mycursor.execute('''\n",
    "CREATE DATABASE MyDB3;\n",
    "''')"
   ]
  },
  {
   "cell_type": "code",
   "execution_count": 159,
   "id": "8a29071e",
   "metadata": {},
   "outputs": [],
   "source": [
    "# Switch to the database\n",
    "mycursor.execute('''\n",
    "USE MyDB3;\n",
    "''')"
   ]
  },
  {
   "cell_type": "code",
   "execution_count": 160,
   "id": "d369bea0",
   "metadata": {},
   "outputs": [],
   "source": [
    "# Create a new table\n",
    "mycursor.execute('''\n",
    "CREATE TABLE DimDate (\n",
    "  Date DATE PRIMARY KEY,\n",
    "  Day VARCHAR(255),\n",
    "  Month VARCHAR(255),\n",
    "  Quarter VARCHAR(255),\n",
    "  Year VARCHAR(255)\n",
    ");\n",
    "''')"
   ]
  },
  {
   "cell_type": "code",
   "execution_count": 161,
   "id": "90c3ce9f",
   "metadata": {},
   "outputs": [],
   "source": [
    "mycursor.execute('''\n",
    "INSERT INTO DimDate (Date, Day, Month, Quarter, Year)\n",
    "VALUES\n",
    "  ('2023-01-15', 'Monday', 'January', 'Q1', '2023'),\n",
    "  ('2023-02-20', 'Wednesday', 'February', 'Q1', '2023'),\n",
    "  ('2023-03-25', 'Saturday', 'March', 'Q1', '2023');\n",
    "''')"
   ]
  },
  {
   "cell_type": "code",
   "execution_count": 162,
   "id": "49207caf",
   "metadata": {},
   "outputs": [],
   "source": [
    "# Create a new table\n",
    "mycursor.execute('''\n",
    "CREATE TABLE DimProduct (\n",
    "  ProductId INT PRIMARY KEY,\n",
    "  Title VARCHAR(255),\n",
    "  Author VARCHAR(255),\n",
    "  Category VARCHAR(255)\n",
    ");\n",
    "''')"
   ]
  },
  {
   "cell_type": "code",
   "execution_count": 163,
   "id": "5e1c8abc",
   "metadata": {},
   "outputs": [],
   "source": [
    "mycursor.execute('''\n",
    "INSERT INTO DimProduct (ProductId, Title, Author, Category)\n",
    "VALUES\n",
    "  (101, 'Book A', 'Author X', 'Fiction'),\n",
    "  (102, 'Book B', 'Author Y', 'Non-Fiction'),\n",
    "  (103, 'Book C', 'Author Z', 'Science');\n",
    "''')"
   ]
  },
  {
   "cell_type": "code",
   "execution_count": 164,
   "id": "d2bec5cd",
   "metadata": {},
   "outputs": [],
   "source": [
    "# Create a new table\n",
    "mycursor.execute('''\n",
    "CREATE TABLE DimCustomer (\n",
    "  CustomerId INT PRIMARY KEY,\n",
    "  CustomerName VARCHAR(255),\n",
    "  CustomerType VARCHAR(255),\n",
    "  City VARCHAR(255)\n",
    ");\n",
    "''')"
   ]
  },
  {
   "cell_type": "code",
   "execution_count": 165,
   "id": "92bc9bf4",
   "metadata": {},
   "outputs": [],
   "source": [
    "mycursor.execute('''\n",
    "INSERT INTO DimCustomer (CustomerId, CustomerName, CustomerType, City)\n",
    "VALUES\n",
    "  (201, 'Customer X', 'Regular', 'New York'),\n",
    "  (202, 'Customer Y', 'VIP', 'Los Angeles'),\n",
    "  (203, 'Customer Z', 'Regular', 'Chicago');\n",
    "''')"
   ]
  },
  {
   "cell_type": "code",
   "execution_count": 166,
   "id": "6539d533",
   "metadata": {},
   "outputs": [],
   "source": [
    "# Create a new table\n",
    "mycursor.execute('''\n",
    "CREATE TABLE FactSales (\n",
    "  OrderRef VARCHAR(255) PRIMARY KEY,\n",
    "  CustomerId INT,\n",
    "  ProductId INT,\n",
    "  Quantity INT,\n",
    "  SoldPrice DECIMAL(10,2),\n",
    "  SalesAmount DECIMAL(10,2),\n",
    "  SaleDate DATE,\n",
    "  FOREIGN KEY (CustomerId) REFERENCES DimCustomer(CustomerId),\n",
    "  FOREIGN KEY (ProductId) REFERENCES DimProduct(ProductId),\n",
    "  FOREIGN KEY (SaleDate) REFERENCES DimDate(Date)\n",
    ");\n",
    "''')"
   ]
  },
  {
   "cell_type": "code",
   "execution_count": 167,
   "id": "4d819650",
   "metadata": {},
   "outputs": [],
   "source": [
    "mycursor.execute('''\n",
    "INSERT INTO FactSales (OrderRef, CustomerId, ProductId, Quantity, SoldPrice, SalesAmount, SaleDate)\n",
    "VALUES\n",
    "  ('ORDER001', 201, 101, 2, 25.99, 51.98, '2023-01-15'),\n",
    "  ('ORDER002', 202, 102, 3, 15.50, 46.50, '2023-02-20'),\n",
    "  ('ORDER003', 203, 103, 1, 30.75, 30.75, '2023-03-25');\n",
    "''')"
   ]
  },
  {
   "cell_type": "code",
   "execution_count": 168,
   "id": "f3d5a097",
   "metadata": {},
   "outputs": [
    {
     "data": {
      "text/html": [
       "<div>\n",
       "<style scoped>\n",
       "    .dataframe tbody tr th:only-of-type {\n",
       "        vertical-align: middle;\n",
       "    }\n",
       "\n",
       "    .dataframe tbody tr th {\n",
       "        vertical-align: top;\n",
       "    }\n",
       "\n",
       "    .dataframe thead th {\n",
       "        text-align: right;\n",
       "    }\n",
       "</style>\n",
       "<table border=\"1\" class=\"dataframe\">\n",
       "  <thead>\n",
       "    <tr style=\"text-align: right;\">\n",
       "      <th></th>\n",
       "      <th>Date</th>\n",
       "      <th>Day</th>\n",
       "      <th>Month</th>\n",
       "      <th>Quarter</th>\n",
       "      <th>Year</th>\n",
       "    </tr>\n",
       "  </thead>\n",
       "  <tbody>\n",
       "    <tr>\n",
       "      <th>0</th>\n",
       "      <td>2023-01-15</td>\n",
       "      <td>Monday</td>\n",
       "      <td>January</td>\n",
       "      <td>Q1</td>\n",
       "      <td>2023</td>\n",
       "    </tr>\n",
       "    <tr>\n",
       "      <th>1</th>\n",
       "      <td>2023-02-20</td>\n",
       "      <td>Wednesday</td>\n",
       "      <td>February</td>\n",
       "      <td>Q1</td>\n",
       "      <td>2023</td>\n",
       "    </tr>\n",
       "    <tr>\n",
       "      <th>2</th>\n",
       "      <td>2023-03-25</td>\n",
       "      <td>Saturday</td>\n",
       "      <td>March</td>\n",
       "      <td>Q1</td>\n",
       "      <td>2023</td>\n",
       "    </tr>\n",
       "  </tbody>\n",
       "</table>\n",
       "</div>"
      ],
      "text/plain": [
       "         Date        Day     Month Quarter  Year\n",
       "0  2023-01-15     Monday   January      Q1  2023\n",
       "1  2023-02-20  Wednesday  February      Q1  2023\n",
       "2  2023-03-25   Saturday     March      Q1  2023"
      ]
     },
     "metadata": {},
     "output_type": "display_data"
    },
    {
     "data": {
      "text/html": [
       "<div>\n",
       "<style scoped>\n",
       "    .dataframe tbody tr th:only-of-type {\n",
       "        vertical-align: middle;\n",
       "    }\n",
       "\n",
       "    .dataframe tbody tr th {\n",
       "        vertical-align: top;\n",
       "    }\n",
       "\n",
       "    .dataframe thead th {\n",
       "        text-align: right;\n",
       "    }\n",
       "</style>\n",
       "<table border=\"1\" class=\"dataframe\">\n",
       "  <thead>\n",
       "    <tr style=\"text-align: right;\">\n",
       "      <th></th>\n",
       "      <th>ProductId</th>\n",
       "      <th>Title</th>\n",
       "      <th>Author</th>\n",
       "      <th>Category</th>\n",
       "    </tr>\n",
       "  </thead>\n",
       "  <tbody>\n",
       "    <tr>\n",
       "      <th>0</th>\n",
       "      <td>101</td>\n",
       "      <td>Book A</td>\n",
       "      <td>Author X</td>\n",
       "      <td>Fiction</td>\n",
       "    </tr>\n",
       "    <tr>\n",
       "      <th>1</th>\n",
       "      <td>102</td>\n",
       "      <td>Book B</td>\n",
       "      <td>Author Y</td>\n",
       "      <td>Non-Fiction</td>\n",
       "    </tr>\n",
       "    <tr>\n",
       "      <th>2</th>\n",
       "      <td>103</td>\n",
       "      <td>Book C</td>\n",
       "      <td>Author Z</td>\n",
       "      <td>Science</td>\n",
       "    </tr>\n",
       "  </tbody>\n",
       "</table>\n",
       "</div>"
      ],
      "text/plain": [
       "   ProductId   Title    Author     Category\n",
       "0        101  Book A  Author X      Fiction\n",
       "1        102  Book B  Author Y  Non-Fiction\n",
       "2        103  Book C  Author Z      Science"
      ]
     },
     "metadata": {},
     "output_type": "display_data"
    },
    {
     "data": {
      "text/html": [
       "<div>\n",
       "<style scoped>\n",
       "    .dataframe tbody tr th:only-of-type {\n",
       "        vertical-align: middle;\n",
       "    }\n",
       "\n",
       "    .dataframe tbody tr th {\n",
       "        vertical-align: top;\n",
       "    }\n",
       "\n",
       "    .dataframe thead th {\n",
       "        text-align: right;\n",
       "    }\n",
       "</style>\n",
       "<table border=\"1\" class=\"dataframe\">\n",
       "  <thead>\n",
       "    <tr style=\"text-align: right;\">\n",
       "      <th></th>\n",
       "      <th>CustomerId</th>\n",
       "      <th>CustomerName</th>\n",
       "      <th>CustomerType</th>\n",
       "      <th>City</th>\n",
       "    </tr>\n",
       "  </thead>\n",
       "  <tbody>\n",
       "    <tr>\n",
       "      <th>0</th>\n",
       "      <td>201</td>\n",
       "      <td>Customer X</td>\n",
       "      <td>Regular</td>\n",
       "      <td>New York</td>\n",
       "    </tr>\n",
       "    <tr>\n",
       "      <th>1</th>\n",
       "      <td>202</td>\n",
       "      <td>Customer Y</td>\n",
       "      <td>VIP</td>\n",
       "      <td>Los Angeles</td>\n",
       "    </tr>\n",
       "    <tr>\n",
       "      <th>2</th>\n",
       "      <td>203</td>\n",
       "      <td>Customer Z</td>\n",
       "      <td>Regular</td>\n",
       "      <td>Chicago</td>\n",
       "    </tr>\n",
       "  </tbody>\n",
       "</table>\n",
       "</div>"
      ],
      "text/plain": [
       "   CustomerId CustomerName CustomerType         City\n",
       "0         201   Customer X      Regular     New York\n",
       "1         202   Customer Y          VIP  Los Angeles\n",
       "2         203   Customer Z      Regular      Chicago"
      ]
     },
     "metadata": {},
     "output_type": "display_data"
    },
    {
     "data": {
      "text/html": [
       "<div>\n",
       "<style scoped>\n",
       "    .dataframe tbody tr th:only-of-type {\n",
       "        vertical-align: middle;\n",
       "    }\n",
       "\n",
       "    .dataframe tbody tr th {\n",
       "        vertical-align: top;\n",
       "    }\n",
       "\n",
       "    .dataframe thead th {\n",
       "        text-align: right;\n",
       "    }\n",
       "</style>\n",
       "<table border=\"1\" class=\"dataframe\">\n",
       "  <thead>\n",
       "    <tr style=\"text-align: right;\">\n",
       "      <th></th>\n",
       "      <th>OrderRef</th>\n",
       "      <th>CustomerId</th>\n",
       "      <th>ProductId</th>\n",
       "      <th>Quantity</th>\n",
       "      <th>SoldPrice</th>\n",
       "      <th>SalesAmount</th>\n",
       "      <th>SaleDate</th>\n",
       "    </tr>\n",
       "  </thead>\n",
       "  <tbody>\n",
       "    <tr>\n",
       "      <th>0</th>\n",
       "      <td>ORDER001</td>\n",
       "      <td>201</td>\n",
       "      <td>101</td>\n",
       "      <td>2</td>\n",
       "      <td>25.99</td>\n",
       "      <td>51.98</td>\n",
       "      <td>2023-01-15</td>\n",
       "    </tr>\n",
       "    <tr>\n",
       "      <th>1</th>\n",
       "      <td>ORDER002</td>\n",
       "      <td>202</td>\n",
       "      <td>102</td>\n",
       "      <td>3</td>\n",
       "      <td>15.50</td>\n",
       "      <td>46.50</td>\n",
       "      <td>2023-02-20</td>\n",
       "    </tr>\n",
       "    <tr>\n",
       "      <th>2</th>\n",
       "      <td>ORDER003</td>\n",
       "      <td>203</td>\n",
       "      <td>103</td>\n",
       "      <td>1</td>\n",
       "      <td>30.75</td>\n",
       "      <td>30.75</td>\n",
       "      <td>2023-03-25</td>\n",
       "    </tr>\n",
       "  </tbody>\n",
       "</table>\n",
       "</div>"
      ],
      "text/plain": [
       "   OrderRef  CustomerId  ProductId  Quantity SoldPrice SalesAmount    SaleDate\n",
       "0  ORDER001         201        101         2     25.99       51.98  2023-01-15\n",
       "1  ORDER002         202        102         3     15.50       46.50  2023-02-20\n",
       "2  ORDER003         203        103         1     30.75       30.75  2023-03-25"
      ]
     },
     "metadata": {},
     "output_type": "display_data"
    }
   ],
   "source": [
    "mycursor.execute('''\n",
    "SELECT * \n",
    "FROM DimDate \n",
    "''')\n",
    "\n",
    "result = mycursor.fetchall()\n",
    "\n",
    "df = pd.DataFrame(result, columns=[item[0] for item in mycursor.description])\n",
    "display(df)\n",
    "\n",
    "mycursor.execute('''\n",
    "SELECT * \n",
    "FROM DimProduct \n",
    "''')\n",
    "\n",
    "result = mycursor.fetchall()\n",
    "\n",
    "df = pd.DataFrame(result, columns=[item[0] for item in mycursor.description])\n",
    "display(df)\n",
    "\n",
    "mycursor.execute('''\n",
    "SELECT * \n",
    "FROM DimCustomer \n",
    "''')\n",
    "\n",
    "result = mycursor.fetchall()\n",
    "\n",
    "df = pd.DataFrame(result, columns=[item[0] for item in mycursor.description])\n",
    "display(df)\n",
    "\n",
    "mycursor.execute('''\n",
    "SELECT * \n",
    "FROM FactSales  \n",
    "''')\n",
    "\n",
    "result = mycursor.fetchall()\n",
    "\n",
    "df = pd.DataFrame(result, columns=[item[0] for item in mycursor.description])\n",
    "display(df)"
   ]
  },
  {
   "cell_type": "code",
   "execution_count": 169,
   "id": "2f5f45ea",
   "metadata": {},
   "outputs": [],
   "source": [
    "# Close the MySQL connection\n",
    "mydb.close()"
   ]
  }
 ],
 "metadata": {
  "kernelspec": {
   "display_name": "Python 3 (ipykernel)",
   "language": "python",
   "name": "python3"
  },
  "language_info": {
   "codemirror_mode": {
    "name": "ipython",
    "version": 3
   },
   "file_extension": ".py",
   "mimetype": "text/x-python",
   "name": "python",
   "nbconvert_exporter": "python",
   "pygments_lexer": "ipython3",
   "version": "3.10.9"
  }
 },
 "nbformat": 4,
 "nbformat_minor": 5
}

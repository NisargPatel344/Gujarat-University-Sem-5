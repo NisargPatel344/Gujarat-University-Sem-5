{
 "cells": [
  {
   "cell_type": "markdown",
   "id": "ca85bd3d",
   "metadata": {},
   "source": [
    "# GUJARAT UNIVERSITY"
   ]
  },
  {
   "cell_type": "markdown",
   "id": "9a8b3d49",
   "metadata": {},
   "source": [
    "# MSC IT-DATA MANAGEMENT & VISUAL INSIGHTS(5 YEARS INTEGRATED)"
   ]
  },
  {
   "cell_type": "markdown",
   "id": "7dbad528",
   "metadata": {},
   "source": [
    "# TERM END EXAMINATIONS"
   ]
  },
  {
   "cell_type": "markdown",
   "id": "e0a717b0",
   "metadata": {},
   "source": [
    "# SEMESTER 5"
   ]
  },
  {
   "cell_type": "markdown",
   "id": "b35289ac",
   "metadata": {},
   "source": [
    "### SUBJECT NAME: DATA ANALYTICS PROGRAMMING LANGUAGE"
   ]
  },
  {
   "cell_type": "markdown",
   "id": "3eb584d5",
   "metadata": {},
   "source": [
    "**TIME: 3HRS**\n",
    "\n",
    "**MAX MARKS: 70**\n",
    "\n",
    "**CODE:DMVIBSC25**"
   ]
  },
  {
   "cell_type": "markdown",
   "id": "b9b4061a",
   "metadata": {},
   "source": [
    "**Important Note:**\n",
    " - Q1 & Q2 are compulsory and you can attempt any two questions from Q3, Q4 & Q5.\n",
    " - Write clearly and concisely.\n",
    " - File name should be \"FullEnrollMentNo_StundentName_DAPL_SEM5_DATA\"\n",
    " - Import required Libraries"
   ]
  },
  {
   "cell_type": "markdown",
   "id": "c41a274f",
   "metadata": {},
   "source": [
    "### 1.\tExplain the concepts of DataFrame and Series in the context of the pandas library in Python. Provide examples of how these data structures are used for data manipulation also craete the dataframe ith 5 columns \"name\",\"marks\", \"City\",\"country\",\"grade\" add the 30 obesrvations in it. (30 marks)\n"
   ]
  },
  {
   "cell_type": "code",
   "execution_count": null,
   "id": "49c869b9",
   "metadata": {},
   "outputs": [],
   "source": [
    "# CODE HERE"
   ]
  },
  {
   "cell_type": "code",
   "execution_count": null,
   "id": "dc1b93ca",
   "metadata": {},
   "outputs": [],
   "source": []
  },
  {
   "cell_type": "markdown",
   "id": "f2269c3c",
   "metadata": {},
   "source": [
    "### 2.\tPerform the Univariate Analysis on given dataset,Use appropriate visualizations to explore relationships between variables and draw meaningful conclusions.(DATA1.CSV)(20 Marks)\n"
   ]
  },
  {
   "cell_type": "code",
   "execution_count": null,
   "id": "6c3c3351",
   "metadata": {},
   "outputs": [],
   "source": [
    "# CODE HERE"
   ]
  },
  {
   "cell_type": "code",
   "execution_count": null,
   "id": "1ed36a3d",
   "metadata": {},
   "outputs": [],
   "source": []
  },
  {
   "cell_type": "markdown",
   "id": "02552328",
   "metadata": {},
   "source": [
    "### 3.\tPerform the Bivariate Analysis on Given dataset,Use appropriate visualizations to explore relationships between variables and draw meaningful conclusions.(DATA2.CSV)(10 Marks)\n"
   ]
  },
  {
   "cell_type": "code",
   "execution_count": null,
   "id": "666e9cea",
   "metadata": {},
   "outputs": [],
   "source": [
    "# CODE HERE"
   ]
  },
  {
   "cell_type": "code",
   "execution_count": null,
   "id": "31415864",
   "metadata": {},
   "outputs": [],
   "source": []
  },
  {
   "cell_type": "markdown",
   "id": "a52d9444",
   "metadata": {},
   "source": [
    "### 4. Summarize the key findings from your univariate and bivariate analyses. Discuss any trends, patterns, or insights that you discovered in the data (Perform using  Q2 and 3). (10 Marks)\t\n"
   ]
  },
  {
   "cell_type": "code",
   "execution_count": null,
   "id": "873dbd5b",
   "metadata": {},
   "outputs": [],
   "source": [
    "# CODE HERE"
   ]
  },
  {
   "cell_type": "code",
   "execution_count": null,
   "id": "b81cc614",
   "metadata": {},
   "outputs": [],
   "source": []
  },
  {
   "cell_type": "markdown",
   "id": "0bad4249",
   "metadata": {},
   "source": [
    "### 5. Perform the following Tasks (10 Marks)\t\n",
    "- Create Series using the Dictionary WITH EXPLAINATION HOW YOU PERFROM THIS.\n",
    "- Create Dataframe Using Dictionary WITH EXPLAINATION HOW YOU PERFROM THIS.\n",
    "- Perform Concatination on two dataframe (Create 2 sample tables with 2 columns nad 2 columns each) Horizontal & Verticle concatination.\n"
   ]
  },
  {
   "cell_type": "code",
   "execution_count": null,
   "id": "15833850",
   "metadata": {},
   "outputs": [],
   "source": [
    "# CODE HERE"
   ]
  },
  {
   "cell_type": "code",
   "execution_count": null,
   "id": "d5f928b6",
   "metadata": {},
   "outputs": [],
   "source": []
  },
  {
   "cell_type": "markdown",
   "id": "1260987d",
   "metadata": {},
   "source": [
    "# END"
   ]
  }
 ],
 "metadata": {
  "kernelspec": {
   "display_name": "Python 3 (ipykernel)",
   "language": "python",
   "name": "python3"
  },
  "language_info": {
   "codemirror_mode": {
    "name": "ipython",
    "version": 3
   },
   "file_extension": ".py",
   "mimetype": "text/x-python",
   "name": "python",
   "nbconvert_exporter": "python",
   "pygments_lexer": "ipython3",
   "version": "3.10.9"
  }
 },
 "nbformat": 4,
 "nbformat_minor": 5
}

{
 "cells": [
  {
   "cell_type": "markdown",
   "id": "061a8de2",
   "metadata": {
    "id": "061a8de2"
   },
   "source": [
    "# **GUJARAT UNIVERSITY**\n",
    "\n",
    "## MSc IT. Data Management and Visual Insights (5 Years Intigrated)\n",
    "\n",
    "### INTERNAL EXAMINATIONS\n",
    "\n",
    "### Semester-V (Sept 2023)"
   ]
  },
  {
   "cell_type": "markdown",
   "id": "dcc45bf5",
   "metadata": {
    "id": "dcc45bf5"
   },
   "source": [
    "### Subject Name: *Data Analytics Programming Language*                \n",
    "### Code: DMVIBSC25\n",
    "### Time: 90 min\n",
    "#### Max marks: 30\n"
   ]
  },
  {
   "cell_type": "markdown",
   "id": "9f500ef0",
   "metadata": {
    "id": "9f500ef0"
   },
   "source": [
    "**Instructions**\n",
    "\n",
    " - 1) Download the required Packages according to need\n",
    " - 2) Rename the file before submission as \"EnrollmentNo_Student_Name_DataSem5_DAPL\""
   ]
  },
  {
   "cell_type": "markdown",
   "id": "7aa1dbac",
   "metadata": {
    "id": "7aa1dbac"
   },
   "source": [
    "## Set A. 15 Marks"
   ]
  },
  {
   "cell_type": "markdown",
   "id": "94d71bd6",
   "metadata": {
    "id": "94d71bd6"
   },
   "source": [
    "**1. Import the Required Libraries (1 Marks)**\n",
    "\n",
    "**Load the dataset**"
   ]
  },
  {
   "cell_type": "code",
   "execution_count": 1,
   "id": "231242bf",
   "metadata": {
    "id": "231242bf"
   },
   "outputs": [],
   "source": [
    "# Import numpy\n",
    "import numpy as np\n",
    "\n",
    "# Import pandas \n",
    "import pandas as pd\n",
    "\n",
    "# Import Seaborn\n",
    "import seaborn as sns\n",
    "\n",
    "# Import matplotlib\n",
    "import matplotlib.pyplot as plt\n",
    "\n",
    "Super_Store = pd.read_excel('Superstore Data.xlsx')"
   ]
  },
  {
   "cell_type": "markdown",
   "id": "29b0d7ff",
   "metadata": {
    "id": "29b0d7ff"
   },
   "source": [
    "**2. Show the top 15 Observations (1 Marks)**"
   ]
  },
  {
   "cell_type": "code",
   "execution_count": 2,
   "id": "b0e826d4",
   "metadata": {
    "id": "b0e826d4"
   },
   "outputs": [
    {
     "data": {
      "text/html": [
       "<div>\n",
       "<style scoped>\n",
       "    .dataframe tbody tr th:only-of-type {\n",
       "        vertical-align: middle;\n",
       "    }\n",
       "\n",
       "    .dataframe tbody tr th {\n",
       "        vertical-align: top;\n",
       "    }\n",
       "\n",
       "    .dataframe thead th {\n",
       "        text-align: right;\n",
       "    }\n",
       "</style>\n",
       "<table border=\"1\" class=\"dataframe\">\n",
       "  <thead>\n",
       "    <tr style=\"text-align: right;\">\n",
       "      <th></th>\n",
       "      <th>State</th>\n",
       "      <th>Segment</th>\n",
       "      <th>Region</th>\n",
       "      <th>Ship Mode</th>\n",
       "      <th>Sales</th>\n",
       "      <th>Quantity</th>\n",
       "      <th>Discount</th>\n",
       "      <th>Profit</th>\n",
       "    </tr>\n",
       "  </thead>\n",
       "  <tbody>\n",
       "    <tr>\n",
       "      <th>0</th>\n",
       "      <td>Kentucky</td>\n",
       "      <td>Consumer</td>\n",
       "      <td>South</td>\n",
       "      <td>Second Class</td>\n",
       "      <td>261.9600</td>\n",
       "      <td>2.0</td>\n",
       "      <td>0.00</td>\n",
       "      <td>41.9136</td>\n",
       "    </tr>\n",
       "    <tr>\n",
       "      <th>1</th>\n",
       "      <td>Kentucky</td>\n",
       "      <td>Consumer</td>\n",
       "      <td>South</td>\n",
       "      <td>Second Class</td>\n",
       "      <td>731.9400</td>\n",
       "      <td>3.0</td>\n",
       "      <td>0.00</td>\n",
       "      <td>219.5820</td>\n",
       "    </tr>\n",
       "    <tr>\n",
       "      <th>2</th>\n",
       "      <td>California</td>\n",
       "      <td>Corporate</td>\n",
       "      <td>West</td>\n",
       "      <td>Second Class</td>\n",
       "      <td>14.6200</td>\n",
       "      <td>2.0</td>\n",
       "      <td>0.00</td>\n",
       "      <td>6.8714</td>\n",
       "    </tr>\n",
       "    <tr>\n",
       "      <th>3</th>\n",
       "      <td>Florida</td>\n",
       "      <td>Consumer</td>\n",
       "      <td>South</td>\n",
       "      <td>Standard Class</td>\n",
       "      <td>957.5775</td>\n",
       "      <td>5.0</td>\n",
       "      <td>0.45</td>\n",
       "      <td>-383.0310</td>\n",
       "    </tr>\n",
       "    <tr>\n",
       "      <th>4</th>\n",
       "      <td>Florida</td>\n",
       "      <td>Consumer</td>\n",
       "      <td>South</td>\n",
       "      <td>Standard Class</td>\n",
       "      <td>22.3680</td>\n",
       "      <td>2.0</td>\n",
       "      <td>0.20</td>\n",
       "      <td>2.5164</td>\n",
       "    </tr>\n",
       "    <tr>\n",
       "      <th>5</th>\n",
       "      <td>California</td>\n",
       "      <td>Consumer</td>\n",
       "      <td>West</td>\n",
       "      <td>Standard Class</td>\n",
       "      <td>48.8600</td>\n",
       "      <td>7.0</td>\n",
       "      <td>0.00</td>\n",
       "      <td>14.1694</td>\n",
       "    </tr>\n",
       "    <tr>\n",
       "      <th>6</th>\n",
       "      <td>California</td>\n",
       "      <td>Consumer</td>\n",
       "      <td>West</td>\n",
       "      <td>Standard Class</td>\n",
       "      <td>7.2800</td>\n",
       "      <td>4.0</td>\n",
       "      <td>0.00</td>\n",
       "      <td>1.9656</td>\n",
       "    </tr>\n",
       "    <tr>\n",
       "      <th>7</th>\n",
       "      <td>California</td>\n",
       "      <td>Consumer</td>\n",
       "      <td>West</td>\n",
       "      <td>Standard Class</td>\n",
       "      <td>907.1520</td>\n",
       "      <td>6.0</td>\n",
       "      <td>0.20</td>\n",
       "      <td>90.7152</td>\n",
       "    </tr>\n",
       "    <tr>\n",
       "      <th>8</th>\n",
       "      <td>California</td>\n",
       "      <td>Consumer</td>\n",
       "      <td>West</td>\n",
       "      <td>Standard Class</td>\n",
       "      <td>18.5040</td>\n",
       "      <td>3.0</td>\n",
       "      <td>0.20</td>\n",
       "      <td>5.7825</td>\n",
       "    </tr>\n",
       "    <tr>\n",
       "      <th>9</th>\n",
       "      <td>California</td>\n",
       "      <td>Consumer</td>\n",
       "      <td>West</td>\n",
       "      <td>Standard Class</td>\n",
       "      <td>114.9000</td>\n",
       "      <td>5.0</td>\n",
       "      <td>0.00</td>\n",
       "      <td>34.4700</td>\n",
       "    </tr>\n",
       "    <tr>\n",
       "      <th>10</th>\n",
       "      <td>California</td>\n",
       "      <td>Consumer</td>\n",
       "      <td>West</td>\n",
       "      <td>Standard Class</td>\n",
       "      <td>1706.1840</td>\n",
       "      <td>9.0</td>\n",
       "      <td>0.20</td>\n",
       "      <td>85.3092</td>\n",
       "    </tr>\n",
       "    <tr>\n",
       "      <th>11</th>\n",
       "      <td>California</td>\n",
       "      <td>Consumer</td>\n",
       "      <td>West</td>\n",
       "      <td>Standard Class</td>\n",
       "      <td>911.4240</td>\n",
       "      <td>4.0</td>\n",
       "      <td>0.20</td>\n",
       "      <td>68.3568</td>\n",
       "    </tr>\n",
       "    <tr>\n",
       "      <th>12</th>\n",
       "      <td>North Carolina</td>\n",
       "      <td>Consumer</td>\n",
       "      <td>South</td>\n",
       "      <td>Standard Class</td>\n",
       "      <td>15.5520</td>\n",
       "      <td>3.0</td>\n",
       "      <td>0.20</td>\n",
       "      <td>5.4432</td>\n",
       "    </tr>\n",
       "    <tr>\n",
       "      <th>13</th>\n",
       "      <td>Washington</td>\n",
       "      <td>Consumer</td>\n",
       "      <td>West</td>\n",
       "      <td>Standard Class</td>\n",
       "      <td>407.9760</td>\n",
       "      <td>3.0</td>\n",
       "      <td>0.20</td>\n",
       "      <td>132.5922</td>\n",
       "    </tr>\n",
       "    <tr>\n",
       "      <th>14</th>\n",
       "      <td>Texas</td>\n",
       "      <td>Home Office</td>\n",
       "      <td>Central</td>\n",
       "      <td>Standard Class</td>\n",
       "      <td>68.8100</td>\n",
       "      <td>5.0</td>\n",
       "      <td>0.80</td>\n",
       "      <td>-123.8580</td>\n",
       "    </tr>\n",
       "  </tbody>\n",
       "</table>\n",
       "</div>"
      ],
      "text/plain": [
       "             State      Segment   Region       Ship Mode      Sales  Quantity  \\\n",
       "0         Kentucky     Consumer    South    Second Class   261.9600       2.0   \n",
       "1         Kentucky     Consumer    South    Second Class   731.9400       3.0   \n",
       "2       California    Corporate     West    Second Class    14.6200       2.0   \n",
       "3          Florida     Consumer    South  Standard Class   957.5775       5.0   \n",
       "4          Florida     Consumer    South  Standard Class    22.3680       2.0   \n",
       "5       California     Consumer     West  Standard Class    48.8600       7.0   \n",
       "6       California     Consumer     West  Standard Class     7.2800       4.0   \n",
       "7       California     Consumer     West  Standard Class   907.1520       6.0   \n",
       "8       California     Consumer     West  Standard Class    18.5040       3.0   \n",
       "9       California     Consumer     West  Standard Class   114.9000       5.0   \n",
       "10      California     Consumer     West  Standard Class  1706.1840       9.0   \n",
       "11      California     Consumer     West  Standard Class   911.4240       4.0   \n",
       "12  North Carolina     Consumer    South  Standard Class    15.5520       3.0   \n",
       "13      Washington     Consumer     West  Standard Class   407.9760       3.0   \n",
       "14           Texas  Home Office  Central  Standard Class    68.8100       5.0   \n",
       "\n",
       "    Discount    Profit  \n",
       "0       0.00   41.9136  \n",
       "1       0.00  219.5820  \n",
       "2       0.00    6.8714  \n",
       "3       0.45 -383.0310  \n",
       "4       0.20    2.5164  \n",
       "5       0.00   14.1694  \n",
       "6       0.00    1.9656  \n",
       "7       0.20   90.7152  \n",
       "8       0.20    5.7825  \n",
       "9       0.00   34.4700  \n",
       "10      0.20   85.3092  \n",
       "11      0.20   68.3568  \n",
       "12      0.20    5.4432  \n",
       "13      0.20  132.5922  \n",
       "14      0.80 -123.8580  "
      ]
     },
     "execution_count": 2,
     "metadata": {},
     "output_type": "execute_result"
    }
   ],
   "source": [
    "# Code here\n",
    "Super_Store.head(15)"
   ]
  },
  {
   "cell_type": "markdown",
   "id": "33ea5a77",
   "metadata": {
    "id": "33ea5a77"
   },
   "source": [
    "**3. Show the bottom most 15 observations (1 Marks)**"
   ]
  },
  {
   "cell_type": "code",
   "execution_count": 3,
   "id": "1a877362",
   "metadata": {
    "id": "1a877362"
   },
   "outputs": [
    {
     "data": {
      "text/html": [
       "<div>\n",
       "<style scoped>\n",
       "    .dataframe tbody tr th:only-of-type {\n",
       "        vertical-align: middle;\n",
       "    }\n",
       "\n",
       "    .dataframe tbody tr th {\n",
       "        vertical-align: top;\n",
       "    }\n",
       "\n",
       "    .dataframe thead th {\n",
       "        text-align: right;\n",
       "    }\n",
       "</style>\n",
       "<table border=\"1\" class=\"dataframe\">\n",
       "  <thead>\n",
       "    <tr style=\"text-align: right;\">\n",
       "      <th></th>\n",
       "      <th>State</th>\n",
       "      <th>Segment</th>\n",
       "      <th>Region</th>\n",
       "      <th>Ship Mode</th>\n",
       "      <th>Sales</th>\n",
       "      <th>Quantity</th>\n",
       "      <th>Discount</th>\n",
       "      <th>Profit</th>\n",
       "    </tr>\n",
       "  </thead>\n",
       "  <tbody>\n",
       "    <tr>\n",
       "      <th>1483</th>\n",
       "      <td>Tennessee</td>\n",
       "      <td>Consumer</td>\n",
       "      <td>South</td>\n",
       "      <td>Second Class</td>\n",
       "      <td>3.424</td>\n",
       "      <td>1.0</td>\n",
       "      <td>0.2</td>\n",
       "      <td>1.0700</td>\n",
       "    </tr>\n",
       "    <tr>\n",
       "      <th>1484</th>\n",
       "      <td>Washington</td>\n",
       "      <td>Corporate</td>\n",
       "      <td>West</td>\n",
       "      <td>Standard Class</td>\n",
       "      <td>177.000</td>\n",
       "      <td>3.0</td>\n",
       "      <td>0.0</td>\n",
       "      <td>30.0900</td>\n",
       "    </tr>\n",
       "    <tr>\n",
       "      <th>1485</th>\n",
       "      <td>New York</td>\n",
       "      <td>Consumer</td>\n",
       "      <td>East</td>\n",
       "      <td>Standard Class</td>\n",
       "      <td>3.760</td>\n",
       "      <td>2.0</td>\n",
       "      <td>0.0</td>\n",
       "      <td>1.3160</td>\n",
       "    </tr>\n",
       "    <tr>\n",
       "      <th>1486</th>\n",
       "      <td>California</td>\n",
       "      <td>Home Office</td>\n",
       "      <td>West</td>\n",
       "      <td>Standard Class</td>\n",
       "      <td>1212.848</td>\n",
       "      <td>7.0</td>\n",
       "      <td>0.2</td>\n",
       "      <td>106.1242</td>\n",
       "    </tr>\n",
       "    <tr>\n",
       "      <th>1487</th>\n",
       "      <td>California</td>\n",
       "      <td>Home Office</td>\n",
       "      <td>West</td>\n",
       "      <td>Standard Class</td>\n",
       "      <td>89.970</td>\n",
       "      <td>3.0</td>\n",
       "      <td>0.0</td>\n",
       "      <td>37.7874</td>\n",
       "    </tr>\n",
       "    <tr>\n",
       "      <th>1488</th>\n",
       "      <td>California</td>\n",
       "      <td>Home Office</td>\n",
       "      <td>West</td>\n",
       "      <td>Standard Class</td>\n",
       "      <td>42.600</td>\n",
       "      <td>3.0</td>\n",
       "      <td>0.0</td>\n",
       "      <td>16.6140</td>\n",
       "    </tr>\n",
       "    <tr>\n",
       "      <th>1489</th>\n",
       "      <td>Pennsylvania</td>\n",
       "      <td>Consumer</td>\n",
       "      <td>East</td>\n",
       "      <td>Standard Class</td>\n",
       "      <td>5.040</td>\n",
       "      <td>2.0</td>\n",
       "      <td>0.2</td>\n",
       "      <td>1.7640</td>\n",
       "    </tr>\n",
       "    <tr>\n",
       "      <th>1490</th>\n",
       "      <td>New York</td>\n",
       "      <td>Corporate</td>\n",
       "      <td>East</td>\n",
       "      <td>Second Class</td>\n",
       "      <td>62.960</td>\n",
       "      <td>4.0</td>\n",
       "      <td>0.0</td>\n",
       "      <td>28.3320</td>\n",
       "    </tr>\n",
       "    <tr>\n",
       "      <th>1491</th>\n",
       "      <td>New York</td>\n",
       "      <td>Corporate</td>\n",
       "      <td>East</td>\n",
       "      <td>Standard Class</td>\n",
       "      <td>5.880</td>\n",
       "      <td>1.0</td>\n",
       "      <td>0.0</td>\n",
       "      <td>2.8812</td>\n",
       "    </tr>\n",
       "    <tr>\n",
       "      <th>1492</th>\n",
       "      <td>New York</td>\n",
       "      <td>Corporate</td>\n",
       "      <td>East</td>\n",
       "      <td>NaN</td>\n",
       "      <td>977.292</td>\n",
       "      <td>6.0</td>\n",
       "      <td>0.1</td>\n",
       "      <td>173.7408</td>\n",
       "    </tr>\n",
       "    <tr>\n",
       "      <th>1493</th>\n",
       "      <td>Washington</td>\n",
       "      <td>Corporate</td>\n",
       "      <td>West</td>\n",
       "      <td>Standard Class</td>\n",
       "      <td>9.640</td>\n",
       "      <td>2.0</td>\n",
       "      <td>0.0</td>\n",
       "      <td>3.6632</td>\n",
       "    </tr>\n",
       "    <tr>\n",
       "      <th>1494</th>\n",
       "      <td>Georgia</td>\n",
       "      <td>Consumer</td>\n",
       "      <td>South</td>\n",
       "      <td>Second Class</td>\n",
       "      <td>40.050</td>\n",
       "      <td>3.0</td>\n",
       "      <td>0.0</td>\n",
       "      <td>11.2140</td>\n",
       "    </tr>\n",
       "    <tr>\n",
       "      <th>1495</th>\n",
       "      <td>Texas</td>\n",
       "      <td>Consumer</td>\n",
       "      <td>Central</td>\n",
       "      <td>Standard Class</td>\n",
       "      <td>10.192</td>\n",
       "      <td>7.0</td>\n",
       "      <td>0.2</td>\n",
       "      <td>3.1850</td>\n",
       "    </tr>\n",
       "    <tr>\n",
       "      <th>1496</th>\n",
       "      <td>Texas</td>\n",
       "      <td>Consumer</td>\n",
       "      <td>Central</td>\n",
       "      <td>Standard Class</td>\n",
       "      <td>16.784</td>\n",
       "      <td>1.0</td>\n",
       "      <td>0.2</td>\n",
       "      <td>-0.2098</td>\n",
       "    </tr>\n",
       "    <tr>\n",
       "      <th>1497</th>\n",
       "      <td>Texas</td>\n",
       "      <td>Consumer</td>\n",
       "      <td>Central</td>\n",
       "      <td>NaN</td>\n",
       "      <td>13.120</td>\n",
       "      <td>5.0</td>\n",
       "      <td>0.2</td>\n",
       "      <td>3.7720</td>\n",
       "    </tr>\n",
       "  </tbody>\n",
       "</table>\n",
       "</div>"
      ],
      "text/plain": [
       "             State      Segment   Region       Ship Mode     Sales  Quantity  \\\n",
       "1483     Tennessee     Consumer    South    Second Class     3.424       1.0   \n",
       "1484    Washington    Corporate     West  Standard Class   177.000       3.0   \n",
       "1485      New York     Consumer     East  Standard Class     3.760       2.0   \n",
       "1486    California  Home Office     West  Standard Class  1212.848       7.0   \n",
       "1487    California  Home Office     West  Standard Class    89.970       3.0   \n",
       "1488    California  Home Office     West  Standard Class    42.600       3.0   \n",
       "1489  Pennsylvania     Consumer     East  Standard Class     5.040       2.0   \n",
       "1490      New York    Corporate     East    Second Class    62.960       4.0   \n",
       "1491      New York    Corporate     East  Standard Class     5.880       1.0   \n",
       "1492      New York    Corporate     East             NaN   977.292       6.0   \n",
       "1493    Washington    Corporate     West  Standard Class     9.640       2.0   \n",
       "1494       Georgia     Consumer    South    Second Class    40.050       3.0   \n",
       "1495         Texas     Consumer  Central  Standard Class    10.192       7.0   \n",
       "1496         Texas     Consumer  Central  Standard Class    16.784       1.0   \n",
       "1497         Texas     Consumer  Central             NaN    13.120       5.0   \n",
       "\n",
       "      Discount    Profit  \n",
       "1483       0.2    1.0700  \n",
       "1484       0.0   30.0900  \n",
       "1485       0.0    1.3160  \n",
       "1486       0.2  106.1242  \n",
       "1487       0.0   37.7874  \n",
       "1488       0.0   16.6140  \n",
       "1489       0.2    1.7640  \n",
       "1490       0.0   28.3320  \n",
       "1491       0.0    2.8812  \n",
       "1492       0.1  173.7408  \n",
       "1493       0.0    3.6632  \n",
       "1494       0.0   11.2140  \n",
       "1495       0.2    3.1850  \n",
       "1496       0.2   -0.2098  \n",
       "1497       0.2    3.7720  "
      ]
     },
     "execution_count": 3,
     "metadata": {},
     "output_type": "execute_result"
    }
   ],
   "source": [
    "# Code here\n",
    "Super_Store.tail(15)"
   ]
  },
  {
   "cell_type": "markdown",
   "id": "3cd8d88f",
   "metadata": {
    "id": "3cd8d88f"
   },
   "source": [
    "**4. Show the shape of the data (1 Marks)**"
   ]
  },
  {
   "cell_type": "code",
   "execution_count": 4,
   "id": "45e1c23b",
   "metadata": {
    "id": "45e1c23b"
   },
   "outputs": [
    {
     "data": {
      "text/plain": [
       "(1498, 8)"
      ]
     },
     "execution_count": 4,
     "metadata": {},
     "output_type": "execute_result"
    }
   ],
   "source": [
    "# Code here\n",
    "Super_Store.shape"
   ]
  },
  {
   "cell_type": "markdown",
   "id": "1b296532",
   "metadata": {
    "id": "1b296532"
   },
   "source": [
    "**5. Describe the Dataset and Write the summary (2 Marks)**"
   ]
  },
  {
   "cell_type": "code",
   "execution_count": 5,
   "id": "445f6510",
   "metadata": {
    "id": "445f6510"
   },
   "outputs": [
    {
     "data": {
      "text/html": [
       "<div>\n",
       "<style scoped>\n",
       "    .dataframe tbody tr th:only-of-type {\n",
       "        vertical-align: middle;\n",
       "    }\n",
       "\n",
       "    .dataframe tbody tr th {\n",
       "        vertical-align: top;\n",
       "    }\n",
       "\n",
       "    .dataframe thead th {\n",
       "        text-align: right;\n",
       "    }\n",
       "</style>\n",
       "<table border=\"1\" class=\"dataframe\">\n",
       "  <thead>\n",
       "    <tr style=\"text-align: right;\">\n",
       "      <th></th>\n",
       "      <th>count</th>\n",
       "      <th>mean</th>\n",
       "      <th>std</th>\n",
       "      <th>min</th>\n",
       "      <th>25%</th>\n",
       "      <th>50%</th>\n",
       "      <th>75%</th>\n",
       "      <th>max</th>\n",
       "    </tr>\n",
       "  </thead>\n",
       "  <tbody>\n",
       "    <tr>\n",
       "      <th>Sales</th>\n",
       "      <td>1468.0</td>\n",
       "      <td>4.541558e+06</td>\n",
       "      <td>1.478510e+08</td>\n",
       "      <td>1.0800</td>\n",
       "      <td>17.11200</td>\n",
       "      <td>53.0580</td>\n",
       "      <td>210.1925</td>\n",
       "      <td>5.555556e+09</td>\n",
       "    </tr>\n",
       "    <tr>\n",
       "      <th>Quantity</th>\n",
       "      <td>1491.0</td>\n",
       "      <td>2.236382e+12</td>\n",
       "      <td>6.432607e+13</td>\n",
       "      <td>1.0000</td>\n",
       "      <td>2.00000</td>\n",
       "      <td>3.0000</td>\n",
       "      <td>5.0000</td>\n",
       "      <td>2.222222e+15</td>\n",
       "    </tr>\n",
       "    <tr>\n",
       "      <th>Discount</th>\n",
       "      <td>1495.0</td>\n",
       "      <td>1.604548e-01</td>\n",
       "      <td>2.088803e-01</td>\n",
       "      <td>0.0000</td>\n",
       "      <td>0.00000</td>\n",
       "      <td>0.2000</td>\n",
       "      <td>0.2000</td>\n",
       "      <td>8.000000e-01</td>\n",
       "    </tr>\n",
       "    <tr>\n",
       "      <th>Profit</th>\n",
       "      <td>1495.0</td>\n",
       "      <td>2.144198e+01</td>\n",
       "      <td>2.109546e+02</td>\n",
       "      <td>-3839.9904</td>\n",
       "      <td>1.71255</td>\n",
       "      <td>8.4888</td>\n",
       "      <td>28.1372</td>\n",
       "      <td>3.177475e+03</td>\n",
       "    </tr>\n",
       "  </tbody>\n",
       "</table>\n",
       "</div>"
      ],
      "text/plain": [
       "           count          mean           std        min       25%      50%  \\\n",
       "Sales     1468.0  4.541558e+06  1.478510e+08     1.0800  17.11200  53.0580   \n",
       "Quantity  1491.0  2.236382e+12  6.432607e+13     1.0000   2.00000   3.0000   \n",
       "Discount  1495.0  1.604548e-01  2.088803e-01     0.0000   0.00000   0.2000   \n",
       "Profit    1495.0  2.144198e+01  2.109546e+02 -3839.9904   1.71255   8.4888   \n",
       "\n",
       "               75%           max  \n",
       "Sales     210.1925  5.555556e+09  \n",
       "Quantity    5.0000  2.222222e+15  \n",
       "Discount    0.2000  8.000000e-01  \n",
       "Profit     28.1372  3.177475e+03  "
      ]
     },
     "execution_count": 5,
     "metadata": {},
     "output_type": "execute_result"
    }
   ],
   "source": [
    "# Code here\n",
    "Super_Store.describe().T"
   ]
  },
  {
   "cell_type": "markdown",
   "id": "ba47d505",
   "metadata": {},
   "source": [
    "**Inference**\n",
    "- We have found out count, mean, standard deviation, minimum, Q1, Q2, Q3 and maximum values of the observations"
   ]
  },
  {
   "cell_type": "markdown",
   "id": "9c54ae64",
   "metadata": {
    "id": "9c54ae64"
   },
   "source": [
    "**6. Take information of the data and write the summary (2 Marks)**"
   ]
  },
  {
   "cell_type": "code",
   "execution_count": 6,
   "id": "c4e7b9e8",
   "metadata": {},
   "outputs": [
    {
     "data": {
      "text/plain": [
       "Index(['State', 'Segment', 'Region', 'Ship Mode', 'Sales', 'Quantity',\n",
       "       'Discount', 'Profit'],\n",
       "      dtype='object')"
      ]
     },
     "execution_count": 6,
     "metadata": {},
     "output_type": "execute_result"
    }
   ],
   "source": [
    "# First, let's see the attributes(column fields) of the Super Store Dataset\n",
    "Super_Store.columns"
   ]
  },
  {
   "cell_type": "markdown",
   "id": "9bd9cd06",
   "metadata": {},
   "source": [
    "**Inference**\n",
    "- This data set has the following attributes\n",
    "1. State\n",
    "2. Segment\n",
    "3. Region\n",
    "4. Ship Mode\n",
    "5. Sales\n",
    "6. Quantity\n",
    "7. Discount\n",
    "8. Profit"
   ]
  },
  {
   "cell_type": "code",
   "execution_count": 7,
   "id": "e9a705b2",
   "metadata": {
    "id": "e9a705b2"
   },
   "outputs": [
    {
     "data": {
      "text/plain": [
       "State         object\n",
       "Segment       object\n",
       "Region        object\n",
       "Ship Mode     object\n",
       "Sales        float64\n",
       "Quantity     float64\n",
       "Discount     float64\n",
       "Profit       float64\n",
       "dtype: object"
      ]
     },
     "execution_count": 7,
     "metadata": {},
     "output_type": "execute_result"
    }
   ],
   "source": [
    "# Second, Let's see the data types of the atrributes\n",
    "Super_Store.dtypes"
   ]
  },
  {
   "cell_type": "markdown",
   "id": "1cfdb374",
   "metadata": {},
   "source": [
    "**Inference**\n",
    "- Here, all the atrributes has correct datatypes"
   ]
  },
  {
   "cell_type": "markdown",
   "id": "b3c3b7e6",
   "metadata": {
    "id": "b3c3b7e6"
   },
   "source": [
    "**7. Show the distribution of all numirical veriables (3 Marks)**"
   ]
  },
  {
   "cell_type": "code",
   "execution_count": 8,
   "id": "ed8e704c",
   "metadata": {},
   "outputs": [],
   "source": [
    "Super_Store_Numerical_Distribution = Super_Store[[\"Sales\",\"Quantity\",\"Discount\",\"Profit\"]]"
   ]
  },
  {
   "cell_type": "code",
   "execution_count": 9,
   "id": "20a717c8",
   "metadata": {},
   "outputs": [
    {
     "data": {
      "text/html": [
       "<div>\n",
       "<style scoped>\n",
       "    .dataframe tbody tr th:only-of-type {\n",
       "        vertical-align: middle;\n",
       "    }\n",
       "\n",
       "    .dataframe tbody tr th {\n",
       "        vertical-align: top;\n",
       "    }\n",
       "\n",
       "    .dataframe thead th {\n",
       "        text-align: right;\n",
       "    }\n",
       "</style>\n",
       "<table border=\"1\" class=\"dataframe\">\n",
       "  <thead>\n",
       "    <tr style=\"text-align: right;\">\n",
       "      <th></th>\n",
       "      <th>Sales</th>\n",
       "      <th>Quantity</th>\n",
       "      <th>Discount</th>\n",
       "      <th>Profit</th>\n",
       "    </tr>\n",
       "  </thead>\n",
       "  <tbody>\n",
       "    <tr>\n",
       "      <th>0</th>\n",
       "      <td>261.9600</td>\n",
       "      <td>2.0</td>\n",
       "      <td>0.00</td>\n",
       "      <td>41.9136</td>\n",
       "    </tr>\n",
       "    <tr>\n",
       "      <th>1</th>\n",
       "      <td>731.9400</td>\n",
       "      <td>3.0</td>\n",
       "      <td>0.00</td>\n",
       "      <td>219.5820</td>\n",
       "    </tr>\n",
       "    <tr>\n",
       "      <th>2</th>\n",
       "      <td>14.6200</td>\n",
       "      <td>2.0</td>\n",
       "      <td>0.00</td>\n",
       "      <td>6.8714</td>\n",
       "    </tr>\n",
       "    <tr>\n",
       "      <th>3</th>\n",
       "      <td>957.5775</td>\n",
       "      <td>5.0</td>\n",
       "      <td>0.45</td>\n",
       "      <td>-383.0310</td>\n",
       "    </tr>\n",
       "    <tr>\n",
       "      <th>4</th>\n",
       "      <td>22.3680</td>\n",
       "      <td>2.0</td>\n",
       "      <td>0.20</td>\n",
       "      <td>2.5164</td>\n",
       "    </tr>\n",
       "  </tbody>\n",
       "</table>\n",
       "</div>"
      ],
      "text/plain": [
       "      Sales  Quantity  Discount    Profit\n",
       "0  261.9600       2.0      0.00   41.9136\n",
       "1  731.9400       3.0      0.00  219.5820\n",
       "2   14.6200       2.0      0.00    6.8714\n",
       "3  957.5775       5.0      0.45 -383.0310\n",
       "4   22.3680       2.0      0.20    2.5164"
      ]
     },
     "execution_count": 9,
     "metadata": {},
     "output_type": "execute_result"
    }
   ],
   "source": [
    "Super_Store_Numerical_Distribution.head()"
   ]
  },
  {
   "cell_type": "markdown",
   "id": "60c04dbd",
   "metadata": {
    "id": "60c04dbd"
   },
   "source": [
    "**8. Write the Information that you drow in above questions (2 Marks)**"
   ]
  },
  {
   "cell_type": "markdown",
   "id": "c686bbf1",
   "metadata": {
    "id": "0eb676cc"
   },
   "source": [
    "**Inferene**\n",
    "- Here, all the atrributes has correct datatypes\n",
    "- We have found out count, mean, standard deviation, minimum, Q1, Q2, Q3 and maximum values of the observations\n",
    "- Also there are some null values"
   ]
  },
  {
   "cell_type": "markdown",
   "id": "76178d67",
   "metadata": {
    "id": "76178d67"
   },
   "source": [
    "**9. Which are the considerations are there that we need to take care before start the analysis (2 Marks)**"
   ]
  },
  {
   "cell_type": "markdown",
   "id": "62a79a45",
   "metadata": {
    "id": "4a098aeb"
   },
   "source": [
    "Before beginning the analysis, it is essential to consider the following factors: \n",
    " \n",
    "Data Overview \n",
    "- Prior  to  commencing  the  analysis,  it  is  crucial  to  have  a  comprehensive \n",
    "understanding of each observation in the data.  \n",
    "- This includes identifying the columns within the dataset and understanding how \n",
    "the data observations were generated. \n",
    "- This understanding will help determine the domain to which the data belongs. \n",
    " \n",
    "Basic Statistics: \n",
    "a. Quantitative Information: \n",
    "- Quantitative information provides insights into the data's characteristics, such \n",
    "as its distribution, shape, memory usage, and central tendency.  \n",
    "- Key  statistics  to  examine  include  Mean,  Median,  Unique  values,  Standard \n",
    "Deviation, Minimum, Maximum, and Quartiles. \n",
    " \n",
    "b. Assumptions of Statistics: \n",
    "- When embarking on the analysis, it is essential to adhere to specific rules and \n",
    "assumptions. These include: \n",
    "- Ensuring that numerical columns exhibit a normal distribution. \n",
    "- Verifying  that  categorical  variables  display  a  balanced  distribution  of \n",
    "categories. \n",
    "- Confirming the absence of heteroscedasticity in the data. \n",
    " \n",
    "c. Inference from Statistics: \n",
    "- Statistics offer various conclusions that can be drawn from the data. Some \n",
    "examples include: \n",
    "- Assessing the presence of outliers by comparing the Mean and Median. \n",
    "- Drawing meaningful insights from statistical analysis to inform decision-making. \n",
    " \n",
    " \n",
    "- By following these considerations and rules, you can conduct a thorough and \n",
    "accurate statistical analysis of your data. "
   ]
  },
  {
   "cell_type": "markdown",
   "id": "ebe5e70f",
   "metadata": {
    "id": "ebe5e70f"
   },
   "source": [
    "## Set B. 15 Marks (Any 5)"
   ]
  },
  {
   "cell_type": "markdown",
   "id": "dca49b26",
   "metadata": {
    "id": "dca49b26"
   },
   "source": [
    "**1. Perform the Univariate analysis on the \" Quantity \" and take the appropreate actions (3 Marks)**"
   ]
  },
  {
   "cell_type": "code",
   "execution_count": 19,
   "id": "dea775e4",
   "metadata": {},
   "outputs": [
    {
     "name": "stdout",
     "output_type": "stream",
     "text": [
      "<class 'pandas.core.series.Series'>\n",
      "RangeIndex: 1498 entries, 0 to 1497\n",
      "Series name: Quantity\n",
      "Non-Null Count  Dtype  \n",
      "--------------  -----  \n",
      "1491 non-null   float64\n",
      "dtypes: float64(1)\n",
      "memory usage: 11.8 KB\n"
     ]
    }
   ],
   "source": [
    "Super_Store_Numerical_Distribution[\"Quantity\"].info()"
   ]
  },
  {
   "cell_type": "code",
   "execution_count": 21,
   "id": "88afd0e7",
   "metadata": {},
   "outputs": [
    {
     "data": {
      "text/plain": [
       "count    1.491000e+03\n",
       "mean     2.236382e+12\n",
       "std      6.432607e+13\n",
       "min      1.000000e+00\n",
       "25%      2.000000e+00\n",
       "50%      3.000000e+00\n",
       "75%      5.000000e+00\n",
       "max      2.222222e+15\n",
       "Name: Quantity, dtype: float64"
      ]
     },
     "execution_count": 21,
     "metadata": {},
     "output_type": "execute_result"
    }
   ],
   "source": [
    "Super_Store_Numerical_Distribution[\"Quantity\"].describe().T"
   ]
  },
  {
   "cell_type": "code",
   "execution_count": 18,
   "id": "1798f918",
   "metadata": {
    "id": "1798f918"
   },
   "outputs": [
    {
     "data": {
      "text/plain": [
       "7"
      ]
     },
     "execution_count": 18,
     "metadata": {},
     "output_type": "execute_result"
    }
   ],
   "source": [
    "Super_Store_Numerical_Distribution[\"Quantity\"].isnull().sum()"
   ]
  },
  {
   "cell_type": "code",
   "execution_count": 22,
   "id": "3c812f16",
   "metadata": {},
   "outputs": [
    {
     "data": {
      "text/plain": [
       "2222222222222220.0"
      ]
     },
     "execution_count": 22,
     "metadata": {},
     "output_type": "execute_result"
    }
   ],
   "source": [
    "Super_Store_Numerical_Distribution[\"Quantity\"].max()"
   ]
  },
  {
   "cell_type": "code",
   "execution_count": 23,
   "id": "a503232b",
   "metadata": {},
   "outputs": [
    {
     "data": {
      "text/plain": [
       "1.0"
      ]
     },
     "execution_count": 23,
     "metadata": {},
     "output_type": "execute_result"
    }
   ],
   "source": [
    "Super_Store_Numerical_Distribution[\"Quantity\"].min()"
   ]
  },
  {
   "cell_type": "markdown",
   "id": "1aa544dc",
   "metadata": {
    "id": "1aa544dc"
   },
   "source": [
    "**2. Perform the Univariate analysis on the \"Sales \" and take the appropreate actions (3 Marks)**"
   ]
  },
  {
   "cell_type": "code",
   "execution_count": 30,
   "id": "405ffd9c",
   "metadata": {
    "id": "405ffd9c"
   },
   "outputs": [
    {
     "name": "stdout",
     "output_type": "stream",
     "text": [
      "<class 'pandas.core.series.Series'>\n",
      "RangeIndex: 1498 entries, 0 to 1497\n",
      "Series name: Sales\n",
      "Non-Null Count  Dtype  \n",
      "--------------  -----  \n",
      "1468 non-null   float64\n",
      "dtypes: float64(1)\n",
      "memory usage: 11.8 KB\n"
     ]
    }
   ],
   "source": [
    "Super_Store_Numerical_Distribution[\"Sales\"].info()"
   ]
  },
  {
   "cell_type": "code",
   "execution_count": 31,
   "id": "2f59b16e",
   "metadata": {},
   "outputs": [
    {
     "data": {
      "text/plain": [
       "count    1.468000e+03\n",
       "mean     4.541558e+06\n",
       "std      1.478510e+08\n",
       "min      1.080000e+00\n",
       "25%      1.711200e+01\n",
       "50%      5.305800e+01\n",
       "75%      2.101925e+02\n",
       "max      5.555556e+09\n",
       "Name: Sales, dtype: float64"
      ]
     },
     "execution_count": 31,
     "metadata": {},
     "output_type": "execute_result"
    }
   ],
   "source": [
    "Super_Store_Numerical_Distribution[\"Sales\"].describe().T"
   ]
  },
  {
   "cell_type": "code",
   "execution_count": 34,
   "id": "6a3ea7cb",
   "metadata": {},
   "outputs": [
    {
     "data": {
      "text/plain": [
       "30"
      ]
     },
     "execution_count": 34,
     "metadata": {},
     "output_type": "execute_result"
    }
   ],
   "source": [
    "Super_Store_Numerical_Distribution[\"Sales\"].isnull().sum()"
   ]
  },
  {
   "cell_type": "code",
   "execution_count": 32,
   "id": "99b3dbff",
   "metadata": {},
   "outputs": [
    {
     "data": {
      "text/plain": [
       "5555555555.0"
      ]
     },
     "execution_count": 32,
     "metadata": {},
     "output_type": "execute_result"
    }
   ],
   "source": [
    "Super_Store_Numerical_Distribution[\"Sales\"].max()"
   ]
  },
  {
   "cell_type": "code",
   "execution_count": 33,
   "id": "ae7a8fa2",
   "metadata": {},
   "outputs": [
    {
     "data": {
      "text/plain": [
       "1.08"
      ]
     },
     "execution_count": 33,
     "metadata": {},
     "output_type": "execute_result"
    }
   ],
   "source": [
    "Super_Store_Numerical_Distribution[\"Sales\"].min()"
   ]
  },
  {
   "cell_type": "markdown",
   "id": "c21046e7",
   "metadata": {
    "id": "c21046e7"
   },
   "source": [
    "**3. Find weather there is null values is present in the data or not and take appropreate action if needed (3 Marks)**"
   ]
  },
  {
   "cell_type": "code",
   "execution_count": 35,
   "id": "35c0a57b",
   "metadata": {
    "id": "35c0a57b"
   },
   "outputs": [
    {
     "data": {
      "text/plain": [
       "State        75\n",
       "Segment       5\n",
       "Region       21\n",
       "Ship Mode    29\n",
       "Sales        30\n",
       "Quantity      7\n",
       "Discount      3\n",
       "Profit        3\n",
       "dtype: int64"
      ]
     },
     "execution_count": 35,
     "metadata": {},
     "output_type": "execute_result"
    }
   ],
   "source": [
    "Super_Store.isnull().sum()"
   ]
  },
  {
   "cell_type": "code",
   "execution_count": 40,
   "id": "b15f5e45",
   "metadata": {
    "id": "b15f5e45"
   },
   "outputs": [],
   "source": [
    "Super_Store = Super_Store.dropna()"
   ]
  },
  {
   "cell_type": "code",
   "execution_count": 42,
   "id": "8e0e736f",
   "metadata": {},
   "outputs": [
    {
     "data": {
      "text/plain": [
       "State        0\n",
       "Segment      0\n",
       "Region       0\n",
       "Ship Mode    0\n",
       "Sales        0\n",
       "Quantity     0\n",
       "Discount     0\n",
       "Profit       0\n",
       "dtype: int64"
      ]
     },
     "execution_count": 42,
     "metadata": {},
     "output_type": "execute_result"
    }
   ],
   "source": [
    "Super_Store.isnull().sum()"
   ]
  },
  {
   "cell_type": "markdown",
   "id": "5ed55c04",
   "metadata": {},
   "source": [
    "**Infernece**\n",
    "\n",
    "We have remove all the null values observations"
   ]
  },
  {
   "cell_type": "markdown",
   "id": "9f8e3f5d",
   "metadata": {
    "id": "9f8e3f5d"
   },
   "source": [
    "**4. Create Series that must contain a. Ten names of your friends b. Ten ages that you prefere age must lies between 46 to 70  c. ten City names (3 Marks)**"
   ]
  },
  {
   "cell_type": "code",
   "execution_count": 39,
   "id": "3be77bd4",
   "metadata": {
    "id": "3be77bd4"
   },
   "outputs": [
    {
     "data": {
      "text/html": [
       "<div>\n",
       "<style scoped>\n",
       "    .dataframe tbody tr th:only-of-type {\n",
       "        vertical-align: middle;\n",
       "    }\n",
       "\n",
       "    .dataframe tbody tr th {\n",
       "        vertical-align: top;\n",
       "    }\n",
       "\n",
       "    .dataframe thead th {\n",
       "        text-align: right;\n",
       "    }\n",
       "</style>\n",
       "<table border=\"1\" class=\"dataframe\">\n",
       "  <thead>\n",
       "    <tr style=\"text-align: right;\">\n",
       "      <th></th>\n",
       "      <th>Friend Names</th>\n",
       "      <th>Ages</th>\n",
       "      <th>City Names</th>\n",
       "    </tr>\n",
       "  </thead>\n",
       "  <tbody>\n",
       "    <tr>\n",
       "      <th>0</th>\n",
       "      <td>A</td>\n",
       "      <td>48</td>\n",
       "      <td>New York</td>\n",
       "    </tr>\n",
       "    <tr>\n",
       "      <th>1</th>\n",
       "      <td>B</td>\n",
       "      <td>55</td>\n",
       "      <td>Los Angeles</td>\n",
       "    </tr>\n",
       "    <tr>\n",
       "      <th>2</th>\n",
       "      <td>C</td>\n",
       "      <td>62</td>\n",
       "      <td>Chicago</td>\n",
       "    </tr>\n",
       "    <tr>\n",
       "      <th>3</th>\n",
       "      <td>D</td>\n",
       "      <td>61</td>\n",
       "      <td>Houston</td>\n",
       "    </tr>\n",
       "    <tr>\n",
       "      <th>4</th>\n",
       "      <td>E</td>\n",
       "      <td>53</td>\n",
       "      <td>Miami</td>\n",
       "    </tr>\n",
       "    <tr>\n",
       "      <th>5</th>\n",
       "      <td>F</td>\n",
       "      <td>62</td>\n",
       "      <td>San Francisco</td>\n",
       "    </tr>\n",
       "    <tr>\n",
       "      <th>6</th>\n",
       "      <td>G</td>\n",
       "      <td>59</td>\n",
       "      <td>Seattle</td>\n",
       "    </tr>\n",
       "    <tr>\n",
       "      <th>7</th>\n",
       "      <td>H</td>\n",
       "      <td>51</td>\n",
       "      <td>Boston</td>\n",
       "    </tr>\n",
       "    <tr>\n",
       "      <th>8</th>\n",
       "      <td>I</td>\n",
       "      <td>51</td>\n",
       "      <td>Atlanta</td>\n",
       "    </tr>\n",
       "    <tr>\n",
       "      <th>9</th>\n",
       "      <td>J</td>\n",
       "      <td>56</td>\n",
       "      <td>Denver</td>\n",
       "    </tr>\n",
       "  </tbody>\n",
       "</table>\n",
       "</div>"
      ],
      "text/plain": [
       "  Friend Names  Ages     City Names\n",
       "0            A    48       New York\n",
       "1            B    55    Los Angeles\n",
       "2            C    62        Chicago\n",
       "3            D    61        Houston\n",
       "4            E    53          Miami\n",
       "5            F    62  San Francisco\n",
       "6            G    59        Seattle\n",
       "7            H    51         Boston\n",
       "8            I    51        Atlanta\n",
       "9            J    56         Denver"
      ]
     },
     "execution_count": 39,
     "metadata": {},
     "output_type": "execute_result"
    }
   ],
   "source": [
    "import pandas as pd\n",
    "import random\n",
    "\n",
    "# Create a list of friend names\n",
    "friend_names = [\"A\", \"B\", \"C\", \"D\", \"E\", \"F\", \"G\", \"H\", \"I\", \"J\"]\n",
    "\n",
    "# Generate a list of ten random ages between 46 and 70\n",
    "ages = [random.randint(46, 70) for _ in range(10)]\n",
    "\n",
    "# Create a list of city names\n",
    "city_names = [\"New York\", \"Los Angeles\", \"Chicago\", \"Houston\", \"Miami\", \"San Francisco\", \"Seattle\", \"Boston\", \"Atlanta\", \"Denver\"]\n",
    "\n",
    "# Create a Pandas Series with the three lists\n",
    "data = {'Friend Names': friend_names, 'Ages': ages, 'City Names': city_names}\n",
    "series = pd.DataFrame(data)\n",
    "\n",
    "# Display the Series\n",
    "series"
   ]
  },
  {
   "cell_type": "markdown",
   "id": "2e7f6e2f",
   "metadata": {
    "id": "2e7f6e2f"
   },
   "source": [
    "**5. Create one Data frame(Df_1) that dataframe must contain 5 columns and 20 Observations, Column names are like \"Student_Name, Age, City, Country, email\", add the unique observations in those columns.  (3 Marks)**"
   ]
  },
  {
   "cell_type": "code",
   "execution_count": 38,
   "id": "beaab283",
   "metadata": {
    "id": "beaab283"
   },
   "outputs": [
    {
     "data": {
      "text/html": [
       "<div>\n",
       "<style scoped>\n",
       "    .dataframe tbody tr th:only-of-type {\n",
       "        vertical-align: middle;\n",
       "    }\n",
       "\n",
       "    .dataframe tbody tr th {\n",
       "        vertical-align: top;\n",
       "    }\n",
       "\n",
       "    .dataframe thead th {\n",
       "        text-align: right;\n",
       "    }\n",
       "</style>\n",
       "<table border=\"1\" class=\"dataframe\">\n",
       "  <thead>\n",
       "    <tr style=\"text-align: right;\">\n",
       "      <th></th>\n",
       "      <th>Student_Name</th>\n",
       "      <th>Age</th>\n",
       "      <th>City</th>\n",
       "      <th>Country</th>\n",
       "      <th>Email</th>\n",
       "    </tr>\n",
       "  </thead>\n",
       "  <tbody>\n",
       "    <tr>\n",
       "      <th>0</th>\n",
       "      <td>A</td>\n",
       "      <td>1</td>\n",
       "      <td>A</td>\n",
       "      <td>A</td>\n",
       "      <td>A</td>\n",
       "    </tr>\n",
       "    <tr>\n",
       "      <th>1</th>\n",
       "      <td>B</td>\n",
       "      <td>2</td>\n",
       "      <td>B</td>\n",
       "      <td>B</td>\n",
       "      <td>B</td>\n",
       "    </tr>\n",
       "    <tr>\n",
       "      <th>2</th>\n",
       "      <td>C</td>\n",
       "      <td>3</td>\n",
       "      <td>C</td>\n",
       "      <td>C</td>\n",
       "      <td>C</td>\n",
       "    </tr>\n",
       "    <tr>\n",
       "      <th>3</th>\n",
       "      <td>D</td>\n",
       "      <td>4</td>\n",
       "      <td>D</td>\n",
       "      <td>D</td>\n",
       "      <td>D</td>\n",
       "    </tr>\n",
       "    <tr>\n",
       "      <th>4</th>\n",
       "      <td>E</td>\n",
       "      <td>5</td>\n",
       "      <td>E</td>\n",
       "      <td>E</td>\n",
       "      <td>E</td>\n",
       "    </tr>\n",
       "    <tr>\n",
       "      <th>5</th>\n",
       "      <td>F</td>\n",
       "      <td>6</td>\n",
       "      <td>F</td>\n",
       "      <td>F</td>\n",
       "      <td>F</td>\n",
       "    </tr>\n",
       "    <tr>\n",
       "      <th>6</th>\n",
       "      <td>G</td>\n",
       "      <td>7</td>\n",
       "      <td>G</td>\n",
       "      <td>G</td>\n",
       "      <td>G</td>\n",
       "    </tr>\n",
       "    <tr>\n",
       "      <th>7</th>\n",
       "      <td>H</td>\n",
       "      <td>8</td>\n",
       "      <td>H</td>\n",
       "      <td>H</td>\n",
       "      <td>H</td>\n",
       "    </tr>\n",
       "    <tr>\n",
       "      <th>8</th>\n",
       "      <td>I</td>\n",
       "      <td>9</td>\n",
       "      <td>I</td>\n",
       "      <td>I</td>\n",
       "      <td>I</td>\n",
       "    </tr>\n",
       "    <tr>\n",
       "      <th>9</th>\n",
       "      <td>J</td>\n",
       "      <td>10</td>\n",
       "      <td>J</td>\n",
       "      <td>J</td>\n",
       "      <td>J</td>\n",
       "    </tr>\n",
       "    <tr>\n",
       "      <th>10</th>\n",
       "      <td>K</td>\n",
       "      <td>11</td>\n",
       "      <td>K</td>\n",
       "      <td>K</td>\n",
       "      <td>K</td>\n",
       "    </tr>\n",
       "    <tr>\n",
       "      <th>11</th>\n",
       "      <td>L</td>\n",
       "      <td>12</td>\n",
       "      <td>L</td>\n",
       "      <td>L</td>\n",
       "      <td>L</td>\n",
       "    </tr>\n",
       "    <tr>\n",
       "      <th>12</th>\n",
       "      <td>M</td>\n",
       "      <td>13</td>\n",
       "      <td>M</td>\n",
       "      <td>M</td>\n",
       "      <td>M</td>\n",
       "    </tr>\n",
       "    <tr>\n",
       "      <th>13</th>\n",
       "      <td>N</td>\n",
       "      <td>14</td>\n",
       "      <td>N</td>\n",
       "      <td>N</td>\n",
       "      <td>N</td>\n",
       "    </tr>\n",
       "    <tr>\n",
       "      <th>14</th>\n",
       "      <td>O</td>\n",
       "      <td>15</td>\n",
       "      <td>O</td>\n",
       "      <td>O</td>\n",
       "      <td>O</td>\n",
       "    </tr>\n",
       "    <tr>\n",
       "      <th>15</th>\n",
       "      <td>P</td>\n",
       "      <td>16</td>\n",
       "      <td>P</td>\n",
       "      <td>P</td>\n",
       "      <td>P</td>\n",
       "    </tr>\n",
       "    <tr>\n",
       "      <th>16</th>\n",
       "      <td>Q</td>\n",
       "      <td>17</td>\n",
       "      <td>Q</td>\n",
       "      <td>Q</td>\n",
       "      <td>Q</td>\n",
       "    </tr>\n",
       "    <tr>\n",
       "      <th>17</th>\n",
       "      <td>R</td>\n",
       "      <td>18</td>\n",
       "      <td>R</td>\n",
       "      <td>R</td>\n",
       "      <td>R</td>\n",
       "    </tr>\n",
       "    <tr>\n",
       "      <th>18</th>\n",
       "      <td>S</td>\n",
       "      <td>19</td>\n",
       "      <td>S</td>\n",
       "      <td>S</td>\n",
       "      <td>S</td>\n",
       "    </tr>\n",
       "    <tr>\n",
       "      <th>19</th>\n",
       "      <td>T</td>\n",
       "      <td>20</td>\n",
       "      <td>T</td>\n",
       "      <td>T</td>\n",
       "      <td>T</td>\n",
       "    </tr>\n",
       "  </tbody>\n",
       "</table>\n",
       "</div>"
      ],
      "text/plain": [
       "   Student_Name  Age City Country Email\n",
       "0             A    1    A       A     A\n",
       "1             B    2    B       B     B\n",
       "2             C    3    C       C     C\n",
       "3             D    4    D       D     D\n",
       "4             E    5    E       E     E\n",
       "5             F    6    F       F     F\n",
       "6             G    7    G       G     G\n",
       "7             H    8    H       H     H\n",
       "8             I    9    I       I     I\n",
       "9             J   10    J       J     J\n",
       "10            K   11    K       K     K\n",
       "11            L   12    L       L     L\n",
       "12            M   13    M       M     M\n",
       "13            N   14    N       N     N\n",
       "14            O   15    O       O     O\n",
       "15            P   16    P       P     P\n",
       "16            Q   17    Q       Q     Q\n",
       "17            R   18    R       R     R\n",
       "18            S   19    S       S     S\n",
       "19            T   20    T       T     T"
      ]
     },
     "execution_count": 38,
     "metadata": {},
     "output_type": "execute_result"
    }
   ],
   "source": [
    "# Create Series objects\n",
    "series1 = pd.Series([\"A\", \"B\", \"C\", \"D\", \"E\", \"F\", \"G\", \"H\", \"I\", \"J\", \"K\", \"L\",\"M\", \"N\", \"O\", \"P\", \"Q\", \"R\", \"S\", \"T\"])\n",
    "series2 = pd.Series([1, 2, 3, 4, 5, 6, 7, 8, 9 ,10, 11, 12, 13, 14, 15, 16, 17, 18, 19, 20])\n",
    "series3 = pd.Series([\"A\", \"B\", \"C\", \"D\", \"E\", \"F\", \"G\", \"H\", \"I\", \"J\", \"K\", \"L\",\"M\", \"N\", \"O\", \"P\", \"Q\", \"R\", \"S\", \"T\"])\n",
    "series4 = pd.Series([\"A\", \"B\", \"C\", \"D\", \"E\", \"F\", \"G\", \"H\", \"I\", \"J\", \"K\", \"L\",\"M\", \"N\", \"O\", \"P\", \"Q\", \"R\", \"S\", \"T\"])\n",
    "series5 = pd.Series([\"A\", \"B\", \"C\", \"D\", \"E\", \"F\", \"G\", \"H\", \"I\", \"J\", \"K\", \"L\",\"M\", \"N\", \"O\", \"P\", \"Q\", \"R\", \"S\", \"T\"])\n",
    "\n",
    "# Create a DataFrame using the Series objects\n",
    "DataFrame = pd.DataFrame({\n",
    "    \"Student_Name\": series1,\n",
    "    \"Age\": series2,\n",
    "    \"City\": series3,\n",
    "    \"Country\": series4,\n",
    "    \"Email\": series5\n",
    "})\n",
    "\n",
    "DataFrame"
   ]
  }
 ],
 "metadata": {
  "colab": {
   "provenance": []
  },
  "kernelspec": {
   "display_name": "Python 3 (ipykernel)",
   "language": "python",
   "name": "python3"
  },
  "language_info": {
   "codemirror_mode": {
    "name": "ipython",
    "version": 3
   },
   "file_extension": ".py",
   "mimetype": "text/x-python",
   "name": "python",
   "nbconvert_exporter": "python",
   "pygments_lexer": "ipython3",
   "version": "3.10.9"
  }
 },
 "nbformat": 4,
 "nbformat_minor": 5
}
